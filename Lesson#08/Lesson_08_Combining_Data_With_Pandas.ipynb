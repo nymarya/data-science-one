{
  "nbformat": 4,
  "nbformat_minor": 0,
  "metadata": {
    "colab": {
      "name": "Lesson_08_Combining_Data_With_Pandas.ipynb",
      "version": "0.3.2",
      "provenance": [],
      "toc_visible": true
    },
    "kernelspec": {
      "name": "python3",
      "display_name": "Python 3"
    }
  },
  "cells": [
    {
      "metadata": {
        "id": "jB-2AC8boOE9",
        "colab_type": "text"
      },
      "cell_type": "markdown",
      "source": [
        "## 1 Combining Data with Pandas"
      ]
    },
    {
      "metadata": {
        "id": "e63THNZXpnvW",
        "colab_type": "text"
      },
      "cell_type": "markdown",
      "source": [
        "### 1.1 Introduction"
      ]
    },
    {
      "metadata": {
        "id": "87BmfzvGppzS",
        "colab_type": "text"
      },
      "cell_type": "markdown",
      "source": [
        "In the last lesson, we worked with just one data set, the 2015 World Happiness Report, to explore **data aggregation**. However, it's very common in practice to **work with more than one data set at a time**.\n",
        "\n",
        "Often, you'll find that you need additional data to perform analysis or you'll find that you have the data, but need to pull it from mulitiple sources. In this lesson, we'll learn a couple of different techniques for combining data using pandas to easily handle situations like these.\n",
        "\n",
        "We'll use what we learned in the last lesson to analyze the **2015**, **2016**, and **2017 World Happiness Reports**. Specifically, we'll look to answer the following question:\n",
        "\n",
        "- Did world happiness increase, decrease, or stay about the same from 2015 to 2017?\n",
        "\n",
        "As a reminder, these reports assign each country a happiness score based on a poll question that asks respondents to rank their life on a scale of 0 - 10, so \"world happiness\" refers to this definition specifically.\n",
        "\n",
        "Below is a preview of the 2015 report:\n",
        "\n",
        "\n",
        "| | Country | Region | Happiness Rank | Happiness Score | Standard Error | Economy (GDP per Capita) | Family | \n",
        "|---------|-------------|----------------|-----------------|----------------|--------------------------|---------|--------------------------|\n",
        "| 0 | Switzerland | Western Europe | 1 | 7.587 | 0.03411 | 1.39651 | 1.34951 |\n",
        "| 1 | Iceland | Western Europe | 2 | 7.561 | 0.04884 | 1.30232 | 1.40223 |\n",
        "| 2 | Denmark | Western Europe | 3 | 7.527 | 0.03328 | 1.32548 | 1.36058 |\n",
        "| 3 | Norway | Western Europe | 4 | 7.522 | 0.03880 | 1.45900 | 1.33095 |\n",
        "| 4 | Canada | North America | 5 | 7.427 | 0.03553 | 1.32629 | 1.32261 |\n",
        "\n",
        "Below are descriptions for some of the columns:\n",
        "\n",
        "- **Country** - Name of the country\n",
        "- **Region** - Name of the region the country belongs to\n",
        "- **Happiness Rank** - The rank of the country, as determined by its happiness score\n",
        "- **Happiness Score** - A score assigned to each country based on the answers to a poll question that asks respondents to rate their happiness on a scale of 0-10\n",
        "\n",
        "Let's start by reading the **2015**, **2016**, and **2017** reports into a pandas dataframe and adding a **Year** column to each to make it easier to distinguish between them.\n",
        "\n",
        "**Exercise**\n",
        "\n",
        "<left><img width=\"100\" src=\"https://drive.google.com/uc?export=view&id=1E8tR7B9YYUXsU_rddJAyq0FrM0MSelxZ\"></left>\n",
        "\n",
        "We've already read the **World_Happiness_2015.csv** file into a dataframe called **happiness2015**.\n",
        "\n",
        "- Use the **pandas.read_csv()** function to read the **World_Happiness_2016.csv** file into a dataframe called **happiness2016** and the **World_Happiness_2017.csv** file into a dataframe called **happiness2017**.\n",
        "- Add a column called **Year** to each dataframe with the corresponding year. For example, the **Year** column in **happiness2015** should contain the value 2015 for each row."
      ]
    },
    {
      "metadata": {
        "id": "yqpq3GLlY-EM",
        "colab_type": "code",
        "colab": {}
      },
      "cell_type": "code",
      "source": [
        "import pandas as pd\n",
        "happiness2015 = pd.read_csv(\"https://github.com/nymarya/data-science-one/raw/master/Lesson%2308/World_Happiness_2015.csv\")\n",
        "#put your code here\n",
        "happiness2016 = pd.read_csv(\"https://github.com/nymarya/data-science-one/raw/master/Lesson%2308/World_Happiness_2016.csv\")\n",
        "happiness2017 = pd.read_csv(\"https://github.com/nymarya/data-science-one/raw/master/Lesson%2308/World_Happiness_2017.csv\")\n",
        "\n",
        "happiness2015['Year'] = 2015\n",
        "happiness2016['Year'] = 2016\n",
        "happiness2017['Year'] = 2017"
      ],
      "execution_count": 0,
      "outputs": []
    },
    {
      "metadata": {
        "id": "dNrwEeOAyOhC",
        "colab_type": "code",
        "outputId": "d7b9e08d-0292-4c17-ed3c-2573f2a35bb8",
        "colab": {
          "base_uri": "https://localhost:8080/",
          "height": 328
        }
      },
      "cell_type": "code",
      "source": [
        "happiness2015.head()"
      ],
      "execution_count": 0,
      "outputs": [
        {
          "output_type": "execute_result",
          "data": {
            "text/html": [
              "<div>\n",
              "<style scoped>\n",
              "    .dataframe tbody tr th:only-of-type {\n",
              "        vertical-align: middle;\n",
              "    }\n",
              "\n",
              "    .dataframe tbody tr th {\n",
              "        vertical-align: top;\n",
              "    }\n",
              "\n",
              "    .dataframe thead th {\n",
              "        text-align: right;\n",
              "    }\n",
              "</style>\n",
              "<table border=\"1\" class=\"dataframe\">\n",
              "  <thead>\n",
              "    <tr style=\"text-align: right;\">\n",
              "      <th></th>\n",
              "      <th>Country</th>\n",
              "      <th>Region</th>\n",
              "      <th>Happiness Rank</th>\n",
              "      <th>Happiness Score</th>\n",
              "      <th>Standard Error</th>\n",
              "      <th>Economy (GDP per Capita)</th>\n",
              "      <th>Family</th>\n",
              "      <th>Health (Life Expectancy)</th>\n",
              "      <th>Freedom</th>\n",
              "      <th>Trust (Government Corruption)</th>\n",
              "      <th>Generosity</th>\n",
              "      <th>Dystopia Residual</th>\n",
              "      <th>Year</th>\n",
              "    </tr>\n",
              "  </thead>\n",
              "  <tbody>\n",
              "    <tr>\n",
              "      <th>0</th>\n",
              "      <td>Switzerland</td>\n",
              "      <td>Western Europe</td>\n",
              "      <td>1</td>\n",
              "      <td>7.587</td>\n",
              "      <td>0.03411</td>\n",
              "      <td>1.39651</td>\n",
              "      <td>1.34951</td>\n",
              "      <td>0.94143</td>\n",
              "      <td>0.66557</td>\n",
              "      <td>0.41978</td>\n",
              "      <td>0.29678</td>\n",
              "      <td>2.51738</td>\n",
              "      <td>2015</td>\n",
              "    </tr>\n",
              "    <tr>\n",
              "      <th>1</th>\n",
              "      <td>Iceland</td>\n",
              "      <td>Western Europe</td>\n",
              "      <td>2</td>\n",
              "      <td>7.561</td>\n",
              "      <td>0.04884</td>\n",
              "      <td>1.30232</td>\n",
              "      <td>1.40223</td>\n",
              "      <td>0.94784</td>\n",
              "      <td>0.62877</td>\n",
              "      <td>0.14145</td>\n",
              "      <td>0.43630</td>\n",
              "      <td>2.70201</td>\n",
              "      <td>2015</td>\n",
              "    </tr>\n",
              "    <tr>\n",
              "      <th>2</th>\n",
              "      <td>Denmark</td>\n",
              "      <td>Western Europe</td>\n",
              "      <td>3</td>\n",
              "      <td>7.527</td>\n",
              "      <td>0.03328</td>\n",
              "      <td>1.32548</td>\n",
              "      <td>1.36058</td>\n",
              "      <td>0.87464</td>\n",
              "      <td>0.64938</td>\n",
              "      <td>0.48357</td>\n",
              "      <td>0.34139</td>\n",
              "      <td>2.49204</td>\n",
              "      <td>2015</td>\n",
              "    </tr>\n",
              "    <tr>\n",
              "      <th>3</th>\n",
              "      <td>Norway</td>\n",
              "      <td>Western Europe</td>\n",
              "      <td>4</td>\n",
              "      <td>7.522</td>\n",
              "      <td>0.03880</td>\n",
              "      <td>1.45900</td>\n",
              "      <td>1.33095</td>\n",
              "      <td>0.88521</td>\n",
              "      <td>0.66973</td>\n",
              "      <td>0.36503</td>\n",
              "      <td>0.34699</td>\n",
              "      <td>2.46531</td>\n",
              "      <td>2015</td>\n",
              "    </tr>\n",
              "    <tr>\n",
              "      <th>4</th>\n",
              "      <td>Canada</td>\n",
              "      <td>North America</td>\n",
              "      <td>5</td>\n",
              "      <td>7.427</td>\n",
              "      <td>0.03553</td>\n",
              "      <td>1.32629</td>\n",
              "      <td>1.32261</td>\n",
              "      <td>0.90563</td>\n",
              "      <td>0.63297</td>\n",
              "      <td>0.32957</td>\n",
              "      <td>0.45811</td>\n",
              "      <td>2.45176</td>\n",
              "      <td>2015</td>\n",
              "    </tr>\n",
              "  </tbody>\n",
              "</table>\n",
              "</div>"
            ],
            "text/plain": [
              "       Country          Region  Happiness Rank  Happiness Score  \\\n",
              "0  Switzerland  Western Europe               1            7.587   \n",
              "1      Iceland  Western Europe               2            7.561   \n",
              "2      Denmark  Western Europe               3            7.527   \n",
              "3       Norway  Western Europe               4            7.522   \n",
              "4       Canada   North America               5            7.427   \n",
              "\n",
              "   Standard Error  Economy (GDP per Capita)   Family  \\\n",
              "0         0.03411                   1.39651  1.34951   \n",
              "1         0.04884                   1.30232  1.40223   \n",
              "2         0.03328                   1.32548  1.36058   \n",
              "3         0.03880                   1.45900  1.33095   \n",
              "4         0.03553                   1.32629  1.32261   \n",
              "\n",
              "   Health (Life Expectancy)  Freedom  Trust (Government Corruption)  \\\n",
              "0                   0.94143  0.66557                        0.41978   \n",
              "1                   0.94784  0.62877                        0.14145   \n",
              "2                   0.87464  0.64938                        0.48357   \n",
              "3                   0.88521  0.66973                        0.36503   \n",
              "4                   0.90563  0.63297                        0.32957   \n",
              "\n",
              "   Generosity  Dystopia Residual  Year  \n",
              "0     0.29678            2.51738  2015  \n",
              "1     0.43630            2.70201  2015  \n",
              "2     0.34139            2.49204  2015  \n",
              "3     0.34699            2.46531  2015  \n",
              "4     0.45811            2.45176  2015  "
            ]
          },
          "metadata": {
            "tags": []
          },
          "execution_count": 2
        }
      ]
    },
    {
      "metadata": {
        "id": "D_5pNB7dyU_I",
        "colab_type": "code",
        "outputId": "4c5a4fec-14fa-4c97-9829-41875bba904d",
        "colab": {
          "base_uri": "https://localhost:8080/",
          "height": 328
        }
      },
      "cell_type": "code",
      "source": [
        "happiness2016.head()"
      ],
      "execution_count": 0,
      "outputs": [
        {
          "output_type": "execute_result",
          "data": {
            "text/html": [
              "<div>\n",
              "<style scoped>\n",
              "    .dataframe tbody tr th:only-of-type {\n",
              "        vertical-align: middle;\n",
              "    }\n",
              "\n",
              "    .dataframe tbody tr th {\n",
              "        vertical-align: top;\n",
              "    }\n",
              "\n",
              "    .dataframe thead th {\n",
              "        text-align: right;\n",
              "    }\n",
              "</style>\n",
              "<table border=\"1\" class=\"dataframe\">\n",
              "  <thead>\n",
              "    <tr style=\"text-align: right;\">\n",
              "      <th></th>\n",
              "      <th>Country</th>\n",
              "      <th>Region</th>\n",
              "      <th>Happiness Rank</th>\n",
              "      <th>Happiness Score</th>\n",
              "      <th>Lower Confidence Interval</th>\n",
              "      <th>Upper Confidence Interval</th>\n",
              "      <th>Economy (GDP per Capita)</th>\n",
              "      <th>Family</th>\n",
              "      <th>Health (Life Expectancy)</th>\n",
              "      <th>Freedom</th>\n",
              "      <th>Trust (Government Corruption)</th>\n",
              "      <th>Generosity</th>\n",
              "      <th>Dystopia Residual</th>\n",
              "      <th>Year</th>\n",
              "    </tr>\n",
              "  </thead>\n",
              "  <tbody>\n",
              "    <tr>\n",
              "      <th>0</th>\n",
              "      <td>Denmark</td>\n",
              "      <td>Western Europe</td>\n",
              "      <td>1</td>\n",
              "      <td>7.526</td>\n",
              "      <td>7.460</td>\n",
              "      <td>7.592</td>\n",
              "      <td>1.44178</td>\n",
              "      <td>1.16374</td>\n",
              "      <td>0.79504</td>\n",
              "      <td>0.57941</td>\n",
              "      <td>0.44453</td>\n",
              "      <td>0.36171</td>\n",
              "      <td>2.73939</td>\n",
              "      <td>2016</td>\n",
              "    </tr>\n",
              "    <tr>\n",
              "      <th>1</th>\n",
              "      <td>Switzerland</td>\n",
              "      <td>Western Europe</td>\n",
              "      <td>2</td>\n",
              "      <td>7.509</td>\n",
              "      <td>7.428</td>\n",
              "      <td>7.590</td>\n",
              "      <td>1.52733</td>\n",
              "      <td>1.14524</td>\n",
              "      <td>0.86303</td>\n",
              "      <td>0.58557</td>\n",
              "      <td>0.41203</td>\n",
              "      <td>0.28083</td>\n",
              "      <td>2.69463</td>\n",
              "      <td>2016</td>\n",
              "    </tr>\n",
              "    <tr>\n",
              "      <th>2</th>\n",
              "      <td>Iceland</td>\n",
              "      <td>Western Europe</td>\n",
              "      <td>3</td>\n",
              "      <td>7.501</td>\n",
              "      <td>7.333</td>\n",
              "      <td>7.669</td>\n",
              "      <td>1.42666</td>\n",
              "      <td>1.18326</td>\n",
              "      <td>0.86733</td>\n",
              "      <td>0.56624</td>\n",
              "      <td>0.14975</td>\n",
              "      <td>0.47678</td>\n",
              "      <td>2.83137</td>\n",
              "      <td>2016</td>\n",
              "    </tr>\n",
              "    <tr>\n",
              "      <th>3</th>\n",
              "      <td>Norway</td>\n",
              "      <td>Western Europe</td>\n",
              "      <td>4</td>\n",
              "      <td>7.498</td>\n",
              "      <td>7.421</td>\n",
              "      <td>7.575</td>\n",
              "      <td>1.57744</td>\n",
              "      <td>1.12690</td>\n",
              "      <td>0.79579</td>\n",
              "      <td>0.59609</td>\n",
              "      <td>0.35776</td>\n",
              "      <td>0.37895</td>\n",
              "      <td>2.66465</td>\n",
              "      <td>2016</td>\n",
              "    </tr>\n",
              "    <tr>\n",
              "      <th>4</th>\n",
              "      <td>Finland</td>\n",
              "      <td>Western Europe</td>\n",
              "      <td>5</td>\n",
              "      <td>7.413</td>\n",
              "      <td>7.351</td>\n",
              "      <td>7.475</td>\n",
              "      <td>1.40598</td>\n",
              "      <td>1.13464</td>\n",
              "      <td>0.81091</td>\n",
              "      <td>0.57104</td>\n",
              "      <td>0.41004</td>\n",
              "      <td>0.25492</td>\n",
              "      <td>2.82596</td>\n",
              "      <td>2016</td>\n",
              "    </tr>\n",
              "  </tbody>\n",
              "</table>\n",
              "</div>"
            ],
            "text/plain": [
              "       Country          Region  Happiness Rank  Happiness Score  \\\n",
              "0      Denmark  Western Europe               1            7.526   \n",
              "1  Switzerland  Western Europe               2            7.509   \n",
              "2      Iceland  Western Europe               3            7.501   \n",
              "3       Norway  Western Europe               4            7.498   \n",
              "4      Finland  Western Europe               5            7.413   \n",
              "\n",
              "   Lower Confidence Interval  Upper Confidence Interval  \\\n",
              "0                      7.460                      7.592   \n",
              "1                      7.428                      7.590   \n",
              "2                      7.333                      7.669   \n",
              "3                      7.421                      7.575   \n",
              "4                      7.351                      7.475   \n",
              "\n",
              "   Economy (GDP per Capita)   Family  Health (Life Expectancy)  Freedom  \\\n",
              "0                   1.44178  1.16374                   0.79504  0.57941   \n",
              "1                   1.52733  1.14524                   0.86303  0.58557   \n",
              "2                   1.42666  1.18326                   0.86733  0.56624   \n",
              "3                   1.57744  1.12690                   0.79579  0.59609   \n",
              "4                   1.40598  1.13464                   0.81091  0.57104   \n",
              "\n",
              "   Trust (Government Corruption)  Generosity  Dystopia Residual  Year  \n",
              "0                        0.44453     0.36171            2.73939  2016  \n",
              "1                        0.41203     0.28083            2.69463  2016  \n",
              "2                        0.14975     0.47678            2.83137  2016  \n",
              "3                        0.35776     0.37895            2.66465  2016  \n",
              "4                        0.41004     0.25492            2.82596  2016  "
            ]
          },
          "metadata": {
            "tags": []
          },
          "execution_count": 3
        }
      ]
    },
    {
      "metadata": {
        "id": "oU7UkiG0yYC4",
        "colab_type": "code",
        "outputId": "51cd34ab-87ed-4624-e2aa-69bcee0a027b",
        "colab": {
          "base_uri": "https://localhost:8080/",
          "height": 226
        }
      },
      "cell_type": "code",
      "source": [
        "happiness2017.head()"
      ],
      "execution_count": 0,
      "outputs": [
        {
          "output_type": "execute_result",
          "data": {
            "text/html": [
              "<div>\n",
              "<style scoped>\n",
              "    .dataframe tbody tr th:only-of-type {\n",
              "        vertical-align: middle;\n",
              "    }\n",
              "\n",
              "    .dataframe tbody tr th {\n",
              "        vertical-align: top;\n",
              "    }\n",
              "\n",
              "    .dataframe thead th {\n",
              "        text-align: right;\n",
              "    }\n",
              "</style>\n",
              "<table border=\"1\" class=\"dataframe\">\n",
              "  <thead>\n",
              "    <tr style=\"text-align: right;\">\n",
              "      <th></th>\n",
              "      <th>Country</th>\n",
              "      <th>Happiness.Rank</th>\n",
              "      <th>Happiness.Score</th>\n",
              "      <th>Whisker.high</th>\n",
              "      <th>Whisker.low</th>\n",
              "      <th>Economy..GDP.per.Capita.</th>\n",
              "      <th>Family</th>\n",
              "      <th>Health..Life.Expectancy.</th>\n",
              "      <th>Freedom</th>\n",
              "      <th>Generosity</th>\n",
              "      <th>Trust..Government.Corruption.</th>\n",
              "      <th>Dystopia.Residual</th>\n",
              "      <th>Year</th>\n",
              "    </tr>\n",
              "  </thead>\n",
              "  <tbody>\n",
              "    <tr>\n",
              "      <th>0</th>\n",
              "      <td>Norway</td>\n",
              "      <td>1</td>\n",
              "      <td>7.537</td>\n",
              "      <td>7.594445</td>\n",
              "      <td>7.479556</td>\n",
              "      <td>1.616463</td>\n",
              "      <td>1.533524</td>\n",
              "      <td>0.796667</td>\n",
              "      <td>0.635423</td>\n",
              "      <td>0.362012</td>\n",
              "      <td>0.315964</td>\n",
              "      <td>2.277027</td>\n",
              "      <td>2017</td>\n",
              "    </tr>\n",
              "    <tr>\n",
              "      <th>1</th>\n",
              "      <td>Denmark</td>\n",
              "      <td>2</td>\n",
              "      <td>7.522</td>\n",
              "      <td>7.581728</td>\n",
              "      <td>7.462272</td>\n",
              "      <td>1.482383</td>\n",
              "      <td>1.551122</td>\n",
              "      <td>0.792566</td>\n",
              "      <td>0.626007</td>\n",
              "      <td>0.355280</td>\n",
              "      <td>0.400770</td>\n",
              "      <td>2.313707</td>\n",
              "      <td>2017</td>\n",
              "    </tr>\n",
              "    <tr>\n",
              "      <th>2</th>\n",
              "      <td>Iceland</td>\n",
              "      <td>3</td>\n",
              "      <td>7.504</td>\n",
              "      <td>7.622030</td>\n",
              "      <td>7.385970</td>\n",
              "      <td>1.480633</td>\n",
              "      <td>1.610574</td>\n",
              "      <td>0.833552</td>\n",
              "      <td>0.627163</td>\n",
              "      <td>0.475540</td>\n",
              "      <td>0.153527</td>\n",
              "      <td>2.322715</td>\n",
              "      <td>2017</td>\n",
              "    </tr>\n",
              "    <tr>\n",
              "      <th>3</th>\n",
              "      <td>Switzerland</td>\n",
              "      <td>4</td>\n",
              "      <td>7.494</td>\n",
              "      <td>7.561772</td>\n",
              "      <td>7.426227</td>\n",
              "      <td>1.564980</td>\n",
              "      <td>1.516912</td>\n",
              "      <td>0.858131</td>\n",
              "      <td>0.620071</td>\n",
              "      <td>0.290549</td>\n",
              "      <td>0.367007</td>\n",
              "      <td>2.276716</td>\n",
              "      <td>2017</td>\n",
              "    </tr>\n",
              "    <tr>\n",
              "      <th>4</th>\n",
              "      <td>Finland</td>\n",
              "      <td>5</td>\n",
              "      <td>7.469</td>\n",
              "      <td>7.527542</td>\n",
              "      <td>7.410458</td>\n",
              "      <td>1.443572</td>\n",
              "      <td>1.540247</td>\n",
              "      <td>0.809158</td>\n",
              "      <td>0.617951</td>\n",
              "      <td>0.245483</td>\n",
              "      <td>0.382612</td>\n",
              "      <td>2.430182</td>\n",
              "      <td>2017</td>\n",
              "    </tr>\n",
              "  </tbody>\n",
              "</table>\n",
              "</div>"
            ],
            "text/plain": [
              "       Country  Happiness.Rank  Happiness.Score  Whisker.high  Whisker.low  \\\n",
              "0       Norway               1            7.537      7.594445     7.479556   \n",
              "1      Denmark               2            7.522      7.581728     7.462272   \n",
              "2      Iceland               3            7.504      7.622030     7.385970   \n",
              "3  Switzerland               4            7.494      7.561772     7.426227   \n",
              "4      Finland               5            7.469      7.527542     7.410458   \n",
              "\n",
              "   Economy..GDP.per.Capita.    Family  Health..Life.Expectancy.   Freedom  \\\n",
              "0                  1.616463  1.533524                  0.796667  0.635423   \n",
              "1                  1.482383  1.551122                  0.792566  0.626007   \n",
              "2                  1.480633  1.610574                  0.833552  0.627163   \n",
              "3                  1.564980  1.516912                  0.858131  0.620071   \n",
              "4                  1.443572  1.540247                  0.809158  0.617951   \n",
              "\n",
              "   Generosity  Trust..Government.Corruption.  Dystopia.Residual  Year  \n",
              "0    0.362012                       0.315964           2.277027  2017  \n",
              "1    0.355280                       0.400770           2.313707  2017  \n",
              "2    0.475540                       0.153527           2.322715  2017  \n",
              "3    0.290549                       0.367007           2.276716  2017  \n",
              "4    0.245483                       0.382612           2.430182  2017  "
            ]
          },
          "metadata": {
            "tags": []
          },
          "execution_count": 4
        }
      ]
    },
    {
      "metadata": {
        "id": "_lnmqqz9cMV1",
        "colab_type": "text"
      },
      "cell_type": "markdown",
      "source": [
        "### 1.2 Combining Dataframes with the Concat Function"
      ]
    },
    {
      "metadata": {
        "id": "YMqo3lWucu5C",
        "colab_type": "text"
      },
      "cell_type": "markdown",
      "source": [
        "Let's start by exploring the [pd.concat()](https://pandas.pydata.org/pandas-docs/stable/generated/pandas.concat.html) function. The **concat()** function combines dataframes one of two ways:\n",
        "\n",
        "1. Stacked: Axis = 0 (This is the default option.)\n",
        "\n",
        "<left><img width=\"300\" src=\"https://drive.google.com/uc?export=view&id=1CYdRFTWrhkt6MQC-4bo4uOjE8ZfG9jOt\"></left>\n",
        "\n",
        "2. Side by Side: Axis = 1\n",
        "\n",
        "<left><img width=\"600\" src=\"https://drive.google.com/uc?export=view&id=1D5NGhSzGARmchcnpjgcVgN7OsSU7aR7O\"></left>\n",
        "\n",
        "Since **concat** is a function, not a method, we use the syntax below:\n",
        "\n",
        "<left><img width=\"500\" src=\"https://drive.google.com/uc?export=view&id=1e-j71SCj4Ri8EP6QGDnko6w1XFqhKLGX\"></left>\n",
        "\n",
        "In the next exercise, we'll use the **concat()** function to combine subsets of **happiness2015** and **happiness2016** and then debrief the results on the following section.\n",
        "\n",
        "Below are the subsets we'll be working with:\n"
      ]
    },
    {
      "metadata": {
        "id": "Syes__dOd1fY",
        "colab_type": "code",
        "outputId": "67c09298-a3bb-4b26-f487-d5029f98a275",
        "colab": {
          "base_uri": "https://localhost:8080/",
          "height": 143
        }
      },
      "cell_type": "code",
      "source": [
        "head_2015 = happiness2015[['Country',\n",
        "                           'Happiness Score', \n",
        "                           'Year']].head(3)\n",
        "head_2015"
      ],
      "execution_count": 0,
      "outputs": [
        {
          "output_type": "execute_result",
          "data": {
            "text/html": [
              "<div>\n",
              "<style scoped>\n",
              "    .dataframe tbody tr th:only-of-type {\n",
              "        vertical-align: middle;\n",
              "    }\n",
              "\n",
              "    .dataframe tbody tr th {\n",
              "        vertical-align: top;\n",
              "    }\n",
              "\n",
              "    .dataframe thead th {\n",
              "        text-align: right;\n",
              "    }\n",
              "</style>\n",
              "<table border=\"1\" class=\"dataframe\">\n",
              "  <thead>\n",
              "    <tr style=\"text-align: right;\">\n",
              "      <th></th>\n",
              "      <th>Country</th>\n",
              "      <th>Happiness Score</th>\n",
              "      <th>Year</th>\n",
              "    </tr>\n",
              "  </thead>\n",
              "  <tbody>\n",
              "    <tr>\n",
              "      <th>0</th>\n",
              "      <td>Switzerland</td>\n",
              "      <td>7.587</td>\n",
              "      <td>2015</td>\n",
              "    </tr>\n",
              "    <tr>\n",
              "      <th>1</th>\n",
              "      <td>Iceland</td>\n",
              "      <td>7.561</td>\n",
              "      <td>2015</td>\n",
              "    </tr>\n",
              "    <tr>\n",
              "      <th>2</th>\n",
              "      <td>Denmark</td>\n",
              "      <td>7.527</td>\n",
              "      <td>2015</td>\n",
              "    </tr>\n",
              "  </tbody>\n",
              "</table>\n",
              "</div>"
            ],
            "text/plain": [
              "       Country  Happiness Score  Year\n",
              "0  Switzerland            7.587  2015\n",
              "1      Iceland            7.561  2015\n",
              "2      Denmark            7.527  2015"
            ]
          },
          "metadata": {
            "tags": []
          },
          "execution_count": 5
        }
      ]
    },
    {
      "metadata": {
        "id": "lYP7msSNfqoH",
        "colab_type": "code",
        "outputId": "391cf748-8ac8-472a-a398-c43ae322a955",
        "colab": {
          "base_uri": "https://localhost:8080/",
          "height": 143
        }
      },
      "cell_type": "code",
      "source": [
        "head_2016 = happiness2016[['Country',\n",
        "                           'Happiness Score', \n",
        "                           'Year']].head(3)\n",
        "head_2016"
      ],
      "execution_count": 0,
      "outputs": [
        {
          "output_type": "execute_result",
          "data": {
            "text/html": [
              "<div>\n",
              "<style scoped>\n",
              "    .dataframe tbody tr th:only-of-type {\n",
              "        vertical-align: middle;\n",
              "    }\n",
              "\n",
              "    .dataframe tbody tr th {\n",
              "        vertical-align: top;\n",
              "    }\n",
              "\n",
              "    .dataframe thead th {\n",
              "        text-align: right;\n",
              "    }\n",
              "</style>\n",
              "<table border=\"1\" class=\"dataframe\">\n",
              "  <thead>\n",
              "    <tr style=\"text-align: right;\">\n",
              "      <th></th>\n",
              "      <th>Country</th>\n",
              "      <th>Happiness Score</th>\n",
              "      <th>Year</th>\n",
              "    </tr>\n",
              "  </thead>\n",
              "  <tbody>\n",
              "    <tr>\n",
              "      <th>0</th>\n",
              "      <td>Denmark</td>\n",
              "      <td>7.526</td>\n",
              "      <td>2016</td>\n",
              "    </tr>\n",
              "    <tr>\n",
              "      <th>1</th>\n",
              "      <td>Switzerland</td>\n",
              "      <td>7.509</td>\n",
              "      <td>2016</td>\n",
              "    </tr>\n",
              "    <tr>\n",
              "      <th>2</th>\n",
              "      <td>Iceland</td>\n",
              "      <td>7.501</td>\n",
              "      <td>2016</td>\n",
              "    </tr>\n",
              "  </tbody>\n",
              "</table>\n",
              "</div>"
            ],
            "text/plain": [
              "       Country  Happiness Score  Year\n",
              "0      Denmark            7.526  2016\n",
              "1  Switzerland            7.509  2016\n",
              "2      Iceland            7.501  2016"
            ]
          },
          "metadata": {
            "tags": []
          },
          "execution_count": 6
        }
      ]
    },
    {
      "metadata": {
        "id": "CIhwMxnOfzz9",
        "colab_type": "text"
      },
      "cell_type": "markdown",
      "source": [
        "Let's use the **concat()** function to combine **head_2015** and **head_2016** next.\n",
        "\n",
        "**Exercise**\n",
        "\n",
        "<left><img width=\"100\" src=\"https://drive.google.com/uc?export=view&id=1E8tR7B9YYUXsU_rddJAyq0FrM0MSelxZ\"></left>\n",
        "\n",
        "We've already saved the subsets from **happiness2015** and **happiness2016** to the variables **head_2015** and **head_2016**.\n",
        "\n",
        "- Use the **pd.concat()** function to combine **head_2015** and **head_2016** along **axis = 0**. Remember to pass the **head_2015** and **head_2016** into the function as a list. Assign the result to **concat_axis0**.\n",
        "- Use the **pd.concat()** function to combine **head_2015** and **head_2016** along **axis = 1**. Remember to pass **head_2015** and **head_2016** into the function as a list and set the **axis** parameter equal to 1. Assign the result to **concat_axis1**.\n",
        "- Assign the number of rows in **concat_axis0** to a variable called **question1**.\n",
        "- Assign the number of rows in **concat_axis1** to a variable called **question2**.\n"
      ]
    },
    {
      "metadata": {
        "id": "VyqXK6mKgIy2",
        "colab_type": "code",
        "colab": {}
      },
      "cell_type": "code",
      "source": [
        "# put your code here\n",
        "\n",
        "# concat rows\n",
        "concat_axis0 = pd.concat([head_2015, head_2016], axis=0)\n",
        "#concat columns\n",
        "concat_axis1 = pd.concat([head_2015, head_2016], axis=1)\n",
        "\n",
        "question1 = concat_axis0.shape[0]\n",
        "question2 = concat_axis1.shape[0]\n"
      ],
      "execution_count": 0,
      "outputs": []
    },
    {
      "metadata": {
        "id": "0Bikxyqkzcbb",
        "colab_type": "code",
        "outputId": "150efaf4-c831-4286-8d9d-1e39898fe452",
        "colab": {
          "base_uri": "https://localhost:8080/",
          "height": 238
        }
      },
      "cell_type": "code",
      "source": [
        "concat_axis0"
      ],
      "execution_count": 0,
      "outputs": [
        {
          "output_type": "execute_result",
          "data": {
            "text/html": [
              "<div>\n",
              "<style scoped>\n",
              "    .dataframe tbody tr th:only-of-type {\n",
              "        vertical-align: middle;\n",
              "    }\n",
              "\n",
              "    .dataframe tbody tr th {\n",
              "        vertical-align: top;\n",
              "    }\n",
              "\n",
              "    .dataframe thead th {\n",
              "        text-align: right;\n",
              "    }\n",
              "</style>\n",
              "<table border=\"1\" class=\"dataframe\">\n",
              "  <thead>\n",
              "    <tr style=\"text-align: right;\">\n",
              "      <th></th>\n",
              "      <th>Country</th>\n",
              "      <th>Happiness Score</th>\n",
              "      <th>Year</th>\n",
              "    </tr>\n",
              "  </thead>\n",
              "  <tbody>\n",
              "    <tr>\n",
              "      <th>0</th>\n",
              "      <td>Switzerland</td>\n",
              "      <td>7.587</td>\n",
              "      <td>2015</td>\n",
              "    </tr>\n",
              "    <tr>\n",
              "      <th>1</th>\n",
              "      <td>Iceland</td>\n",
              "      <td>7.561</td>\n",
              "      <td>2015</td>\n",
              "    </tr>\n",
              "    <tr>\n",
              "      <th>2</th>\n",
              "      <td>Denmark</td>\n",
              "      <td>7.527</td>\n",
              "      <td>2015</td>\n",
              "    </tr>\n",
              "    <tr>\n",
              "      <th>0</th>\n",
              "      <td>Denmark</td>\n",
              "      <td>7.526</td>\n",
              "      <td>2016</td>\n",
              "    </tr>\n",
              "    <tr>\n",
              "      <th>1</th>\n",
              "      <td>Switzerland</td>\n",
              "      <td>7.509</td>\n",
              "      <td>2016</td>\n",
              "    </tr>\n",
              "    <tr>\n",
              "      <th>2</th>\n",
              "      <td>Iceland</td>\n",
              "      <td>7.501</td>\n",
              "      <td>2016</td>\n",
              "    </tr>\n",
              "  </tbody>\n",
              "</table>\n",
              "</div>"
            ],
            "text/plain": [
              "       Country  Happiness Score  Year\n",
              "0  Switzerland            7.587  2015\n",
              "1      Iceland            7.561  2015\n",
              "2      Denmark            7.527  2015\n",
              "0      Denmark            7.526  2016\n",
              "1  Switzerland            7.509  2016\n",
              "2      Iceland            7.501  2016"
            ]
          },
          "metadata": {
            "tags": []
          },
          "execution_count": 8
        }
      ]
    },
    {
      "metadata": {
        "id": "SwMGVOZ2znXr",
        "colab_type": "code",
        "outputId": "dc40e3d3-9699-4751-8c4d-f84a5c5de348",
        "colab": {
          "base_uri": "https://localhost:8080/",
          "height": 143
        }
      },
      "cell_type": "code",
      "source": [
        "concat_axis1"
      ],
      "execution_count": 0,
      "outputs": [
        {
          "output_type": "execute_result",
          "data": {
            "text/html": [
              "<div>\n",
              "<style scoped>\n",
              "    .dataframe tbody tr th:only-of-type {\n",
              "        vertical-align: middle;\n",
              "    }\n",
              "\n",
              "    .dataframe tbody tr th {\n",
              "        vertical-align: top;\n",
              "    }\n",
              "\n",
              "    .dataframe thead th {\n",
              "        text-align: right;\n",
              "    }\n",
              "</style>\n",
              "<table border=\"1\" class=\"dataframe\">\n",
              "  <thead>\n",
              "    <tr style=\"text-align: right;\">\n",
              "      <th></th>\n",
              "      <th>Country</th>\n",
              "      <th>Happiness Score</th>\n",
              "      <th>Year</th>\n",
              "      <th>Country</th>\n",
              "      <th>Happiness Score</th>\n",
              "      <th>Year</th>\n",
              "    </tr>\n",
              "  </thead>\n",
              "  <tbody>\n",
              "    <tr>\n",
              "      <th>0</th>\n",
              "      <td>Switzerland</td>\n",
              "      <td>7.587</td>\n",
              "      <td>2015</td>\n",
              "      <td>Denmark</td>\n",
              "      <td>7.526</td>\n",
              "      <td>2016</td>\n",
              "    </tr>\n",
              "    <tr>\n",
              "      <th>1</th>\n",
              "      <td>Iceland</td>\n",
              "      <td>7.561</td>\n",
              "      <td>2015</td>\n",
              "      <td>Switzerland</td>\n",
              "      <td>7.509</td>\n",
              "      <td>2016</td>\n",
              "    </tr>\n",
              "    <tr>\n",
              "      <th>2</th>\n",
              "      <td>Denmark</td>\n",
              "      <td>7.527</td>\n",
              "      <td>2015</td>\n",
              "      <td>Iceland</td>\n",
              "      <td>7.501</td>\n",
              "      <td>2016</td>\n",
              "    </tr>\n",
              "  </tbody>\n",
              "</table>\n",
              "</div>"
            ],
            "text/plain": [
              "       Country  Happiness Score  Year      Country  Happiness Score  Year\n",
              "0  Switzerland            7.587  2015      Denmark            7.526  2016\n",
              "1      Iceland            7.561  2015  Switzerland            7.509  2016\n",
              "2      Denmark            7.527  2015      Iceland            7.501  2016"
            ]
          },
          "metadata": {
            "tags": []
          },
          "execution_count": 9
        }
      ]
    },
    {
      "metadata": {
        "id": "7Mzuez1Jzqr7",
        "colab_type": "code",
        "outputId": "a86bc33a-b9c6-462a-d078-d9c8192cd967",
        "colab": {
          "base_uri": "https://localhost:8080/",
          "height": 35
        }
      },
      "cell_type": "code",
      "source": [
        "question1"
      ],
      "execution_count": 0,
      "outputs": [
        {
          "output_type": "execute_result",
          "data": {
            "text/plain": [
              "6"
            ]
          },
          "metadata": {
            "tags": []
          },
          "execution_count": 10
        }
      ]
    },
    {
      "metadata": {
        "id": "iPVzdosczwOH",
        "colab_type": "code",
        "outputId": "fe76c0ae-d6bc-4a7c-948f-b58f6e9bd52b",
        "colab": {
          "base_uri": "https://localhost:8080/",
          "height": 35
        }
      },
      "cell_type": "code",
      "source": [
        "question2"
      ],
      "execution_count": 0,
      "outputs": [
        {
          "output_type": "execute_result",
          "data": {
            "text/plain": [
              "3"
            ]
          },
          "metadata": {
            "tags": []
          },
          "execution_count": 11
        }
      ]
    },
    {
      "metadata": {
        "id": "Y4EyM1iSh8QO",
        "colab_type": "text"
      },
      "cell_type": "markdown",
      "source": [
        "### 1.3 Combining Dataframes with the Concat Function Continued"
      ]
    },
    {
      "metadata": {
        "id": "hwZD2nJFicfY",
        "colab_type": "text"
      },
      "cell_type": "markdown",
      "source": [
        "When you reviewed the results from the last exercise, you probably noticed that we merely pushed the dataframes together vertically or horizontally - none of the values, column names, or indexes changed. For this reason, when you use the **concat()** function to combine dataframes with the same shape and index, you can think of the function as \"gluing\" dataframes together.\n",
        "\n",
        "<left><img width=\"500\" src=\"https://drive.google.com/uc?export=view&id=1XJOhkxKMokGHw7HMeSzOYxVJ8-bQiL-Z\"></left>\n",
        "\n",
        "\n",
        "However, what happens if the dataframes have different shapes or columns? Let's confirm the **concat()** function's behavior when we combine dataframes that don't have the same shape in the next exercise.\n",
        "\n",
        "We'll work with the following subsets:"
      ]
    },
    {
      "metadata": {
        "id": "wdvKGRYTjyRq",
        "colab_type": "code",
        "outputId": "dc7dfc88-cc11-4254-d759-9fdf23d7ba7b",
        "colab": {
          "base_uri": "https://localhost:8080/",
          "height": 175
        }
      },
      "cell_type": "code",
      "source": [
        "head_2015 = happiness2015[['Year','Country','Happiness Score', 'Standard Error']].head(4)\n",
        "head_2015"
      ],
      "execution_count": 0,
      "outputs": [
        {
          "output_type": "execute_result",
          "data": {
            "text/html": [
              "<div>\n",
              "<style scoped>\n",
              "    .dataframe tbody tr th:only-of-type {\n",
              "        vertical-align: middle;\n",
              "    }\n",
              "\n",
              "    .dataframe tbody tr th {\n",
              "        vertical-align: top;\n",
              "    }\n",
              "\n",
              "    .dataframe thead th {\n",
              "        text-align: right;\n",
              "    }\n",
              "</style>\n",
              "<table border=\"1\" class=\"dataframe\">\n",
              "  <thead>\n",
              "    <tr style=\"text-align: right;\">\n",
              "      <th></th>\n",
              "      <th>Year</th>\n",
              "      <th>Country</th>\n",
              "      <th>Happiness Score</th>\n",
              "      <th>Standard Error</th>\n",
              "    </tr>\n",
              "  </thead>\n",
              "  <tbody>\n",
              "    <tr>\n",
              "      <th>0</th>\n",
              "      <td>2015</td>\n",
              "      <td>Switzerland</td>\n",
              "      <td>7.587</td>\n",
              "      <td>0.03411</td>\n",
              "    </tr>\n",
              "    <tr>\n",
              "      <th>1</th>\n",
              "      <td>2015</td>\n",
              "      <td>Iceland</td>\n",
              "      <td>7.561</td>\n",
              "      <td>0.04884</td>\n",
              "    </tr>\n",
              "    <tr>\n",
              "      <th>2</th>\n",
              "      <td>2015</td>\n",
              "      <td>Denmark</td>\n",
              "      <td>7.527</td>\n",
              "      <td>0.03328</td>\n",
              "    </tr>\n",
              "    <tr>\n",
              "      <th>3</th>\n",
              "      <td>2015</td>\n",
              "      <td>Norway</td>\n",
              "      <td>7.522</td>\n",
              "      <td>0.03880</td>\n",
              "    </tr>\n",
              "  </tbody>\n",
              "</table>\n",
              "</div>"
            ],
            "text/plain": [
              "   Year      Country  Happiness Score  Standard Error\n",
              "0  2015  Switzerland            7.587         0.03411\n",
              "1  2015      Iceland            7.561         0.04884\n",
              "2  2015      Denmark            7.527         0.03328\n",
              "3  2015       Norway            7.522         0.03880"
            ]
          },
          "metadata": {
            "tags": []
          },
          "execution_count": 12
        }
      ]
    },
    {
      "metadata": {
        "id": "arkagdwAkXUx",
        "colab_type": "code",
        "outputId": "58a0356d-928c-4679-8982-c5d1ccb0d82d",
        "colab": {
          "base_uri": "https://localhost:8080/",
          "height": 143
        }
      },
      "cell_type": "code",
      "source": [
        "head_2016 = happiness2016[['Country','Happiness Score', 'Year']].head(3)\n",
        "head_2016"
      ],
      "execution_count": 0,
      "outputs": [
        {
          "output_type": "execute_result",
          "data": {
            "text/html": [
              "<div>\n",
              "<style scoped>\n",
              "    .dataframe tbody tr th:only-of-type {\n",
              "        vertical-align: middle;\n",
              "    }\n",
              "\n",
              "    .dataframe tbody tr th {\n",
              "        vertical-align: top;\n",
              "    }\n",
              "\n",
              "    .dataframe thead th {\n",
              "        text-align: right;\n",
              "    }\n",
              "</style>\n",
              "<table border=\"1\" class=\"dataframe\">\n",
              "  <thead>\n",
              "    <tr style=\"text-align: right;\">\n",
              "      <th></th>\n",
              "      <th>Country</th>\n",
              "      <th>Happiness Score</th>\n",
              "      <th>Year</th>\n",
              "    </tr>\n",
              "  </thead>\n",
              "  <tbody>\n",
              "    <tr>\n",
              "      <th>0</th>\n",
              "      <td>Denmark</td>\n",
              "      <td>7.526</td>\n",
              "      <td>2016</td>\n",
              "    </tr>\n",
              "    <tr>\n",
              "      <th>1</th>\n",
              "      <td>Switzerland</td>\n",
              "      <td>7.509</td>\n",
              "      <td>2016</td>\n",
              "    </tr>\n",
              "    <tr>\n",
              "      <th>2</th>\n",
              "      <td>Iceland</td>\n",
              "      <td>7.501</td>\n",
              "      <td>2016</td>\n",
              "    </tr>\n",
              "  </tbody>\n",
              "</table>\n",
              "</div>"
            ],
            "text/plain": [
              "       Country  Happiness Score  Year\n",
              "0      Denmark            7.526  2016\n",
              "1  Switzerland            7.509  2016\n",
              "2      Iceland            7.501  2016"
            ]
          },
          "metadata": {
            "tags": []
          },
          "execution_count": 13
        }
      ]
    },
    {
      "metadata": {
        "id": "vaiCDVNikbm_",
        "colab_type": "text"
      },
      "cell_type": "markdown",
      "source": [
        "Notice in the subsets above that **head_2015** contains one column that **head_2016** does not - the **Standard Error** column. Let's confirm what happens when we concatenate them next.\n",
        "\n",
        "**Exercise**\n",
        "\n",
        "<left><img width=\"100\" src=\"https://drive.google.com/uc?export=view&id=1E8tR7B9YYUXsU_rddJAyq0FrM0MSelxZ\"></left>\n",
        "\n",
        "We've already created the **head_2015** and **head_2016** variables.\n",
        "\n",
        "- Use the **pd.concat()** function to combine **head_2015** and **head_2016** along **axis = 0**. Remember to pass the **head_2015** and **head_2016** into the function as a list. Assign the result to **concat_axis0**.\n"
      ]
    },
    {
      "metadata": {
        "id": "HYloolBqko0Z",
        "colab_type": "code",
        "colab": {}
      },
      "cell_type": "code",
      "source": [
        "# put your code here\n",
        "# concat rows\n",
        "concat_axis0 = pd.concat([head_2015, head_2016], axis=0)"
      ],
      "execution_count": 0,
      "outputs": []
    },
    {
      "metadata": {
        "id": "AHU7yXPU0F23",
        "colab_type": "code",
        "outputId": "18592e60-26ff-4cd1-d4a5-b7faef0d0ab5",
        "colab": {
          "base_uri": "https://localhost:8080/",
          "height": 269
        }
      },
      "cell_type": "code",
      "source": [
        "concat_axis0"
      ],
      "execution_count": 0,
      "outputs": [
        {
          "output_type": "execute_result",
          "data": {
            "text/html": [
              "<div>\n",
              "<style scoped>\n",
              "    .dataframe tbody tr th:only-of-type {\n",
              "        vertical-align: middle;\n",
              "    }\n",
              "\n",
              "    .dataframe tbody tr th {\n",
              "        vertical-align: top;\n",
              "    }\n",
              "\n",
              "    .dataframe thead th {\n",
              "        text-align: right;\n",
              "    }\n",
              "</style>\n",
              "<table border=\"1\" class=\"dataframe\">\n",
              "  <thead>\n",
              "    <tr style=\"text-align: right;\">\n",
              "      <th></th>\n",
              "      <th>Country</th>\n",
              "      <th>Happiness Score</th>\n",
              "      <th>Standard Error</th>\n",
              "      <th>Year</th>\n",
              "    </tr>\n",
              "  </thead>\n",
              "  <tbody>\n",
              "    <tr>\n",
              "      <th>0</th>\n",
              "      <td>Switzerland</td>\n",
              "      <td>7.587</td>\n",
              "      <td>0.03411</td>\n",
              "      <td>2015</td>\n",
              "    </tr>\n",
              "    <tr>\n",
              "      <th>1</th>\n",
              "      <td>Iceland</td>\n",
              "      <td>7.561</td>\n",
              "      <td>0.04884</td>\n",
              "      <td>2015</td>\n",
              "    </tr>\n",
              "    <tr>\n",
              "      <th>2</th>\n",
              "      <td>Denmark</td>\n",
              "      <td>7.527</td>\n",
              "      <td>0.03328</td>\n",
              "      <td>2015</td>\n",
              "    </tr>\n",
              "    <tr>\n",
              "      <th>3</th>\n",
              "      <td>Norway</td>\n",
              "      <td>7.522</td>\n",
              "      <td>0.03880</td>\n",
              "      <td>2015</td>\n",
              "    </tr>\n",
              "    <tr>\n",
              "      <th>0</th>\n",
              "      <td>Denmark</td>\n",
              "      <td>7.526</td>\n",
              "      <td>NaN</td>\n",
              "      <td>2016</td>\n",
              "    </tr>\n",
              "    <tr>\n",
              "      <th>1</th>\n",
              "      <td>Switzerland</td>\n",
              "      <td>7.509</td>\n",
              "      <td>NaN</td>\n",
              "      <td>2016</td>\n",
              "    </tr>\n",
              "    <tr>\n",
              "      <th>2</th>\n",
              "      <td>Iceland</td>\n",
              "      <td>7.501</td>\n",
              "      <td>NaN</td>\n",
              "      <td>2016</td>\n",
              "    </tr>\n",
              "  </tbody>\n",
              "</table>\n",
              "</div>"
            ],
            "text/plain": [
              "       Country  Happiness Score  Standard Error  Year\n",
              "0  Switzerland            7.587         0.03411  2015\n",
              "1      Iceland            7.561         0.04884  2015\n",
              "2      Denmark            7.527         0.03328  2015\n",
              "3       Norway            7.522         0.03880  2015\n",
              "0      Denmark            7.526             NaN  2016\n",
              "1  Switzerland            7.509             NaN  2016\n",
              "2      Iceland            7.501             NaN  2016"
            ]
          },
          "metadata": {
            "tags": []
          },
          "execution_count": 15
        }
      ]
    },
    {
      "metadata": {
        "id": "4_uxAGkRlbhX",
        "colab_type": "text"
      },
      "cell_type": "markdown",
      "source": [
        "### 1.4 Combining Dataframes with Different Shapes Using the Concat Function"
      ]
    },
    {
      "metadata": {
        "id": "BM2BQfLdnAki",
        "colab_type": "text"
      },
      "cell_type": "markdown",
      "source": [
        "In the last exercise, we saw that the analogy of \"gluing\" dataframes together doesn't fully describe what happens when concatenating dataframes of different shapes. Instead, the function combined the data according to the corresponding column names:\n",
        "\n",
        "<left><img width=\"700\" src=\"https://drive.google.com/uc?export=view&id=19gyEqPO137B0vkALZfcQ4jDKHY504bF1\"></left>\n",
        "\n",
        "\n",
        "Note that because the **Standard Error** column didn't exist in **head_2016**, **NaN** values were created to signify those values are missing. By default, the **concat** function will keep ALL of the data, no matter if missing values are created.\n",
        "\n",
        "Also, notice again the indexes of the original dataframes didn't change. If the indexes aren't meaningful, it can be better to reset them. This is especially true when we create duplicate indexes, because they could cause errors as we perform other data cleaning tasks.\n",
        "\n",
        "Luckily, the **concat** function has a parameter, **ignore_index**, that can be used to clear the existing **index** and **reset** it in the result. Let's practice using it next.\n",
        "\n",
        "**Exercise**\n",
        "\n",
        "<left><img width=\"100\" src=\"https://drive.google.com/uc?export=view&id=1E8tR7B9YYUXsU_rddJAyq0FrM0MSelxZ\"></left>\n",
        "\n",
        "- Use the **pd.concat()** function to combine **head_2015** and **head_2016** along **axis = 0** again. This time, however, set the **ignore_index** parameter to **True** to reset the index in the result. Assign the result to **concat_update_index**."
      ]
    },
    {
      "metadata": {
        "id": "qOdKTAo4nHE5",
        "colab_type": "code",
        "colab": {}
      },
      "cell_type": "code",
      "source": [
        "# put your code here\n",
        "concat_update_index = pd.concat([head_2015, head_2016], axis=0, ignore_index=True)"
      ],
      "execution_count": 0,
      "outputs": []
    },
    {
      "metadata": {
        "id": "Y6g2lv5q0iue",
        "colab_type": "code",
        "outputId": "11775ec0-0b2f-4ae9-ff30-cb71cb12ca7d",
        "colab": {
          "base_uri": "https://localhost:8080/",
          "height": 269
        }
      },
      "cell_type": "code",
      "source": [
        "concat_update_index"
      ],
      "execution_count": 0,
      "outputs": [
        {
          "output_type": "execute_result",
          "data": {
            "text/html": [
              "<div>\n",
              "<style scoped>\n",
              "    .dataframe tbody tr th:only-of-type {\n",
              "        vertical-align: middle;\n",
              "    }\n",
              "\n",
              "    .dataframe tbody tr th {\n",
              "        vertical-align: top;\n",
              "    }\n",
              "\n",
              "    .dataframe thead th {\n",
              "        text-align: right;\n",
              "    }\n",
              "</style>\n",
              "<table border=\"1\" class=\"dataframe\">\n",
              "  <thead>\n",
              "    <tr style=\"text-align: right;\">\n",
              "      <th></th>\n",
              "      <th>Country</th>\n",
              "      <th>Happiness Score</th>\n",
              "      <th>Standard Error</th>\n",
              "      <th>Year</th>\n",
              "    </tr>\n",
              "  </thead>\n",
              "  <tbody>\n",
              "    <tr>\n",
              "      <th>0</th>\n",
              "      <td>Switzerland</td>\n",
              "      <td>7.587</td>\n",
              "      <td>0.03411</td>\n",
              "      <td>2015</td>\n",
              "    </tr>\n",
              "    <tr>\n",
              "      <th>1</th>\n",
              "      <td>Iceland</td>\n",
              "      <td>7.561</td>\n",
              "      <td>0.04884</td>\n",
              "      <td>2015</td>\n",
              "    </tr>\n",
              "    <tr>\n",
              "      <th>2</th>\n",
              "      <td>Denmark</td>\n",
              "      <td>7.527</td>\n",
              "      <td>0.03328</td>\n",
              "      <td>2015</td>\n",
              "    </tr>\n",
              "    <tr>\n",
              "      <th>3</th>\n",
              "      <td>Norway</td>\n",
              "      <td>7.522</td>\n",
              "      <td>0.03880</td>\n",
              "      <td>2015</td>\n",
              "    </tr>\n",
              "    <tr>\n",
              "      <th>4</th>\n",
              "      <td>Denmark</td>\n",
              "      <td>7.526</td>\n",
              "      <td>NaN</td>\n",
              "      <td>2016</td>\n",
              "    </tr>\n",
              "    <tr>\n",
              "      <th>5</th>\n",
              "      <td>Switzerland</td>\n",
              "      <td>7.509</td>\n",
              "      <td>NaN</td>\n",
              "      <td>2016</td>\n",
              "    </tr>\n",
              "    <tr>\n",
              "      <th>6</th>\n",
              "      <td>Iceland</td>\n",
              "      <td>7.501</td>\n",
              "      <td>NaN</td>\n",
              "      <td>2016</td>\n",
              "    </tr>\n",
              "  </tbody>\n",
              "</table>\n",
              "</div>"
            ],
            "text/plain": [
              "       Country  Happiness Score  Standard Error  Year\n",
              "0  Switzerland            7.587         0.03411  2015\n",
              "1      Iceland            7.561         0.04884  2015\n",
              "2      Denmark            7.527         0.03328  2015\n",
              "3       Norway            7.522         0.03880  2015\n",
              "4      Denmark            7.526             NaN  2016\n",
              "5  Switzerland            7.509             NaN  2016\n",
              "6      Iceland            7.501             NaN  2016"
            ]
          },
          "metadata": {
            "tags": []
          },
          "execution_count": 17
        }
      ]
    },
    {
      "metadata": {
        "id": "d6lgxrHooTe8",
        "colab_type": "text"
      },
      "cell_type": "markdown",
      "source": [
        "### 1.5 Joining Dataframes with the Merge Function"
      ]
    },
    {
      "metadata": {
        "id": "G0hSnGrN8-Dk",
        "colab_type": "text"
      },
      "cell_type": "markdown",
      "source": [
        "Next, we'll explore the [pd.merge() function](https://pandas.pydata.org/pandas-docs/stable/generated/pandas.DataFrame.merge.html) - a function that can execute high performance database-style joins. Note that unlike the **concat** function, the **merge** function only combines dataframes horizontally (axis=1) and **can only combine two dataframes at a time**. However, it can be valuable when we need to combine very large dataframes quickly and provides more flexibility in terms of how data can be combined, as we'll see in the next couple sections.\n",
        "\n",
        "With the **merge()** function, we'll combine dataframes on a **key**, a **shared index** or **column**. When choosing a key, it's good practice to use keys with unique values to avoid duplicating data.\n",
        "\n",
        "You can think of keys as creating a link from one dataframe to another using the common values or indexes. For example, in the diagram below, we linked the dataframes using common values in the Country columns.\n",
        "\n",
        "<left><img width=\"400\" src=\"https://drive.google.com/uc?export=view&id=1ZBKNem91tjiV0XzcJSQGUgfm90ihmCMr\"></left>\n",
        "\n",
        "In the diagram below, we use those common country values to join or merge the dataframes.\n",
        "\n",
        "<left><img width=\"700\" src=\"https://drive.google.com/uc?export=view&id=1t5ioaNiXdnkWKGwVh3cpFbJLKCqTLoU7\"></left>\n",
        "\n",
        "\n",
        "We'll explore the merge function in the next exercise using just three rows from **happiness2015** and **happiness2016**:"
      ]
    },
    {
      "metadata": {
        "id": "F2IkgdNbBGm8",
        "colab_type": "code",
        "outputId": "8746f9ef-cf7d-4ad0-d035-530e44ff0e07",
        "colab": {
          "base_uri": "https://localhost:8080/",
          "height": 143
        }
      },
      "cell_type": "code",
      "source": [
        "three_2015 = happiness2015[['Country','Happiness Rank','Year']].iloc[2:5]\n",
        "three_2015"
      ],
      "execution_count": 0,
      "outputs": [
        {
          "output_type": "execute_result",
          "data": {
            "text/html": [
              "<div>\n",
              "<style scoped>\n",
              "    .dataframe tbody tr th:only-of-type {\n",
              "        vertical-align: middle;\n",
              "    }\n",
              "\n",
              "    .dataframe tbody tr th {\n",
              "        vertical-align: top;\n",
              "    }\n",
              "\n",
              "    .dataframe thead th {\n",
              "        text-align: right;\n",
              "    }\n",
              "</style>\n",
              "<table border=\"1\" class=\"dataframe\">\n",
              "  <thead>\n",
              "    <tr style=\"text-align: right;\">\n",
              "      <th></th>\n",
              "      <th>Country</th>\n",
              "      <th>Happiness Rank</th>\n",
              "      <th>Year</th>\n",
              "    </tr>\n",
              "  </thead>\n",
              "  <tbody>\n",
              "    <tr>\n",
              "      <th>2</th>\n",
              "      <td>Denmark</td>\n",
              "      <td>3</td>\n",
              "      <td>2015</td>\n",
              "    </tr>\n",
              "    <tr>\n",
              "      <th>3</th>\n",
              "      <td>Norway</td>\n",
              "      <td>4</td>\n",
              "      <td>2015</td>\n",
              "    </tr>\n",
              "    <tr>\n",
              "      <th>4</th>\n",
              "      <td>Canada</td>\n",
              "      <td>5</td>\n",
              "      <td>2015</td>\n",
              "    </tr>\n",
              "  </tbody>\n",
              "</table>\n",
              "</div>"
            ],
            "text/plain": [
              "   Country  Happiness Rank  Year\n",
              "2  Denmark               3  2015\n",
              "3   Norway               4  2015\n",
              "4   Canada               5  2015"
            ]
          },
          "metadata": {
            "tags": []
          },
          "execution_count": 18
        }
      ]
    },
    {
      "metadata": {
        "id": "CtxxVa9YCHuM",
        "colab_type": "code",
        "outputId": "a02484e7-8546-4953-af97-0fa86e13c77c",
        "colab": {
          "base_uri": "https://localhost:8080/",
          "height": 143
        }
      },
      "cell_type": "code",
      "source": [
        "three_2016 = happiness2016[['Country','Happiness Rank','Year']].iloc[2:5]\n",
        "three_2016"
      ],
      "execution_count": 0,
      "outputs": [
        {
          "output_type": "execute_result",
          "data": {
            "text/html": [
              "<div>\n",
              "<style scoped>\n",
              "    .dataframe tbody tr th:only-of-type {\n",
              "        vertical-align: middle;\n",
              "    }\n",
              "\n",
              "    .dataframe tbody tr th {\n",
              "        vertical-align: top;\n",
              "    }\n",
              "\n",
              "    .dataframe thead th {\n",
              "        text-align: right;\n",
              "    }\n",
              "</style>\n",
              "<table border=\"1\" class=\"dataframe\">\n",
              "  <thead>\n",
              "    <tr style=\"text-align: right;\">\n",
              "      <th></th>\n",
              "      <th>Country</th>\n",
              "      <th>Happiness Rank</th>\n",
              "      <th>Year</th>\n",
              "    </tr>\n",
              "  </thead>\n",
              "  <tbody>\n",
              "    <tr>\n",
              "      <th>2</th>\n",
              "      <td>Iceland</td>\n",
              "      <td>3</td>\n",
              "      <td>2016</td>\n",
              "    </tr>\n",
              "    <tr>\n",
              "      <th>3</th>\n",
              "      <td>Norway</td>\n",
              "      <td>4</td>\n",
              "      <td>2016</td>\n",
              "    </tr>\n",
              "    <tr>\n",
              "      <th>4</th>\n",
              "      <td>Finland</td>\n",
              "      <td>5</td>\n",
              "      <td>2016</td>\n",
              "    </tr>\n",
              "  </tbody>\n",
              "</table>\n",
              "</div>"
            ],
            "text/plain": [
              "   Country  Happiness Rank  Year\n",
              "2  Iceland               3  2016\n",
              "3   Norway               4  2016\n",
              "4  Finland               5  2016"
            ]
          },
          "metadata": {
            "tags": []
          },
          "execution_count": 19
        }
      ]
    },
    {
      "metadata": {
        "id": "5YuuZILJCNnL",
        "colab_type": "text"
      },
      "cell_type": "markdown",
      "source": [
        "We'll use the following syntax:\n",
        "\n",
        "<left><img width=\"600\" src=\"https://drive.google.com/uc?export=view&id=1mApwE1qMRnbUmBSa7D5jf93XuTbmQDB3\"></left>\n",
        "\n",
        "**Exercise**\n",
        "\n",
        "<left><img width=\"100\" src=\"https://drive.google.com/uc?export=view&id=1E8tR7B9YYUXsU_rddJAyq0FrM0MSelxZ\"></left>\n",
        "\n",
        "\n",
        "We've already saved three rows from **happiness2015** and **happiness2016** to variables named **three_2015** and **three_2016**.\n",
        "\n",
        "- Use the **pd.merge()** function to join **three_2015** and **three_2016** on the **Country** column. Assign the result to **merged**.\n"
      ]
    },
    {
      "metadata": {
        "id": "muHih_D5Cm3a",
        "colab_type": "code",
        "colab": {}
      },
      "cell_type": "code",
      "source": [
        "# put your code here\n",
        "\n",
        "merged = pd.merge(left=three_2015, right=three_2016, on='Country')"
      ],
      "execution_count": 0,
      "outputs": []
    },
    {
      "metadata": {
        "id": "ibDEIVF640wY",
        "colab_type": "code",
        "outputId": "85c3f095-48ba-4d8c-d843-fb79d6725cfb",
        "colab": {
          "base_uri": "https://localhost:8080/",
          "height": 81
        }
      },
      "cell_type": "code",
      "source": [
        "merged"
      ],
      "execution_count": 0,
      "outputs": [
        {
          "output_type": "execute_result",
          "data": {
            "text/html": [
              "<div>\n",
              "<style scoped>\n",
              "    .dataframe tbody tr th:only-of-type {\n",
              "        vertical-align: middle;\n",
              "    }\n",
              "\n",
              "    .dataframe tbody tr th {\n",
              "        vertical-align: top;\n",
              "    }\n",
              "\n",
              "    .dataframe thead th {\n",
              "        text-align: right;\n",
              "    }\n",
              "</style>\n",
              "<table border=\"1\" class=\"dataframe\">\n",
              "  <thead>\n",
              "    <tr style=\"text-align: right;\">\n",
              "      <th></th>\n",
              "      <th>Country</th>\n",
              "      <th>Happiness Rank_x</th>\n",
              "      <th>Year_x</th>\n",
              "      <th>Happiness Rank_y</th>\n",
              "      <th>Year_y</th>\n",
              "    </tr>\n",
              "  </thead>\n",
              "  <tbody>\n",
              "    <tr>\n",
              "      <th>0</th>\n",
              "      <td>Norway</td>\n",
              "      <td>4</td>\n",
              "      <td>2015</td>\n",
              "      <td>4</td>\n",
              "      <td>2016</td>\n",
              "    </tr>\n",
              "  </tbody>\n",
              "</table>\n",
              "</div>"
            ],
            "text/plain": [
              "  Country  Happiness Rank_x  Year_x  Happiness Rank_y  Year_y\n",
              "0  Norway                 4    2015                 4    2016"
            ]
          },
          "metadata": {
            "tags": []
          },
          "execution_count": 21
        }
      ]
    },
    {
      "metadata": {
        "id": "fJCSkgUHDV94",
        "colab_type": "text"
      },
      "cell_type": "markdown",
      "source": [
        "### 1.6 Joining on Columns with the Merge Function"
      ]
    },
    {
      "metadata": {
        "id": "G9UwPEeKDlof",
        "colab_type": "text"
      },
      "cell_type": "markdown",
      "source": [
        "Joining three_2015 and three_2016 in the last exercise resulted in a dataframe with just one row.\n",
        "\n",
        "Let's look back to **three_2015** and **three_2016** to understand why. Since we joined the dataframes on the **Country** column, or used it as the **key**, the **merge()** function looked to match elements in the **Country** column in **BOTH** dataframes.\n",
        "\n",
        "<left><img width=\"600\" src=\"https://drive.google.com/uc?export=view&id=1z300DyQ7dUwHNlnz--gfcCh7x6rkGunL\"></left>\n",
        "\n",
        "\n",
        "The one country returned in **merged** was **\"Norway\"**, the only element that appeared in the **Country** column in **BOTH** **three_2015** and **three_2016**.\n",
        "\n",
        "This way of combining, or joining, data is called an **inner join**. An **inner join returns only the intersection of the keys**, or the elements that appear in both dataframes with a common key.\n",
        "\n",
        "The term **\"join\"** originates from **SQL** (or structured query language), a language used to work with databases. If you're a SQL user, you'll recognize the following concepts. If you've never used SQL, don't worry! No prior knowledge is neccessary for this lesson.\n",
        "\n",
        "There are actually four different types of joins:\n",
        "\n",
        "- **Inner**: only includes elements that appear in both dataframes with a common key\n",
        "- **Outer**: includes all data from both dataframes\n",
        "- **Left**: includes all of the rows from the \"left\" dataframe along with any rows from the \"right\" dataframe with a common key; the result retains all columns from both of the original dataframes\n",
        "- **Right**: includes all of the rows from the \"right\" dataframe along with any rows from the \"left\" dataframe with a common key; the result retains all columns from both of the original dataframes\n",
        "\n",
        "If the definition for outer joins sounds familiar, it's because we've already seen examples of outer joins! Recall that when we combined data using the **concat** function, it kept all of the data from all dataframes, no matter if missing values were created.\n",
        "\n",
        "Since it's much more common to use **inner** and **left joins** for database-style joins, we'll focus on these join types for the remainder of the lesson, but encourage you to explore the other options on your own.\n",
        "\n",
        "Let's experiment with changing the join type next.\n",
        "\n",
        "**Exercise**\n",
        "\n",
        "<left><img width=\"100\" src=\"https://drive.google.com/uc?export=view&id=1E8tR7B9YYUXsU_rddJAyq0FrM0MSelxZ\"></left>\n",
        "\n",
        "\n",
        "- Update **merged** to use a **left join** instead of an **inner join**. Set the **how** parameter to **'left'** in **merge()**. Assign the result to **merged_left**.\n",
        "- Update **merged_left** so that the **left** parameter equals **three_2016** and the **right** parameter equals **three_2015**. Assign the result to **merged_left_updated**.\n",
        "- Based on the results of this exercise, when using a **left join**, does changing the dataframe assigned to the left and right parameters change the result? Try to answer this question before moving onto the next section"
      ]
    },
    {
      "metadata": {
        "id": "boGqEt4lEGvW",
        "colab_type": "code",
        "colab": {}
      },
      "cell_type": "code",
      "source": [
        "three_2015 = happiness2015[['Country','Happiness Rank','Year']].iloc[2:5]\n",
        "three_2016 = happiness2016[['Country','Happiness Rank','Year']].iloc[2:5]\n",
        "merged = pd.merge(left=three_2015, right=three_2016, on='Country')\n",
        "\n",
        "#put your code here\n",
        "\n",
        "merged_left = pd.merge(left=three_2015, right=three_2016, on='Country', how='left')\n",
        "merged_right = pd.merge(left=three_2016, right=three_2015, on='Country', how='left')"
      ],
      "execution_count": 0,
      "outputs": []
    },
    {
      "metadata": {
        "id": "4rrWuxxY6Jn7",
        "colab_type": "code",
        "outputId": "32e0ae07-8f71-4570-9aa7-d94fec53561d",
        "colab": {
          "base_uri": "https://localhost:8080/",
          "height": 143
        }
      },
      "cell_type": "code",
      "source": [
        "merged_left"
      ],
      "execution_count": 0,
      "outputs": [
        {
          "output_type": "execute_result",
          "data": {
            "text/html": [
              "<div>\n",
              "<style scoped>\n",
              "    .dataframe tbody tr th:only-of-type {\n",
              "        vertical-align: middle;\n",
              "    }\n",
              "\n",
              "    .dataframe tbody tr th {\n",
              "        vertical-align: top;\n",
              "    }\n",
              "\n",
              "    .dataframe thead th {\n",
              "        text-align: right;\n",
              "    }\n",
              "</style>\n",
              "<table border=\"1\" class=\"dataframe\">\n",
              "  <thead>\n",
              "    <tr style=\"text-align: right;\">\n",
              "      <th></th>\n",
              "      <th>Country</th>\n",
              "      <th>Happiness Rank_x</th>\n",
              "      <th>Year_x</th>\n",
              "      <th>Happiness Rank_y</th>\n",
              "      <th>Year_y</th>\n",
              "    </tr>\n",
              "  </thead>\n",
              "  <tbody>\n",
              "    <tr>\n",
              "      <th>0</th>\n",
              "      <td>Denmark</td>\n",
              "      <td>3</td>\n",
              "      <td>2015</td>\n",
              "      <td>NaN</td>\n",
              "      <td>NaN</td>\n",
              "    </tr>\n",
              "    <tr>\n",
              "      <th>1</th>\n",
              "      <td>Norway</td>\n",
              "      <td>4</td>\n",
              "      <td>2015</td>\n",
              "      <td>4.0</td>\n",
              "      <td>2016.0</td>\n",
              "    </tr>\n",
              "    <tr>\n",
              "      <th>2</th>\n",
              "      <td>Canada</td>\n",
              "      <td>5</td>\n",
              "      <td>2015</td>\n",
              "      <td>NaN</td>\n",
              "      <td>NaN</td>\n",
              "    </tr>\n",
              "  </tbody>\n",
              "</table>\n",
              "</div>"
            ],
            "text/plain": [
              "   Country  Happiness Rank_x  Year_x  Happiness Rank_y  Year_y\n",
              "0  Denmark                 3    2015               NaN     NaN\n",
              "1   Norway                 4    2015               4.0  2016.0\n",
              "2   Canada                 5    2015               NaN     NaN"
            ]
          },
          "metadata": {
            "tags": []
          },
          "execution_count": 23
        }
      ]
    },
    {
      "metadata": {
        "id": "zzag4oqO6LBA",
        "colab_type": "code",
        "outputId": "b4f1e6cc-6f7c-4e6a-8165-60bb2290d11f",
        "colab": {
          "base_uri": "https://localhost:8080/",
          "height": 143
        }
      },
      "cell_type": "code",
      "source": [
        "merged_right"
      ],
      "execution_count": 0,
      "outputs": [
        {
          "output_type": "execute_result",
          "data": {
            "text/html": [
              "<div>\n",
              "<style scoped>\n",
              "    .dataframe tbody tr th:only-of-type {\n",
              "        vertical-align: middle;\n",
              "    }\n",
              "\n",
              "    .dataframe tbody tr th {\n",
              "        vertical-align: top;\n",
              "    }\n",
              "\n",
              "    .dataframe thead th {\n",
              "        text-align: right;\n",
              "    }\n",
              "</style>\n",
              "<table border=\"1\" class=\"dataframe\">\n",
              "  <thead>\n",
              "    <tr style=\"text-align: right;\">\n",
              "      <th></th>\n",
              "      <th>Country</th>\n",
              "      <th>Happiness Rank_x</th>\n",
              "      <th>Year_x</th>\n",
              "      <th>Happiness Rank_y</th>\n",
              "      <th>Year_y</th>\n",
              "    </tr>\n",
              "  </thead>\n",
              "  <tbody>\n",
              "    <tr>\n",
              "      <th>0</th>\n",
              "      <td>Iceland</td>\n",
              "      <td>3</td>\n",
              "      <td>2016</td>\n",
              "      <td>NaN</td>\n",
              "      <td>NaN</td>\n",
              "    </tr>\n",
              "    <tr>\n",
              "      <th>1</th>\n",
              "      <td>Norway</td>\n",
              "      <td>4</td>\n",
              "      <td>2016</td>\n",
              "      <td>4.0</td>\n",
              "      <td>2015.0</td>\n",
              "    </tr>\n",
              "    <tr>\n",
              "      <th>2</th>\n",
              "      <td>Finland</td>\n",
              "      <td>5</td>\n",
              "      <td>2016</td>\n",
              "      <td>NaN</td>\n",
              "      <td>NaN</td>\n",
              "    </tr>\n",
              "  </tbody>\n",
              "</table>\n",
              "</div>"
            ],
            "text/plain": [
              "   Country  Happiness Rank_x  Year_x  Happiness Rank_y  Year_y\n",
              "0  Iceland                 3    2016               NaN     NaN\n",
              "1   Norway                 4    2016               4.0  2015.0\n",
              "2  Finland                 5    2016               NaN     NaN"
            ]
          },
          "metadata": {
            "tags": []
          },
          "execution_count": 24
        }
      ]
    },
    {
      "metadata": {
        "id": "1HzDC-unGs_n",
        "colab_type": "text"
      },
      "cell_type": "markdown",
      "source": [
        "### 1.7 Left Joins with the Merge Function"
      ]
    },
    {
      "metadata": {
        "id": "8a2BYW1gHDEG",
        "colab_type": "text"
      },
      "cell_type": "markdown",
      "source": [
        "Let's summarize what we learned in the last exercise:\n",
        "\n",
        "- Changing the join type from an **inner join** to a **left join** resulted in a dataframe with more rows and created **NaNs**.\n",
        "- When using a **left join**, interchanging the dataframes assigned to the left and right parameters changes the results.\n",
        "\n",
        "Let's look into the results in more detail. First, let's look at the case in which the \"left\" dataframe is **three_2015** and the \"right\" dataframe is **three_2016**:"
      ]
    },
    {
      "metadata": {
        "id": "VPzrpBe2H_Ua",
        "colab_type": "code",
        "outputId": "e6527af7-ddfc-417f-f0c9-72856c271538",
        "colab": {
          "base_uri": "https://localhost:8080/",
          "height": 143
        }
      },
      "cell_type": "code",
      "source": [
        "pd.merge(left=three_2015, right=three_2016, how='left', on='Country')"
      ],
      "execution_count": 0,
      "outputs": [
        {
          "output_type": "execute_result",
          "data": {
            "text/html": [
              "<div>\n",
              "<style scoped>\n",
              "    .dataframe tbody tr th:only-of-type {\n",
              "        vertical-align: middle;\n",
              "    }\n",
              "\n",
              "    .dataframe tbody tr th {\n",
              "        vertical-align: top;\n",
              "    }\n",
              "\n",
              "    .dataframe thead th {\n",
              "        text-align: right;\n",
              "    }\n",
              "</style>\n",
              "<table border=\"1\" class=\"dataframe\">\n",
              "  <thead>\n",
              "    <tr style=\"text-align: right;\">\n",
              "      <th></th>\n",
              "      <th>Country</th>\n",
              "      <th>Happiness Rank_x</th>\n",
              "      <th>Year_x</th>\n",
              "      <th>Happiness Rank_y</th>\n",
              "      <th>Year_y</th>\n",
              "    </tr>\n",
              "  </thead>\n",
              "  <tbody>\n",
              "    <tr>\n",
              "      <th>0</th>\n",
              "      <td>Denmark</td>\n",
              "      <td>3</td>\n",
              "      <td>2015</td>\n",
              "      <td>NaN</td>\n",
              "      <td>NaN</td>\n",
              "    </tr>\n",
              "    <tr>\n",
              "      <th>1</th>\n",
              "      <td>Norway</td>\n",
              "      <td>4</td>\n",
              "      <td>2015</td>\n",
              "      <td>4.0</td>\n",
              "      <td>2016.0</td>\n",
              "    </tr>\n",
              "    <tr>\n",
              "      <th>2</th>\n",
              "      <td>Canada</td>\n",
              "      <td>5</td>\n",
              "      <td>2015</td>\n",
              "      <td>NaN</td>\n",
              "      <td>NaN</td>\n",
              "    </tr>\n",
              "  </tbody>\n",
              "</table>\n",
              "</div>"
            ],
            "text/plain": [
              "   Country  Happiness Rank_x  Year_x  Happiness Rank_y  Year_y\n",
              "0  Denmark                 3    2015               NaN     NaN\n",
              "1   Norway                 4    2015               4.0  2016.0\n",
              "2   Canada                 5    2015               NaN     NaN"
            ]
          },
          "metadata": {
            "tags": []
          },
          "execution_count": 25
        }
      ]
    },
    {
      "metadata": {
        "id": "hqU2X9bUIRX0",
        "colab_type": "text"
      },
      "cell_type": "markdown",
      "source": [
        "Recall that a left join includes all of the rows from the \"left\" dataframe along with any rows from the \"right\" dataframe with a common key.\n",
        "\n",
        "<left><img width=\"700\" src=\"https://drive.google.com/uc?export=view&id=1IGRy--ZJcljf0th7y9VK7HNN5M-q9Oq3\"></left>\n",
        "\n",
        "\n",
        "Since the **Country** column was used as the key, only countries that appear in **BOTH** dataframes have a value in every column. **\"Norway\"** was the only value in the **Country** column in **BOTH** dataframes, so it's the only row with a value in every column.\n",
        "\n",
        "When we interchanged the \"left\" and the \"right\" dataframes, the values changed:\n",
        "\n",
        "\n"
      ]
    },
    {
      "metadata": {
        "id": "eYmuo9fYIm8J",
        "colab_type": "code",
        "outputId": "a281fed3-5da5-4c2d-d830-99d2cef0b5e5",
        "colab": {
          "base_uri": "https://localhost:8080/",
          "height": 143
        }
      },
      "cell_type": "code",
      "source": [
        "pd.merge(left=three_2016, right=three_2015, how='left', on='Country')"
      ],
      "execution_count": 0,
      "outputs": [
        {
          "output_type": "execute_result",
          "data": {
            "text/html": [
              "<div>\n",
              "<style scoped>\n",
              "    .dataframe tbody tr th:only-of-type {\n",
              "        vertical-align: middle;\n",
              "    }\n",
              "\n",
              "    .dataframe tbody tr th {\n",
              "        vertical-align: top;\n",
              "    }\n",
              "\n",
              "    .dataframe thead th {\n",
              "        text-align: right;\n",
              "    }\n",
              "</style>\n",
              "<table border=\"1\" class=\"dataframe\">\n",
              "  <thead>\n",
              "    <tr style=\"text-align: right;\">\n",
              "      <th></th>\n",
              "      <th>Country</th>\n",
              "      <th>Happiness Rank_x</th>\n",
              "      <th>Year_x</th>\n",
              "      <th>Happiness Rank_y</th>\n",
              "      <th>Year_y</th>\n",
              "    </tr>\n",
              "  </thead>\n",
              "  <tbody>\n",
              "    <tr>\n",
              "      <th>0</th>\n",
              "      <td>Iceland</td>\n",
              "      <td>3</td>\n",
              "      <td>2016</td>\n",
              "      <td>NaN</td>\n",
              "      <td>NaN</td>\n",
              "    </tr>\n",
              "    <tr>\n",
              "      <th>1</th>\n",
              "      <td>Norway</td>\n",
              "      <td>4</td>\n",
              "      <td>2016</td>\n",
              "      <td>4.0</td>\n",
              "      <td>2015.0</td>\n",
              "    </tr>\n",
              "    <tr>\n",
              "      <th>2</th>\n",
              "      <td>Finland</td>\n",
              "      <td>5</td>\n",
              "      <td>2016</td>\n",
              "      <td>NaN</td>\n",
              "      <td>NaN</td>\n",
              "    </tr>\n",
              "  </tbody>\n",
              "</table>\n",
              "</div>"
            ],
            "text/plain": [
              "   Country  Happiness Rank_x  Year_x  Happiness Rank_y  Year_y\n",
              "0  Iceland                 3    2016               NaN     NaN\n",
              "1   Norway                 4    2016               4.0  2015.0\n",
              "2  Finland                 5    2016               NaN     NaN"
            ]
          },
          "metadata": {
            "tags": []
          },
          "execution_count": 26
        }
      ]
    },
    {
      "metadata": {
        "id": "x5KONr__JCPh",
        "colab_type": "text"
      },
      "cell_type": "markdown",
      "source": [
        "This time, we kept all of the rows from **three_2016**. **\"Norway\"** was still the only value in the **Country** column in **BOTH** dataframes, so it's the only row with a value in every column.\n",
        "\n",
        "<left><img width=\"700\" src=\"https://drive.google.com/uc?export=view&id=1tG4WWHIM1Fc41R2-CJrG8IBlBam2lGh0\"></left>\n",
        "\n",
        "In summary, we'd use a **left join** when we don't want to drop any data from the left dataframe.\n",
        "\n",
        "Note that a **right join** works the same as a **left join**, except it includes all of the rows from the \"right\" dataframe. Since it's far more common in practice to use a left join, we won't cover right joins in detail.\n",
        "\n",
        "You may have also noticed above that the merge function added a suffix of either **_x** or **_y** to columns of the same name to distinguish between them.\n",
        "\n",
        "Let's update those suffixes next to make our results easier to read.\n",
        "\n",
        "**Exercise**\n",
        "\n",
        "<left><img width=\"100\" src=\"https://drive.google.com/uc?export=view&id=1E8tR7B9YYUXsU_rddJAyq0FrM0MSelxZ\"></left>\n",
        "\n",
        "- Update **merged** to use the suffixes **_2015** and **_2016**. Set the **suffixes** parameter to **('_2015', '_2016')** in **merge()**. Assign the result to **merged_suffixes**.\n",
        "- Update **merged_updated** to use the suffixes **_2015** and **_2016**. Notice that the \"left\" dataframe is **three_2016** and the \"right\" dataframe is **three_2015**. Assign the result to **merged_updated_suffixes**."
      ]
    },
    {
      "metadata": {
        "id": "dQ2v6_CUJNaS",
        "colab_type": "code",
        "colab": {}
      },
      "cell_type": "code",
      "source": [
        "three_2015 = happiness2015[['Country','Happiness Rank','Year']].iloc[2:5]\n",
        "three_2016 = happiness2016[['Country','Happiness Rank','Year']].iloc[2:5]\n",
        "merged = pd.merge(left=three_2015, right=three_2016, how='left', on='Country')\n",
        "merged_updated = pd.merge(left=three_2016, right=three_2015, how = 'left', on='Country')\n",
        "# put your code here\n",
        "\n",
        "merged_suffixes = pd.merge(left=three_2015, right=three_2016, how='left', on='Country', suffixes=('_2015', '_2016'))\n",
        "merged_updated_suffixes = pd.merge(left=three_2016, right=three_2015, how = 'left', on='Country', suffixes=('_2015', '_2016'))"
      ],
      "execution_count": 0,
      "outputs": []
    },
    {
      "metadata": {
        "id": "fx_TcxQI68KA",
        "colab_type": "code",
        "outputId": "4cfa5584-630d-4660-a10f-ff58ebcfc955",
        "colab": {
          "base_uri": "https://localhost:8080/",
          "height": 143
        }
      },
      "cell_type": "code",
      "source": [
        "merged_suffixes"
      ],
      "execution_count": 0,
      "outputs": [
        {
          "output_type": "execute_result",
          "data": {
            "text/html": [
              "<div>\n",
              "<style scoped>\n",
              "    .dataframe tbody tr th:only-of-type {\n",
              "        vertical-align: middle;\n",
              "    }\n",
              "\n",
              "    .dataframe tbody tr th {\n",
              "        vertical-align: top;\n",
              "    }\n",
              "\n",
              "    .dataframe thead th {\n",
              "        text-align: right;\n",
              "    }\n",
              "</style>\n",
              "<table border=\"1\" class=\"dataframe\">\n",
              "  <thead>\n",
              "    <tr style=\"text-align: right;\">\n",
              "      <th></th>\n",
              "      <th>Country</th>\n",
              "      <th>Happiness Rank_2015</th>\n",
              "      <th>Year_2015</th>\n",
              "      <th>Happiness Rank_2016</th>\n",
              "      <th>Year_2016</th>\n",
              "    </tr>\n",
              "  </thead>\n",
              "  <tbody>\n",
              "    <tr>\n",
              "      <th>0</th>\n",
              "      <td>Denmark</td>\n",
              "      <td>3</td>\n",
              "      <td>2015</td>\n",
              "      <td>NaN</td>\n",
              "      <td>NaN</td>\n",
              "    </tr>\n",
              "    <tr>\n",
              "      <th>1</th>\n",
              "      <td>Norway</td>\n",
              "      <td>4</td>\n",
              "      <td>2015</td>\n",
              "      <td>4.0</td>\n",
              "      <td>2016.0</td>\n",
              "    </tr>\n",
              "    <tr>\n",
              "      <th>2</th>\n",
              "      <td>Canada</td>\n",
              "      <td>5</td>\n",
              "      <td>2015</td>\n",
              "      <td>NaN</td>\n",
              "      <td>NaN</td>\n",
              "    </tr>\n",
              "  </tbody>\n",
              "</table>\n",
              "</div>"
            ],
            "text/plain": [
              "   Country  Happiness Rank_2015  Year_2015  Happiness Rank_2016  Year_2016\n",
              "0  Denmark                    3       2015                  NaN        NaN\n",
              "1   Norway                    4       2015                  4.0     2016.0\n",
              "2   Canada                    5       2015                  NaN        NaN"
            ]
          },
          "metadata": {
            "tags": []
          },
          "execution_count": 28
        }
      ]
    },
    {
      "metadata": {
        "id": "kPYYa-2-695j",
        "colab_type": "code",
        "outputId": "4981e412-8629-4b2e-bb26-a478fdc50052",
        "colab": {
          "base_uri": "https://localhost:8080/",
          "height": 143
        }
      },
      "cell_type": "code",
      "source": [
        "merged_updated_suffixes"
      ],
      "execution_count": 0,
      "outputs": [
        {
          "output_type": "execute_result",
          "data": {
            "text/html": [
              "<div>\n",
              "<style scoped>\n",
              "    .dataframe tbody tr th:only-of-type {\n",
              "        vertical-align: middle;\n",
              "    }\n",
              "\n",
              "    .dataframe tbody tr th {\n",
              "        vertical-align: top;\n",
              "    }\n",
              "\n",
              "    .dataframe thead th {\n",
              "        text-align: right;\n",
              "    }\n",
              "</style>\n",
              "<table border=\"1\" class=\"dataframe\">\n",
              "  <thead>\n",
              "    <tr style=\"text-align: right;\">\n",
              "      <th></th>\n",
              "      <th>Country</th>\n",
              "      <th>Happiness Rank_2015</th>\n",
              "      <th>Year_2015</th>\n",
              "      <th>Happiness Rank_2016</th>\n",
              "      <th>Year_2016</th>\n",
              "    </tr>\n",
              "  </thead>\n",
              "  <tbody>\n",
              "    <tr>\n",
              "      <th>0</th>\n",
              "      <td>Iceland</td>\n",
              "      <td>3</td>\n",
              "      <td>2016</td>\n",
              "      <td>NaN</td>\n",
              "      <td>NaN</td>\n",
              "    </tr>\n",
              "    <tr>\n",
              "      <th>1</th>\n",
              "      <td>Norway</td>\n",
              "      <td>4</td>\n",
              "      <td>2016</td>\n",
              "      <td>4.0</td>\n",
              "      <td>2015.0</td>\n",
              "    </tr>\n",
              "    <tr>\n",
              "      <th>2</th>\n",
              "      <td>Finland</td>\n",
              "      <td>5</td>\n",
              "      <td>2016</td>\n",
              "      <td>NaN</td>\n",
              "      <td>NaN</td>\n",
              "    </tr>\n",
              "  </tbody>\n",
              "</table>\n",
              "</div>"
            ],
            "text/plain": [
              "   Country  Happiness Rank_2015  Year_2015  Happiness Rank_2016  Year_2016\n",
              "0  Iceland                    3       2016                  NaN        NaN\n",
              "1   Norway                    4       2016                  4.0     2015.0\n",
              "2  Finland                    5       2016                  NaN        NaN"
            ]
          },
          "metadata": {
            "tags": []
          },
          "execution_count": 29
        }
      ]
    },
    {
      "metadata": {
        "id": "yyNcrpZB6_4r",
        "colab_type": "code",
        "colab": {}
      },
      "cell_type": "code",
      "source": [
        ""
      ],
      "execution_count": 0,
      "outputs": []
    },
    {
      "metadata": {
        "id": "v4qy3BdFK2mN",
        "colab_type": "text"
      },
      "cell_type": "markdown",
      "source": [
        "### 1.8 Join on Index with the Merge Function"
      ]
    },
    {
      "metadata": {
        "id": "zf6lezqJ75ma",
        "colab_type": "text"
      },
      "cell_type": "markdown",
      "source": [
        "Now that we have a good understanding of how to join dataframes on specific columns, let's look at another way to join dataframes - **on the index**.\n",
        "\n",
        "<left><img width=\"200\" src=\"https://drive.google.com/uc?export=view&id=1qFNgVIytv1vkBGr0QTMyDPIqm4aG8JCQ\"></left>\n",
        "\n",
        "\n",
        "In this section, we'll work with the following two subsets of **happiness2015** and **happiness2016**:\n",
        "\n"
      ]
    },
    {
      "metadata": {
        "id": "rYs6RIl_8e4e",
        "colab_type": "code",
        "outputId": "a37a52a3-1326-4b07-b9eb-f21bdabf626d",
        "colab": {
          "base_uri": "https://localhost:8080/",
          "height": 175
        }
      },
      "cell_type": "code",
      "source": [
        "four_2015 = happiness2015[['Country','Happiness Rank','Year']].iloc[2:6]\n",
        "four_2015"
      ],
      "execution_count": 0,
      "outputs": [
        {
          "output_type": "execute_result",
          "data": {
            "text/html": [
              "<div>\n",
              "<style scoped>\n",
              "    .dataframe tbody tr th:only-of-type {\n",
              "        vertical-align: middle;\n",
              "    }\n",
              "\n",
              "    .dataframe tbody tr th {\n",
              "        vertical-align: top;\n",
              "    }\n",
              "\n",
              "    .dataframe thead th {\n",
              "        text-align: right;\n",
              "    }\n",
              "</style>\n",
              "<table border=\"1\" class=\"dataframe\">\n",
              "  <thead>\n",
              "    <tr style=\"text-align: right;\">\n",
              "      <th></th>\n",
              "      <th>Country</th>\n",
              "      <th>Happiness Rank</th>\n",
              "      <th>Year</th>\n",
              "    </tr>\n",
              "  </thead>\n",
              "  <tbody>\n",
              "    <tr>\n",
              "      <th>2</th>\n",
              "      <td>Denmark</td>\n",
              "      <td>3</td>\n",
              "      <td>2015</td>\n",
              "    </tr>\n",
              "    <tr>\n",
              "      <th>3</th>\n",
              "      <td>Norway</td>\n",
              "      <td>4</td>\n",
              "      <td>2015</td>\n",
              "    </tr>\n",
              "    <tr>\n",
              "      <th>4</th>\n",
              "      <td>Canada</td>\n",
              "      <td>5</td>\n",
              "      <td>2015</td>\n",
              "    </tr>\n",
              "    <tr>\n",
              "      <th>5</th>\n",
              "      <td>Finland</td>\n",
              "      <td>6</td>\n",
              "      <td>2015</td>\n",
              "    </tr>\n",
              "  </tbody>\n",
              "</table>\n",
              "</div>"
            ],
            "text/plain": [
              "   Country  Happiness Rank  Year\n",
              "2  Denmark               3  2015\n",
              "3   Norway               4  2015\n",
              "4   Canada               5  2015\n",
              "5  Finland               6  2015"
            ]
          },
          "metadata": {
            "tags": []
          },
          "execution_count": 30
        }
      ]
    },
    {
      "metadata": {
        "id": "_RYAI7xv8Uz0",
        "colab_type": "code",
        "outputId": "084ca4fd-4886-480c-e6bd-7e7e9cb1bdf5",
        "colab": {
          "base_uri": "https://localhost:8080/",
          "height": 143
        }
      },
      "cell_type": "code",
      "source": [
        "three_2016 = happiness2016[['Country','Happiness Rank','Year']].iloc[2:5]\n",
        "three_2016"
      ],
      "execution_count": 0,
      "outputs": [
        {
          "output_type": "execute_result",
          "data": {
            "text/html": [
              "<div>\n",
              "<style scoped>\n",
              "    .dataframe tbody tr th:only-of-type {\n",
              "        vertical-align: middle;\n",
              "    }\n",
              "\n",
              "    .dataframe tbody tr th {\n",
              "        vertical-align: top;\n",
              "    }\n",
              "\n",
              "    .dataframe thead th {\n",
              "        text-align: right;\n",
              "    }\n",
              "</style>\n",
              "<table border=\"1\" class=\"dataframe\">\n",
              "  <thead>\n",
              "    <tr style=\"text-align: right;\">\n",
              "      <th></th>\n",
              "      <th>Country</th>\n",
              "      <th>Happiness Rank</th>\n",
              "      <th>Year</th>\n",
              "    </tr>\n",
              "  </thead>\n",
              "  <tbody>\n",
              "    <tr>\n",
              "      <th>2</th>\n",
              "      <td>Iceland</td>\n",
              "      <td>3</td>\n",
              "      <td>2016</td>\n",
              "    </tr>\n",
              "    <tr>\n",
              "      <th>3</th>\n",
              "      <td>Norway</td>\n",
              "      <td>4</td>\n",
              "      <td>2016</td>\n",
              "    </tr>\n",
              "    <tr>\n",
              "      <th>4</th>\n",
              "      <td>Finland</td>\n",
              "      <td>5</td>\n",
              "      <td>2016</td>\n",
              "    </tr>\n",
              "  </tbody>\n",
              "</table>\n",
              "</div>"
            ],
            "text/plain": [
              "   Country  Happiness Rank  Year\n",
              "2  Iceland               3  2016\n",
              "3   Norway               4  2016\n",
              "4  Finland               5  2016"
            ]
          },
          "metadata": {
            "tags": []
          },
          "execution_count": 31
        }
      ]
    },
    {
      "metadata": {
        "id": "Qhood53K8nWF",
        "colab_type": "text"
      },
      "cell_type": "markdown",
      "source": [
        "We'll join **happiness2015** and **happiness2016** **on index** using an **inner join**, so that the result contains only the elements in the key that appear in BOTH dataframes. First, though, let's make a prediction. How many rows and columns do you think the result will have? Write down your answer before you continue reading.\n",
        "\n",
        "To join on the index, we'll set the **left_index** and **right_index** parameters to **True**:"
      ]
    },
    {
      "metadata": {
        "id": "F9AhwbdJ9Cnv",
        "colab_type": "code",
        "outputId": "a8e7715e-8895-4f0f-ff09-7396c483fdb8",
        "colab": {
          "base_uri": "https://localhost:8080/",
          "height": 143
        }
      },
      "cell_type": "code",
      "source": [
        "pd.merge(left=four_2015, right=three_2016, left_index=True, right_index=True, suffixes=('_2015','_2016'))"
      ],
      "execution_count": 0,
      "outputs": [
        {
          "output_type": "execute_result",
          "data": {
            "text/html": [
              "<div>\n",
              "<style scoped>\n",
              "    .dataframe tbody tr th:only-of-type {\n",
              "        vertical-align: middle;\n",
              "    }\n",
              "\n",
              "    .dataframe tbody tr th {\n",
              "        vertical-align: top;\n",
              "    }\n",
              "\n",
              "    .dataframe thead th {\n",
              "        text-align: right;\n",
              "    }\n",
              "</style>\n",
              "<table border=\"1\" class=\"dataframe\">\n",
              "  <thead>\n",
              "    <tr style=\"text-align: right;\">\n",
              "      <th></th>\n",
              "      <th>Country_2015</th>\n",
              "      <th>Happiness Rank_2015</th>\n",
              "      <th>Year_2015</th>\n",
              "      <th>Country_2016</th>\n",
              "      <th>Happiness Rank_2016</th>\n",
              "      <th>Year_2016</th>\n",
              "    </tr>\n",
              "  </thead>\n",
              "  <tbody>\n",
              "    <tr>\n",
              "      <th>2</th>\n",
              "      <td>Denmark</td>\n",
              "      <td>3</td>\n",
              "      <td>2015</td>\n",
              "      <td>Iceland</td>\n",
              "      <td>3</td>\n",
              "      <td>2016</td>\n",
              "    </tr>\n",
              "    <tr>\n",
              "      <th>3</th>\n",
              "      <td>Norway</td>\n",
              "      <td>4</td>\n",
              "      <td>2015</td>\n",
              "      <td>Norway</td>\n",
              "      <td>4</td>\n",
              "      <td>2016</td>\n",
              "    </tr>\n",
              "    <tr>\n",
              "      <th>4</th>\n",
              "      <td>Canada</td>\n",
              "      <td>5</td>\n",
              "      <td>2015</td>\n",
              "      <td>Finland</td>\n",
              "      <td>5</td>\n",
              "      <td>2016</td>\n",
              "    </tr>\n",
              "  </tbody>\n",
              "</table>\n",
              "</div>"
            ],
            "text/plain": [
              "  Country_2015  Happiness Rank_2015  Year_2015 Country_2016  \\\n",
              "2      Denmark                    3       2015      Iceland   \n",
              "3       Norway                    4       2015       Norway   \n",
              "4       Canada                    5       2015      Finland   \n",
              "\n",
              "   Happiness Rank_2016  Year_2016  \n",
              "2                    3       2016  \n",
              "3                    4       2016  \n",
              "4                    5       2016  "
            ]
          },
          "metadata": {
            "tags": []
          },
          "execution_count": 32
        }
      ]
    },
    {
      "metadata": {
        "id": "uEP9npo59HDQ",
        "colab_type": "text"
      },
      "cell_type": "markdown",
      "source": [
        "Was your prediction correct? Based on our experience with joining on columns, you may have predicted the output would have just two rows, since only \"Finland\" and \"Norway\" appear in both dataframes. When we join on index, however, our result will contain only common indexes.\n",
        "\n",
        "<left><img width=\"400\" src=\"https://drive.google.com/uc?export=view&id=1DPEg-1Y2fVWZLAh_axHVJN6bjPWBV2tS\"></left>\n",
        "\n",
        "Let's explore what happens when we join on index with a left join instead.\n",
        "\n",
        "**Exercise**\n",
        "\n",
        "<left><img width=\"100\" src=\"https://drive.google.com/uc?export=view&id=1E8tR7B9YYUXsU_rddJAyq0FrM0MSelxZ\"></left>\n",
        "\n",
        "\n",
        "We've already saved **four_2015** and **three_2016**. In this exercise, we'll use a **left join** to combine **four_2015** and **three_2016**.\n",
        "\n",
        "- Predict the number of rows and columns the resulting dataframe will have. Assign the number of rows to a variable called **rows** and the number of columns to a variable called **columns**.\n",
        "- To change the join type used in **merge_index** to a left join, set the **how** parameter equal to 'left'. Save the result to **merge_index_left**.\n",
        "- Update **rows** and **columns** so that each contains the correct number of rows and columns in **merge_index_left**."
      ]
    },
    {
      "metadata": {
        "id": "o4dgCqDx9S_J",
        "colab_type": "code",
        "colab": {}
      },
      "cell_type": "code",
      "source": [
        "import pandas as pd\n",
        "four_2015 = happiness2015[['Country','Happiness Rank','Year']].iloc[2:6]\n",
        "three_2016 = happiness2016[['Country','Happiness Rank','Year']].iloc[2:5]\n",
        "merge_index = pd.merge(left = four_2015,\n",
        "                       right = three_2016, \n",
        "                       left_index = True, \n",
        "                       right_index = True, \n",
        "                       suffixes = ('_2015','_2016'))\n",
        "# put your code here\n",
        "rows = 3\n",
        "columns = 6\n",
        "\n",
        "merge_index_left = pd.merge(left = four_2015,\n",
        "                       right = three_2016, \n",
        "                       left_index = True, \n",
        "                       right_index = True,\n",
        "                       how='left',\n",
        "                       suffixes = ('_2015','_2016'))\n",
        "\n"
      ],
      "execution_count": 0,
      "outputs": []
    },
    {
      "metadata": {
        "id": "l2xJY4PW7-N7",
        "colab_type": "code",
        "outputId": "84a6a14d-cac2-448e-d55d-a0ca793745f3",
        "colab": {
          "base_uri": "https://localhost:8080/",
          "height": 175
        }
      },
      "cell_type": "code",
      "source": [
        "merge_index_left"
      ],
      "execution_count": 0,
      "outputs": [
        {
          "output_type": "execute_result",
          "data": {
            "text/html": [
              "<div>\n",
              "<style scoped>\n",
              "    .dataframe tbody tr th:only-of-type {\n",
              "        vertical-align: middle;\n",
              "    }\n",
              "\n",
              "    .dataframe tbody tr th {\n",
              "        vertical-align: top;\n",
              "    }\n",
              "\n",
              "    .dataframe thead th {\n",
              "        text-align: right;\n",
              "    }\n",
              "</style>\n",
              "<table border=\"1\" class=\"dataframe\">\n",
              "  <thead>\n",
              "    <tr style=\"text-align: right;\">\n",
              "      <th></th>\n",
              "      <th>Country_2015</th>\n",
              "      <th>Happiness Rank_2015</th>\n",
              "      <th>Year_2015</th>\n",
              "      <th>Country_2016</th>\n",
              "      <th>Happiness Rank_2016</th>\n",
              "      <th>Year_2016</th>\n",
              "    </tr>\n",
              "  </thead>\n",
              "  <tbody>\n",
              "    <tr>\n",
              "      <th>2</th>\n",
              "      <td>Denmark</td>\n",
              "      <td>3</td>\n",
              "      <td>2015</td>\n",
              "      <td>Iceland</td>\n",
              "      <td>3.0</td>\n",
              "      <td>2016.0</td>\n",
              "    </tr>\n",
              "    <tr>\n",
              "      <th>3</th>\n",
              "      <td>Norway</td>\n",
              "      <td>4</td>\n",
              "      <td>2015</td>\n",
              "      <td>Norway</td>\n",
              "      <td>4.0</td>\n",
              "      <td>2016.0</td>\n",
              "    </tr>\n",
              "    <tr>\n",
              "      <th>4</th>\n",
              "      <td>Canada</td>\n",
              "      <td>5</td>\n",
              "      <td>2015</td>\n",
              "      <td>Finland</td>\n",
              "      <td>5.0</td>\n",
              "      <td>2016.0</td>\n",
              "    </tr>\n",
              "    <tr>\n",
              "      <th>5</th>\n",
              "      <td>Finland</td>\n",
              "      <td>6</td>\n",
              "      <td>2015</td>\n",
              "      <td>NaN</td>\n",
              "      <td>NaN</td>\n",
              "      <td>NaN</td>\n",
              "    </tr>\n",
              "  </tbody>\n",
              "</table>\n",
              "</div>"
            ],
            "text/plain": [
              "  Country_2015  Happiness Rank_2015  Year_2015 Country_2016  \\\n",
              "2      Denmark                    3       2015      Iceland   \n",
              "3       Norway                    4       2015       Norway   \n",
              "4       Canada                    5       2015      Finland   \n",
              "5      Finland                    6       2015          NaN   \n",
              "\n",
              "   Happiness Rank_2016  Year_2016  \n",
              "2                  3.0     2016.0  \n",
              "3                  4.0     2016.0  \n",
              "4                  5.0     2016.0  \n",
              "5                  NaN        NaN  "
            ]
          },
          "metadata": {
            "tags": []
          },
          "execution_count": 35
        }
      ]
    },
    {
      "metadata": {
        "id": "vVsKY4278A5-",
        "colab_type": "code",
        "colab": {}
      },
      "cell_type": "code",
      "source": [
        "rows = 4\n",
        "columns = 6"
      ],
      "execution_count": 0,
      "outputs": []
    },
    {
      "metadata": {
        "id": "ZR_rtCv8-3aM",
        "colab_type": "text"
      },
      "cell_type": "markdown",
      "source": [
        "### 1.9 Challenge: Combine Data and Create a Visualization"
      ]
    },
    {
      "metadata": {
        "id": "fQpNIZjd_RNK",
        "colab_type": "text"
      },
      "cell_type": "markdown",
      "source": [
        "Let's summarize what we learned in this mission:\n",
        "\n",
        "<left><img width=\"600\" src=\"https://drive.google.com/uc?export=view&id=1DTt7S1NSRCbIC1NMepRWsw-hyz0YjVRG\"></left>\n",
        "\n",
        "\n",
        "You may still be wondering about when to use each of the functions and methods we've learned. This table can help you understand the limitations of each, but that decision will mostly depend on the problem you're trying to solve.\n",
        "\n",
        "Let's review our original question next:\n",
        "\n",
        "- **Did world happiness increase, decrease, or stay about the same from 2015 to 2017**?\n",
        "\n",
        "To answer this question, we'll create a bar plot in which each bar represented the mean happiness score for one of the years. We completed a similar task in the last lesson when we calculated the mean happiness score for each region using the **df.pivot_table()** method:"
      ]
    },
    {
      "metadata": {
        "id": "Z1uGC5ZqBbHP",
        "colab_type": "code",
        "outputId": "b675d932-f719-4a97-8f4f-2f2758085a3f",
        "colab": {
          "base_uri": "https://localhost:8080/",
          "height": 394
        }
      },
      "cell_type": "code",
      "source": [
        "import numpy as np\n",
        "#Use a pivot table to aggregate the data according to Region.\n",
        "means = happiness2015.pivot_table('Happiness Score', 'Region', aggfunc=np.mean)\n",
        "means"
      ],
      "execution_count": 0,
      "outputs": [
        {
          "output_type": "execute_result",
          "data": {
            "text/html": [
              "<div>\n",
              "<style scoped>\n",
              "    .dataframe tbody tr th:only-of-type {\n",
              "        vertical-align: middle;\n",
              "    }\n",
              "\n",
              "    .dataframe tbody tr th {\n",
              "        vertical-align: top;\n",
              "    }\n",
              "\n",
              "    .dataframe thead th {\n",
              "        text-align: right;\n",
              "    }\n",
              "</style>\n",
              "<table border=\"1\" class=\"dataframe\">\n",
              "  <thead>\n",
              "    <tr style=\"text-align: right;\">\n",
              "      <th></th>\n",
              "      <th>Happiness Score</th>\n",
              "    </tr>\n",
              "    <tr>\n",
              "      <th>Region</th>\n",
              "      <th></th>\n",
              "    </tr>\n",
              "  </thead>\n",
              "  <tbody>\n",
              "    <tr>\n",
              "      <th>Australia and New Zealand</th>\n",
              "      <td>7.285000</td>\n",
              "    </tr>\n",
              "    <tr>\n",
              "      <th>Central and Eastern Europe</th>\n",
              "      <td>5.332931</td>\n",
              "    </tr>\n",
              "    <tr>\n",
              "      <th>Eastern Asia</th>\n",
              "      <td>5.626167</td>\n",
              "    </tr>\n",
              "    <tr>\n",
              "      <th>Latin America and Caribbean</th>\n",
              "      <td>6.144682</td>\n",
              "    </tr>\n",
              "    <tr>\n",
              "      <th>Middle East and Northern Africa</th>\n",
              "      <td>5.406900</td>\n",
              "    </tr>\n",
              "    <tr>\n",
              "      <th>North America</th>\n",
              "      <td>7.273000</td>\n",
              "    </tr>\n",
              "    <tr>\n",
              "      <th>Southeastern Asia</th>\n",
              "      <td>5.317444</td>\n",
              "    </tr>\n",
              "    <tr>\n",
              "      <th>Southern Asia</th>\n",
              "      <td>4.580857</td>\n",
              "    </tr>\n",
              "    <tr>\n",
              "      <th>Sub-Saharan Africa</th>\n",
              "      <td>4.202800</td>\n",
              "    </tr>\n",
              "    <tr>\n",
              "      <th>Western Europe</th>\n",
              "      <td>6.689619</td>\n",
              "    </tr>\n",
              "  </tbody>\n",
              "</table>\n",
              "</div>"
            ],
            "text/plain": [
              "                                 Happiness Score\n",
              "Region                                          \n",
              "Australia and New Zealand               7.285000\n",
              "Central and Eastern Europe              5.332931\n",
              "Eastern Asia                            5.626167\n",
              "Latin America and Caribbean             6.144682\n",
              "Middle East and Northern Africa         5.406900\n",
              "North America                           7.273000\n",
              "Southeastern Asia                       5.317444\n",
              "Southern Asia                           4.580857\n",
              "Sub-Saharan Africa                      4.202800\n",
              "Western Europe                          6.689619"
            ]
          },
          "metadata": {
            "tags": []
          },
          "execution_count": 37
        }
      ]
    },
    {
      "metadata": {
        "id": "-CFhYiCqC7fg",
        "colab_type": "text"
      },
      "cell_type": "markdown",
      "source": [
        "Then, we plotted the results with the **df.plot()** method."
      ]
    },
    {
      "metadata": {
        "id": "fCPmNn0CDDZt",
        "colab_type": "code",
        "outputId": "7b135bb0-0612-477b-a072-23ee54794018",
        "colab": {
          "base_uri": "https://localhost:8080/",
          "height": 380
        }
      },
      "cell_type": "code",
      "source": [
        "#Use the `df.plot()` method to plot the results.\n",
        "means.plot(kind='barh', \n",
        "           title='Mean Happiness Scores by Region', \n",
        "           xlim=(0,10))"
      ],
      "execution_count": 0,
      "outputs": [
        {
          "output_type": "execute_result",
          "data": {
            "text/plain": [
              "<matplotlib.axes._subplots.AxesSubplot at 0x7f865019a400>"
            ]
          },
          "metadata": {
            "tags": []
          },
          "execution_count": 38
        },
        {
          "output_type": "display_data",
          "data": {
            "image/png": "[encoded data removed]",
            "text/plain": [
              "<Figure size 576x396 with 1 Axes>"
            ]
          },
          "metadata": {
            "tags": []
          }
        }
      ]
    },
    {
      "metadata": {
        "id": "FrT0PQgYDJdJ",
        "colab_type": "text"
      },
      "cell_type": "markdown",
      "source": [
        "Let's repeat the same steps, but this time, we'll group the data by the **Year** column. First, let's rename the **Happiness.Score** column so it matches the colum name in **happiness2015** and **happiness2016**:"
      ]
    },
    {
      "metadata": {
        "id": "ZlXi6o1tDayW",
        "colab_type": "code",
        "colab": {}
      },
      "cell_type": "code",
      "source": [
        "happiness2017.rename(columns={'Happiness.Score': 'Happiness Score'}, inplace=True)"
      ],
      "execution_count": 0,
      "outputs": []
    },
    {
      "metadata": {
        "id": "_Slm1YUSDfAr",
        "colab_type": "text"
      },
      "cell_type": "markdown",
      "source": [
        "Next, we need to combine **happiness2015**, **happiness2016**, and **happiness2017**, so that we can group the result by the **Year** column.\n",
        "\n",
        "Let's use what we learned in this lesson to combine the dataframes.\n",
        "\n",
        "\n",
        "**Exercise**\n",
        "\n",
        "<left><img width=\"100\" src=\"https://drive.google.com/uc?export=view&id=1E8tR7B9YYUXsU_rddJAyq0FrM0MSelxZ\"></left>\n",
        "\n",
        "We've already created a **Year** column in **happiness2017** and renamed the **Happiness.Score** column to **Happiness Score**.\n",
        "\n",
        "- Use either the **pd.concat()** function or the **pd.merge()** function to combine **happiness2015**, **happiness2016**, and **happiness2017**. Assign the result to **combined**.\n",
        "  - Think about whether you need to combine the data horizontally or vertically in order to create a dataframe that can be grouped by year, and decide which function (pd.concat() or pd.merge()) you can use to combine the data.\n",
        "- Use the **df.pivot_table()** method to create a pivot table from the combined dataframe. Set **Year** as the index and **Happiness Score** as the values. Assign the result to **pivot_table_combined**.\n",
        "- Use the **df.plot()** method to create a bar chart of the results. Set the kind parameter to **barh**, the title to **'Mean Happiness Scores by Year'**, and the **xlim** parameter to **(0,10)**.\n",
        "- Try to answer the following question based on the results of this exercise: Did world happiness increase, decrease, or stay about the same from 2015 to 2017?"
      ]
    },
    {
      "metadata": {
        "id": "1D8Po8doDton",
        "colab_type": "code",
        "colab": {}
      },
      "cell_type": "code",
      "source": [
        "# put your code here\n",
        "combined = pd.concat([happiness2015, happiness2016, happiness2017])\n",
        "\n",
        "pivot_table_combined = combined.pivot_table(index='Year', values='Happiness Score')"
      ],
      "execution_count": 0,
      "outputs": []
    },
    {
      "metadata": {
        "id": "yG_MRB6O89U7",
        "colab_type": "code",
        "outputId": "421de985-85db-4f61-8b8f-8550e2a312b6",
        "colab": {
          "base_uri": "https://localhost:8080/",
          "height": 175
        }
      },
      "cell_type": "code",
      "source": [
        "pivot_table_combined"
      ],
      "execution_count": 0,
      "outputs": [
        {
          "output_type": "execute_result",
          "data": {
            "text/html": [
              "<div>\n",
              "<style scoped>\n",
              "    .dataframe tbody tr th:only-of-type {\n",
              "        vertical-align: middle;\n",
              "    }\n",
              "\n",
              "    .dataframe tbody tr th {\n",
              "        vertical-align: top;\n",
              "    }\n",
              "\n",
              "    .dataframe thead th {\n",
              "        text-align: right;\n",
              "    }\n",
              "</style>\n",
              "<table border=\"1\" class=\"dataframe\">\n",
              "  <thead>\n",
              "    <tr style=\"text-align: right;\">\n",
              "      <th></th>\n",
              "      <th>Happiness Score</th>\n",
              "    </tr>\n",
              "    <tr>\n",
              "      <th>Year</th>\n",
              "      <th></th>\n",
              "    </tr>\n",
              "  </thead>\n",
              "  <tbody>\n",
              "    <tr>\n",
              "      <th>2015</th>\n",
              "      <td>5.375734</td>\n",
              "    </tr>\n",
              "    <tr>\n",
              "      <th>2016</th>\n",
              "      <td>5.382185</td>\n",
              "    </tr>\n",
              "    <tr>\n",
              "      <th>2017</th>\n",
              "      <td>5.354019</td>\n",
              "    </tr>\n",
              "  </tbody>\n",
              "</table>\n",
              "</div>"
            ],
            "text/plain": [
              "      Happiness Score\n",
              "Year                 \n",
              "2015         5.375734\n",
              "2016         5.382185\n",
              "2017         5.354019"
            ]
          },
          "metadata": {
            "tags": []
          },
          "execution_count": 41
        }
      ]
    },
    {
      "metadata": {
        "id": "Gd0vmwqg8_Ix",
        "colab_type": "code",
        "outputId": "dd50f971-b791-48ec-acf6-68e39e42c096",
        "colab": {
          "base_uri": "https://localhost:8080/",
          "height": 380
        }
      },
      "cell_type": "code",
      "source": [
        "pivot_table_combined.plot(kind='barh', \n",
        "                          title = \"Mean Happiness Scores by Year\",\n",
        "                         xlim=(0,10))"
      ],
      "execution_count": 0,
      "outputs": [
        {
          "output_type": "execute_result",
          "data": {
            "text/plain": [
              "<matplotlib.axes._subplots.AxesSubplot at 0x7f86500be6d8>"
            ]
          },
          "metadata": {
            "tags": []
          },
          "execution_count": 42
        },
        {
          "output_type": "display_data",
          "data": {
            "image/png": "[encoded data removed]",
            "text/plain": [
              "<Figure size 576x396 with 1 Axes>"
            ]
          },
          "metadata": {
            "tags": []
          }
        }
      ]
    },
    {
      "metadata": {
        "id": "E6lc0JiI9oOs",
        "colab_type": "code",
        "outputId": "904d705d-8c5f-41ac-dabe-a4eefe6ecb03",
        "colab": {
          "base_uri": "https://localhost:8080/",
          "height": 1992
        }
      },
      "cell_type": "code",
      "source": [
        "combined[['Country', 'Happiness Score', 'Year']]"
      ],
      "execution_count": 0,
      "outputs": [
        {
          "output_type": "execute_result",
          "data": {
            "text/html": [
              "<div>\n",
              "<style scoped>\n",
              "    .dataframe tbody tr th:only-of-type {\n",
              "        vertical-align: middle;\n",
              "    }\n",
              "\n",
              "    .dataframe tbody tr th {\n",
              "        vertical-align: top;\n",
              "    }\n",
              "\n",
              "    .dataframe thead th {\n",
              "        text-align: right;\n",
              "    }\n",
              "</style>\n",
              "<table border=\"1\" class=\"dataframe\">\n",
              "  <thead>\n",
              "    <tr style=\"text-align: right;\">\n",
              "      <th></th>\n",
              "      <th>Country</th>\n",
              "      <th>Happiness Score</th>\n",
              "      <th>Year</th>\n",
              "    </tr>\n",
              "  </thead>\n",
              "  <tbody>\n",
              "    <tr>\n",
              "      <th>0</th>\n",
              "      <td>Switzerland</td>\n",
              "      <td>7.587</td>\n",
              "      <td>2015</td>\n",
              "    </tr>\n",
              "    <tr>\n",
              "      <th>1</th>\n",
              "      <td>Iceland</td>\n",
              "      <td>7.561</td>\n",
              "      <td>2015</td>\n",
              "    </tr>\n",
              "    <tr>\n",
              "      <th>2</th>\n",
              "      <td>Denmark</td>\n",
              "      <td>7.527</td>\n",
              "      <td>2015</td>\n",
              "    </tr>\n",
              "    <tr>\n",
              "      <th>3</th>\n",
              "      <td>Norway</td>\n",
              "      <td>7.522</td>\n",
              "      <td>2015</td>\n",
              "    </tr>\n",
              "    <tr>\n",
              "      <th>4</th>\n",
              "      <td>Canada</td>\n",
              "      <td>7.427</td>\n",
              "      <td>2015</td>\n",
              "    </tr>\n",
              "    <tr>\n",
              "      <th>5</th>\n",
              "      <td>Finland</td>\n",
              "      <td>7.406</td>\n",
              "      <td>2015</td>\n",
              "    </tr>\n",
              "    <tr>\n",
              "      <th>6</th>\n",
              "      <td>Netherlands</td>\n",
              "      <td>7.378</td>\n",
              "      <td>2015</td>\n",
              "    </tr>\n",
              "    <tr>\n",
              "      <th>7</th>\n",
              "      <td>Sweden</td>\n",
              "      <td>7.364</td>\n",
              "      <td>2015</td>\n",
              "    </tr>\n",
              "    <tr>\n",
              "      <th>8</th>\n",
              "      <td>New Zealand</td>\n",
              "      <td>7.286</td>\n",
              "      <td>2015</td>\n",
              "    </tr>\n",
              "    <tr>\n",
              "      <th>9</th>\n",
              "      <td>Australia</td>\n",
              "      <td>7.284</td>\n",
              "      <td>2015</td>\n",
              "    </tr>\n",
              "    <tr>\n",
              "      <th>10</th>\n",
              "      <td>Israel</td>\n",
              "      <td>7.278</td>\n",
              "      <td>2015</td>\n",
              "    </tr>\n",
              "    <tr>\n",
              "      <th>11</th>\n",
              "      <td>Costa Rica</td>\n",
              "      <td>7.226</td>\n",
              "      <td>2015</td>\n",
              "    </tr>\n",
              "    <tr>\n",
              "      <th>12</th>\n",
              "      <td>Austria</td>\n",
              "      <td>7.200</td>\n",
              "      <td>2015</td>\n",
              "    </tr>\n",
              "    <tr>\n",
              "      <th>13</th>\n",
              "      <td>Mexico</td>\n",
              "      <td>7.187</td>\n",
              "      <td>2015</td>\n",
              "    </tr>\n",
              "    <tr>\n",
              "      <th>14</th>\n",
              "      <td>United States</td>\n",
              "      <td>7.119</td>\n",
              "      <td>2015</td>\n",
              "    </tr>\n",
              "    <tr>\n",
              "      <th>15</th>\n",
              "      <td>Brazil</td>\n",
              "      <td>6.983</td>\n",
              "      <td>2015</td>\n",
              "    </tr>\n",
              "    <tr>\n",
              "      <th>16</th>\n",
              "      <td>Luxembourg</td>\n",
              "      <td>6.946</td>\n",
              "      <td>2015</td>\n",
              "    </tr>\n",
              "    <tr>\n",
              "      <th>17</th>\n",
              "      <td>Ireland</td>\n",
              "      <td>6.940</td>\n",
              "      <td>2015</td>\n",
              "    </tr>\n",
              "    <tr>\n",
              "      <th>18</th>\n",
              "      <td>Belgium</td>\n",
              "      <td>6.937</td>\n",
              "      <td>2015</td>\n",
              "    </tr>\n",
              "    <tr>\n",
              "      <th>19</th>\n",
              "      <td>United Arab Emirates</td>\n",
              "      <td>6.901</td>\n",
              "      <td>2015</td>\n",
              "    </tr>\n",
              "    <tr>\n",
              "      <th>20</th>\n",
              "      <td>United Kingdom</td>\n",
              "      <td>6.867</td>\n",
              "      <td>2015</td>\n",
              "    </tr>\n",
              "    <tr>\n",
              "      <th>21</th>\n",
              "      <td>Oman</td>\n",
              "      <td>6.853</td>\n",
              "      <td>2015</td>\n",
              "    </tr>\n",
              "    <tr>\n",
              "      <th>22</th>\n",
              "      <td>Venezuela</td>\n",
              "      <td>6.810</td>\n",
              "      <td>2015</td>\n",
              "    </tr>\n",
              "    <tr>\n",
              "      <th>23</th>\n",
              "      <td>Singapore</td>\n",
              "      <td>6.798</td>\n",
              "      <td>2015</td>\n",
              "    </tr>\n",
              "    <tr>\n",
              "      <th>24</th>\n",
              "      <td>Panama</td>\n",
              "      <td>6.786</td>\n",
              "      <td>2015</td>\n",
              "    </tr>\n",
              "    <tr>\n",
              "      <th>25</th>\n",
              "      <td>Germany</td>\n",
              "      <td>6.750</td>\n",
              "      <td>2015</td>\n",
              "    </tr>\n",
              "    <tr>\n",
              "      <th>26</th>\n",
              "      <td>Chile</td>\n",
              "      <td>6.670</td>\n",
              "      <td>2015</td>\n",
              "    </tr>\n",
              "    <tr>\n",
              "      <th>27</th>\n",
              "      <td>Qatar</td>\n",
              "      <td>6.611</td>\n",
              "      <td>2015</td>\n",
              "    </tr>\n",
              "    <tr>\n",
              "      <th>28</th>\n",
              "      <td>France</td>\n",
              "      <td>6.575</td>\n",
              "      <td>2015</td>\n",
              "    </tr>\n",
              "    <tr>\n",
              "      <th>29</th>\n",
              "      <td>Argentina</td>\n",
              "      <td>6.574</td>\n",
              "      <td>2015</td>\n",
              "    </tr>\n",
              "    <tr>\n",
              "      <th>...</th>\n",
              "      <td>...</td>\n",
              "      <td>...</td>\n",
              "      <td>...</td>\n",
              "    </tr>\n",
              "    <tr>\n",
              "      <th>125</th>\n",
              "      <td>Congo (Kinshasa)</td>\n",
              "      <td>4.280</td>\n",
              "      <td>2017</td>\n",
              "    </tr>\n",
              "    <tr>\n",
              "      <th>126</th>\n",
              "      <td>Mali</td>\n",
              "      <td>4.190</td>\n",
              "      <td>2017</td>\n",
              "    </tr>\n",
              "    <tr>\n",
              "      <th>127</th>\n",
              "      <td>Ivory Coast</td>\n",
              "      <td>4.180</td>\n",
              "      <td>2017</td>\n",
              "    </tr>\n",
              "    <tr>\n",
              "      <th>128</th>\n",
              "      <td>Cambodia</td>\n",
              "      <td>4.168</td>\n",
              "      <td>2017</td>\n",
              "    </tr>\n",
              "    <tr>\n",
              "      <th>129</th>\n",
              "      <td>Sudan</td>\n",
              "      <td>4.139</td>\n",
              "      <td>2017</td>\n",
              "    </tr>\n",
              "    <tr>\n",
              "      <th>130</th>\n",
              "      <td>Ghana</td>\n",
              "      <td>4.120</td>\n",
              "      <td>2017</td>\n",
              "    </tr>\n",
              "    <tr>\n",
              "      <th>131</th>\n",
              "      <td>Ukraine</td>\n",
              "      <td>4.096</td>\n",
              "      <td>2017</td>\n",
              "    </tr>\n",
              "    <tr>\n",
              "      <th>132</th>\n",
              "      <td>Uganda</td>\n",
              "      <td>4.081</td>\n",
              "      <td>2017</td>\n",
              "    </tr>\n",
              "    <tr>\n",
              "      <th>133</th>\n",
              "      <td>Burkina Faso</td>\n",
              "      <td>4.032</td>\n",
              "      <td>2017</td>\n",
              "    </tr>\n",
              "    <tr>\n",
              "      <th>134</th>\n",
              "      <td>Niger</td>\n",
              "      <td>4.028</td>\n",
              "      <td>2017</td>\n",
              "    </tr>\n",
              "    <tr>\n",
              "      <th>135</th>\n",
              "      <td>Malawi</td>\n",
              "      <td>3.970</td>\n",
              "      <td>2017</td>\n",
              "    </tr>\n",
              "    <tr>\n",
              "      <th>136</th>\n",
              "      <td>Chad</td>\n",
              "      <td>3.936</td>\n",
              "      <td>2017</td>\n",
              "    </tr>\n",
              "    <tr>\n",
              "      <th>137</th>\n",
              "      <td>Zimbabwe</td>\n",
              "      <td>3.875</td>\n",
              "      <td>2017</td>\n",
              "    </tr>\n",
              "    <tr>\n",
              "      <th>138</th>\n",
              "      <td>Lesotho</td>\n",
              "      <td>3.808</td>\n",
              "      <td>2017</td>\n",
              "    </tr>\n",
              "    <tr>\n",
              "      <th>139</th>\n",
              "      <td>Angola</td>\n",
              "      <td>3.795</td>\n",
              "      <td>2017</td>\n",
              "    </tr>\n",
              "    <tr>\n",
              "      <th>140</th>\n",
              "      <td>Afghanistan</td>\n",
              "      <td>3.794</td>\n",
              "      <td>2017</td>\n",
              "    </tr>\n",
              "    <tr>\n",
              "      <th>141</th>\n",
              "      <td>Botswana</td>\n",
              "      <td>3.766</td>\n",
              "      <td>2017</td>\n",
              "    </tr>\n",
              "    <tr>\n",
              "      <th>142</th>\n",
              "      <td>Benin</td>\n",
              "      <td>3.657</td>\n",
              "      <td>2017</td>\n",
              "    </tr>\n",
              "    <tr>\n",
              "      <th>143</th>\n",
              "      <td>Madagascar</td>\n",
              "      <td>3.644</td>\n",
              "      <td>2017</td>\n",
              "    </tr>\n",
              "    <tr>\n",
              "      <th>144</th>\n",
              "      <td>Haiti</td>\n",
              "      <td>3.603</td>\n",
              "      <td>2017</td>\n",
              "    </tr>\n",
              "    <tr>\n",
              "      <th>145</th>\n",
              "      <td>Yemen</td>\n",
              "      <td>3.593</td>\n",
              "      <td>2017</td>\n",
              "    </tr>\n",
              "    <tr>\n",
              "      <th>146</th>\n",
              "      <td>South Sudan</td>\n",
              "      <td>3.591</td>\n",
              "      <td>2017</td>\n",
              "    </tr>\n",
              "    <tr>\n",
              "      <th>147</th>\n",
              "      <td>Liberia</td>\n",
              "      <td>3.533</td>\n",
              "      <td>2017</td>\n",
              "    </tr>\n",
              "    <tr>\n",
              "      <th>148</th>\n",
              "      <td>Guinea</td>\n",
              "      <td>3.507</td>\n",
              "      <td>2017</td>\n",
              "    </tr>\n",
              "    <tr>\n",
              "      <th>149</th>\n",
              "      <td>Togo</td>\n",
              "      <td>3.495</td>\n",
              "      <td>2017</td>\n",
              "    </tr>\n",
              "    <tr>\n",
              "      <th>150</th>\n",
              "      <td>Rwanda</td>\n",
              "      <td>3.471</td>\n",
              "      <td>2017</td>\n",
              "    </tr>\n",
              "    <tr>\n",
              "      <th>151</th>\n",
              "      <td>Syria</td>\n",
              "      <td>3.462</td>\n",
              "      <td>2017</td>\n",
              "    </tr>\n",
              "    <tr>\n",
              "      <th>152</th>\n",
              "      <td>Tanzania</td>\n",
              "      <td>3.349</td>\n",
              "      <td>2017</td>\n",
              "    </tr>\n",
              "    <tr>\n",
              "      <th>153</th>\n",
              "      <td>Burundi</td>\n",
              "      <td>2.905</td>\n",
              "      <td>2017</td>\n",
              "    </tr>\n",
              "    <tr>\n",
              "      <th>154</th>\n",
              "      <td>Central African Republic</td>\n",
              "      <td>2.693</td>\n",
              "      <td>2017</td>\n",
              "    </tr>\n",
              "  </tbody>\n",
              "</table>\n",
              "<p>470 rows × 3 columns</p>\n",
              "</div>"
            ],
            "text/plain": [
              "                      Country  Happiness Score  Year\n",
              "0                 Switzerland            7.587  2015\n",
              "1                     Iceland            7.561  2015\n",
              "2                     Denmark            7.527  2015\n",
              "3                      Norway            7.522  2015\n",
              "4                      Canada            7.427  2015\n",
              "5                     Finland            7.406  2015\n",
              "6                 Netherlands            7.378  2015\n",
              "7                      Sweden            7.364  2015\n",
              "8                 New Zealand            7.286  2015\n",
              "9                   Australia            7.284  2015\n",
              "10                     Israel            7.278  2015\n",
              "11                 Costa Rica            7.226  2015\n",
              "12                    Austria            7.200  2015\n",
              "13                     Mexico            7.187  2015\n",
              "14              United States            7.119  2015\n",
              "15                     Brazil            6.983  2015\n",
              "16                 Luxembourg            6.946  2015\n",
              "17                    Ireland            6.940  2015\n",
              "18                    Belgium            6.937  2015\n",
              "19       United Arab Emirates            6.901  2015\n",
              "20             United Kingdom            6.867  2015\n",
              "21                       Oman            6.853  2015\n",
              "22                  Venezuela            6.810  2015\n",
              "23                  Singapore            6.798  2015\n",
              "24                     Panama            6.786  2015\n",
              "25                    Germany            6.750  2015\n",
              "26                      Chile            6.670  2015\n",
              "27                      Qatar            6.611  2015\n",
              "28                     France            6.575  2015\n",
              "29                  Argentina            6.574  2015\n",
              "..                        ...              ...   ...\n",
              "125          Congo (Kinshasa)            4.280  2017\n",
              "126                      Mali            4.190  2017\n",
              "127               Ivory Coast            4.180  2017\n",
              "128                  Cambodia            4.168  2017\n",
              "129                     Sudan            4.139  2017\n",
              "130                     Ghana            4.120  2017\n",
              "131                   Ukraine            4.096  2017\n",
              "132                    Uganda            4.081  2017\n",
              "133              Burkina Faso            4.032  2017\n",
              "134                     Niger            4.028  2017\n",
              "135                    Malawi            3.970  2017\n",
              "136                      Chad            3.936  2017\n",
              "137                  Zimbabwe            3.875  2017\n",
              "138                   Lesotho            3.808  2017\n",
              "139                    Angola            3.795  2017\n",
              "140               Afghanistan            3.794  2017\n",
              "141                  Botswana            3.766  2017\n",
              "142                     Benin            3.657  2017\n",
              "143                Madagascar            3.644  2017\n",
              "144                     Haiti            3.603  2017\n",
              "145                     Yemen            3.593  2017\n",
              "146               South Sudan            3.591  2017\n",
              "147                   Liberia            3.533  2017\n",
              "148                    Guinea            3.507  2017\n",
              "149                      Togo            3.495  2017\n",
              "150                    Rwanda            3.471  2017\n",
              "151                     Syria            3.462  2017\n",
              "152                  Tanzania            3.349  2017\n",
              "153                   Burundi            2.905  2017\n",
              "154  Central African Republic            2.693  2017\n",
              "\n",
              "[470 rows x 3 columns]"
            ]
          },
          "metadata": {
            "tags": []
          },
          "execution_count": 45
        }
      ]
    },
    {
      "metadata": {
        "id": "xXQyJPJbHDqf",
        "colab_type": "text"
      },
      "cell_type": "markdown",
      "source": [
        "### 1.10 Next steps"
      ]
    },
    {
      "metadata": {
        "id": "MB540yVaHYLg",
        "colab_type": "text"
      },
      "cell_type": "markdown",
      "source": [
        "In the last exercise, we confirmed that the mean world happiness score stayed approximately the same from 2015 to 2017.\n",
        "\n",
        "In this lesson, we learned how to combine data using the **pd.concat()** and **pd.merge()** functions. In your travels with pandas, you may happen upon the **df.append()** and **df.join()** methods, which are basically shortcuts for the **concat()** and **merge()** functions. We didn't cover them in this lesson, as the differences are few, but if you want to learn more about them, check out this [documentation](https://pandas.pydata.org/pandas-docs/stable/merging.html).\n",
        "\n",
        "As we saw in the last section, in order to perform more complex analysis, we have to be able to **clean** and **manipulate** data, whether it be adding data to a dataframe or renaming a column. In the next lessons, we'll continue building on what we've learned so far as we learn ways to **transform** and **reshape** our data."
      ]
    }
  ]
}