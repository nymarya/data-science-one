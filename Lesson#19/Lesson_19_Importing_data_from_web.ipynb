{
  "nbformat": 4,
  "nbformat_minor": 0,
  "metadata": {
    "colab": {
      "name": "Lesson_19_Importing_data_from_web.ipynb",
      "version": "0.3.2",
      "provenance": [],
      "collapsed_sections": [],
      "toc_visible": true
    },
    "language_info": {
      "codemirror_mode": {
        "name": "ipython",
        "version": 3
      },
      "file_extension": ".py",
      "mimetype": "text/x-python",
      "name": "python",
      "nbconvert_exporter": "python",
      "pygments_lexer": "ipython3",
      "version": "3.6.0"
    },
    "kernelspec": {
      "display_name": "Python 3",
      "language": "python",
      "name": "python3"
    }
  },
  "cells": [
    {
      "cell_type": "markdown",
      "metadata": {
        "id": "U8QRFzo8bI7S",
        "colab_type": "text"
      },
      "source": [
        "# 1 -  Introduction\n"
      ]
    },
    {
      "cell_type": "markdown",
      "metadata": {
        "id": "WS1XFpjAbdya",
        "colab_type": "text"
      },
      "source": [
        "\n",
        "A lot of data aren't accessible through data sets or APIs. They may exist on the Internet as Web pages, though. One way to access the data without waiting for the provider to create an API is to use a technique called **Web scraping**.\n",
        "\n",
        "Web scraping allows us to load a Web page into Python and extract the information we want. We can then work with the data using standard analysis tools like **pandas** and **numpy**.\n",
        "\n",
        "Before we can do Web scraping, we need to understand the structure of the Web page we're working with, then find a way to extract parts of that structure in a sensible way.\n",
        "\n",
        "We'll use the **requests** library heavily as we learn about Web scraping. This library enables us to download a Web page. We'll also use the **beautifulsoup** library to extract the relevant parts of the Web page.\n"
      ]
    },
    {
      "cell_type": "markdown",
      "metadata": {
        "id": "FkuydH2obhA6",
        "colab_type": "text"
      },
      "source": [
        "\n",
        "#2 - Web Page Structure\n"
      ]
    },
    {
      "cell_type": "markdown",
      "metadata": {
        "id": "PebbA92CcAQO",
        "colab_type": "text"
      },
      "source": [
        "\n",
        "\n",
        "Web pages use HyperText Markup Language (HTML). HTML isn't a programming language like Python. It's a markup language with its own syntax and rules. When a Web browser like Chrome or Firefox downloads a Web page, it reads the HTML to determine how to render it and display it to you.\n",
        "\n",
        "Here's the HTML for a very simple Web page:\n",
        "\n",
        "```html\n",
        "<!DOCTYPE html>\n",
        "<html>\n",
        "    <head>\n",
        "        <title>A simple example page</title>\n",
        "    </head>\n",
        "    <body>\n",
        "        <p>Here is some simple content for this page.</p>\n",
        "    </body>\n",
        "</html>\n",
        "```\n",
        "\n",
        "You can see what this page looks like on our [GitHub site](https://nbviewer.jupyter.org/github/ivanovitchm/datascience_one_2019_1/blob/master/Lesson%2319/html/simple.html).\n",
        "\n",
        "HTML consists of tags. We open a tag like this:\n",
        "\n",
        "```html\n",
        "<p>\n",
        "```\n",
        "\n",
        "We close a tag like this:\n",
        "\n",
        "\n",
        "```html\n",
        "<\\p>\n",
        "```\n",
        "\n",
        "Anything in between the opening and closing of a tag is the content of that tag. We can nest tags to create complex formatting rules. Here's an example:\n",
        "\n",
        "```html\n",
        "<p><b>Hello, this is a bold paragraph<\\b><\\p>\n",
        "```\n",
        "\n",
        "\n",
        "The **b** tag bolds the content inside it, and the **p** tag creates a new paragraph. The HTML above will display as a bold paragraph because the **b** tag is inside the **p** tag. In other words, the **b** tag is nested within the **p** tag.\n",
        "\n",
        "HTML documents contain a few major sections. The **head** section contains information that's useful to the Web browser that's rendering the page; the user doesn't see it. The **body** section contains the bulk of the content the user interacts with on the page.\n",
        "\n",
        "Different tags have different purposes. For example, the title tag tells the Web browser what page **title** to display at the top of your tab. The **p** tag indicates that the content inside it is a single paragraph.\n",
        "\n",
        "We won't cover tags comprehensively here, but please read the [Mozilla Developer Network's (MDN)](https://developer.mozilla.org/en-US/Learn/Getting_started_with_the_web/HTML_basics) article on HTML basics if you need more of a grounding on this topic. Check out [MDN's guide to the HTML element](https://developer.mozilla.org/en-US/docs/Web/HTML/Element) for a list of all possible HTML tags. In order to do Web scraping effectively, you'll need a solid understanding of the various tags and how they work.\n",
        "\n",
        "\n",
        "**HyperText Transfer Protocol (HTTP)**\n",
        "\n",
        "- Foundation of data communication for the web\n",
        "- HTTP is the protocol that is used by web servers and browsers to communicate. \n",
        "- HTTP is based on a request and a response.\n",
        "\n",
        "<img width=\"400\" alt=\"creating a repo\" src=\"https://drive.google.com/uc?export=view&id=0BxhVm1REqwr0SW5VVkYyTzhxYmM\">\n",
        "\n",
        "\n",
        "```python\n",
        "from urllib.request import urlopen, Request\n",
        "url = 'https://www.wikipedia.org'\n",
        "request = Request(url)\n",
        "response = urlopen(request)\n",
        "content = response.read()\n",
        "response.close()\n",
        "```\n",
        "\n",
        "\n",
        "**Exercise**\n",
        "\n",
        "<img width=\"100\" src=\"https://drive.google.com/uc?export=view&id=1E8tR7B9YYUXsU_rddJAyq0FrM0MSelxZ\">\n",
        "\n",
        "\n",
        "\n",
        "1. Make a GET request to this [Link](https://nbviewer.jupyter.org/github/ivanovitchm/datascience_one_2019_1/blob/master/Lesson%2319/html/simple.html), and assign the result to the variable **response**.\n",
        "2. Use **response.read()**  to get the content of the response, and assign it to **content**.\n",
        "  - Note how the content is the same as the HTML above.\n"
      ]
    },
    {
      "cell_type": "code",
      "metadata": {
        "id": "luzH0_B4g1e7",
        "colab_type": "code",
        "colab": {}
      },
      "source": [
        "# put your code here\n",
        "from urllib.request import urlopen, Request\n",
        "url = 'https://nbviewer.jupyter.org/github/ivanovitchm/datascience_one_2019_1/blob/master/Lesson%2319/html/simple.html'\n",
        "request = Request(url)\n",
        "response = urlopen(request)\n",
        "content = response.read()\n",
        "response.close()"
      ],
      "execution_count": 0,
      "outputs": []
    },
    {
      "cell_type": "code",
      "metadata": {
        "id": "yN0JvMesFTBS",
        "colab_type": "code",
        "outputId": "e96c7438-4bcd-41b4-a6c3-a6b10ad6c56b",
        "colab": {
          "base_uri": "https://localhost:8080/",
          "height": 55
        }
      },
      "source": [
        "content"
      ],
      "execution_count": 0,
      "outputs": [
        {
          "output_type": "execute_result",
          "data": {
            "text/plain": [
              "b'<!DOCTYPE html>\\n<html>\\n    <head>\\n        <title>A simple example page</title>\\n    </head>\\n    <body>\\n        <p>Here is some simple content for this page.</p>\\n    </body>\\n</html>'"
            ]
          },
          "metadata": {
            "tags": []
          },
          "execution_count": 2
        }
      ]
    },
    {
      "cell_type": "markdown",
      "metadata": {
        "id": "AeLcEENrbI7U",
        "colab_type": "text"
      },
      "source": [
        "#3 - Requests: HTTP for Humans\n"
      ]
    },
    {
      "cell_type": "markdown",
      "metadata": {
        "id": "qjSCZkCii_rq",
        "colab_type": "text"
      },
      "source": [
        "\n",
        "\n",
        "[**Requests**](http://docs.python-requests.org/en/master/) allows you to send organic, grass-fed HTTP/1.1 requests, without the need for manual labor. There's no need to manually add query strings to your URLs, or to form-encode your POST data. Keep-alive and HTTP connection pooling are 100% automatic.\n",
        "\n",
        "Requests is one of the most downloaded Python packages of all time, pulling in over 400,000 downloads each day. Join the party!"
      ]
    },
    {
      "cell_type": "code",
      "metadata": {
        "id": "gdMifmrdbI7V",
        "colab_type": "code",
        "colab": {}
      },
      "source": [
        "# import package\n",
        "import requests\n",
        "\n",
        "# specify the url\n",
        "url = 'https://www.wikipedia.org'\n",
        "\n",
        "# packages the request, send the request and catch the response\n",
        "response = requests.get(url)\n",
        "\n",
        "# extract the text\n",
        "text = response.text"
      ],
      "execution_count": 0,
      "outputs": []
    },
    {
      "cell_type": "markdown",
      "metadata": {
        "id": "mOl0rQ_7bI7Y",
        "colab_type": "text"
      },
      "source": [
        "\n",
        "**Exercise**\n",
        "\n",
        "<img width=\"100\" src=\"https://drive.google.com/uc?export=view&id=1E8tR7B9YYUXsU_rddJAyq0FrM0MSelxZ\">\n",
        "\n",
        "\n",
        "1. Make a GET request to this [Link](https://nbviewer.jupyter.org/github/ivanovitchm/datascience_one_2019_1/blob/master/Lesson%2319/html/simple.html), and assign the result to the variable **response**.\n",
        "2. Use **response.content**  to get the content of the response, and assign it to **content**.\n",
        "3. Note how the content is the same as the HTML above.\n"
      ]
    },
    {
      "cell_type": "code",
      "metadata": {
        "id": "oKs_yA7aj_Tg",
        "colab_type": "code",
        "colab": {}
      },
      "source": [
        "# put your code here\n",
        "url = 'https://nbviewer.jupyter.org/github/ivanovitchm/datascience_one_2019_1/blob/master/Lesson%2319/html/simple.html'\n",
        "response = requests.get(url)\n",
        "\n",
        "# extract the text\n",
        "content = response.text"
      ],
      "execution_count": 0,
      "outputs": []
    },
    {
      "cell_type": "code",
      "metadata": {
        "id": "KcAD2NXBHAAC",
        "colab_type": "code",
        "outputId": "8f5a83ee-cc5c-4e55-8b60-e54413cfb27e",
        "colab": {
          "base_uri": "https://localhost:8080/",
          "height": 55
        }
      },
      "source": [
        "content"
      ],
      "execution_count": 0,
      "outputs": [
        {
          "output_type": "execute_result",
          "data": {
            "text/plain": [
              "'<!DOCTYPE html>\\n<html>\\n    <head>\\n        <title>A simple example page</title>\\n    </head>\\n    <body>\\n        <p>Here is some simple content for this page.</p>\\n    </body>\\n</html>'"
            ]
          },
          "metadata": {
            "tags": []
          },
          "execution_count": 5
        }
      ]
    },
    {
      "cell_type": "markdown",
      "metadata": {
        "id": "u3UjMPTFbI7Z",
        "colab_type": "text"
      },
      "source": [
        "#4 -  Understanding status code and headers\n"
      ]
    },
    {
      "cell_type": "markdown",
      "metadata": {
        "id": "17KB0nqXk-kr",
        "colab_type": "text"
      },
      "source": [
        "\n",
        "\n",
        "```python\n",
        "response.status_code\n",
        "response.headers\n",
        "```\n",
        "\n",
        "- **200** - Everything went okay, and the server returned a result (if any).\n",
        "- **301** - The server is redirecting you to a different endpoint. This can happen when a company switches domain names, or an endpoint's name has changed.\n",
        "- **401** - The server thinks you're not authenticated. This happens when you don't send the right credentials to access an API (we'll talk about this in a later mission).\n",
        "- **400** - The server thinks you made a bad request. This can happen when you don't send the information the API requires to process your request, among other things.\n",
        "- **403** - The resource you're trying to access is forbidden; you don't have the right permissions to see it.\n",
        "- **404** - The server didn't find the resource you tried to access.\n",
        "\n"
      ]
    },
    {
      "cell_type": "markdown",
      "metadata": {
        "id": "51SbZ0LcbI7a",
        "colab_type": "text"
      },
      "source": [
        "**Exercise**\n",
        "\n",
        "<img width=\"100\" src=\"https://drive.google.com/uc?export=view&id=1E8tR7B9YYUXsU_rddJAyq0FrM0MSelxZ\">\n",
        "\n",
        "\n",
        "1. Make a GET request to https://portal.imd.ufrn.br/portal, and assign the result to the variable **response**.\n",
        "2. Investigate the return of properties **status_code** and **headers**. What kind of information is possible to extract to?\n"
      ]
    },
    {
      "cell_type": "code",
      "metadata": {
        "id": "Cof5kXPHlggs",
        "colab_type": "code",
        "outputId": "c78e5ce8-a290-4045-a781-6b206248d9aa",
        "colab": {
          "base_uri": "https://localhost:8080/",
          "height": 35
        }
      },
      "source": [
        "# put your code here\n",
        "response = requests.get(' https://portal.imd.ufrn.br/portal')\n",
        "\n",
        "response.status_code"
      ],
      "execution_count": 0,
      "outputs": [
        {
          "output_type": "execute_result",
          "data": {
            "text/plain": [
              "200"
            ]
          },
          "metadata": {
            "tags": []
          },
          "execution_count": 6
        }
      ]
    },
    {
      "cell_type": "markdown",
      "metadata": {
        "id": "aiukXUYzbI7a",
        "colab_type": "text"
      },
      "source": [
        "#5 - Retrieving Elements from a Page\n"
      ]
    },
    {
      "cell_type": "markdown",
      "metadata": {
        "id": "aupBN2iHm8_o",
        "colab_type": "text"
      },
      "source": [
        "\n",
        "\n",
        "Downloading the page is the easy part. Let's say that we want to get the text in the first paragraph. Now we need to parse the page and extract the information we want.\n",
        "\n",
        "We'll use the [BeautifulSoup](https://www.crummy.com/software/BeautifulSoup/) library to parse the Web page with Python. This library allows us to extract tags from an HTML document.\n",
        "\n",
        "We can think of HTML documents as \"trees,\" and the nested tags as \"branches\" (similar to a family tree). BeautifulSoup works the same way.\n",
        "\n",
        "If we look at this page, for example, the root of the \"tree\" is the **html** tag:\n",
        "\n",
        "```html\n",
        "<!DOCTYPE html>\n",
        "<html>\n",
        "    <head>\n",
        "        <title>A simple example page</title>\n",
        "    </head>\n",
        "    <body>\n",
        "        <p>Here is some simple content for this page.</p>\n",
        "    </body>\n",
        "</html>\n",
        "```\n",
        "\n",
        "The **html** tag contains two \"branches\", **head** and **body**.**head** contains one \"branch\", title.body contains one branch, **p**. Drilling down through these multiple branches is one way to parse a Web page.\n",
        "\n",
        "To extract the text inside the **p** tag, we would first need to get the **body** element, then the **p** element, and then finally the text inside the **p** element."
      ]
    },
    {
      "cell_type": "code",
      "metadata": {
        "id": "_NN7c6-9bI7b",
        "colab_type": "code",
        "colab": {}
      },
      "source": [
        "# import package\n",
        "import requests\n",
        "from bs4 import BeautifulSoup\n",
        "\n",
        "# specify the url\n",
        "url = 'https://nbviewer.jupyter.org/github/ivanovitchm/\\\n",
        "datascience_one_2019_1/blob/master/Lesson%2319/html/simple.html'\n",
        "\n",
        "# packages the request, send the request and catch the response\n",
        "response = requests.get(url)\n",
        "\n",
        "# extract the content\n",
        "content = response.content"
      ],
      "execution_count": 0,
      "outputs": []
    },
    {
      "cell_type": "code",
      "metadata": {
        "id": "f-IcTeOCbI7d",
        "colab_type": "code",
        "outputId": "06fa3d25-ae55-49d2-f28b-c622c312dd19",
        "colab": {
          "base_uri": "https://localhost:8080/",
          "height": 35
        }
      },
      "source": [
        "# Initialize the parser, and pass in the content we grabbed earlier.\n",
        "parser = BeautifulSoup(content, 'html.parser')\n",
        "\n",
        "# Get the body tag from the document.\n",
        "# Since we passed in the top level of the document to the parser, \n",
        "# we need to pick a branch off of the root.\n",
        "# With BeautifulSoup, we can access branches by using tag types as attributes.\n",
        "body = parser.body\n",
        "\n",
        "# Get the p tag from the body.\n",
        "p = body.p\n",
        "\n",
        "# Print the text inside the p tag.\n",
        "print(p.text)"
      ],
      "execution_count": 0,
      "outputs": [
        {
          "output_type": "stream",
          "text": [
            "Here is some simple content for this page.\n"
          ],
          "name": "stdout"
        }
      ]
    },
    {
      "cell_type": "markdown",
      "metadata": {
        "id": "MpGWQOsNbI7i",
        "colab_type": "text"
      },
      "source": [
        "**Exercise**\n",
        "\n",
        "<img width=\"100\" src=\"https://drive.google.com/uc?export=view&id=1E8tR7B9YYUXsU_rddJAyq0FrM0MSelxZ\">\n",
        "\n",
        "\n",
        "1. Get the text inside the **title** tag, and assign the result to **title_text**.\n"
      ]
    },
    {
      "cell_type": "code",
      "metadata": {
        "id": "9XIC221iDeJF",
        "colab_type": "code",
        "outputId": "c8026b88-4420-40a2-b299-49e3cf3816de",
        "colab": {
          "base_uri": "https://localhost:8080/",
          "height": 35
        }
      },
      "source": [
        "# put your code here\n",
        "title = parser.head.title\n",
        "\n",
        "title.text"
      ],
      "execution_count": 0,
      "outputs": [
        {
          "output_type": "execute_result",
          "data": {
            "text/plain": [
              "'A simple example page'"
            ]
          },
          "metadata": {
            "tags": []
          },
          "execution_count": 11
        }
      ]
    },
    {
      "cell_type": "markdown",
      "metadata": {
        "id": "7BBv22MMbI7j",
        "colab_type": "text"
      },
      "source": [
        "# 6 - Using Find All\n"
      ]
    },
    {
      "cell_type": "markdown",
      "metadata": {
        "id": "F85Aaz5EF6jr",
        "colab_type": "text"
      },
      "source": [
        "\n",
        "\n",
        "While it's nice to use the tag type as a property, it's not always a very robust way to parse a document. It's usually better to be more explicit by using the <span style=\"background-color: #F9EBEA; color:##C0392B\">find_all</span> method. This method will find all occurrences of a tag in the current element, and return a list.\n",
        "\n",
        "If we only want the first occurrence of an item, we'll need to index the list to get it. Aside from this difference, it behaves the same way as passing in the tag type as an attribute."
      ]
    },
    {
      "cell_type": "code",
      "metadata": {
        "id": "zz4A3Zz_bI7j",
        "colab_type": "code",
        "outputId": "ff039328-1ce0-489f-b939-ce32b04c5f46",
        "colab": {
          "base_uri": "https://localhost:8080/",
          "height": 35
        }
      },
      "source": [
        "parser = BeautifulSoup(content, 'html.parser')\n",
        "\n",
        "# Get a list of all occurrences of the body tag in the element.\n",
        "body = parser.find_all(\"body\")\n",
        "\n",
        "# Get the paragraph tag.\n",
        "p = body[0].find_all(\"p\")\n",
        "\n",
        "# Get the text.\n",
        "print(p[0].text)"
      ],
      "execution_count": 0,
      "outputs": [
        {
          "output_type": "stream",
          "text": [
            "Here is some simple content for this page.\n"
          ],
          "name": "stdout"
        }
      ]
    },
    {
      "cell_type": "markdown",
      "metadata": {
        "id": "udR1wjHobI7n",
        "colab_type": "text"
      },
      "source": [
        "**Exercise**\n",
        "\n",
        "<img width=\"100\" src=\"https://drive.google.com/uc?export=view&id=1E8tR7B9YYUXsU_rddJAyq0FrM0MSelxZ\">\n",
        "\n",
        "1. Apply the **find_all** method to get the text inside the title tag, and assign the result to **title_text**.\n",
        "2. Print all links from https://portal.imd.ufrn.br/portal/\n",
        "```python\n",
        "# Get a list of all links.\n",
        "a_tags = parser.find_all(\"a\")\n",
        "# Get the text\n",
        "for link in a_tags:\n",
        "     print(link.get('href'))\n",
        "```\n"
      ]
    },
    {
      "cell_type": "code",
      "metadata": {
        "id": "mOzxj4HMGjdp",
        "colab_type": "code",
        "outputId": "69134bb9-27d7-480a-80bc-8dc2f6e1932e",
        "colab": {
          "base_uri": "https://localhost:8080/",
          "height": 35
        }
      },
      "source": [
        "# put your code here\n",
        "title_text = parser.find_all('title')\n",
        "\n",
        "title_text"
      ],
      "execution_count": 0,
      "outputs": [
        {
          "output_type": "execute_result",
          "data": {
            "text/plain": [
              "[<title>A simple example page</title>]"
            ]
          },
          "metadata": {
            "tags": []
          },
          "execution_count": 15
        }
      ]
    },
    {
      "cell_type": "code",
      "metadata": {
        "id": "CFXelj4tH33o",
        "colab_type": "code",
        "colab": {}
      },
      "source": [
        "# Get a list of all links.\n",
        "a_tags = parser.find_all(\"a\")\n",
        "# Get the text\n",
        "for link in a_tags:\n",
        "  print(link)"
      ],
      "execution_count": 0,
      "outputs": []
    },
    {
      "cell_type": "markdown",
      "metadata": {
        "id": "-CE2u7nUbI7n",
        "colab_type": "text"
      },
      "source": [
        "# 7 - Element IDs\n"
      ]
    },
    {
      "cell_type": "markdown",
      "metadata": {
        "id": "kSHpxCuTRN-K",
        "colab_type": "text"
      },
      "source": [
        "\n",
        "\n",
        "HTML allows elements to have **IDs**. Because they are unique, we can use an **ID** to refer to a specific element.\n",
        "\n",
        "Here's an example page:\n",
        "\n",
        "```html\n",
        "<html>\n",
        "    <head>\n",
        "        <title>A simple example page</title>\n",
        "    </head>\n",
        "    <body>\n",
        "        <div>\n",
        "            <p id=\"first\">\n",
        "                First paragraph.\n",
        "            </p>\n",
        "        </div>\n",
        "        <p id=\"second\">\n",
        "            <b>\n",
        "                Second paragraph.\n",
        "            </b>\n",
        "        </p>\n",
        "    </body>\n",
        "</html>\n",
        "```\n",
        "\n",
        "You can see the page [here](https://nbviewer.jupyter.org/github/ivanovitchm/datascience_one_2019_1/blob/master/Lesson%2319/html/simple_ids.html).\n",
        "\n",
        "HTML uses the **div** tag to create a divider that splits the page into logical units. We can think of a divider as a \"box\" that contains content. For example, different dividers hold a Web page's footer, sidebar, and horizontal menu.\n",
        "\n",
        "There are two paragraphs on the page; the first is nested inside a **div**. Luckily, the paragraphs have **IDs**. This means we can access them easily, even through they're nested.\n",
        "\n",
        "Let's use the **find_all** method to access those paragraphs, and pass in the additional **id** attribute."
      ]
    },
    {
      "cell_type": "code",
      "metadata": {
        "id": "tu2RBUTYbI7o",
        "colab_type": "code",
        "outputId": "1f3825c1-b166-4c47-b39b-aa2df958596b",
        "colab": {
          "base_uri": "https://localhost:8080/",
          "height": 71
        }
      },
      "source": [
        "# Get the page content and set up a new parser.\n",
        "url = 'https://nbviewer.jupyter.org/github/ivanovitchm/\\\n",
        "datascience_one_2019_1/blob/master/Lesson%2319/html/simple_ids.html'\n",
        "\n",
        "response = requests.get(url)\n",
        "\n",
        "# extract the content\n",
        "content = response.content\n",
        "\n",
        "# Initialize the parser\n",
        "parser = BeautifulSoup(content, 'html.parser')\n",
        "\n",
        "# Pass in the ID attribute to only get the element with that specific ID.\n",
        "first_paragraph = parser.find_all(\"p\", id=\"first\")[0]\n",
        "print(first_paragraph.text)"
      ],
      "execution_count": 0,
      "outputs": [
        {
          "output_type": "stream",
          "text": [
            "\n",
            "                First paragraph.\n",
            "            \n"
          ],
          "name": "stdout"
        }
      ]
    },
    {
      "cell_type": "markdown",
      "metadata": {
        "id": "qxALM2mybI7r",
        "colab_type": "text"
      },
      "source": [
        "**Exercise**\n",
        "\n",
        "<img width=\"100\" src=\"https://drive.google.com/uc?export=view&id=1E8tR7B9YYUXsU_rddJAyq0FrM0MSelxZ\">\n",
        "\n",
        "\n",
        "1. Get the text of the second paragraph (what's inside the second **p** tag), and assign the result to **second_paragraph_text**.\n"
      ]
    },
    {
      "cell_type": "code",
      "metadata": {
        "id": "OoCq0GLVT1KQ",
        "colab_type": "code",
        "outputId": "3c80f7b4-940e-4b07-82b6-6d0546c5ae6b",
        "colab": {
          "base_uri": "https://localhost:8080/",
          "height": 106
        }
      },
      "source": [
        "# put your code here\n",
        "second_paragraph = parser.find_all(\"p\", id=\"second\")[0]\n",
        "print(second_paragraph.text)"
      ],
      "execution_count": 0,
      "outputs": [
        {
          "output_type": "stream",
          "text": [
            "\n",
            "\n",
            "                Second paragraph.\n",
            "            \n",
            "\n"
          ],
          "name": "stdout"
        }
      ]
    },
    {
      "cell_type": "markdown",
      "metadata": {
        "id": "moPTTl9qbI7r",
        "colab_type": "text"
      },
      "source": [
        "# 8 - Element Classes\n"
      ]
    },
    {
      "cell_type": "markdown",
      "metadata": {
        "id": "0TiqOvmKUIYe",
        "colab_type": "text"
      },
      "source": [
        "\n",
        "\n",
        "In HTML, elements can also have classes. Classes aren't globally unique. In other words, many different elements belong to the same class, usually because they share a common purpose or characteristic.\n",
        "\n",
        "For example, you may want to create three dividers to display three of your photographs. You can create a common look and feel for these dividers, such as a border and caption style.\n",
        "\n",
        "This is where classes come into play. You could create a class called \"gallery,\" define a style for it once using CSS (which we'll talk about soon), and then apply that class to all of the dividers you'll use to display photos. One element can even have multiple classes.\n",
        "\n",
        "```html\n",
        "<html>\n",
        "    <head>\n",
        "        <title>A simple example page</title>\n",
        "    </head>\n",
        "    <body>\n",
        "        <div>\n",
        "            <p class=\"inner-text\">\n",
        "                First paragraph.\n",
        "            </p>\n",
        "            <p class=\"inner-text\">\n",
        "                Second paragraph.\n",
        "            </p>\n",
        "        </div>\n",
        "        <p class=\"outer-text\">\n",
        "            <b>\n",
        "                First outer paragraph.\n",
        "            </b>\n",
        "        </p>\n",
        "        <p class=\"outer-text\">\n",
        "            <b>\n",
        "                Second outer paragraph.\n",
        "            </b>\n",
        "        </p>\n",
        "    </body>\n",
        "</html>\n",
        "```\n",
        "\n",
        "Take a look at [this page](https://nbviewer.jupyter.org/github/ivanovitchm/datascience_one_2019_1/blob/master/Lesson%2319/html/simple_classes.html) to see how we've used classes to style paragraphs.\n",
        "\n",
        "\n",
        "\n",
        "We can use **find\\_all** to select elements by class. We'll just need to pass in the **class\\_** parameter."
      ]
    },
    {
      "cell_type": "code",
      "metadata": {
        "id": "hYezl9ppbI7s",
        "colab_type": "code",
        "outputId": "05d55d20-6435-420d-a62f-267dec7d8f14",
        "colab": {
          "base_uri": "https://localhost:8080/",
          "height": 71
        }
      },
      "source": [
        "# Get the website that contains classes.\n",
        "url ='https://nbviewer.jupyter.org/github/ivanovitchm/\\\n",
        "datascience_one_2019_1/blob/master/\\\n",
        "Lesson%2319/html/simple_classes.html'\n",
        "\n",
        "response = requests.get(url)\n",
        "content = response.content\n",
        "parser = BeautifulSoup(content, 'html.parser')\n",
        "\n",
        "# Get the first inner paragraph.\n",
        "# Find all the paragraph tags with the class inner-text.\n",
        "# Then, take the first element in that list.\n",
        "first_inner_paragraph = parser.find_all(\"p\", class_=\"inner-text\")[0]\n",
        "print(first_inner_paragraph.text)"
      ],
      "execution_count": 0,
      "outputs": [
        {
          "output_type": "stream",
          "text": [
            "\n",
            "                First paragraph.\n",
            "            \n"
          ],
          "name": "stdout"
        }
      ]
    },
    {
      "cell_type": "markdown",
      "metadata": {
        "id": "DFL9nuMEbI7v",
        "colab_type": "text"
      },
      "source": [
        "**Exercise**\n",
        "\n",
        "<img width=\"100\" src=\"https://drive.google.com/uc?export=view&id=1E8tR7B9YYUXsU_rddJAyq0FrM0MSelxZ\">\n",
        "\n",
        "\n",
        "1. Get the text in the second inner paragraph, and assign the result to **second_inner_paragraph_text**.\n",
        "2. Get the text of the first outer paragraph, and assign the result to **first_outer_paragraph_text**."
      ]
    },
    {
      "cell_type": "code",
      "metadata": {
        "id": "K8fBrQVHVR7u",
        "colab_type": "code",
        "outputId": "cc75d86b-6f60-4d7e-8cc8-58d1ea7ac2e1",
        "colab": {
          "base_uri": "https://localhost:8080/",
          "height": 160
        }
      },
      "source": [
        "# put your code here\n",
        "second_inner_paragraph = parser.find_all(\"p\", class_=\"inner-text\")[1]\n",
        "print(second_inner_paragraph.text)\n",
        "\n",
        "first_outer_paragraph = parser.find_all(\"p\", class_=\"outer-text\")[0]\n",
        "print(first_outer_paragraph.text)\n"
      ],
      "execution_count": 0,
      "outputs": [
        {
          "output_type": "stream",
          "text": [
            "\n",
            "                Second paragraph.\n",
            "            \n",
            "\n",
            "\n",
            "                First outer paragraph.\n",
            "            \n",
            "\n"
          ],
          "name": "stdout"
        }
      ]
    },
    {
      "cell_type": "markdown",
      "metadata": {
        "id": "irXIkTHObI7w",
        "colab_type": "text"
      },
      "source": [
        "# 9 - CSS Selectors\n"
      ]
    },
    {
      "cell_type": "markdown",
      "metadata": {
        "id": "Kq8I6hrhVl0q",
        "colab_type": "text"
      },
      "source": [
        "\n",
        "\n",
        "**Cascading Style Sheets**, or **CSS**, is a language for adding styles to HTML pages. You may have noticed that our simple HTML pages from the past few screens didn't have any styling; all of the paragraphs had black text and the same font size. Most Web pages use CSS to display a lot more than basic black text.\n",
        "\n",
        "CSS uses **selectors** to add styles to the elements and classes of elements you specify. You can use selectors to add background colors, text colors, borders, padding, and many other style choices to the elements on HTML pages.\n",
        "\n",
        "An in-depth lesson on CSS is outside the scope of this mission. If you'd like to learn more about it on your own, [MDN's guide](https://developer.mozilla.org/en-US/docs/Web/Guide/CSS/Getting_started) is a great place to start.\n",
        "\n",
        "What we do need to know is how CSS selectors work.\n",
        "\n",
        "This CSS will make all of the text inside all paragraphs red:\n",
        "\n",
        "```css\n",
        "p{\n",
        "    color: red\n",
        " }\n",
        "```\n",
        "\n",
        "You can see what this style looks like on our [GitHub site](https://nbviewer.jupyter.org/github/ivanovitchm/datascience_one_2019_1/blob/master/Lesson%2319/html/simple_red.html).\n",
        "\n",
        "This CSS will change the text color to red for any paragraphs that have the class **inner-text**. We select classes with the period or dot symbol (**.**):\n",
        "\n",
        "```css\n",
        "p.inner-text{\n",
        "    color: red\n",
        " }\n",
        "```\n",
        "\n",
        "You can see what the result looks like [here](https://nbviewer.jupyter.org/github/ivanovitchm/datascience_one_2019_1/blob/master/Lesson%2319/html/simple_inner_red.html).\n",
        "\n",
        "This CSS will change the text color to red for any paragraphs that have the ID **first**. We select IDs with the pound or hash symbol (**#**):\n",
        "\n",
        "```css\n",
        "p#first{\n",
        "    color: red\n",
        " }\n",
        "```\n",
        "\n",
        "\n",
        "Take a look at the results on our [GitHub site](https://nbviewer.jupyter.org/github/ivanovitchm/datascience_one_2019_1/blob/master/Lesson%2319/html/simple_ids_red.html).\n",
        "\n",
        "You can also style IDs and classes without using any specific tags. For example, this CSS will make the element with the ID **first** red (not just paragraphs):\n",
        "\n",
        "```css\n",
        "#first{\n",
        "    color: red\n",
        " }\n",
        "```\n",
        "\n",
        "This CSS will make any element with the class **inner-text** red:\n",
        "\n",
        "```css\n",
        ".inner-text{\n",
        "    color: red\n",
        " }\n",
        "```\n",
        "\n",
        "In the examples above, we used CSS selectors to select one or more elements, then apply styles to only those elements. CSS selectors are very powerful and flexible. Perhaps not surprisingly, we also use CSS selectors to select elements when we do Web scraping."
      ]
    },
    {
      "cell_type": "markdown",
      "metadata": {
        "id": "jrDDOHjwbI7w",
        "colab_type": "text"
      },
      "source": [
        "#10 -  Using CSS Selectors\n",
        "\n"
      ]
    },
    {
      "cell_type": "markdown",
      "metadata": {
        "id": "y2of7RtpYBIj",
        "colab_type": "text"
      },
      "source": [
        "\n",
        "\n",
        "We can use BeautifulSoup's **.select** method to work with CSS selectors. Here's the HTML we'll be working with on this screen:\n",
        "\n",
        "```css\n",
        "<html>\n",
        "    <head>\n",
        "        <title>A simple example page</title>\n",
        "    </head>\n",
        "    <body>\n",
        "        <div>\n",
        "            <p class=\"inner-text first-item\" id=\"first\">\n",
        "                First paragraph.\n",
        "            </p>\n",
        "            <p class=\"inner-text\">\n",
        "                Second paragraph.\n",
        "            </p>\n",
        "        </div>\n",
        "        <p class=\"outer-text first-item\" id=\"second\">\n",
        "            <b>\n",
        "                First outer paragraph.\n",
        "            </b>\n",
        "        </p>\n",
        "        <p class=\"outer-text\">\n",
        "            <b>\n",
        "                Second outer paragraph.\n",
        "            </b>\n",
        "        </p>\n",
        "    </body>\n",
        "</html>\n",
        "```\n",
        "\n",
        "You may have noticed that the same element can have both an ID and a class. We can also assign multiple classes to a single element; we just separate the classes with a space.\n",
        "\n",
        "Take a look at the [Web page](https://nbviewer.jupyter.org/github/ivanovitchm/datascience_one_2019_1/blob/master/Lesson%2319/html/ids_and_classes.html) that corresponds to the HTML above.\n"
      ]
    },
    {
      "cell_type": "code",
      "metadata": {
        "id": "oY-BfvanbI7x",
        "colab_type": "code",
        "outputId": "83028fe0-fc93-4170-da24-507fac213bcf",
        "colab": {
          "base_uri": "https://localhost:8080/",
          "height": 71
        }
      },
      "source": [
        "# Get the website that contains classes and IDs.\n",
        "url = 'https://nbviewer.jupyter.org/github/ivanovitchm/\\\n",
        "datascience_one_2019_1/blob/master/\\\n",
        "Lesson%2319/html/ids_and_classes.html'\n",
        "\n",
        "response = requests.get(url)\n",
        "content = response.content\n",
        "parser = BeautifulSoup(content, 'html.parser')\n",
        "\n",
        "# Select all of the elements that have the first-item class.\n",
        "first_items = parser.select(\".first-item\")\n",
        "\n",
        "# Print the text \n",
        "print(first_items[0].text)"
      ],
      "execution_count": 0,
      "outputs": [
        {
          "output_type": "stream",
          "text": [
            "\n",
            "                First paragraph.\n",
            "            \n"
          ],
          "name": "stdout"
        }
      ]
    },
    {
      "cell_type": "markdown",
      "metadata": {
        "id": "cFRlBGPTbI75",
        "colab_type": "text"
      },
      "source": [
        "**Exercise**\n",
        "\n",
        "<img width=\"100\" src=\"https://drive.google.com/uc?export=view&id=1E8tR7B9YYUXsU_rddJAyq0FrM0MSelxZ\">\n",
        "\n",
        "\n",
        "\n",
        "1. Select all of the elements that have the class **outer-text**.\n",
        "    - Assign the text of the first paragraph that has the class **outer-text** to **first_outer_text**.\n",
        "2. Select all of the elements that have the ID **second**.\n",
        "    - Assign the text of the first paragraph that has the ID **second** to the variable **second_text**.\n",
        "\n"
      ]
    },
    {
      "cell_type": "code",
      "metadata": {
        "id": "y53SDCS3Y6K5",
        "colab_type": "code",
        "outputId": "39f95b16-92bd-4c2c-db52-66b285923b96",
        "colab": {
          "base_uri": "https://localhost:8080/",
          "height": 106
        }
      },
      "source": [
        "# put your code here\n",
        "first_outer_text = parser.select(\".outer-text\")[0].text\n",
        "\n",
        "# Print the text \n",
        "print(first_outer_text)"
      ],
      "execution_count": 0,
      "outputs": [
        {
          "output_type": "stream",
          "text": [
            "\n",
            "\n",
            "                First outer paragraph.\n",
            "            \n",
            "\n"
          ],
          "name": "stdout"
        }
      ]
    },
    {
      "cell_type": "code",
      "metadata": {
        "id": "8ZgF11xWJ5n9",
        "colab_type": "code",
        "outputId": "3fe8eb0c-c147-42da-da23-44c0921057b7",
        "colab": {
          "base_uri": "https://localhost:8080/",
          "height": 106
        }
      },
      "source": [
        "second_text = parser.select('#second')[0].text\n",
        "\n",
        "print(second_text)"
      ],
      "execution_count": 0,
      "outputs": [
        {
          "output_type": "stream",
          "text": [
            "\n",
            "\n",
            "                First outer paragraph.\n",
            "            \n",
            "\n"
          ],
          "name": "stdout"
        }
      ]
    },
    {
      "cell_type": "markdown",
      "metadata": {
        "id": "2mJHOrdbbI77",
        "colab_type": "text"
      },
      "source": [
        "# 11 - Nesting CSS Selectors\n"
      ]
    },
    {
      "cell_type": "markdown",
      "metadata": {
        "id": "kPILw95waU5N",
        "colab_type": "text"
      },
      "source": [
        "\n",
        "\n",
        "We can nest CSS selectors similar to the way HTML nests tags. For example, we could use selectors to find all of the paragraphs inside the **body** tag. Nesting is a very powerful technique that enables us to use CSS to do complex Web scraping tasks.\n",
        "\n",
        "This selector will target any paragraph inside a **div** tag:\n",
        "\n",
        "```\n",
        "div p\n",
        "```\n",
        "\n",
        "This selector will target any item inside a div tag that has the class **first-item**:\n",
        "\n",
        "```\n",
        "div .first-item\n",
        "```\n",
        "\n",
        "This one is even more specific. It selects any item that's inside a **div** tag inside a **body** tag, but only if it also has the ID **first**:\n",
        "\n",
        "```\n",
        "body div #first\n",
        "```\n",
        "\n",
        "This selector zeroes in on any items with the ID **first** that are inside any items with the class **first-item**:\n",
        "\n",
        "```\n",
        ".first-item #first\n",
        "```\n",
        "\n",
        "As you can see, we can nest CSS selectors in infinite ways. This allows us to extract data from websites with complex layouts. You can test selectors by using the **.select** method as you write them. Because it's easy to write a selector that doesn't work the way you expect, we highly recommend doing this."
      ]
    },
    {
      "cell_type": "markdown",
      "metadata": {
        "id": "KBMrsk_7bI79",
        "colab_type": "text"
      },
      "source": [
        "# 12 - Using Nested CSS Selectors\n"
      ]
    },
    {
      "cell_type": "markdown",
      "metadata": {
        "id": "oVkjk9JBbYE3",
        "colab_type": "text"
      },
      "source": [
        "\n",
        "\n",
        "Now that we know about nested CSS selectors, let's try them out. We can use them with the same **.select** method we used for our CSS selectors.\n",
        "\n",
        "We'll be practicing on this HTML:\n",
        "\n",
        "```html\n",
        "<!DOCTYPE html>\n",
        "<html>\n",
        "    <head lang=\"en\">\n",
        "        <meta charset=\"UTF-8\">\n",
        "        <title>2014 Superbowl Team Stats</title>\n",
        "    </head>\n",
        "    <body>\n",
        "        <table class=\"stats_table nav_table\" id=\"team_stats\">\n",
        "            <tbody>\n",
        "                <tr id=\"teams\">\n",
        "                    <th></th>\n",
        "                    <th>SEA</th>\n",
        "                    <th>NWE</th>\n",
        "                </tr>\n",
        "                <tr id=\"first-downs\">\n",
        "                    <td>First downs</td>\n",
        "                    <td>20</td>\n",
        "                    <td>25</td>\n",
        "                </tr>\n",
        "                <tr id=\"total-yards\">\n",
        "                    <td>Total yards</td>\n",
        "                    <td>396</td>\n",
        "                    <td>377</td>\n",
        "                </tr>\n",
        "                <tr id=\"turnovers\">\n",
        "                    <td>Turnovers</td>\n",
        "                    <td>1</td>\n",
        "                    <td>2</td>\n",
        "                </tr>\n",
        "                <tr id=\"penalties\">\n",
        "                    <td>Penalties-yards</td>\n",
        "                    <td>7-70</td>\n",
        "                    <td>5-36</td>\n",
        "                </tr>\n",
        "                <tr id=\"total-plays\">\n",
        "                    <td>Total Plays</td>\n",
        "                    <td>53</td>\n",
        "                    <td>72</td>\n",
        "                </tr>\n",
        "                <tr id=\"time-of-possession\">\n",
        "                    <td>Time of Possession</td>\n",
        "                    <td>26:14</td>\n",
        "                    <td>33:46</td>\n",
        "                </tr>\n",
        "            </tbody>\n",
        "        </table>\n",
        "    </body>\n",
        "</html>\n",
        "```\n",
        "\n",
        "It's an excerpt from a box score of the [2014 Super Bowl](https://en.wikipedia.org/wiki/Super_Bowl_XLVIII), a [National Football League (NFL)](https://en.wikipedia.org/wiki/National_Football_League) game in which the New England Patriots played the Seattle Seahawks. The box score contains information on how many yards each team gained, how many turnovers each team had, and so on. Check out the [Web page](https://nbviewer.jupyter.org/github/ivanovitchm/datascience_one_2019_1/blob/master/Lesson%2319/html/2014_super_bowl.html) this HTML renders.\n",
        "\n",
        "The page renders as a table with column and row names. The first column is for the Seattle Seahawks, and the second column is for the New England Patriots. Each row represents a different statistic.\n"
      ]
    },
    {
      "cell_type": "code",
      "metadata": {
        "scrolled": true,
        "id": "6Opki776bI7_",
        "colab_type": "code",
        "outputId": "3c398374-004f-4d44-84d1-80befc58d971",
        "colab": {
          "base_uri": "https://localhost:8080/",
          "height": 35
        }
      },
      "source": [
        "# Get the Superbowl box score data.\n",
        "url = 'https://nbviewer.jupyter.org/github/ivanovitchm/\\\n",
        "datascience_one_2019_1/blob/master/\\\n",
        "Lesson%2319/html/2014_super_bowl.html'\n",
        "\n",
        "response = requests.get(url)\n",
        "content = response.content\n",
        "parser = BeautifulSoup(content, 'html.parser')\n",
        "\n",
        "# Find the number of turnovers the Seahawks committed.\n",
        "turnovers = parser.select(\"#turnovers\")[0]\n",
        "seahawks_turnovers = turnovers.select(\"td\")[1]\n",
        "seahawks_turnovers_count = seahawks_turnovers.text\n",
        "print(seahawks_turnovers_count)"
      ],
      "execution_count": 0,
      "outputs": [
        {
          "output_type": "stream",
          "text": [
            "1\n"
          ],
          "name": "stdout"
        }
      ]
    },
    {
      "cell_type": "markdown",
      "metadata": {
        "id": "higFyyGMbI8C",
        "colab_type": "text"
      },
      "source": [
        "**Exercise**\n",
        "\n",
        "<img width=\"100\" src=\"https://drive.google.com/uc?export=view&id=1E8tR7B9YYUXsU_rddJAyq0FrM0MSelxZ\">\n",
        "\n",
        "\n",
        "\n",
        "\n",
        "1. Find the Total Plays for the New England Patriots, and assign the result to **patriots_total_plays_count**.\n",
        "2. Find the Total Yards for the Seahawks, and assign the result to **seahawks_total_yards_count**.\n"
      ]
    },
    {
      "cell_type": "code",
      "metadata": {
        "id": "O64VfXdncohc",
        "colab_type": "code",
        "outputId": "1fa920e4-69a0-4fa7-c9ff-32128c3cf635",
        "colab": {
          "base_uri": "https://localhost:8080/",
          "height": 35
        }
      },
      "source": [
        "# put your code here\n",
        "total_plays = parser.select(\"#total-plays\")[0]\n",
        "patriots_total_plays_count = total_plays.select(\"td\")[2].text\n",
        "\n",
        "patriots_total_plays_count"
      ],
      "execution_count": 0,
      "outputs": [
        {
          "output_type": "execute_result",
          "data": {
            "text/plain": [
              "'72'"
            ]
          },
          "metadata": {
            "tags": []
          },
          "execution_count": 31
        }
      ]
    },
    {
      "cell_type": "code",
      "metadata": {
        "id": "gA6-K3TsLG3_",
        "colab_type": "code",
        "outputId": "07418762-0e0b-44a1-f38d-13af88bbf2a7",
        "colab": {
          "base_uri": "https://localhost:8080/",
          "height": 35
        }
      },
      "source": [
        "total_yards = parser.select(\"#total-yards\")[0]\n",
        "seahawks_total_yards_count = total_yards.select(\"td\")[1].text\n",
        "\n",
        "seahawks_total_yards_count"
      ],
      "execution_count": 0,
      "outputs": [
        {
          "output_type": "execute_result",
          "data": {
            "text/plain": [
              "'396'"
            ]
          },
          "metadata": {
            "tags": []
          },
          "execution_count": 33
        }
      ]
    }
  ]
}