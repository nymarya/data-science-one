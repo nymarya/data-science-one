{
  "nbformat": 4,
  "nbformat_minor": 0,
  "metadata": {
    "colab": {
      "name": "Lesson_05 Data Cleaning Basics.ipynb",
      "version": "0.3.2",
      "provenance": [],
      "collapsed_sections": [],
      "toc_visible": true
    },
    "kernelspec": {
      "display_name": "Python 3",
      "language": "python",
      "name": "python3"
    }
  },
  "cells": [
    {
      "metadata": {
        "colab_type": "text",
        "id": "UsjAN9diXQC7"
      },
      "cell_type": "markdown",
      "source": [
        "## 1 Reading CSV Files with Encodings"
      ]
    },
    {
      "metadata": {
        "colab_type": "text",
        "id": "7h7-ejxlX_st"
      },
      "cell_type": "markdown",
      "source": [
        "So far, we've learned how to select, assign, and analyze data with pandas using pre-cleaned data. In reality, data is rarely in the format you need it to be to perform analysis. Data scientists commonly [spend over half their time cleaning data](https://www.forbes.com/sites/gilpress/2016/03/23/data-preparation-most-time-consuming-least-enjoyable-data-science-task-survey-says/#20705a446f63), so knowing how to clean 'messy' data is an extremely important skill.\n",
        "\n",
        "In this lesson, you'll learn how to :\n",
        "\n",
        "- Clean columns names.\n",
        "- Extract and convert numeric values from string values.\n",
        "- Extract string data.\n",
        "- Work with missing values.\n",
        "\n",
        "We'll be working with **laptops.csv**, a CSV file containing information on about 1,300 laptop computers. The first five rows of the CSV file is shown below:\n",
        "\n",
        "| _ | Manufacturer | Model Name  | Category  | Screen Size | Screen                             | CPU                        | RAM  | Storage             | GPU                          | Operating System | Operating System Version | Weight | Price (Euros) |\n",
        "|---|--------------|-------------|-----------|-------------|------------------------------------|----------------------------|------|---------------------|------------------------------|------------------|--------------------------|--------|---------------|\n",
        "| 0 | Apple        | MacBook Pro | Ultrabook | 13.3\"       | IPS Panel Retina Display 2560x1600 | Intel Core i5 2.3GHz       | 8GB  | 128GB SSD           | Intel Iris Plus Graphics 640 | macOS            | NaN                      | 1.37kg | 1339,69       |\n",
        "| 1 | Apple        | Macbook Air | Ultrabook | 13.3\"       | 1440x900                           | Intel Core i5 1.8GHz       | 8GB  | 128GB Flash Storage | Intel HD Graphics 6000       | macOS            | NaN                      | 1.34kg | 898,94        |\n",
        "| 2 | HP           | 250 G6      | Notebook  | 15.6\"       | Full HD 1920x1080                  | Intel Core i5 7200U 2.5GHz | 8GB  | 256GB SSD           | Intel HD Graphics 620        | No OS            | NaN                      | 1.86kg | 575,00        |\n",
        "| 3 | Apple        | MacBook Pro | Ultrabook | 15.4\"       | IPS Panel Retina Display 2880x1800 | Intel Core i7 2.7GHz       | 16GB | 512GB SSD           | AMD Radeon Pro 455           | macOS            | NaN                      | 1.83kg | 2537,45       |\n",
        "| 4 | Apple        | MacBook Pro | Ultrabook | 13.3\"       | IPS Panel Retina Display 2560x1600 | Intel Core i5 3.1GHz       | 8GB  | 256GB SSD           | Intel Iris Plus Graphics 650 | macOS            | NaN                      | 1.37kg | 1803,60       |"
      ]
    },
    {
      "metadata": {
        "colab_type": "text",
        "id": "GRL7qfnEYXTw"
      },
      "cell_type": "markdown",
      "source": [
        "We can start by reading the data into pandas. \n"
      ]
    },
    {
      "metadata": {
        "colab_type": "code",
        "id": "-5tLHEOjZwpg",
        "outputId": "706dddeb-c0a8-431f-8138-afd1a2de2e83",
        "colab": {
          "base_uri": "https://localhost:8080/",
          "height": 1203
        }
      },
      "cell_type": "code",
      "source": [
        "# Did you get an error?\n",
        "import pandas as pd\n",
        "url = \"https://raw.githubusercontent.com/nymarya/data-science-one/master/Lesson%2305/laptops.csv\"\n",
        "laptops = pd.read_csv(url)\n",
        "laptops.head()\n"
      ],
      "execution_count": 1,
      "outputs": [
        {
          "output_type": "error",
          "ename": "UnicodeDecodeError",
          "evalue": "ignored",
          "traceback": [
            "\u001b[0;31m---------------------------------------------------------------------------\u001b[0m",
            "\u001b[0;31mUnicodeDecodeError\u001b[0m                        Traceback (most recent call last)",
            "\u001b[0;32mpandas/_libs/parsers.pyx\u001b[0m in \u001b[0;36mpandas._libs.parsers.TextReader._convert_tokens\u001b[0;34m()\u001b[0m\n",
            "\u001b[0;32mpandas/_libs/parsers.pyx\u001b[0m in \u001b[0;36mpandas._libs.parsers.TextReader._convert_with_dtype\u001b[0;34m()\u001b[0m\n",
            "\u001b[0;32mpandas/_libs/parsers.pyx\u001b[0m in \u001b[0;36mpandas._libs.parsers.TextReader._string_convert\u001b[0;34m()\u001b[0m\n",
            "\u001b[0;32mpandas/_libs/parsers.pyx\u001b[0m in \u001b[0;36mpandas._libs.parsers._string_box_utf8\u001b[0;34m()\u001b[0m\n",
            "\u001b[0;31mUnicodeDecodeError\u001b[0m: 'utf-8' codec can't decode byte 0xe9 in position 4: invalid continuation byte",
            "\nDuring handling of the above exception, another exception occurred:\n",
            "\u001b[0;31mUnicodeDecodeError\u001b[0m                        Traceback (most recent call last)",
            "\u001b[0;32m<ipython-input-1-87fe06f9e938>\u001b[0m in \u001b[0;36m<module>\u001b[0;34m()\u001b[0m\n\u001b[1;32m      1\u001b[0m \u001b[0;32mimport\u001b[0m \u001b[0mpandas\u001b[0m \u001b[0;32mas\u001b[0m \u001b[0mpd\u001b[0m\u001b[0;34m\u001b[0m\u001b[0;34m\u001b[0m\u001b[0m\n\u001b[1;32m      2\u001b[0m \u001b[0murl\u001b[0m \u001b[0;34m=\u001b[0m \u001b[0;34m\"https://raw.githubusercontent.com/nymarya/data-science-one/master/Lesson%2305/laptops.csv\"\u001b[0m\u001b[0;34m\u001b[0m\u001b[0;34m\u001b[0m\u001b[0m\n\u001b[0;32m----> 3\u001b[0;31m \u001b[0mlaptops\u001b[0m \u001b[0;34m=\u001b[0m \u001b[0mpd\u001b[0m\u001b[0;34m.\u001b[0m\u001b[0mread_csv\u001b[0m\u001b[0;34m(\u001b[0m\u001b[0murl\u001b[0m\u001b[0;34m)\u001b[0m\u001b[0;34m\u001b[0m\u001b[0;34m\u001b[0m\u001b[0m\n\u001b[0m\u001b[1;32m      4\u001b[0m \u001b[0mlaptops\u001b[0m\u001b[0;34m.\u001b[0m\u001b[0mhead\u001b[0m\u001b[0;34m(\u001b[0m\u001b[0;34m)\u001b[0m\u001b[0;34m\u001b[0m\u001b[0;34m\u001b[0m\u001b[0m\n",
            "\u001b[0;32m/usr/local/lib/python3.6/dist-packages/pandas/io/parsers.py\u001b[0m in \u001b[0;36mparser_f\u001b[0;34m(filepath_or_buffer, sep, delimiter, header, names, index_col, usecols, squeeze, prefix, mangle_dupe_cols, dtype, engine, converters, true_values, false_values, skipinitialspace, skiprows, nrows, na_values, keep_default_na, na_filter, verbose, skip_blank_lines, parse_dates, infer_datetime_format, keep_date_col, date_parser, dayfirst, iterator, chunksize, compression, thousands, decimal, lineterminator, quotechar, quoting, escapechar, comment, encoding, dialect, tupleize_cols, error_bad_lines, warn_bad_lines, skipfooter, skip_footer, doublequote, delim_whitespace, as_recarray, compact_ints, use_unsigned, low_memory, buffer_lines, memory_map, float_precision)\u001b[0m\n\u001b[1;32m    707\u001b[0m                     skip_blank_lines=skip_blank_lines)\n\u001b[1;32m    708\u001b[0m \u001b[0;34m\u001b[0m\u001b[0m\n\u001b[0;32m--> 709\u001b[0;31m         \u001b[0;32mreturn\u001b[0m \u001b[0m_read\u001b[0m\u001b[0;34m(\u001b[0m\u001b[0mfilepath_or_buffer\u001b[0m\u001b[0;34m,\u001b[0m \u001b[0mkwds\u001b[0m\u001b[0;34m)\u001b[0m\u001b[0;34m\u001b[0m\u001b[0;34m\u001b[0m\u001b[0m\n\u001b[0m\u001b[1;32m    710\u001b[0m \u001b[0;34m\u001b[0m\u001b[0m\n\u001b[1;32m    711\u001b[0m     \u001b[0mparser_f\u001b[0m\u001b[0;34m.\u001b[0m\u001b[0m__name__\u001b[0m \u001b[0;34m=\u001b[0m \u001b[0mname\u001b[0m\u001b[0;34m\u001b[0m\u001b[0;34m\u001b[0m\u001b[0m\n",
            "\u001b[0;32m/usr/local/lib/python3.6/dist-packages/pandas/io/parsers.py\u001b[0m in \u001b[0;36m_read\u001b[0;34m(filepath_or_buffer, kwds)\u001b[0m\n\u001b[1;32m    453\u001b[0m \u001b[0;34m\u001b[0m\u001b[0m\n\u001b[1;32m    454\u001b[0m     \u001b[0;32mtry\u001b[0m\u001b[0;34m:\u001b[0m\u001b[0;34m\u001b[0m\u001b[0;34m\u001b[0m\u001b[0m\n\u001b[0;32m--> 455\u001b[0;31m         \u001b[0mdata\u001b[0m \u001b[0;34m=\u001b[0m \u001b[0mparser\u001b[0m\u001b[0;34m.\u001b[0m\u001b[0mread\u001b[0m\u001b[0;34m(\u001b[0m\u001b[0mnrows\u001b[0m\u001b[0;34m)\u001b[0m\u001b[0;34m\u001b[0m\u001b[0;34m\u001b[0m\u001b[0m\n\u001b[0m\u001b[1;32m    456\u001b[0m     \u001b[0;32mfinally\u001b[0m\u001b[0;34m:\u001b[0m\u001b[0;34m\u001b[0m\u001b[0;34m\u001b[0m\u001b[0m\n\u001b[1;32m    457\u001b[0m         \u001b[0mparser\u001b[0m\u001b[0;34m.\u001b[0m\u001b[0mclose\u001b[0m\u001b[0;34m(\u001b[0m\u001b[0;34m)\u001b[0m\u001b[0;34m\u001b[0m\u001b[0;34m\u001b[0m\u001b[0m\n",
            "\u001b[0;32m/usr/local/lib/python3.6/dist-packages/pandas/io/parsers.py\u001b[0m in \u001b[0;36mread\u001b[0;34m(self, nrows)\u001b[0m\n\u001b[1;32m   1067\u001b[0m                 \u001b[0;32mraise\u001b[0m \u001b[0mValueError\u001b[0m\u001b[0;34m(\u001b[0m\u001b[0;34m'skipfooter not supported for iteration'\u001b[0m\u001b[0;34m)\u001b[0m\u001b[0;34m\u001b[0m\u001b[0;34m\u001b[0m\u001b[0m\n\u001b[1;32m   1068\u001b[0m \u001b[0;34m\u001b[0m\u001b[0m\n\u001b[0;32m-> 1069\u001b[0;31m         \u001b[0mret\u001b[0m \u001b[0;34m=\u001b[0m \u001b[0mself\u001b[0m\u001b[0;34m.\u001b[0m\u001b[0m_engine\u001b[0m\u001b[0;34m.\u001b[0m\u001b[0mread\u001b[0m\u001b[0;34m(\u001b[0m\u001b[0mnrows\u001b[0m\u001b[0;34m)\u001b[0m\u001b[0;34m\u001b[0m\u001b[0;34m\u001b[0m\u001b[0m\n\u001b[0m\u001b[1;32m   1070\u001b[0m \u001b[0;34m\u001b[0m\u001b[0m\n\u001b[1;32m   1071\u001b[0m         \u001b[0;32mif\u001b[0m \u001b[0mself\u001b[0m\u001b[0;34m.\u001b[0m\u001b[0moptions\u001b[0m\u001b[0;34m.\u001b[0m\u001b[0mget\u001b[0m\u001b[0;34m(\u001b[0m\u001b[0;34m'as_recarray'\u001b[0m\u001b[0;34m)\u001b[0m\u001b[0;34m:\u001b[0m\u001b[0;34m\u001b[0m\u001b[0;34m\u001b[0m\u001b[0m\n",
            "\u001b[0;32m/usr/local/lib/python3.6/dist-packages/pandas/io/parsers.py\u001b[0m in \u001b[0;36mread\u001b[0;34m(self, nrows)\u001b[0m\n\u001b[1;32m   1837\u001b[0m     \u001b[0;32mdef\u001b[0m \u001b[0mread\u001b[0m\u001b[0;34m(\u001b[0m\u001b[0mself\u001b[0m\u001b[0;34m,\u001b[0m \u001b[0mnrows\u001b[0m\u001b[0;34m=\u001b[0m\u001b[0;32mNone\u001b[0m\u001b[0;34m)\u001b[0m\u001b[0;34m:\u001b[0m\u001b[0;34m\u001b[0m\u001b[0;34m\u001b[0m\u001b[0m\n\u001b[1;32m   1838\u001b[0m         \u001b[0;32mtry\u001b[0m\u001b[0;34m:\u001b[0m\u001b[0;34m\u001b[0m\u001b[0;34m\u001b[0m\u001b[0m\n\u001b[0;32m-> 1839\u001b[0;31m             \u001b[0mdata\u001b[0m \u001b[0;34m=\u001b[0m \u001b[0mself\u001b[0m\u001b[0;34m.\u001b[0m\u001b[0m_reader\u001b[0m\u001b[0;34m.\u001b[0m\u001b[0mread\u001b[0m\u001b[0;34m(\u001b[0m\u001b[0mnrows\u001b[0m\u001b[0;34m)\u001b[0m\u001b[0;34m\u001b[0m\u001b[0;34m\u001b[0m\u001b[0m\n\u001b[0m\u001b[1;32m   1840\u001b[0m         \u001b[0;32mexcept\u001b[0m \u001b[0mStopIteration\u001b[0m\u001b[0;34m:\u001b[0m\u001b[0;34m\u001b[0m\u001b[0;34m\u001b[0m\u001b[0m\n\u001b[1;32m   1841\u001b[0m             \u001b[0;32mif\u001b[0m \u001b[0mself\u001b[0m\u001b[0;34m.\u001b[0m\u001b[0m_first_chunk\u001b[0m\u001b[0;34m:\u001b[0m\u001b[0;34m\u001b[0m\u001b[0;34m\u001b[0m\u001b[0m\n",
            "\u001b[0;32mpandas/_libs/parsers.pyx\u001b[0m in \u001b[0;36mpandas._libs.parsers.TextReader.read\u001b[0;34m()\u001b[0m\n",
            "\u001b[0;32mpandas/_libs/parsers.pyx\u001b[0m in \u001b[0;36mpandas._libs.parsers.TextReader._read_low_memory\u001b[0;34m()\u001b[0m\n",
            "\u001b[0;32mpandas/_libs/parsers.pyx\u001b[0m in \u001b[0;36mpandas._libs.parsers.TextReader._read_rows\u001b[0;34m()\u001b[0m\n",
            "\u001b[0;32mpandas/_libs/parsers.pyx\u001b[0m in \u001b[0;36mpandas._libs.parsers.TextReader._convert_column_data\u001b[0;34m()\u001b[0m\n",
            "\u001b[0;32mpandas/_libs/parsers.pyx\u001b[0m in \u001b[0;36mpandas._libs.parsers.TextReader._convert_tokens\u001b[0;34m()\u001b[0m\n",
            "\u001b[0;32mpandas/_libs/parsers.pyx\u001b[0m in \u001b[0;36mpandas._libs.parsers.TextReader._convert_with_dtype\u001b[0;34m()\u001b[0m\n",
            "\u001b[0;32mpandas/_libs/parsers.pyx\u001b[0m in \u001b[0;36mpandas._libs.parsers.TextReader._string_convert\u001b[0;34m()\u001b[0m\n",
            "\u001b[0;32mpandas/_libs/parsers.pyx\u001b[0m in \u001b[0;36mpandas._libs.parsers._string_box_utf8\u001b[0;34m()\u001b[0m\n",
            "\u001b[0;31mUnicodeDecodeError\u001b[0m: 'utf-8' codec can't decode byte 0xe9 in position 4: invalid continuation byte"
          ]
        }
      ]
    },
    {
      "metadata": {
        "id": "bfCL6eNb-RWf",
        "colab_type": "text"
      },
      "cell_type": "markdown",
      "source": [
        "We get an error! (The actual error is much longer than this, we've truncated it for readability). To understand this error and how to fix it, we need to learn about **encodings**."
      ]
    },
    {
      "metadata": {
        "colab_type": "text",
        "id": "BW19Iz5edmuf"
      },
      "cell_type": "markdown",
      "source": [
        "**A Short History of Encodings**\n",
        "\n",
        "Computers, at their lowest levels, can only understand binary - 0 and 1. Encodings are systems for representing characters in binary. From the early days of computers, the standard for representing text was called ASCII. The ASCII standard specified a set of 128 standard characters - these were letters, numbers and punctuation marks that were used for the English language. For instance, the letter __a__ in ASCII is represented as **01100001** in binary.\n",
        "\n",
        "ASCII was very useful for the basic letters and numbers in the english language, but as the popularity of computers spread worldwide, different computer manufacturers created new encodings to encode different characters, like the greek character $\\alpha$ or the Japanse character も. Because there wasn't one standard for encodings there were problems when you tried to read files saved using one character set with a computer that used a different character set.\n",
        "\n",
        "\n",
        "<img width=\"600\" src=\"https://drive.google.com/uc?export=view&id=1NzDcepAjvJESItrSbykVB3L9SFdLCLaS\">\n",
        "\n",
        "As a result, there ended up being dozens of different encodings being used throughout the early days of the web. Ideally, the person sending you a file would tell you what encoding it is in, however in reality that rarely happened (and still doesn't). Trying to work out what encoding a file was in was relatively difficult, and you often had to guess.\n",
        "\n",
        "These days, we often still have to guess, however in the last 15 years the number of encodings being commonly used has decreased. This means that the vast majority of files are encoded in one of 2-3 formats.\n",
        "\n",
        "\n",
        "<img width=\"600\" src=\"https://drive.google.com/uc?export=view&id=1mPe_Flzn-VfBCZht69_k2rpopYpHqHYY\">\n",
        "\n",
        "\n",
        "The diagram above shows the usage of different encodings on the web. As you can see, **UTF-8** has grown rapidly to be the predominant encoding being used. Because of this trend, the best thing to do if your file has an unknown encoding is to try the most common encodings. The most common encodings are, in order:\n",
        "\n",
        "- UTF-8 (the default for Python)\n",
        "- Latin-1 (also known as ISO-8895-1)\n",
        "- Windows-1251\n",
        "\n",
        "To specify a encoding when reading a CSV file with pandas, simply use the **encoding** argument within the **pandas.read_csv()** function, specifying the encoding as a string:\n",
        "\n",
        "```python\n",
        "df = pd.read_csv(\"filename.csv\", encoding=\"UTF-8\")\n",
        "```\n",
        "\n",
        "\n",
        "Because **UTF-8** is the default, you don't need to specify it the file you're reading is encoded with **UTF-8** (you'll notice the error message mentions **UTF-8**)\n",
        "\n",
        "\n",
        "**Exercise**\n",
        "\n",
        "<left><img width=\"100\" src=\"https://drive.google.com/uc?export=view&id=1E8tR7B9YYUXsU_rddJAyq0FrM0MSelxZ\"></left>\n",
        "\n",
        "\n",
        "- Use the **pandas.read_csv()** function to read the **laptops.csv** file into a dataframe **laptops**.\n",
        "  - Specify the encoding using the string **\"Latin-1\"**.\n",
        "  - If that doesn't work, try using the string **\"Windows-1251\"**.\n",
        "- Use the **DataFrame.info()** method to display information about the laptops dataframe."
      ]
    },
    {
      "metadata": {
        "colab_type": "code",
        "id": "_BXD78k3iv7H",
        "outputId": "327359d6-0a7f-45ae-bb1f-4c3e21ea4fe1",
        "colab": {
          "base_uri": "https://localhost:8080/",
          "height": 340
        }
      },
      "cell_type": "code",
      "source": [
        "# put your code here \n",
        "laptops = pd.read_csv(url, encoding='latin-1')\n",
        "\n",
        "print(laptops.info())"
      ],
      "execution_count": 3,
      "outputs": [
        {
          "output_type": "stream",
          "text": [
            "<class 'pandas.core.frame.DataFrame'>\n",
            "RangeIndex: 1303 entries, 0 to 1302\n",
            "Data columns (total 13 columns):\n",
            "Manufacturer                1303 non-null object\n",
            "Model Name                  1303 non-null object\n",
            "Category                    1303 non-null object\n",
            "Screen Size                 1303 non-null object\n",
            "Screen                      1303 non-null object\n",
            "CPU                         1303 non-null object\n",
            "RAM                         1303 non-null object\n",
            " Storage                    1303 non-null object\n",
            "GPU                         1303 non-null object\n",
            "Operating System            1303 non-null object\n",
            "Operating System Version    1133 non-null object\n",
            "Weight                      1303 non-null object\n",
            "Price (Euros)               1303 non-null object\n",
            "dtypes: object(13)\n",
            "memory usage: 132.4+ KB\n",
            "None\n"
          ],
          "name": "stdout"
        }
      ]
    },
    {
      "metadata": {
        "colab_type": "text",
        "id": "fkXLBIP2j-gb"
      },
      "cell_type": "markdown",
      "source": [
        "## 2 Cleaning Column Names"
      ]
    },
    {
      "metadata": {
        "colab_type": "code",
        "id": "-SO2OyDYkbBG",
        "outputId": "9c4f950d-19ed-4aab-f40d-199ec09a0e36",
        "colab": {
          "base_uri": "https://localhost:8080/",
          "height": 238
        }
      },
      "cell_type": "code",
      "source": [
        "laptops.columns.tolist()"
      ],
      "execution_count": 4,
      "outputs": [
        {
          "output_type": "execute_result",
          "data": {
            "text/plain": [
              "['Manufacturer',\n",
              " 'Model Name',\n",
              " 'Category',\n",
              " 'Screen Size',\n",
              " 'Screen',\n",
              " 'CPU',\n",
              " 'RAM',\n",
              " ' Storage',\n",
              " 'GPU',\n",
              " 'Operating System',\n",
              " 'Operating System Version',\n",
              " 'Weight',\n",
              " 'Price (Euros)']"
            ]
          },
          "metadata": {
            "tags": []
          },
          "execution_count": 4
        }
      ]
    },
    {
      "metadata": {
        "colab_type": "text",
        "id": "PIw28dVdlolq"
      },
      "cell_type": "markdown",
      "source": [
        "As well as being able to use the attribute to view the column labels, we can also assign to the attribute:\n"
      ]
    },
    {
      "metadata": {
        "colab_type": "code",
        "id": "awzvUQ6Yl83I",
        "outputId": "e16a63b4-1f08-4a72-ca1c-72dacb1815a9",
        "colab": {
          "base_uri": "https://localhost:8080/",
          "height": 34
        }
      },
      "cell_type": "code",
      "source": [
        "laptops_test = laptops.copy()\n",
        "laptops_test.columns = ['A', 'B', 'C', 'D', 'E',\n",
        "                        'G', 'F', 'H', 'I', 'J',\n",
        "                        'K', 'L', 'M']\n",
        "laptops_test.columns.tolist()"
      ],
      "execution_count": 5,
      "outputs": [
        {
          "output_type": "execute_result",
          "data": {
            "text/plain": [
              "['A', 'B', 'C', 'D', 'E', 'G', 'F', 'H', 'I', 'J', 'K', 'L', 'M']"
            ]
          },
          "metadata": {
            "tags": []
          },
          "execution_count": 5
        }
      ]
    },
    {
      "metadata": {
        "colab_type": "text",
        "id": "9R3uvCNumFcv"
      },
      "cell_type": "markdown",
      "source": [
        "We can create a function that uses Python [string methods](https://docs.python.org/3/library/stdtypes.html#string-methods) to clean our column labels, and then use list comprehension to apply that function to each label. Let's look at an example:\n",
        "\n",
        "\n"
      ]
    },
    {
      "metadata": {
        "colab_type": "code",
        "id": "pSFQZBZ7mbMg",
        "outputId": "0f87acb3-c724-44e1-9f21-918da0633c80",
        "colab": {
          "base_uri": "https://localhost:8080/",
          "height": 238
        }
      },
      "cell_type": "code",
      "source": [
        "def clean_col(col):\n",
        "    col = col.strip()\n",
        "    col = col.replace(\"(\",\"\")\n",
        "    col = col.replace(\")\",\"\")\n",
        "    col = col.lower()\n",
        "    return col\n",
        "\n",
        "laptops.columns = [clean_col(c) for c in laptops.columns]\n",
        "laptops.columns.tolist()"
      ],
      "execution_count": 6,
      "outputs": [
        {
          "output_type": "execute_result",
          "data": {
            "text/plain": [
              "['manufacturer',\n",
              " 'model name',\n",
              " 'category',\n",
              " 'screen size',\n",
              " 'screen',\n",
              " 'cpu',\n",
              " 'ram',\n",
              " 'storage',\n",
              " 'gpu',\n",
              " 'operating system',\n",
              " 'operating system version',\n",
              " 'weight',\n",
              " 'price euros']"
            ]
          },
          "metadata": {
            "tags": []
          },
          "execution_count": 6
        }
      ]
    },
    {
      "metadata": {
        "colab_type": "text",
        "id": "_4PH9CAemg9V"
      },
      "cell_type": "markdown",
      "source": [
        "Let's use this technique to clean the column labels in our dataframe, adding a few extra cleaning 'chores' along the way\n",
        "\n",
        "**Exercise**\n",
        "\n",
        "<left><img width=\"100\" src=\"https://drive.google.com/uc?export=view&id=1E8tR7B9YYUXsU_rddJAyq0FrM0MSelxZ\"></left>\n",
        "\n",
        "1. Define a function, which accepts a string argument, and:\n",
        "  - Removes any whitespace from the start and end of the string.\n",
        "  - Replaces the substring Operating System with the abbreviation os.\n",
        "  - Replaces all spaces with underscores.\n",
        "  - Removes parentheses from the string.\n",
        "  - Makes the entire string lowercase.\n",
        "  - Returns the modified string.\n",
        "2. Use list comprehension to apply the function to each item in the **DataFrame.column** attribute for the **laptops** dataframe, assigning the result back to the the **DataFrame.columns** attribute."
      ]
    },
    {
      "metadata": {
        "colab_type": "code",
        "id": "Xhb9rwDtnS_M",
        "outputId": "2605e681-d15d-497b-8d45-e2747b0d3b56",
        "colab": {
          "base_uri": "https://localhost:8080/",
          "height": 238
        }
      },
      "cell_type": "code",
      "source": [
        "# put your code here\n",
        "def convert(string):\n",
        "  string = string.strip()\n",
        "  string = string.replace(\"perating system\", \"S\")\n",
        "  string = string.replace(\" \", \"_\")\n",
        "  string = string.replace(\")\", \"\")\n",
        "  string = string.replace(\"(\", \"\")\n",
        "  string = string.lower()\n",
        "  return string\n",
        "\n",
        "\n",
        "laptops.columns = [convert(c) for c in laptops.columns]\n",
        "laptops.columns.tolist()"
      ],
      "execution_count": 7,
      "outputs": [
        {
          "output_type": "execute_result",
          "data": {
            "text/plain": [
              "['manufacturer',\n",
              " 'model_name',\n",
              " 'category',\n",
              " 'screen_size',\n",
              " 'screen',\n",
              " 'cpu',\n",
              " 'ram',\n",
              " 'storage',\n",
              " 'gpu',\n",
              " 'os',\n",
              " 'os_version',\n",
              " 'weight',\n",
              " 'price_euros']"
            ]
          },
          "metadata": {
            "tags": []
          },
          "execution_count": 7
        }
      ]
    },
    {
      "metadata": {
        "colab_type": "text",
        "id": "5BSVGTuGxTw_"
      },
      "cell_type": "markdown",
      "source": [
        "## 3 Converting String Columns to Numeric"
      ]
    },
    {
      "metadata": {
        "colab_type": "code",
        "id": "dZKdj0trx7nA",
        "outputId": "9905d767-ed5a-456e-ae81-036953d3aed9",
        "colab": {
          "base_uri": "https://localhost:8080/",
          "height": 204
        }
      },
      "cell_type": "code",
      "source": [
        "laptops.iloc[:5,2:5]"
      ],
      "execution_count": 8,
      "outputs": [
        {
          "output_type": "execute_result",
          "data": {
            "text/html": [
              "<div>\n",
              "<style scoped>\n",
              "    .dataframe tbody tr th:only-of-type {\n",
              "        vertical-align: middle;\n",
              "    }\n",
              "\n",
              "    .dataframe tbody tr th {\n",
              "        vertical-align: top;\n",
              "    }\n",
              "\n",
              "    .dataframe thead th {\n",
              "        text-align: right;\n",
              "    }\n",
              "</style>\n",
              "<table border=\"1\" class=\"dataframe\">\n",
              "  <thead>\n",
              "    <tr style=\"text-align: right;\">\n",
              "      <th></th>\n",
              "      <th>category</th>\n",
              "      <th>screen_size</th>\n",
              "      <th>screen</th>\n",
              "    </tr>\n",
              "  </thead>\n",
              "  <tbody>\n",
              "    <tr>\n",
              "      <th>0</th>\n",
              "      <td>Ultrabook</td>\n",
              "      <td>13.3\"</td>\n",
              "      <td>IPS Panel Retina Display 2560x1600</td>\n",
              "    </tr>\n",
              "    <tr>\n",
              "      <th>1</th>\n",
              "      <td>Ultrabook</td>\n",
              "      <td>13.3\"</td>\n",
              "      <td>1440x900</td>\n",
              "    </tr>\n",
              "    <tr>\n",
              "      <th>2</th>\n",
              "      <td>Notebook</td>\n",
              "      <td>15.6\"</td>\n",
              "      <td>Full HD 1920x1080</td>\n",
              "    </tr>\n",
              "    <tr>\n",
              "      <th>3</th>\n",
              "      <td>Ultrabook</td>\n",
              "      <td>15.4\"</td>\n",
              "      <td>IPS Panel Retina Display 2880x1800</td>\n",
              "    </tr>\n",
              "    <tr>\n",
              "      <th>4</th>\n",
              "      <td>Ultrabook</td>\n",
              "      <td>13.3\"</td>\n",
              "      <td>IPS Panel Retina Display 2560x1600</td>\n",
              "    </tr>\n",
              "  </tbody>\n",
              "</table>\n",
              "</div>"
            ],
            "text/plain": [
              "    category screen_size                              screen\n",
              "0  Ultrabook       13.3\"  IPS Panel Retina Display 2560x1600\n",
              "1  Ultrabook       13.3\"                            1440x900\n",
              "2   Notebook       15.6\"                   Full HD 1920x1080\n",
              "3  Ultrabook       15.4\"  IPS Panel Retina Display 2880x1800\n",
              "4  Ultrabook       13.3\"  IPS Panel Retina Display 2560x1600"
            ]
          },
          "metadata": {
            "tags": []
          },
          "execution_count": 8
        }
      ]
    },
    {
      "metadata": {
        "colab_type": "text",
        "id": "sTikTuCmyEWX"
      },
      "cell_type": "markdown",
      "source": [
        "Of these three columns, we have three different types of text data:\n",
        "\n",
        "- **category** - This is purely text data, there are no numeric values.\n",
        "- **screen_size** - This is numeric data that is being stored as text data because of the \" character.\n",
        "- **screen** - This is a combination of pure text data with numeric data.\n",
        "\n",
        "\n",
        "Thinking about the **screen_size** column specifically, while the values are stored as text data, we can't sort them numerically. For instance, if we wanted to select laptops with screens 15\" or larger we're unable to do so. To be able to answer these sorts of questions we need to convert the string values to numeric values.\n",
        "\n",
        "Whenever we're converting text to numeric data, we can follow this data cleaning workflow:\n",
        "\n",
        "<img width=\"500\" src=\"https://drive.google.com/uc?export=view&id=12C8ysc6Sd5BcLmpKwIJzlMtVB6_SPQ1D\">\n",
        "\n",
        "\n",
        "Let's walk through the workflow while we convert the **screen_size** column to numeric. The first stage is to explore the data. One of the best ways to do this is to use the **Series.unique()** method to view all of the unique values in the colum."
      ]
    },
    {
      "metadata": {
        "colab_type": "code",
        "id": "zJx7nNhtybJZ",
        "colab": {
          "base_uri": "https://localhost:8080/",
          "height": 85
        },
        "outputId": "40ca7d81-7c51-428f-acde-2768de0678b7"
      },
      "cell_type": "code",
      "source": [
        "print(laptops[\"screen_size\"].dtype)\n",
        "laptops[\"screen_size\"].unique()"
      ],
      "execution_count": 9,
      "outputs": [
        {
          "output_type": "stream",
          "text": [
            "object\n"
          ],
          "name": "stdout"
        },
        {
          "output_type": "execute_result",
          "data": {
            "text/plain": [
              "array(['13.3\"', '15.6\"', '15.4\"', '14.0\"', '12.0\"', '11.6\"', '17.3\"',\n",
              "       '10.1\"', '13.5\"', '12.5\"', '13.0\"', '18.4\"', '13.9\"', '12.3\"',\n",
              "       '17.0\"', '15.0\"', '14.1\"', '11.3\"'], dtype=object)"
            ]
          },
          "metadata": {
            "tags": []
          },
          "execution_count": 9
        }
      ]
    },
    {
      "metadata": {
        "colab_type": "text",
        "id": "ig1QP_UO0ZpE"
      },
      "cell_type": "markdown",
      "source": [
        "Our next stage is **to identify patterns and special cases**. We can see that all values in this column follow the same pattern - series of digit and period characters, followed by a quote character. There are no special cases - every value matches the same pattern. We can also observe that we will need to convert the column to a **float dtype**, as the **int dtype** won't be able to store the decimal values.\n",
        "\n",
        "The next stage is **to remove the non-digit characters**. The pandas library contains dozens of vectorized string methods, most of which are available using the **Series.str accessor**. In this case, we can use the **Series.str.replace()** method, which is a vectorized version of the **Python str.replace()** method we used in the previous screen to remove all the quote characters:"
      ]
    },
    {
      "metadata": {
        "colab_type": "code",
        "id": "qTlYmvhU1RUW",
        "colab": {
          "base_uri": "https://localhost:8080/",
          "height": 68
        },
        "outputId": "1f510c73-52e8-459a-b538-6f3a59f56c31"
      },
      "cell_type": "code",
      "source": [
        "laptops[\"screen_size\"] = laptops[\"screen_size\"].str.replace('\"','')\n",
        "laptops[\"screen_size\"].unique()"
      ],
      "execution_count": 10,
      "outputs": [
        {
          "output_type": "execute_result",
          "data": {
            "text/plain": [
              "array(['13.3', '15.6', '15.4', '14.0', '12.0', '11.6', '17.3', '10.1',\n",
              "       '13.5', '12.5', '13.0', '18.4', '13.9', '12.3', '17.0', '15.0',\n",
              "       '14.1', '11.3'], dtype=object)"
            ]
          },
          "metadata": {
            "tags": []
          },
          "execution_count": 10
        }
      ]
    },
    {
      "metadata": {
        "colab_type": "text",
        "id": "qkv_xvfA1VVa"
      },
      "cell_type": "markdown",
      "source": [
        "Now we've **removed the non-digit characters**, we can **convert (or cast)** the column to a numeric dtype. To do this, we use the **Series.astype()** method. We can use either **int** or **float** as the parameter for the method to convert the column to the respective type:\n",
        "\n",
        "\n"
      ]
    },
    {
      "metadata": {
        "colab_type": "code",
        "id": "TmxyzZPH1nqJ",
        "colab": {
          "base_uri": "https://localhost:8080/",
          "height": 68
        },
        "outputId": "0d2425f1-e26e-4e7d-8793-fc671caf4f1c"
      },
      "cell_type": "code",
      "source": [
        "laptops[\"screen_size\"] = laptops[\"screen_size\"].astype(float)\n",
        "print(laptops[\"screen_size\"].dtype)\n",
        "laptops[\"screen_size\"].unique()"
      ],
      "execution_count": 11,
      "outputs": [
        {
          "output_type": "stream",
          "text": [
            "float64\n"
          ],
          "name": "stdout"
        },
        {
          "output_type": "execute_result",
          "data": {
            "text/plain": [
              "array([13.3, 15.6, 15.4, 14. , 12. , 11.6, 17.3, 10.1, 13.5, 12.5, 13. ,\n",
              "       18.4, 13.9, 12.3, 17. , 15. , 14.1, 11.3])"
            ]
          },
          "metadata": {
            "tags": []
          },
          "execution_count": 11
        }
      ]
    },
    {
      "metadata": {
        "colab_type": "text",
        "id": "mIZH3lgW1r_U"
      },
      "cell_type": "markdown",
      "source": [
        "Our column is now the **float64** dtype, and you see that there are no longer quotes around each value denoting them as strings.\n",
        "\n",
        "Our final step is **to rename** the column. This is an optional step, and can be useful if the non-digit values contained information that helps us understand the data. In out case the quote characters actually denoted that the screen size was in inches. We can use the **DataFrame.rename()** method to rename specific axis labels using a dictionary with the keys as the old label name, and the values as the new label name. We'll also need to specify **axis=1** parameter so pandas knows that we want to rename labels in the column axis, and we'll also use **inplace=True** instead of assignment (although assigning back to the DataFrame would give us an identical result):"
      ]
    },
    {
      "metadata": {
        "colab_type": "code",
        "id": "TK9NFc0_26lZ",
        "colab": {
          "base_uri": "https://localhost:8080/",
          "height": 255
        },
        "outputId": "3ea1ada3-48ef-4739-975b-1458a9d09dd2"
      },
      "cell_type": "code",
      "source": [
        "laptops.rename({\"screen_size\": \"screen_size_inches\"}, axis=1, inplace=True)\n",
        "laptops.dtypes"
      ],
      "execution_count": 12,
      "outputs": [
        {
          "output_type": "execute_result",
          "data": {
            "text/plain": [
              "manufacturer           object\n",
              "model_name             object\n",
              "category               object\n",
              "screen_size_inches    float64\n",
              "screen                 object\n",
              "cpu                    object\n",
              "ram                    object\n",
              "storage                object\n",
              "gpu                    object\n",
              "os                     object\n",
              "os_version             object\n",
              "weight                 object\n",
              "price_euros            object\n",
              "dtype: object"
            ]
          },
          "metadata": {
            "tags": []
          },
          "execution_count": 12
        }
      ]
    },
    {
      "metadata": {
        "colab_type": "text",
        "id": "2vHXiwxs3A3u"
      },
      "cell_type": "markdown",
      "source": [
        "We can see that we now have one column converted to a numeric type and renamed appropriately. Our exercise for this lesson will be to follow the process for the **ram** column. We'll do the first two steps together, starting with exploring the data:\n",
        "\n",
        "\n",
        "\n",
        "\n"
      ]
    },
    {
      "metadata": {
        "colab_type": "code",
        "id": "U_pnLP6d3Kov",
        "colab": {
          "base_uri": "https://localhost:8080/",
          "height": 51
        },
        "outputId": "2af44627-6d32-4d80-ab44-8980dcb4a924"
      },
      "cell_type": "code",
      "source": [
        "laptops[\"ram\"].unique()"
      ],
      "execution_count": 13,
      "outputs": [
        {
          "output_type": "execute_result",
          "data": {
            "text/plain": [
              "array(['8GB', '16GB', '4GB', '2GB', '12GB', '6GB', '32GB', '24GB', '64GB'],\n",
              "      dtype=object)"
            ]
          },
          "metadata": {
            "tags": []
          },
          "execution_count": 13
        }
      ]
    },
    {
      "metadata": {
        "colab_type": "text",
        "id": "DuhaYKXC3NI3"
      },
      "cell_type": "markdown",
      "source": [
        "We can easily identify a clear pattern to the data - all values are integers, and include the character **GB** at the end of the string. There aren't any special cases that are exceptions to the pattern.\n",
        "\n",
        "Let's finish the process of converting the **ram** column to a numeric type.\n",
        "\n",
        "**Exercise**\n",
        "\n",
        "<left><img width=\"100\" src=\"https://drive.google.com/uc?export=view&id=1E8tR7B9YYUXsU_rddJAyq0FrM0MSelxZ\"></left>\n",
        "\n",
        "1. Use the **Series.replace()** method to remove the substring **GB** from the ram column.\n",
        "2. Use the **Series.astype()** method to change the **ram** column to an **integer** dtype.\n",
        "3. Because the **GB** characters contained useful information about the units (gigabytes) of the laptop's ram, use the **DataFrame.rename()** method to rename the column from **ram** to **ram_gb.**\n",
        "4. Use the **DataFrame.dtypes** attribute to get a list of the column names and types from the **laptops** dataframe, and assign the result to **dtypes**."
      ]
    },
    {
      "metadata": {
        "colab_type": "code",
        "id": "4bXzR67_5PmC",
        "outputId": "bd744736-3bf7-4713-db7a-e1c4d9ae6932",
        "colab": {
          "base_uri": "https://localhost:8080/",
          "height": 255
        }
      },
      "cell_type": "code",
      "source": [
        "# put your code here\n",
        "laptops[\"ram\"] = laptops[\"ram\"].str.replace(\"GB\", \"\").astype(int)\n",
        "laptops.rename({\"ram\": \"ram_gb\"}, axis=1, inplace=True)\n",
        "\n",
        "dtypes = laptops.dtypes\n",
        "print(dtypes)"
      ],
      "execution_count": 14,
      "outputs": [
        {
          "output_type": "stream",
          "text": [
            "manufacturer           object\n",
            "model_name             object\n",
            "category               object\n",
            "screen_size_inches    float64\n",
            "screen                 object\n",
            "cpu                    object\n",
            "ram_gb                  int64\n",
            "storage                object\n",
            "gpu                    object\n",
            "os                     object\n",
            "os_version             object\n",
            "weight                 object\n",
            "price_euros            object\n",
            "dtype: object\n"
          ],
          "name": "stdout"
        }
      ]
    },
    {
      "metadata": {
        "colab_type": "text",
        "id": "Znyj0OYi7l0a"
      },
      "cell_type": "markdown",
      "source": [
        "## 4 Practicing Converting String Columns to Numeric\n",
        "\n"
      ]
    },
    {
      "metadata": {
        "colab_type": "text",
        "id": "vXWY9xed7n-K"
      },
      "cell_type": "markdown",
      "source": [
        "This workflow is extremely common, so we're going to practice it with the **weight** and **price_euros** columns. Here's a reminder of the workflow\n",
        "\n",
        "<img width=\"500\" src=\"https://drive.google.com/uc?export=view&id=12C8ysc6Sd5BcLmpKwIJzlMtVB6_SPQ1D\">\n",
        "\n",
        "Let's start with the **weight** column:\n",
        "\n"
      ]
    },
    {
      "metadata": {
        "colab_type": "code",
        "id": "I1fIui_G71tg",
        "colab": {
          "base_uri": "https://localhost:8080/",
          "height": 510
        },
        "outputId": "5c813999-82bf-4552-f36a-fb441b2cffb0"
      },
      "cell_type": "code",
      "source": [
        "laptops.weight.unique()"
      ],
      "execution_count": 15,
      "outputs": [
        {
          "output_type": "execute_result",
          "data": {
            "text/plain": [
              "array(['1.37kg', '1.34kg', '1.86kg', '1.83kg', '2.1kg', '2.04kg', '1.3kg',\n",
              "       '1.6kg', '2.2kg', '0.92kg', '1.22kg', '0.98kg', '2.5kg', '1.62kg',\n",
              "       '1.91kg', '2.3kg', '1.35kg', '1.88kg', '1.89kg', '1.65kg',\n",
              "       '2.71kg', '1.2kg', '1.44kg', '2.8kg', '2kg', '2.65kg', '2.77kg',\n",
              "       '3.2kg', '0.69kg', '1.49kg', '2.4kg', '2.13kg', '2.43kg', '1.7kg',\n",
              "       '1.4kg', '1.8kg', '1.9kg', '3kg', '1.252kg', '2.7kg', '2.02kg',\n",
              "       '1.63kg', '1.96kg', '1.21kg', '2.45kg', '1.25kg', '1.5kg',\n",
              "       '2.62kg', '1.38kg', '1.58kg', '1.85kg', '1.23kg', '1.26kg',\n",
              "       '2.16kg', '2.36kg', '2.05kg', '1.32kg', '1.75kg', '0.97kg',\n",
              "       '2.9kg', '2.56kg', '1.48kg', '1.74kg', '1.1kg', '1.56kg', '2.03kg',\n",
              "       '1.05kg', '4.4kg', '1.90kg', '1.29kg', '2.0kg', '1.95kg', '2.06kg',\n",
              "       '1.12kg', '1.42kg', '3.49kg', '3.35kg', '2.23kg', '4.42kg',\n",
              "       '2.69kg', '2.37kg', '4.7kg', '3.6kg', '2.08kg', '4.3kg', '1.68kg',\n",
              "       '1.41kg', '4.14kg', '2.18kg', '2.24kg', '2.67kg', '2.14kg',\n",
              "       '1.36kg', '2.25kg', '2.15kg', '2.19kg', '2.54kg', '3.42kg',\n",
              "       '1.28kg', '2.33kg', '1.45kg', '2.79kg', '1.84kg', '2.6kg',\n",
              "       '2.26kg', '3.25kg', '1.59kg', '1.13kg', '1.78kg', '1.10kg',\n",
              "       '1.15kg', '1.27kg', '1.43kg', '2.31kg', '1.16kg', '1.64kg',\n",
              "       '2.17kg', '1.47kg', '3.78kg', '1.79kg', '0.91kg', '1.99kg',\n",
              "       '4.33kg', '1.93kg', '1.87kg', '2.63kg', '3.4kg', '3.14kg',\n",
              "       '1.94kg', '1.24kg', '4.6kg', '4.5kg', '2.73kg', '1.39kg', '2.29kg',\n",
              "       '2.59kg', '2.94kg', '1.14kg', '3.8kg', '3.31kg', '1.09kg',\n",
              "       '3.21kg', '1.19kg', '1.98kg', '1.17kg', '4.36kg', '1.71kg',\n",
              "       '2.32kg', '4.2kg', '1.55kg', '0.81kg', '1.18kg', '2.72kg',\n",
              "       '1.31kg', '0.920kg', '3.74kg', '1.76kg', '1.54kg', '2.83kg',\n",
              "       '2.07kg', '2.38kg', '3.58kg', '1.08kg', '2.20kg', '2.75kg',\n",
              "       '1.70kg', '2.99kg', '1.11kg', '2.09kg', '4kgs', '3.0kg', '0.99kg',\n",
              "       '3.52kg', '2.591kg', '2.21kg', '3.3kg', '2.191kg', '2.34kg',\n",
              "       '4.0kg'], dtype=object)"
            ]
          },
          "metadata": {
            "tags": []
          },
          "execution_count": 15
        }
      ]
    },
    {
      "metadata": {
        "colab_type": "text",
        "id": "oDRDjxL-8KN2"
      },
      "cell_type": "markdown",
      "source": [
        "While it appears that the **weight** column may just need the **kg** characters removed from the end of each string, there are a lot of unique values for the weight column, so it's hard to visually confirm if there are any exceptions to the pattern.\n",
        "\n",
        "If we can't see any exceptions, it's OK to move forward onto the next step, as if we miss any, the error we get will tell us the value so we can fix it. Let's see if we missed anything– we're going to use method chaining to attempt both removing the **kg** characters and casting to the **float**, but we'll use a new formatting trick for method chaining. By putting our code inside parentheses, we can method chain over multiple lines, which makes our code easier to read.\n",
        "\n",
        "\n",
        "\n"
      ]
    },
    {
      "metadata": {
        "colab_type": "code",
        "id": "0l6sag_I8yq-",
        "colab": {
          "base_uri": "https://localhost:8080/",
          "height": 1067
        },
        "outputId": "4b350bc3-4de3-4a53-829e-bb36ccb41cf5"
      },
      "cell_type": "code",
      "source": [
        "\n",
        "laptops[\"weight\"] = (laptops[\"weight\"]\n",
        "                     .str.replace(\"kg\",\"\")\n",
        "                     .astype(float)\n",
        "                    )"
      ],
      "execution_count": 16,
      "outputs": [
        {
          "output_type": "error",
          "ename": "ValueError",
          "evalue": "ignored",
          "traceback": [
            "\u001b[0;31m---------------------------------------------------------------------------\u001b[0m",
            "\u001b[0;31mValueError\u001b[0m                                Traceback (most recent call last)",
            "\u001b[0;32m<ipython-input-16-747c359d053d>\u001b[0m in \u001b[0;36m<module>\u001b[0;34m()\u001b[0m\n\u001b[1;32m      2\u001b[0m laptops[\"weight\"] = (laptops[\"weight\"]\n\u001b[1;32m      3\u001b[0m                      \u001b[0;34m.\u001b[0m\u001b[0mstr\u001b[0m\u001b[0;34m.\u001b[0m\u001b[0mreplace\u001b[0m\u001b[0;34m(\u001b[0m\u001b[0;34m\"kg\"\u001b[0m\u001b[0;34m,\u001b[0m\u001b[0;34m\"\"\u001b[0m\u001b[0;34m)\u001b[0m\u001b[0;34m\u001b[0m\u001b[0;34m\u001b[0m\u001b[0m\n\u001b[0;32m----> 4\u001b[0;31m                      \u001b[0;34m.\u001b[0m\u001b[0mastype\u001b[0m\u001b[0;34m(\u001b[0m\u001b[0mfloat\u001b[0m\u001b[0;34m)\u001b[0m\u001b[0;34m\u001b[0m\u001b[0;34m\u001b[0m\u001b[0m\n\u001b[0m\u001b[1;32m      5\u001b[0m                     )\n",
            "\u001b[0;32m/usr/local/lib/python3.6/dist-packages/pandas/util/_decorators.py\u001b[0m in \u001b[0;36mwrapper\u001b[0;34m(*args, **kwargs)\u001b[0m\n\u001b[1;32m    116\u001b[0m                 \u001b[0;32melse\u001b[0m\u001b[0;34m:\u001b[0m\u001b[0;34m\u001b[0m\u001b[0;34m\u001b[0m\u001b[0m\n\u001b[1;32m    117\u001b[0m                     \u001b[0mkwargs\u001b[0m\u001b[0;34m[\u001b[0m\u001b[0mnew_arg_name\u001b[0m\u001b[0;34m]\u001b[0m \u001b[0;34m=\u001b[0m \u001b[0mnew_arg_value\u001b[0m\u001b[0;34m\u001b[0m\u001b[0;34m\u001b[0m\u001b[0m\n\u001b[0;32m--> 118\u001b[0;31m             \u001b[0;32mreturn\u001b[0m \u001b[0mfunc\u001b[0m\u001b[0;34m(\u001b[0m\u001b[0;34m*\u001b[0m\u001b[0margs\u001b[0m\u001b[0;34m,\u001b[0m \u001b[0;34m**\u001b[0m\u001b[0mkwargs\u001b[0m\u001b[0;34m)\u001b[0m\u001b[0;34m\u001b[0m\u001b[0;34m\u001b[0m\u001b[0m\n\u001b[0m\u001b[1;32m    119\u001b[0m         \u001b[0;32mreturn\u001b[0m \u001b[0mwrapper\u001b[0m\u001b[0;34m\u001b[0m\u001b[0;34m\u001b[0m\u001b[0m\n\u001b[1;32m    120\u001b[0m     \u001b[0;32mreturn\u001b[0m \u001b[0m_deprecate_kwarg\u001b[0m\u001b[0;34m\u001b[0m\u001b[0;34m\u001b[0m\u001b[0m\n",
            "\u001b[0;32m/usr/local/lib/python3.6/dist-packages/pandas/core/generic.py\u001b[0m in \u001b[0;36mastype\u001b[0;34m(self, dtype, copy, errors, **kwargs)\u001b[0m\n\u001b[1;32m   4002\u001b[0m         \u001b[0;31m# else, only a single dtype is given\u001b[0m\u001b[0;34m\u001b[0m\u001b[0;34m\u001b[0m\u001b[0;34m\u001b[0m\u001b[0m\n\u001b[1;32m   4003\u001b[0m         new_data = self._data.astype(dtype=dtype, copy=copy, errors=errors,\n\u001b[0;32m-> 4004\u001b[0;31m                                      **kwargs)\n\u001b[0m\u001b[1;32m   4005\u001b[0m         \u001b[0;32mreturn\u001b[0m \u001b[0mself\u001b[0m\u001b[0;34m.\u001b[0m\u001b[0m_constructor\u001b[0m\u001b[0;34m(\u001b[0m\u001b[0mnew_data\u001b[0m\u001b[0;34m)\u001b[0m\u001b[0;34m.\u001b[0m\u001b[0m__finalize__\u001b[0m\u001b[0;34m(\u001b[0m\u001b[0mself\u001b[0m\u001b[0;34m)\u001b[0m\u001b[0;34m\u001b[0m\u001b[0;34m\u001b[0m\u001b[0m\n\u001b[1;32m   4006\u001b[0m \u001b[0;34m\u001b[0m\u001b[0m\n",
            "\u001b[0;32m/usr/local/lib/python3.6/dist-packages/pandas/core/internals.py\u001b[0m in \u001b[0;36mastype\u001b[0;34m(self, dtype, **kwargs)\u001b[0m\n\u001b[1;32m   3460\u001b[0m \u001b[0;34m\u001b[0m\u001b[0m\n\u001b[1;32m   3461\u001b[0m     \u001b[0;32mdef\u001b[0m \u001b[0mastype\u001b[0m\u001b[0;34m(\u001b[0m\u001b[0mself\u001b[0m\u001b[0;34m,\u001b[0m \u001b[0mdtype\u001b[0m\u001b[0;34m,\u001b[0m \u001b[0;34m**\u001b[0m\u001b[0mkwargs\u001b[0m\u001b[0;34m)\u001b[0m\u001b[0;34m:\u001b[0m\u001b[0;34m\u001b[0m\u001b[0;34m\u001b[0m\u001b[0m\n\u001b[0;32m-> 3462\u001b[0;31m         \u001b[0;32mreturn\u001b[0m \u001b[0mself\u001b[0m\u001b[0;34m.\u001b[0m\u001b[0mapply\u001b[0m\u001b[0;34m(\u001b[0m\u001b[0;34m'astype'\u001b[0m\u001b[0;34m,\u001b[0m \u001b[0mdtype\u001b[0m\u001b[0;34m=\u001b[0m\u001b[0mdtype\u001b[0m\u001b[0;34m,\u001b[0m \u001b[0;34m**\u001b[0m\u001b[0mkwargs\u001b[0m\u001b[0;34m)\u001b[0m\u001b[0;34m\u001b[0m\u001b[0;34m\u001b[0m\u001b[0m\n\u001b[0m\u001b[1;32m   3463\u001b[0m \u001b[0;34m\u001b[0m\u001b[0m\n\u001b[1;32m   3464\u001b[0m     \u001b[0;32mdef\u001b[0m \u001b[0mconvert\u001b[0m\u001b[0;34m(\u001b[0m\u001b[0mself\u001b[0m\u001b[0;34m,\u001b[0m \u001b[0;34m**\u001b[0m\u001b[0mkwargs\u001b[0m\u001b[0;34m)\u001b[0m\u001b[0;34m:\u001b[0m\u001b[0;34m\u001b[0m\u001b[0;34m\u001b[0m\u001b[0m\n",
            "\u001b[0;32m/usr/local/lib/python3.6/dist-packages/pandas/core/internals.py\u001b[0m in \u001b[0;36mapply\u001b[0;34m(self, f, axes, filter, do_integrity_check, consolidate, **kwargs)\u001b[0m\n\u001b[1;32m   3327\u001b[0m \u001b[0;34m\u001b[0m\u001b[0m\n\u001b[1;32m   3328\u001b[0m             \u001b[0mkwargs\u001b[0m\u001b[0;34m[\u001b[0m\u001b[0;34m'mgr'\u001b[0m\u001b[0;34m]\u001b[0m \u001b[0;34m=\u001b[0m \u001b[0mself\u001b[0m\u001b[0;34m\u001b[0m\u001b[0;34m\u001b[0m\u001b[0m\n\u001b[0;32m-> 3329\u001b[0;31m             \u001b[0mapplied\u001b[0m \u001b[0;34m=\u001b[0m \u001b[0mgetattr\u001b[0m\u001b[0;34m(\u001b[0m\u001b[0mb\u001b[0m\u001b[0;34m,\u001b[0m \u001b[0mf\u001b[0m\u001b[0;34m)\u001b[0m\u001b[0;34m(\u001b[0m\u001b[0;34m**\u001b[0m\u001b[0mkwargs\u001b[0m\u001b[0;34m)\u001b[0m\u001b[0;34m\u001b[0m\u001b[0;34m\u001b[0m\u001b[0m\n\u001b[0m\u001b[1;32m   3330\u001b[0m             \u001b[0mresult_blocks\u001b[0m \u001b[0;34m=\u001b[0m \u001b[0m_extend_blocks\u001b[0m\u001b[0;34m(\u001b[0m\u001b[0mapplied\u001b[0m\u001b[0;34m,\u001b[0m \u001b[0mresult_blocks\u001b[0m\u001b[0;34m)\u001b[0m\u001b[0;34m\u001b[0m\u001b[0;34m\u001b[0m\u001b[0m\n\u001b[1;32m   3331\u001b[0m \u001b[0;34m\u001b[0m\u001b[0m\n",
            "\u001b[0;32m/usr/local/lib/python3.6/dist-packages/pandas/core/internals.py\u001b[0m in \u001b[0;36mastype\u001b[0;34m(self, dtype, copy, errors, values, **kwargs)\u001b[0m\n\u001b[1;32m    542\u001b[0m     \u001b[0;32mdef\u001b[0m \u001b[0mastype\u001b[0m\u001b[0;34m(\u001b[0m\u001b[0mself\u001b[0m\u001b[0;34m,\u001b[0m \u001b[0mdtype\u001b[0m\u001b[0;34m,\u001b[0m \u001b[0mcopy\u001b[0m\u001b[0;34m=\u001b[0m\u001b[0;32mFalse\u001b[0m\u001b[0;34m,\u001b[0m \u001b[0merrors\u001b[0m\u001b[0;34m=\u001b[0m\u001b[0;34m'raise'\u001b[0m\u001b[0;34m,\u001b[0m \u001b[0mvalues\u001b[0m\u001b[0;34m=\u001b[0m\u001b[0;32mNone\u001b[0m\u001b[0;34m,\u001b[0m \u001b[0;34m**\u001b[0m\u001b[0mkwargs\u001b[0m\u001b[0;34m)\u001b[0m\u001b[0;34m:\u001b[0m\u001b[0;34m\u001b[0m\u001b[0;34m\u001b[0m\u001b[0m\n\u001b[1;32m    543\u001b[0m         return self._astype(dtype, copy=copy, errors=errors, values=values,\n\u001b[0;32m--> 544\u001b[0;31m                             **kwargs)\n\u001b[0m\u001b[1;32m    545\u001b[0m \u001b[0;34m\u001b[0m\u001b[0m\n\u001b[1;32m    546\u001b[0m     def _astype(self, dtype, copy=False, errors='raise', values=None,\n",
            "\u001b[0;32m/usr/local/lib/python3.6/dist-packages/pandas/core/internals.py\u001b[0m in \u001b[0;36m_astype\u001b[0;34m(self, dtype, copy, errors, values, klass, mgr, **kwargs)\u001b[0m\n\u001b[1;32m    623\u001b[0m \u001b[0;34m\u001b[0m\u001b[0m\n\u001b[1;32m    624\u001b[0m                 \u001b[0;31m# _astype_nansafe works fine with 1-d only\u001b[0m\u001b[0;34m\u001b[0m\u001b[0;34m\u001b[0m\u001b[0;34m\u001b[0m\u001b[0m\n\u001b[0;32m--> 625\u001b[0;31m                 \u001b[0mvalues\u001b[0m \u001b[0;34m=\u001b[0m \u001b[0mastype_nansafe\u001b[0m\u001b[0;34m(\u001b[0m\u001b[0mvalues\u001b[0m\u001b[0;34m.\u001b[0m\u001b[0mravel\u001b[0m\u001b[0;34m(\u001b[0m\u001b[0;34m)\u001b[0m\u001b[0;34m,\u001b[0m \u001b[0mdtype\u001b[0m\u001b[0;34m,\u001b[0m \u001b[0mcopy\u001b[0m\u001b[0;34m=\u001b[0m\u001b[0;32mTrue\u001b[0m\u001b[0;34m)\u001b[0m\u001b[0;34m\u001b[0m\u001b[0;34m\u001b[0m\u001b[0m\n\u001b[0m\u001b[1;32m    626\u001b[0m                 \u001b[0mvalues\u001b[0m \u001b[0;34m=\u001b[0m \u001b[0mvalues\u001b[0m\u001b[0;34m.\u001b[0m\u001b[0mreshape\u001b[0m\u001b[0;34m(\u001b[0m\u001b[0mself\u001b[0m\u001b[0;34m.\u001b[0m\u001b[0mshape\u001b[0m\u001b[0;34m)\u001b[0m\u001b[0;34m\u001b[0m\u001b[0;34m\u001b[0m\u001b[0m\n\u001b[1;32m    627\u001b[0m \u001b[0;34m\u001b[0m\u001b[0m\n",
            "\u001b[0;32m/usr/local/lib/python3.6/dist-packages/pandas/core/dtypes/cast.py\u001b[0m in \u001b[0;36mastype_nansafe\u001b[0;34m(arr, dtype, copy)\u001b[0m\n\u001b[1;32m    701\u001b[0m \u001b[0;34m\u001b[0m\u001b[0m\n\u001b[1;32m    702\u001b[0m     \u001b[0;32mif\u001b[0m \u001b[0mcopy\u001b[0m\u001b[0;34m:\u001b[0m\u001b[0;34m\u001b[0m\u001b[0;34m\u001b[0m\u001b[0m\n\u001b[0;32m--> 703\u001b[0;31m         \u001b[0;32mreturn\u001b[0m \u001b[0marr\u001b[0m\u001b[0;34m.\u001b[0m\u001b[0mastype\u001b[0m\u001b[0;34m(\u001b[0m\u001b[0mdtype\u001b[0m\u001b[0;34m)\u001b[0m\u001b[0;34m\u001b[0m\u001b[0;34m\u001b[0m\u001b[0m\n\u001b[0m\u001b[1;32m    704\u001b[0m     \u001b[0;32mreturn\u001b[0m \u001b[0marr\u001b[0m\u001b[0;34m.\u001b[0m\u001b[0mview\u001b[0m\u001b[0;34m(\u001b[0m\u001b[0mdtype\u001b[0m\u001b[0;34m)\u001b[0m\u001b[0;34m\u001b[0m\u001b[0;34m\u001b[0m\u001b[0m\n\u001b[1;32m    705\u001b[0m \u001b[0;34m\u001b[0m\u001b[0m\n",
            "\u001b[0;31mValueError\u001b[0m: could not convert string to float: '4s'"
          ]
        }
      ]
    },
    {
      "metadata": {
        "colab_type": "text",
        "id": "3998QR0w87G3"
      },
      "cell_type": "markdown",
      "source": [
        "We've hit an error– **a ValueError** to be precise (we've truncated the error output to make it easier to read, but you will always find the value in question at the very bottom of the error). The error tells us which value it couldn't convert to a float **'4s'**. Keep in mind that this is the value after the **kg** has been replaced because of our method chaining, so the value substring **'4s'** may not actually exist in the raw data. We can use the pandas **Series.str.contains()** method, which returns a boolean series based on whether a substring is found to look at the raw value:"
      ]
    },
    {
      "metadata": {
        "colab_type": "code",
        "id": "8giqV1E391zU",
        "outputId": "5bd7fd04-8924-40b3-c38f-5f0d6afd2c02",
        "colab": {
          "base_uri": "https://localhost:8080/",
          "height": 51
        }
      },
      "cell_type": "code",
      "source": [
        "laptops.loc[laptops[\"weight\"].str.contains('s'), \"weight\"]"
      ],
      "execution_count": 17,
      "outputs": [
        {
          "output_type": "execute_result",
          "data": {
            "text/plain": [
              "1061    4kgs\n",
              "Name: weight, dtype: object"
            ]
          },
          "metadata": {
            "tags": []
          },
          "execution_count": 17
        }
      ]
    },
    {
      "metadata": {
        "colab_type": "text",
        "id": "Hp7bhTLO9_iV"
      },
      "cell_type": "markdown",
      "source": [
        "We have identified the special case - we need to remove **kgs** before **kg**, or alternatively we could remove **kg** and then **s**. There's the possibility that there might be more than one exception, because the error will stop the rest of the values from being processed. We'll leave that final step up to you in the exercise at the end of this screen.\n",
        "\n",
        "Next, let's look at the **price_euros** column. This column has almost 800 unique values, so we're going to look at the first and last 5 as a sample:\n",
        "\n",
        "\n"
      ]
    },
    {
      "metadata": {
        "colab_type": "code",
        "id": "EvHOWfXcAepZ",
        "outputId": "5a622280-8dca-4c2b-d1a4-e7b84f22fdba",
        "colab": {
          "base_uri": "https://localhost:8080/",
          "height": 51
        }
      },
      "cell_type": "code",
      "source": [
        "print(laptops[\"price_euros\"].unique()[:5])\n",
        "print(laptops[\"price_euros\"].unique()[-5:])"
      ],
      "execution_count": 18,
      "outputs": [
        {
          "output_type": "stream",
          "text": [
            "['1339,69' '898,94' '575,00' '2537,45' '1803,60']\n",
            "['549,99' '805,99' '720,32' '638,00' '764,00']\n"
          ],
          "name": "stdout"
        }
      ]
    },
    {
      "metadata": {
        "colab_type": "text",
        "id": "BLhagpgLAyRd"
      },
      "cell_type": "markdown",
      "source": [
        "You may not have seen this style of writing decimals with a comma instead of a period, which is used in parts of South America, Africa and Europe (you might like to read more about [decimal commas](https://en.wikipedia.org/wiki/Decimal_separator#Hindu%E2%80%93Arabic_numeral_system)). In this case, simply removing the comma will give us incorrect values– we'll need to replace with with a period.\n",
        "\n",
        "Now that we've done some exploration together, let's finish off the cleaning of both of these columns.\n",
        "\n",
        "**Exercise**\n",
        "\n",
        "<left><img width=\"100\" src=\"https://drive.google.com/uc?export=view&id=1E8tR7B9YYUXsU_rddJAyq0FrM0MSelxZ\"></left>\n",
        "\n",
        "\n",
        "1. Clean the **weight** column by:\n",
        "  - Removing all non-digit characters.\n",
        "  - Casting the column to the appropriate numeric type\n",
        "  - Renaming the column to **weight_kg**.\n",
        "2. Clean the **price_euros** column by:\n",
        "  - Replacing the decimal commas with decimal points.\n",
        "  - Casting the column to the appropriate numeric type.\n",
        "3. Use the **Series.describe()** method to generate some descriptive statistics for each column:\n",
        "  - Assign the results for the **weight_kg** column to **weight_describe**.\n",
        "  - Assign the results for the **price_euros** column to **price_describe**."
      ]
    },
    {
      "metadata": {
        "colab_type": "code",
        "id": "0pXbmA7PBXOI",
        "outputId": "a2746e62-5dce-4a36-abc7-e17a35b0b960",
        "colab": {
          "base_uri": "https://localhost:8080/",
          "height": 170
        }
      },
      "cell_type": "code",
      "source": [
        "# put your code here\n",
        "\n",
        "laptops['weight'] = laptops['weight'].str.replace(\"kg\", \"\")\n",
        "laptops['weight'] = laptops['weight'].str.replace(\"s\", \"\").astype(float)\n",
        "laptops.rename({\"weight\": \"weight_kg\"}, axis=1, inplace=True)\n",
        "\n",
        "weight_describe = laptops['weight_kg'].describe()\n",
        "\n",
        "print(weight_describe)"
      ],
      "execution_count": 19,
      "outputs": [
        {
          "output_type": "stream",
          "text": [
            "count    1303.000000\n",
            "mean        2.038734\n",
            "std         0.665475\n",
            "min         0.690000\n",
            "25%         1.500000\n",
            "50%         2.040000\n",
            "75%         2.300000\n",
            "max         4.700000\n",
            "Name: weight_kg, dtype: float64\n"
          ],
          "name": "stdout"
        }
      ]
    },
    {
      "metadata": {
        "id": "u7nvDB3jktG0",
        "colab_type": "code",
        "outputId": "fc2f8967-3e0c-4f6b-dd70-b281b8028595",
        "colab": {
          "base_uri": "https://localhost:8080/",
          "height": 170
        }
      },
      "cell_type": "code",
      "source": [
        "laptops['price_euros'] = laptops['price_euros'].str.replace(\",\",\".\").astype(float)\n",
        "\n",
        "price_describe = laptops['price_euros'].describe()\n",
        "\n",
        "print(price_describe)"
      ],
      "execution_count": 20,
      "outputs": [
        {
          "output_type": "stream",
          "text": [
            "count    1303.000000\n",
            "mean     1123.686992\n",
            "std       699.009043\n",
            "min       174.000000\n",
            "25%       599.000000\n",
            "50%       977.000000\n",
            "75%      1487.880000\n",
            "max      6099.000000\n",
            "Name: price_euros, dtype: float64\n"
          ],
          "name": "stdout"
        }
      ]
    },
    {
      "metadata": {
        "colab_type": "text",
        "id": "ccTH6UqvFJht"
      },
      "cell_type": "markdown",
      "source": [
        "\n",
        "## 5 Extracting Values from the Start of Strings\n"
      ]
    },
    {
      "metadata": {
        "id": "C1dytGjKB1J5",
        "colab_type": "text"
      },
      "cell_type": "markdown",
      "source": [
        "\n",
        "From the previous screen, we can see that the average (mean) laptop weights around 2kg and costs just over 1,100 euros.\n",
        "\n",
        "Sometimes, it can be useful to extract non-numeric values from within strings. Let's look at the first 10 values from the **gpu** (graphics processing unit) column:\n"
      ]
    },
    {
      "metadata": {
        "colab_type": "code",
        "id": "QSH5Nz2GFZn9",
        "outputId": "eb1684cc-20d6-4851-ee85-a30be38604f4",
        "colab": {
          "base_uri": "https://localhost:8080/",
          "height": 204
        }
      },
      "cell_type": "code",
      "source": [
        "laptops[\"gpu\"].head(10)"
      ],
      "execution_count": 21,
      "outputs": [
        {
          "output_type": "execute_result",
          "data": {
            "text/plain": [
              "0    Intel Iris Plus Graphics 640\n",
              "1          Intel HD Graphics 6000\n",
              "2           Intel HD Graphics 620\n",
              "3              AMD Radeon Pro 455\n",
              "4    Intel Iris Plus Graphics 650\n",
              "5                   AMD Radeon R5\n",
              "6         Intel Iris Pro Graphics\n",
              "7          Intel HD Graphics 6000\n",
              "8            Nvidia GeForce MX150\n",
              "9          Intel UHD Graphics 620\n",
              "Name: gpu, dtype: object"
            ]
          },
          "metadata": {
            "tags": []
          },
          "execution_count": 21
        }
      ]
    },
    {
      "metadata": {
        "colab_type": "text",
        "id": "PtunpBljFbqf"
      },
      "cell_type": "markdown",
      "source": [
        "The information in this column seems to be a manufacturer followed by a model name/number. The manufacturers in the subset are just the first word of each value: Intel, AMD, Nvidia. Extracting the manufacturer by itself would be useful, as we can analyze who are the most common GPU manufacturers.\n",
        "\n",
        "Because each manufacturer is followed by a whitespace character, we can use the **Series.str.split()** method to extract this data. Let's look how we use this method to extract the data.\n",
        "\n",
        "First, we'll use **Series.head()** to look at just the first five items:\n",
        "\n",
        "<img width=\"500\" src=\"https://drive.google.com/uc?export=view&id=1cjQOzRy2pFfEntvcoQY8zzZwi-OcfWH2\">\n",
        "\n",
        "Net's we'll start by using **Series.str.split()** with the default parameters:\n",
        "\n",
        "<img width=\"500\" src=\"https://drive.google.com/uc?export=view&id=1j_p4vBq4DH6MqmqpLrDCc6aWvxEJztkg\">\n",
        "\n",
        "The method has split each string on the whitespace, and the result is individual Python lists stored within a series. The **Series.str.split()** method accepts an argument **n**, which controls the maximum number of splits allowed. By using **n=1**, the method will make a single split on the first whitespace:\n",
        "\n",
        "<img width=\"500\" src=\"https://drive.google.com/uc?export=view&id=1SG2mTLap_Ym7mi1epG9U0upKN7hYL_da\">\n",
        "\n",
        "Manipulating Python lists inside a Series can be cumbersome. Instead, we can use the **expand=True** argument which will expand our series of lists into a dataframe:\n",
        "\n",
        "<img width=\"500\" src=\"https://drive.google.com/uc?export=view&id=1RKx_YuufvLXt-ei1pyu54SIQjfF7bpzY\">\n",
        "\n",
        "Lastly, we can use **DataFrame.iloc[]** to select only the first column:\n",
        "\n",
        "\n",
        "<img width=\"500\" src=\"https://drive.google.com/uc?export=view&id=1HjB3Ry_pnvtdj_K11bWaturCwBbyFOsz\">\n",
        "\n",
        "\n",
        "Let's use this technique to extract the manufacturer from the **cpu** column as well. Here are the first 10 rows of the **cpu** column, you'll see they follow a similar format to the **gpu** column:\n",
        "\n",
        "\n",
        "\n"
      ]
    },
    {
      "metadata": {
        "colab_type": "code",
        "id": "gMSTPU5BGJ7q",
        "colab": {
          "base_uri": "https://localhost:8080/",
          "height": 204
        },
        "outputId": "8c7f9060-12e1-42c0-e4cc-b6aa6e4bee53"
      },
      "cell_type": "code",
      "source": [
        "laptops.cpu.head(10)"
      ],
      "execution_count": 22,
      "outputs": [
        {
          "output_type": "execute_result",
          "data": {
            "text/plain": [
              "0          Intel Core i5 2.3GHz\n",
              "1          Intel Core i5 1.8GHz\n",
              "2    Intel Core i5 7200U 2.5GHz\n",
              "3          Intel Core i7 2.7GHz\n",
              "4          Intel Core i5 3.1GHz\n",
              "5       AMD A9-Series 9420 3GHz\n",
              "6          Intel Core i7 2.2GHz\n",
              "7          Intel Core i5 1.8GHz\n",
              "8    Intel Core i7 8550U 1.8GHz\n",
              "9    Intel Core i5 8250U 1.6GHz\n",
              "Name: cpu, dtype: object"
            ]
          },
          "metadata": {
            "tags": []
          },
          "execution_count": 22
        }
      ]
    },
    {
      "metadata": {
        "colab_type": "text",
        "id": "j8uCY4H8Ixg4"
      },
      "cell_type": "markdown",
      "source": [
        "**Exercise**\n",
        "\n",
        "<left><img width=\"100\" src=\"https://drive.google.com/uc?export=view&id=1E8tR7B9YYUXsU_rddJAyq0FrM0MSelxZ\"></left>\n",
        "\n",
        "\n",
        "1. In the example code, we have extracted the **manufacturer name** from the **gpu** column, and assigned it to a new column **gpu_manufacturer.**\n",
        "\n",
        "  - Extract the **manufacturer name** from the **cpu** column, and assign it to a new column **cpu_manufacturer**."
      ]
    },
    {
      "metadata": {
        "colab_type": "code",
        "id": "ocZ7IlSVJR6S",
        "outputId": "e63d3483-8f82-4536-e4ee-b88bd7079750",
        "colab": {
          "base_uri": "https://localhost:8080/",
          "height": 34
        }
      },
      "cell_type": "code",
      "source": [
        "# put your code here\n",
        "laptops['gpu_manufacturer'] = laptops['cpu'].str.split(n=1, expand=True).iloc[:,0]\n",
        "\n",
        "print(laptops['gpu_manufacturer'].unique())"
      ],
      "execution_count": 70,
      "outputs": [
        {
          "output_type": "stream",
          "text": [
            "['Intel' 'AMD' 'Samsung']\n"
          ],
          "name": "stdout"
        }
      ]
    },
    {
      "metadata": {
        "colab_type": "text",
        "id": "aVwYEROIJfsy"
      },
      "cell_type": "markdown",
      "source": [
        "## 6 Extracting Values from the End of Strings"
      ]
    },
    {
      "metadata": {
        "colab_type": "text",
        "id": "_CXE-6AtJ4pY"
      },
      "cell_type": "markdown",
      "source": [
        "\n",
        "Next, let's look at the **screen** column:\n",
        "\n"
      ]
    },
    {
      "metadata": {
        "colab_type": "code",
        "id": "Y2WGu9c9K77i",
        "outputId": "a0824399-3731-473c-ff6d-05a4b7305012",
        "colab": {
          "base_uri": "https://localhost:8080/",
          "height": 119
        }
      },
      "cell_type": "code",
      "source": [
        "print(laptops[\"screen\"].unique().shape)\n",
        "print(laptops[\"screen\"].unique()[:10])"
      ],
      "execution_count": 24,
      "outputs": [
        {
          "output_type": "stream",
          "text": [
            "(40,)\n",
            "['IPS Panel Retina Display 2560x1600' '1440x900' 'Full HD 1920x1080'\n",
            " 'IPS Panel Retina Display 2880x1800' '1366x768'\n",
            " 'IPS Panel Full HD 1920x1080' 'IPS Panel Retina Display 2304x1440'\n",
            " 'IPS Panel Full HD / Touchscreen 1920x1080'\n",
            " 'Full HD / Touchscreen 1920x1080' 'Touchscreen / Quad HD+ 3200x1800']\n"
          ],
          "name": "stdout"
        }
      ]
    },
    {
      "metadata": {
        "colab_type": "text",
        "id": "RU2KkbGiLB3h"
      },
      "cell_type": "markdown",
      "source": [
        "There are 40 unique values, so we'll just look at the first 10. Some of the values have just the resolution (eg **'1440x900'**), while others have information on the type of screen and then end with the resolution. While the resolution is mostly numeric, we're going to treat the resolution as as a substring that we want to extract. Let's start by seeing what we get when we use **Series.str.split()**:\n"
      ]
    },
    {
      "metadata": {
        "colab_type": "code",
        "id": "qj_YjghaLk8x",
        "outputId": "fd7d498b-e326-49fe-e0b9-05ef40ed2f71",
        "colab": {
          "base_uri": "https://localhost:8080/",
          "height": 359
        }
      },
      "cell_type": "code",
      "source": [
        "laptops.loc[:9, \"screen\"].str.split(expand=True)"
      ],
      "execution_count": 25,
      "outputs": [
        {
          "output_type": "execute_result",
          "data": {
            "text/html": [
              "<div>\n",
              "<style scoped>\n",
              "    .dataframe tbody tr th:only-of-type {\n",
              "        vertical-align: middle;\n",
              "    }\n",
              "\n",
              "    .dataframe tbody tr th {\n",
              "        vertical-align: top;\n",
              "    }\n",
              "\n",
              "    .dataframe thead th {\n",
              "        text-align: right;\n",
              "    }\n",
              "</style>\n",
              "<table border=\"1\" class=\"dataframe\">\n",
              "  <thead>\n",
              "    <tr style=\"text-align: right;\">\n",
              "      <th></th>\n",
              "      <th>0</th>\n",
              "      <th>1</th>\n",
              "      <th>2</th>\n",
              "      <th>3</th>\n",
              "      <th>4</th>\n",
              "    </tr>\n",
              "  </thead>\n",
              "  <tbody>\n",
              "    <tr>\n",
              "      <th>0</th>\n",
              "      <td>IPS</td>\n",
              "      <td>Panel</td>\n",
              "      <td>Retina</td>\n",
              "      <td>Display</td>\n",
              "      <td>2560x1600</td>\n",
              "    </tr>\n",
              "    <tr>\n",
              "      <th>1</th>\n",
              "      <td>1440x900</td>\n",
              "      <td>None</td>\n",
              "      <td>None</td>\n",
              "      <td>None</td>\n",
              "      <td>None</td>\n",
              "    </tr>\n",
              "    <tr>\n",
              "      <th>2</th>\n",
              "      <td>Full</td>\n",
              "      <td>HD</td>\n",
              "      <td>1920x1080</td>\n",
              "      <td>None</td>\n",
              "      <td>None</td>\n",
              "    </tr>\n",
              "    <tr>\n",
              "      <th>3</th>\n",
              "      <td>IPS</td>\n",
              "      <td>Panel</td>\n",
              "      <td>Retina</td>\n",
              "      <td>Display</td>\n",
              "      <td>2880x1800</td>\n",
              "    </tr>\n",
              "    <tr>\n",
              "      <th>4</th>\n",
              "      <td>IPS</td>\n",
              "      <td>Panel</td>\n",
              "      <td>Retina</td>\n",
              "      <td>Display</td>\n",
              "      <td>2560x1600</td>\n",
              "    </tr>\n",
              "    <tr>\n",
              "      <th>5</th>\n",
              "      <td>1366x768</td>\n",
              "      <td>None</td>\n",
              "      <td>None</td>\n",
              "      <td>None</td>\n",
              "      <td>None</td>\n",
              "    </tr>\n",
              "    <tr>\n",
              "      <th>6</th>\n",
              "      <td>IPS</td>\n",
              "      <td>Panel</td>\n",
              "      <td>Retina</td>\n",
              "      <td>Display</td>\n",
              "      <td>2880x1800</td>\n",
              "    </tr>\n",
              "    <tr>\n",
              "      <th>7</th>\n",
              "      <td>1440x900</td>\n",
              "      <td>None</td>\n",
              "      <td>None</td>\n",
              "      <td>None</td>\n",
              "      <td>None</td>\n",
              "    </tr>\n",
              "    <tr>\n",
              "      <th>8</th>\n",
              "      <td>Full</td>\n",
              "      <td>HD</td>\n",
              "      <td>1920x1080</td>\n",
              "      <td>None</td>\n",
              "      <td>None</td>\n",
              "    </tr>\n",
              "    <tr>\n",
              "      <th>9</th>\n",
              "      <td>IPS</td>\n",
              "      <td>Panel</td>\n",
              "      <td>Full</td>\n",
              "      <td>HD</td>\n",
              "      <td>1920x1080</td>\n",
              "    </tr>\n",
              "  </tbody>\n",
              "</table>\n",
              "</div>"
            ],
            "text/plain": [
              "          0      1          2        3          4\n",
              "0       IPS  Panel     Retina  Display  2560x1600\n",
              "1  1440x900   None       None     None       None\n",
              "2      Full     HD  1920x1080     None       None\n",
              "3       IPS  Panel     Retina  Display  2880x1800\n",
              "4       IPS  Panel     Retina  Display  2560x1600\n",
              "5  1366x768   None       None     None       None\n",
              "6       IPS  Panel     Retina  Display  2880x1800\n",
              "7  1440x900   None       None     None       None\n",
              "8      Full     HD  1920x1080     None       None\n",
              "9       IPS  Panel       Full       HD  1920x1080"
            ]
          },
          "metadata": {
            "tags": []
          },
          "execution_count": 25
        }
      ]
    },
    {
      "metadata": {
        "colab_type": "text",
        "id": "nBINM8vcLqsg"
      },
      "cell_type": "markdown",
      "source": [
        "Five of the rows have the resolution in column 4, two have it in column 2 and the rest have it in column 1. Because the value we want to extract is from the end of the string and not the beginning of the string, the **n=1** parameter is not going to help us. Luckily the **Series.str.rsplit()** method allows us to split from the end of the string instead of the front.\n",
        "\n",
        "Let's look at a quick example to see the different between **Series.str.rsplit()** and **Series.str.split()**. We'll use a sample series called sentences:\n",
        "\n",
        "<img width=\"600\" src=\"https://drive.google.com/uc?export=view&id=1QJUgCe5cj38Xe-8Xlb8B63Vgjd1CQHOJ\">\n",
        "\n",
        "Let's use **Series.str.split()** with n=1:\n",
        "\n",
        "\n",
        "<img width=\"600\" src=\"https://drive.google.com/uc?export=view&id=1eipfc5ZVLJyZ5cN_Re7RQc3g5NosRz_A\">\n",
        "\n",
        "\n",
        "We have split the first word from the start of the string, effectively extracting a series of names. Next, let's use **Series.str.rsplit()** on the original sentences series:\n",
        "\n",
        "\n",
        "<img width=\"600\" src=\"https://drive.google.com/uc?export=view&id=1_ON37DLE1xegsXHFUQ9NhmBODpOO7ebr\">\n",
        "\n",
        "\n",
        "We have split the first word from the end of the string, effectively creating a series of colors.\n",
        "\n",
        "Now that we understand how **Series.str.rsplit()** works, let's look at how we can use it to extract the resolutions from our screen column:"
      ]
    },
    {
      "metadata": {
        "colab_type": "code",
        "id": "SxoVvfh8MPTw",
        "outputId": "7dadd76e-54ce-49ce-f17f-270ad25f5666",
        "colab": {
          "base_uri": "https://localhost:8080/",
          "height": 359
        }
      },
      "cell_type": "code",
      "source": [
        "laptops.loc[:9, \"screen\"].str.rsplit(n=1, expand=True)"
      ],
      "execution_count": 26,
      "outputs": [
        {
          "output_type": "execute_result",
          "data": {
            "text/html": [
              "<div>\n",
              "<style scoped>\n",
              "    .dataframe tbody tr th:only-of-type {\n",
              "        vertical-align: middle;\n",
              "    }\n",
              "\n",
              "    .dataframe tbody tr th {\n",
              "        vertical-align: top;\n",
              "    }\n",
              "\n",
              "    .dataframe thead th {\n",
              "        text-align: right;\n",
              "    }\n",
              "</style>\n",
              "<table border=\"1\" class=\"dataframe\">\n",
              "  <thead>\n",
              "    <tr style=\"text-align: right;\">\n",
              "      <th></th>\n",
              "      <th>0</th>\n",
              "      <th>1</th>\n",
              "    </tr>\n",
              "  </thead>\n",
              "  <tbody>\n",
              "    <tr>\n",
              "      <th>0</th>\n",
              "      <td>IPS Panel Retina Display</td>\n",
              "      <td>2560x1600</td>\n",
              "    </tr>\n",
              "    <tr>\n",
              "      <th>1</th>\n",
              "      <td>1440x900</td>\n",
              "      <td>None</td>\n",
              "    </tr>\n",
              "    <tr>\n",
              "      <th>2</th>\n",
              "      <td>Full HD</td>\n",
              "      <td>1920x1080</td>\n",
              "    </tr>\n",
              "    <tr>\n",
              "      <th>3</th>\n",
              "      <td>IPS Panel Retina Display</td>\n",
              "      <td>2880x1800</td>\n",
              "    </tr>\n",
              "    <tr>\n",
              "      <th>4</th>\n",
              "      <td>IPS Panel Retina Display</td>\n",
              "      <td>2560x1600</td>\n",
              "    </tr>\n",
              "    <tr>\n",
              "      <th>5</th>\n",
              "      <td>1366x768</td>\n",
              "      <td>None</td>\n",
              "    </tr>\n",
              "    <tr>\n",
              "      <th>6</th>\n",
              "      <td>IPS Panel Retina Display</td>\n",
              "      <td>2880x1800</td>\n",
              "    </tr>\n",
              "    <tr>\n",
              "      <th>7</th>\n",
              "      <td>1440x900</td>\n",
              "      <td>None</td>\n",
              "    </tr>\n",
              "    <tr>\n",
              "      <th>8</th>\n",
              "      <td>Full HD</td>\n",
              "      <td>1920x1080</td>\n",
              "    </tr>\n",
              "    <tr>\n",
              "      <th>9</th>\n",
              "      <td>IPS Panel Full HD</td>\n",
              "      <td>1920x1080</td>\n",
              "    </tr>\n",
              "  </tbody>\n",
              "</table>\n",
              "</div>"
            ],
            "text/plain": [
              "                          0          1\n",
              "0  IPS Panel Retina Display  2560x1600\n",
              "1                  1440x900       None\n",
              "2                   Full HD  1920x1080\n",
              "3  IPS Panel Retina Display  2880x1800\n",
              "4  IPS Panel Retina Display  2560x1600\n",
              "5                  1366x768       None\n",
              "6  IPS Panel Retina Display  2880x1800\n",
              "7                  1440x900       None\n",
              "8                   Full HD  1920x1080\n",
              "9         IPS Panel Full HD  1920x1080"
            ]
          },
          "metadata": {
            "tags": []
          },
          "execution_count": 26
        }
      ]
    },
    {
      "metadata": {
        "colab_type": "text",
        "id": "9siigfkpN0tx"
      },
      "cell_type": "markdown",
      "source": [
        "This is much closer to what we're looking for - almost all of the resolution substrings are in column 1, and those that don't have the resolution in column 0 and have a null value in column 1. We can use **Series.isnull()** to assign just to the rows with the **null values**:"
      ]
    },
    {
      "metadata": {
        "colab_type": "code",
        "id": "XxThRwyjSJ2J",
        "outputId": "a1f22177-866b-4b2c-b5a6-37baa0c4403d",
        "colab": {
          "base_uri": "https://localhost:8080/",
          "height": 359
        }
      },
      "cell_type": "code",
      "source": [
        "screen_res = laptops[\"screen\"].str.rsplit(n=1, expand=True)\n",
        "\n",
        "# giving the columns string labels makes them easier to work with\n",
        "screen_res.columns = [\"A\", \"B\"]\n",
        "\n",
        "# for rows where the value of column \"B\" is null, fill in the\n",
        "# value found in column \"A\" for that row\n",
        "screen_res.loc[screen_res[\"B\"].isnull(), \"B\"] = screen_res[\"A\"]\n",
        "\n",
        "screen_res.iloc[:10]"
      ],
      "execution_count": 27,
      "outputs": [
        {
          "output_type": "execute_result",
          "data": {
            "text/html": [
              "<div>\n",
              "<style scoped>\n",
              "    .dataframe tbody tr th:only-of-type {\n",
              "        vertical-align: middle;\n",
              "    }\n",
              "\n",
              "    .dataframe tbody tr th {\n",
              "        vertical-align: top;\n",
              "    }\n",
              "\n",
              "    .dataframe thead th {\n",
              "        text-align: right;\n",
              "    }\n",
              "</style>\n",
              "<table border=\"1\" class=\"dataframe\">\n",
              "  <thead>\n",
              "    <tr style=\"text-align: right;\">\n",
              "      <th></th>\n",
              "      <th>A</th>\n",
              "      <th>B</th>\n",
              "    </tr>\n",
              "  </thead>\n",
              "  <tbody>\n",
              "    <tr>\n",
              "      <th>0</th>\n",
              "      <td>IPS Panel Retina Display</td>\n",
              "      <td>2560x1600</td>\n",
              "    </tr>\n",
              "    <tr>\n",
              "      <th>1</th>\n",
              "      <td>1440x900</td>\n",
              "      <td>1440x900</td>\n",
              "    </tr>\n",
              "    <tr>\n",
              "      <th>2</th>\n",
              "      <td>Full HD</td>\n",
              "      <td>1920x1080</td>\n",
              "    </tr>\n",
              "    <tr>\n",
              "      <th>3</th>\n",
              "      <td>IPS Panel Retina Display</td>\n",
              "      <td>2880x1800</td>\n",
              "    </tr>\n",
              "    <tr>\n",
              "      <th>4</th>\n",
              "      <td>IPS Panel Retina Display</td>\n",
              "      <td>2560x1600</td>\n",
              "    </tr>\n",
              "    <tr>\n",
              "      <th>5</th>\n",
              "      <td>1366x768</td>\n",
              "      <td>1366x768</td>\n",
              "    </tr>\n",
              "    <tr>\n",
              "      <th>6</th>\n",
              "      <td>IPS Panel Retina Display</td>\n",
              "      <td>2880x1800</td>\n",
              "    </tr>\n",
              "    <tr>\n",
              "      <th>7</th>\n",
              "      <td>1440x900</td>\n",
              "      <td>1440x900</td>\n",
              "    </tr>\n",
              "    <tr>\n",
              "      <th>8</th>\n",
              "      <td>Full HD</td>\n",
              "      <td>1920x1080</td>\n",
              "    </tr>\n",
              "    <tr>\n",
              "      <th>9</th>\n",
              "      <td>IPS Panel Full HD</td>\n",
              "      <td>1920x1080</td>\n",
              "    </tr>\n",
              "  </tbody>\n",
              "</table>\n",
              "</div>"
            ],
            "text/plain": [
              "                          A          B\n",
              "0  IPS Panel Retina Display  2560x1600\n",
              "1                  1440x900   1440x900\n",
              "2                   Full HD  1920x1080\n",
              "3  IPS Panel Retina Display  2880x1800\n",
              "4  IPS Panel Retina Display  2560x1600\n",
              "5                  1366x768   1366x768\n",
              "6  IPS Panel Retina Display  2880x1800\n",
              "7                  1440x900   1440x900\n",
              "8                   Full HD  1920x1080\n",
              "9         IPS Panel Full HD  1920x1080"
            ]
          },
          "metadata": {
            "tags": []
          },
          "execution_count": 27
        }
      ]
    },
    {
      "metadata": {
        "colab_type": "text",
        "id": "SjBK9tjHSewa"
      },
      "cell_type": "markdown",
      "source": [
        "We've now extracted the resolution data, and we can then assign this to a new column:\n",
        "\n"
      ]
    },
    {
      "metadata": {
        "colab_type": "code",
        "id": "Eo6KXik3Snnu",
        "outputId": "5ac0a02f-7392-4c70-a2d0-4960525e91cb",
        "colab": {
          "base_uri": "https://localhost:8080/",
          "height": 102
        }
      },
      "cell_type": "code",
      "source": [
        "laptops[\"screen_resolution\"] = screen_res[\"B\"]\n",
        "print(laptops[\"screen_resolution\"].unique().shape)\n",
        "laptops[\"screen_resolution\"].unique()"
      ],
      "execution_count": 28,
      "outputs": [
        {
          "output_type": "stream",
          "text": [
            "(15,)\n"
          ],
          "name": "stdout"
        },
        {
          "output_type": "execute_result",
          "data": {
            "text/plain": [
              "array(['2560x1600', '1440x900', '1920x1080', '2880x1800', '1366x768',\n",
              "       '2304x1440', '3200x1800', '1920x1200', '2256x1504', '3840x2160',\n",
              "       '2160x1440', '2560x1440', '1600x900', '2736x1824', '2400x1600'],\n",
              "      dtype=object)"
            ]
          },
          "metadata": {
            "tags": []
          },
          "execution_count": 28
        }
      ]
    },
    {
      "metadata": {
        "colab_type": "text",
        "id": "2djhe7hLSqiK"
      },
      "cell_type": "markdown",
      "source": [
        "Our new **screen_resolution** column has just 15 unique values, down from the original 40. Let's use a similar technique to extract the **CPU speed** from the **cpu** column:"
      ]
    },
    {
      "metadata": {
        "colab_type": "code",
        "id": "U006ZGIMTNaL",
        "outputId": "355dcf41-0aa6-4360-c991-fd345e3a9290",
        "colab": {
          "base_uri": "https://localhost:8080/",
          "height": 68
        }
      },
      "cell_type": "code",
      "source": [
        "laptops[\"cpu\"].unique()[:5]"
      ],
      "execution_count": 29,
      "outputs": [
        {
          "output_type": "execute_result",
          "data": {
            "text/plain": [
              "array(['Intel Core i5 2.3GHz', 'Intel Core i5 1.8GHz',\n",
              "       'Intel Core i5 7200U 2.5GHz', 'Intel Core i7 2.7GHz',\n",
              "       'Intel Core i5 3.1GHz'], dtype=object)"
            ]
          },
          "metadata": {
            "tags": []
          },
          "execution_count": 29
        }
      ]
    },
    {
      "metadata": {
        "colab_type": "text",
        "id": "J4CZO-JrTQoZ"
      },
      "cell_type": "markdown",
      "source": [
        "From this data, we want to extract the processor **speed** as a number, eg from the string **'Intel Core i5 2.3GHz'** we want to extract a **float 2.3**.\n",
        "\n",
        "**Exercise**\n",
        "\n",
        "<left><img width=\"100\" src=\"https://drive.google.com/uc?export=view&id=1E8tR7B9YYUXsU_rddJAyq0FrM0MSelxZ\"></left>\n",
        "\n",
        "- From the **cpu** column, perform the following steps to extract and convert the **processor speed**, assigning the results to a new column **cpu_speed_ghz**:\n",
        "  - Use **Series.str.replace()** to remove the substring **\"GHz\"** each string.\n",
        "  - Use **Series.str.rsplit()** and **DataFrame.iloc[]** to select the numeric characters from the end of the string.\n",
        "  - Use **Series.astype()** to cast the values to the **float dtype**."
      ]
    },
    {
      "metadata": {
        "colab_type": "code",
        "id": "_VXuSURjU59D",
        "colab": {}
      },
      "cell_type": "code",
      "source": [
        "# put your code here\n",
        "laptops['cpu_speed_ghz'] = laptops['cpu'].str.replace('GHz', '')\n",
        "laptops['cpu_speed_ghz'] = laptops['cpu_speed_ghz'].str.rsplit(n=1, expand=True).iloc[:,1]\n",
        "laptops['cpu_speed_ghz'] = laptops['cpu_speed_ghz'].astype(float)"
      ],
      "execution_count": 0,
      "outputs": []
    },
    {
      "metadata": {
        "id": "L4D83LQeoi5i",
        "colab_type": "code",
        "colab": {
          "base_uri": "https://localhost:8080/",
          "height": 119
        },
        "outputId": "a4691094-78aa-416a-b62b-58bf0de5b5c3"
      },
      "cell_type": "code",
      "source": [
        "laptops['cpu_speed_ghz'].head()"
      ],
      "execution_count": 38,
      "outputs": [
        {
          "output_type": "execute_result",
          "data": {
            "text/plain": [
              "0    2.3\n",
              "1    1.8\n",
              "2    2.5\n",
              "3    2.7\n",
              "4    3.1\n",
              "Name: cpu_speed_ghz, dtype: float64"
            ]
          },
          "metadata": {
            "tags": []
          },
          "execution_count": 38
        }
      ]
    },
    {
      "metadata": {
        "colab_type": "text",
        "id": "ItZt1vX4WAcb"
      },
      "cell_type": "markdown",
      "source": [
        "## 7 Correcting Bad Values\n"
      ]
    },
    {
      "metadata": {
        "id": "NV8GUvdmB7l5",
        "colab_type": "text"
      },
      "cell_type": "markdown",
      "source": [
        "\n",
        "If your data has been scraped from a webpage, or if there was manual data entry involved at some point, you may end up with inconsistent values. Let's look at an example from our **os** column:"
      ]
    },
    {
      "metadata": {
        "colab_type": "code",
        "id": "DR-c3bmdWK5N",
        "outputId": "b8adca4b-7066-4256-9b8e-32b0b72d46e3",
        "colab": {
          "base_uri": "https://localhost:8080/",
          "height": 153
        }
      },
      "cell_type": "code",
      "source": [
        "laptops.os.value_counts()"
      ],
      "execution_count": 39,
      "outputs": [
        {
          "output_type": "execute_result",
          "data": {
            "text/plain": [
              "Windows      1125\n",
              "No OS          66\n",
              "Linux          62\n",
              "Chrome OS      27\n",
              "macOS          13\n",
              "Mac OS          8\n",
              "Android         2\n",
              "Name: os, dtype: int64"
            ]
          },
          "metadata": {
            "tags": []
          },
          "execution_count": 39
        }
      ]
    },
    {
      "metadata": {
        "colab_type": "text",
        "id": "INx2SWM1WTYf"
      },
      "cell_type": "markdown",
      "source": [
        "We can see that there are two variations on how the Apple operating system **macOS** exists in our dataset: **Mac OS** and **macOS**. One way we could fix this is by using a boolean comparison and assignment, but instead we'll learn a new way: the [Series.map()](http://pandas.pydata.org/pandas-docs/stable/generated/pandas.Series.map.html) method. The **Series.map()** method is ideal when we want to change multiple values in a column. Even though that's not the case here, we'll use it as an opportunity to learn how the method works.\n",
        "\n",
        "The most common way to use **Series.map()** is with a dictionary. The keys of our dictionary are the original values in our series, and the corresponding values are what they're updated to. Let's look at a simple example using a series of misspelled fruit:\n",
        "\n"
      ]
    },
    {
      "metadata": {
        "colab_type": "code",
        "id": "e9jtHbVyWwj8",
        "colab": {}
      },
      "cell_type": "code",
      "source": [
        "s = pd.Series([\"pair\",\"oranje\",\"bananna\",\"oranje\",\"oranje\",\"oranje\"])"
      ],
      "execution_count": 0,
      "outputs": []
    },
    {
      "metadata": {
        "colab_type": "text",
        "id": "SXOmHve5XixL"
      },
      "cell_type": "markdown",
      "source": [
        "We'll create a **dictionary** called corrections and pass that dictionary as an argument to **Series.map()**:"
      ]
    },
    {
      "metadata": {
        "colab_type": "code",
        "id": "3p8W2ob5XsJp",
        "outputId": "7c040e3a-1642-4858-d807-77c784030d5b",
        "colab": {
          "base_uri": "https://localhost:8080/",
          "height": 136
        }
      },
      "cell_type": "code",
      "source": [
        "corrections = {\n",
        "    \"pair\": \"pear\",\n",
        "    \"oranje\": \"orange\",\n",
        "    \"bananna\": \"banana\"\n",
        "}\n",
        "\n",
        "s = s.map(corrections)\n",
        "print(s)"
      ],
      "execution_count": 41,
      "outputs": [
        {
          "output_type": "stream",
          "text": [
            "0      pear\n",
            "1    orange\n",
            "2    banana\n",
            "3    orange\n",
            "4    orange\n",
            "5    orange\n",
            "dtype: object\n"
          ],
          "name": "stdout"
        }
      ]
    },
    {
      "metadata": {
        "colab_type": "text",
        "id": "-r6s4IaHYCu6"
      },
      "cell_type": "markdown",
      "source": [
        "We can see that each of our corrections were made across our series. One important thing to remember with **Series.map()** is that if a value from your series doesn't exist as a key in your dictionary, it will convert that value to **NaN**. Let's see what happens when we run map one more time:"
      ]
    },
    {
      "metadata": {
        "colab_type": "code",
        "id": "ihIoQkpQXxU1",
        "outputId": "7013c1b1-36ab-452d-b9da-f03889217d28",
        "colab": {
          "base_uri": "https://localhost:8080/",
          "height": 136
        }
      },
      "cell_type": "code",
      "source": [
        "s.map(corrections)"
      ],
      "execution_count": 42,
      "outputs": [
        {
          "output_type": "execute_result",
          "data": {
            "text/plain": [
              "0    NaN\n",
              "1    NaN\n",
              "2    NaN\n",
              "3    NaN\n",
              "4    NaN\n",
              "5    NaN\n",
              "dtype: object"
            ]
          },
          "metadata": {
            "tags": []
          },
          "execution_count": 42
        }
      ]
    },
    {
      "metadata": {
        "colab_type": "text",
        "id": "DYpzSKqzX-Xy"
      },
      "cell_type": "markdown",
      "source": [
        "Because none of the corrected values in our series existed as keys in our dictionary, all values become **NaN**! It's very common to come across this, **especially when working in Jupyter notebook where you can easily re-run cells**.\n",
        "\n",
        "Let's use **Series.map()** to clean the values in the **os** column.\n",
        "\n",
        "**Exercise**\n",
        "\n",
        "<left><img width=\"100\" src=\"https://drive.google.com/uc?export=view&id=1E8tR7B9YYUXsU_rddJAyq0FrM0MSelxZ\"></left>\n",
        "\n",
        "\n",
        "1. We have created a dictionary for you to use with mapping. Note that we have included both the correct and incorrect spelling of macOS as keys, otherwise we'll end up with null values.\n",
        "  - Use the **Series.map()** method with the **mapping_dict** dictionary to correct the values in the **os** column."
      ]
    },
    {
      "metadata": {
        "colab_type": "code",
        "id": "h3RZW2ffYRcT",
        "colab": {
          "base_uri": "https://localhost:8080/",
          "height": 1071
        },
        "outputId": "5b568c6f-0cbd-4155-e9c2-977987d271ba"
      },
      "cell_type": "code",
      "source": [
        "mapping_dict = {\n",
        "    'Android': 'Android',\n",
        "    'Chrome OS': 'Chrome OS',\n",
        "    'Linux': 'Linux',\n",
        "    'Mac OS': 'macOS',\n",
        "    'No OS': 'No OS',\n",
        "    'Windows': 'Windows',\n",
        "    'macOS': 'macOS'\n",
        "}\n",
        "\n",
        "# put your code here\n",
        "\n",
        "laptops['os'].map(mapping_dict)"
      ],
      "execution_count": 43,
      "outputs": [
        {
          "output_type": "execute_result",
          "data": {
            "text/plain": [
              "0         macOS\n",
              "1         macOS\n",
              "2         No OS\n",
              "3         macOS\n",
              "4         macOS\n",
              "5       Windows\n",
              "6         macOS\n",
              "7         macOS\n",
              "8       Windows\n",
              "9       Windows\n",
              "10        No OS\n",
              "11        No OS\n",
              "12        macOS\n",
              "13      Windows\n",
              "14        macOS\n",
              "15        macOS\n",
              "16      Windows\n",
              "17        macOS\n",
              "18        No OS\n",
              "19      Windows\n",
              "20      Windows\n",
              "21      Windows\n",
              "22        No OS\n",
              "23      Windows\n",
              "24      Windows\n",
              "25      Windows\n",
              "26        macOS\n",
              "27      Windows\n",
              "28      Windows\n",
              "29      Windows\n",
              "         ...   \n",
              "1273    Windows\n",
              "1274    Windows\n",
              "1275    Windows\n",
              "1276    Windows\n",
              "1277      Linux\n",
              "1278    Windows\n",
              "1279    Windows\n",
              "1280    Windows\n",
              "1281      Linux\n",
              "1282    Windows\n",
              "1283    Windows\n",
              "1284    Windows\n",
              "1285    Windows\n",
              "1286    Windows\n",
              "1287    Windows\n",
              "1288    Windows\n",
              "1289    Windows\n",
              "1290    Windows\n",
              "1291      Linux\n",
              "1292    Windows\n",
              "1293    Windows\n",
              "1294    Windows\n",
              "1295      Linux\n",
              "1296    Windows\n",
              "1297    Windows\n",
              "1298    Windows\n",
              "1299    Windows\n",
              "1300    Windows\n",
              "1301    Windows\n",
              "1302    Windows\n",
              "Name: os, Length: 1303, dtype: object"
            ]
          },
          "metadata": {
            "tags": []
          },
          "execution_count": 43
        }
      ]
    },
    {
      "metadata": {
        "colab_type": "text",
        "id": "fSNsLsidYroC"
      },
      "cell_type": "markdown",
      "source": [
        "## 8 Dropping Missing Values\n"
      ]
    },
    {
      "metadata": {
        "id": "s3f009kdB_z2",
        "colab_type": "text"
      },
      "cell_type": "markdown",
      "source": [
        "\n",
        "In previous missions, we've talked briefly about missing values, and how both NumPy and pandas represent these as null values. In pandas null values will be indicated by either **NaN** or **None**. Generally the first thing that we want to do is identify which values are missing.\n",
        "\n",
        "There are two approaches we can use: the **DataFrame.info()** method and the **DataFrame.isnull()** method. The **DataFrame.info()** method will print information about the dataframe, including the number of **non-null** values in each column:"
      ]
    },
    {
      "metadata": {
        "colab_type": "code",
        "id": "ilSSHD8Db_1l",
        "outputId": "c10fbd98-7f8b-4d8e-b69f-f8d53eb3b753",
        "colab": {
          "base_uri": "https://localhost:8080/",
          "height": 374
        }
      },
      "cell_type": "code",
      "source": [
        "laptops.info()"
      ],
      "execution_count": 44,
      "outputs": [
        {
          "output_type": "stream",
          "text": [
            "<class 'pandas.core.frame.DataFrame'>\n",
            "RangeIndex: 1303 entries, 0 to 1302\n",
            "Data columns (total 16 columns):\n",
            "manufacturer          1303 non-null object\n",
            "model_name            1303 non-null object\n",
            "category              1303 non-null object\n",
            "screen_size_inches    1303 non-null float64\n",
            "screen                1303 non-null object\n",
            "cpu                   1303 non-null object\n",
            "ram_gb                1303 non-null int64\n",
            "storage               1303 non-null object\n",
            "gpu                   1303 non-null object\n",
            "os                    1303 non-null object\n",
            "os_version            1133 non-null object\n",
            "weight_kg             1303 non-null float64\n",
            "price_euros           1303 non-null float64\n",
            "cpu_manufacturer      1303 non-null object\n",
            "screen_resolution     1303 non-null object\n",
            "cpu_speed_ghz         1303 non-null float64\n",
            "dtypes: float64(4), int64(1), object(11)\n",
            "memory usage: 163.0+ KB\n"
          ],
          "name": "stdout"
        }
      ]
    },
    {
      "metadata": {
        "colab_type": "text",
        "id": "sP0fI9xYcBGm"
      },
      "cell_type": "markdown",
      "source": [
        "There are two downsides to this approach \n",
        "  - firstly the information is printed, so we can't easily work with it, \n",
        "  - and secondly looking at the number of non-null values can be harder to understand than looking at the number of null values. \n",
        "  \n",
        "In contrast, **DataFrame.isnull()** returns a boolean dataframe with **True** and **False** indications for every value in the dataframe, and then we can use **DataFrame.sum()** to give us accounts– using a **.sum()** method on a boolean array will give us a count of the **True** values:\n"
      ]
    },
    {
      "metadata": {
        "colab_type": "code",
        "id": "h6UW671lcU-B",
        "outputId": "f2c50b3e-a756-4f41-e357-33418197fb77",
        "colab": {
          "base_uri": "https://localhost:8080/",
          "height": 306
        }
      },
      "cell_type": "code",
      "source": [
        "laptops.isnull().sum()"
      ],
      "execution_count": 45,
      "outputs": [
        {
          "output_type": "execute_result",
          "data": {
            "text/plain": [
              "manufacturer            0\n",
              "model_name              0\n",
              "category                0\n",
              "screen_size_inches      0\n",
              "screen                  0\n",
              "cpu                     0\n",
              "ram_gb                  0\n",
              "storage                 0\n",
              "gpu                     0\n",
              "os                      0\n",
              "os_version            170\n",
              "weight_kg               0\n",
              "price_euros             0\n",
              "cpu_manufacturer        0\n",
              "screen_resolution       0\n",
              "cpu_speed_ghz           0\n",
              "dtype: int64"
            ]
          },
          "metadata": {
            "tags": []
          },
          "execution_count": 45
        }
      ]
    },
    {
      "metadata": {
        "colab_type": "text",
        "id": "iyiiVnzQcZl2"
      },
      "cell_type": "markdown",
      "source": [
        "It's a lot clearer that we have only one column with null values– **os_version**, which has 170 missing values of the ~1300 total, about 13%.\n",
        "\n",
        "We have a few options for how we can handle missing values:\n",
        "\n",
        "- Remove any rows that have missing values.\n",
        "- Remove any columns that have missing values.\n",
        "- Fill the missing values with some other value.\n",
        "- Leave the missing values as is.\n",
        "\n",
        "The first two options, removing columns and/or rows with missing values is often used when preparing data for machine learning, as machine learning algorithms are unable to be trained on data that includes null values. The methods that we use to remove rows and columns with null values is the **DataFrame.dropna()** method. As a result, removing columns and rows is commonly known as **dropping**.\n",
        "\n",
        "The **DataFrame.dropna()** method accepts an **axis** parameter, which indicates whether we want to drop along the column or index axis. Let's look at an example of this using an example dataframe:\n",
        "\n",
        "<img width=\"500\" src=\"https://drive.google.com/uc?export=view&id=1ekeSgwQGmBjbHLQwcNyWp7QyGlH9JHgE\">\n",
        "\n",
        "The default value for the axis parameter is 0, so **df.dropna()** returns an identical result to **df.dropna(axis=0)**:\n",
        "\n",
        "<img width=\"500\" src=\"https://drive.google.com/uc?export=view&id=1otmPswYfIZ0RHuHVcvYAy4hN5-Z7lqN4\">\n",
        "\n",
        "\n",
        "The rows with labels x and z contain null values, so those values are dropped. Let's look at what happens when we use **axis=1** to specify the column axis:\n",
        "\n",
        "\n",
        "<img width=\"500\" src=\"https://drive.google.com/uc?export=view&id=1ygwufYovi1TvKzhzyP5X72l96wOHyDdU\">\n",
        "\n",
        "Only the column with label C contains null values, so in this case just one column is removed.\n",
        "\n",
        "Based off our earlier exercises to identify which columns contain null values, and how many, we know that these two techniques will remove 170 rows and 1 column, respectively. Let's practice using **DataFrame.dropna()** to remove rows and columns:\n",
        "\n",
        "\n",
        "**Exercise**\n",
        "\n",
        "<left><img width=\"100\" src=\"https://drive.google.com/uc?export=view&id=1E8tR7B9YYUXsU_rddJAyq0FrM0MSelxZ\"></left>\n",
        "\n",
        "\n",
        "\n",
        "- Use **DataFrame.dropna()** to remove any rows from the **laptops** dataframe that have null values, assigning the result to **laptops_no_null_rows**.\n",
        "- Use **DataFrame.dropna()** to remove any columns from the **laptops** dataframe that have null values, assigning the result to **laptops_no_null_cols**.\n"
      ]
    },
    {
      "metadata": {
        "colab_type": "code",
        "id": "wmWNysiJfxvB",
        "colab": {}
      },
      "cell_type": "code",
      "source": [
        "# put your code here\n",
        "\n",
        "laptops_no_null_rows = laptops.dropna()\n",
        "laptops_no_null_cols = laptops.dropna(axis=1)"
      ],
      "execution_count": 0,
      "outputs": []
    },
    {
      "metadata": {
        "id": "Daik2jIfHP8z",
        "colab_type": "code",
        "colab": {
          "base_uri": "https://localhost:8080/",
          "height": 306
        },
        "outputId": "2f770478-6f59-4338-83db-412a9aabd600"
      },
      "cell_type": "code",
      "source": [
        "laptops_no_null_rows.isnull().sum()"
      ],
      "execution_count": 47,
      "outputs": [
        {
          "output_type": "execute_result",
          "data": {
            "text/plain": [
              "manufacturer          0\n",
              "model_name            0\n",
              "category              0\n",
              "screen_size_inches    0\n",
              "screen                0\n",
              "cpu                   0\n",
              "ram_gb                0\n",
              "storage               0\n",
              "gpu                   0\n",
              "os                    0\n",
              "os_version            0\n",
              "weight_kg             0\n",
              "price_euros           0\n",
              "cpu_manufacturer      0\n",
              "screen_resolution     0\n",
              "cpu_speed_ghz         0\n",
              "dtype: int64"
            ]
          },
          "metadata": {
            "tags": []
          },
          "execution_count": 47
        }
      ]
    },
    {
      "metadata": {
        "id": "BgI1pS1VHUYg",
        "colab_type": "code",
        "colab": {
          "base_uri": "https://localhost:8080/",
          "height": 306
        },
        "outputId": "fe359f4e-960c-4a20-85f4-8db106f113ac"
      },
      "cell_type": "code",
      "source": [
        "laptops.isnull().sum()"
      ],
      "execution_count": 48,
      "outputs": [
        {
          "output_type": "execute_result",
          "data": {
            "text/plain": [
              "manufacturer            0\n",
              "model_name              0\n",
              "category                0\n",
              "screen_size_inches      0\n",
              "screen                  0\n",
              "cpu                     0\n",
              "ram_gb                  0\n",
              "storage                 0\n",
              "gpu                     0\n",
              "os                      0\n",
              "os_version            170\n",
              "weight_kg               0\n",
              "price_euros             0\n",
              "cpu_manufacturer        0\n",
              "screen_resolution       0\n",
              "cpu_speed_ghz           0\n",
              "dtype: int64"
            ]
          },
          "metadata": {
            "tags": []
          },
          "execution_count": 48
        }
      ]
    },
    {
      "metadata": {
        "colab_type": "text",
        "id": "IP_iO8PTf2Fl"
      },
      "cell_type": "markdown",
      "source": [
        "## 9 Filling Missing Values\n"
      ]
    },
    {
      "metadata": {
        "id": "SB3rzpa7CCXZ",
        "colab_type": "text"
      },
      "cell_type": "markdown",
      "source": [
        "\n",
        "\n",
        "In the previous screen, we learned there are various ways we can choose to deal with missing values:\n",
        "\n",
        "- Remove any rows that have missing values.\n",
        "- Remove any columns that have missing values.\n",
        "- Fill the missing values with some other value.\n",
        "- Leave the missing values as is.\n",
        "\n",
        "While choosing to drop either the **rows** or **columns** is the easiest approach to dealing with missing values, it may not always be the best approach. If, for example, one particular manufacturer's laptops have a greater percentage of missing values for the **os_version** column, we might have removed a disproportionate amount of that manufacturer's laptops, which would affect our analysis.\n",
        "\n",
        "Because of this, it's worthwhile exploring the missing values before you make your decision. One method is to explore all of the values in the column. We can use **Series.value_counts()** for this, but we'll use a new parameter we haven't previously used, **dropna=False**. By default, **Series.value_counts()** won't include null values in its output. This parameter allows us to explicitly indicate we want to see the null values:\n",
        "\n"
      ]
    },
    {
      "metadata": {
        "colab_type": "code",
        "id": "iGI5Z0LDivqL",
        "colab": {
          "base_uri": "https://localhost:8080/",
          "height": 119
        },
        "outputId": "cc902091-a2a9-4110-ecd3-807a0cde17eb"
      },
      "cell_type": "code",
      "source": [
        "laptops[\"os_version\"].value_counts(dropna=False)"
      ],
      "execution_count": 49,
      "outputs": [
        {
          "output_type": "execute_result",
          "data": {
            "text/plain": [
              "10      1072\n",
              "NaN      170\n",
              "7         45\n",
              "10 S       8\n",
              "X          8\n",
              "Name: os_version, dtype: int64"
            ]
          },
          "metadata": {
            "tags": []
          },
          "execution_count": 49
        }
      ]
    },
    {
      "metadata": {
        "colab_type": "text",
        "id": "ob4D-vUeizb0"
      },
      "cell_type": "markdown",
      "source": [
        "We can see that the majority of values in the column are **10**, with the missing values the next most commons, and then about 5% of values being one of three others.\n",
        "\n",
        "We can also explore values of the other columns in the rows with null values. In this case, the **os_version** column is closely related to the os column, so we'll look at those values:\n"
      ]
    },
    {
      "metadata": {
        "colab_type": "code",
        "id": "twTLHt5mi8-0",
        "colab": {
          "base_uri": "https://localhost:8080/",
          "height": 119
        },
        "outputId": "f7a4e87d-f84c-4a59-8068-c984cbe78eef"
      },
      "cell_type": "code",
      "source": [
        "os_with_null_v = laptops.loc[laptops[\"os_version\"].isnull(),\"os\"]\n",
        "os_with_null_v.value_counts()"
      ],
      "execution_count": 51,
      "outputs": [
        {
          "output_type": "execute_result",
          "data": {
            "text/plain": [
              "No OS        66\n",
              "Linux        62\n",
              "Chrome OS    27\n",
              "macOS        13\n",
              "Android       2\n",
              "Name: os, dtype: int64"
            ]
          },
          "metadata": {
            "tags": []
          },
          "execution_count": 51
        }
      ]
    },
    {
      "metadata": {
        "colab_type": "text",
        "id": "OtCcHrtOjE__"
      },
      "cell_type": "markdown",
      "source": [
        "Immediately we can observe a few things:\n",
        "\n",
        "- Most of the missing values are actually when the laptop doesn't include any OS. This is an important distinction, because it's not so much that we don't know what the value is, as that there can't be a value.\n",
        "- 13 of the laptops that come with macOS do not specify the version. Leaning on our knowledge of MacOS, we might know that the full name of macOS used to be Mac OS X, and so we might to fill these values to be more consistent.\n",
        "\n",
        "In both of these cases, we can fill the missing values to make our data more correct. For the rest of the values, it's probably best to leave them as missing so we don't remove important values.\n",
        "\n",
        "First, let's explore those mac columns a bit more to make sure our intuition was correct"
      ]
    },
    {
      "metadata": {
        "colab_type": "code",
        "id": "9yI_Sp4gjVsR",
        "colab": {
          "base_uri": "https://localhost:8080/",
          "height": 51
        },
        "outputId": "797a1df3-b8ab-4b7a-e133-4278d9651857"
      },
      "cell_type": "code",
      "source": [
        "mac_os_versions = laptops.loc[laptops[\"os\"] == \"macOS\", \"os_version\"]\n",
        "mac_os_versions.value_counts(dropna=False)"
      ],
      "execution_count": 52,
      "outputs": [
        {
          "output_type": "execute_result",
          "data": {
            "text/plain": [
              "NaN    13\n",
              "Name: os_version, dtype: int64"
            ]
          },
          "metadata": {
            "tags": []
          },
          "execution_count": 52
        }
      ]
    },
    {
      "metadata": {
        "colab_type": "code",
        "id": "dj_lgRT3kigh",
        "colab": {}
      },
      "cell_type": "code",
      "source": [
        "laptops.loc[laptops[\"os\"] == \"macOS\", \"os_version\"] = \"X\""
      ],
      "execution_count": 0,
      "outputs": []
    },
    {
      "metadata": {
        "colab_type": "text",
        "id": "CiV9a8NImVEd"
      },
      "cell_type": "markdown",
      "source": [
        "For our other case, let's insert a **No OS** value into the **os_version** column for any laptop with a **No OS** value in the **os** column.\n",
        "\n",
        "\n",
        "**Exercise**\n",
        "\n",
        "<left><img width=\"100\" src=\"https://drive.google.com/uc?export=view&id=1E8tR7B9YYUXsU_rddJAyq0FrM0MSelxZ\"></left>\n",
        "\n",
        "\n",
        "- Use a boolean array to identify rows that have the value **No OS** for the **os** column, and then use assignment to assign the value **Version Unknown** to the **os_version** column for those rows.\n",
        "- Use the syntax below to create **value_counts_after** variable:\n",
        "\n",
        "```python\n",
        "value_counts_after = laptops.loc[laptops[\"os_version\"].isnull(), \"os\"].value_counts()\n",
        "```\n"
      ]
    },
    {
      "metadata": {
        "colab_type": "code",
        "id": "KPo_3Z5jmkzg",
        "colab": {}
      },
      "cell_type": "code",
      "source": [
        "# put your code here\n",
        "laptops.loc[ laptops[\"os\"] ==\"No OS\"  , \"os_version\"] = \"Version Unknown\""
      ],
      "execution_count": 0,
      "outputs": []
    },
    {
      "metadata": {
        "id": "MCbHklc4H70I",
        "colab_type": "code",
        "colab": {}
      },
      "cell_type": "code",
      "source": [
        "value_counts_after = laptops.loc[laptops[\"os_version\"].isnull(), \"os\"].value_counts()"
      ],
      "execution_count": 0,
      "outputs": []
    },
    {
      "metadata": {
        "id": "ELlLO1-DIGkS",
        "colab_type": "code",
        "colab": {
          "base_uri": "https://localhost:8080/",
          "height": 102
        },
        "outputId": "d3a5df52-081f-4f2a-9411-a01a05499324"
      },
      "cell_type": "code",
      "source": [
        "value_counts_after"
      ],
      "execution_count": 60,
      "outputs": [
        {
          "output_type": "execute_result",
          "data": {
            "text/plain": [
              "No OS        66\n",
              "Linux        62\n",
              "Chrome OS    27\n",
              "Android       2\n",
              "Name: os, dtype: int64"
            ]
          },
          "metadata": {
            "tags": []
          },
          "execution_count": 60
        }
      ]
    },
    {
      "metadata": {
        "colab_type": "text",
        "id": "buSllVWVn3l3"
      },
      "cell_type": "markdown",
      "source": [
        "## 10 Challenge: Extracting Storage Information\n"
      ]
    },
    {
      "metadata": {
        "id": "g3vVZn7fCH4Z",
        "colab_type": "text"
      },
      "cell_type": "markdown",
      "source": [
        "\n",
        "Now it's time for a challenge to bring together a lot of the concepts we've learned so far! In this challenge we're going to clean the storage column, which contains information about the disks within the laptops. Let's look at a sample of the data in that column:\n"
      ]
    },
    {
      "metadata": {
        "colab_type": "code",
        "id": "mTz5Pve-tMnL",
        "outputId": "493a02c5-eccc-47d4-9427-2c6978191f09",
        "colab": {
          "base_uri": "https://localhost:8080/",
          "height": 136
        }
      },
      "cell_type": "code",
      "source": [
        "laptops.loc[76:81, \"storage\"]"
      ],
      "execution_count": 61,
      "outputs": [
        {
          "output_type": "execute_result",
          "data": {
            "text/plain": [
              "76                 2TB HDD\n",
              "77    128GB SSD +  1TB HDD\n",
              "78                 1TB HDD\n",
              "79    128GB SSD +  1TB HDD\n",
              "80               256GB SSD\n",
              "81               512GB SSD\n",
              "Name: storage, dtype: object"
            ]
          },
          "metadata": {
            "tags": []
          },
          "execution_count": 61
        }
      ]
    },
    {
      "metadata": {
        "colab_type": "text",
        "id": "ZMsTRZh_tQaY"
      },
      "cell_type": "markdown",
      "source": [
        "From this sample, we can observe:\n",
        "\n",
        "- Some laptops have two disks and some just have one.\n",
        "- Each disk has a capacity (eg 128GB) and a type (eg SSD).\n",
        "- Capacities are expressed in either gigabytes (GB) or terabytes (TB).\n",
        "\n",
        "Our aim is to extract this data into several new columns. Our final data will looks like this:\n",
        "\n",
        "\n",
        "| _  | storage_1_capacity_gb | storage_1_type | storage_2_capacity_gb | storage_2_type |\n",
        "|----|-----------------------|----------------|-----------------------|----------------|\n",
        "| 76 | 2000.0                | HDD            | NaN                   | None           |\n",
        "| 77 | 128.0                 | SSD            | 1000.0                | HDD            |\n",
        "| 78 | 1000.0                | HDD            | NaN                   | None           |\n",
        "| 79 | 128.0                 | SSD            | 1000.0                | HDD            |\n",
        "| 80 | 256.0                 | SSD            | NaN                   | None           |\n",
        "| 81 | 512.0                 | SSD            | NaN                   |  None              |\n",
        "\n",
        "\n",
        "- The **storage_1_capacity_gb** and **storage_2_capacity_gb** columns are both **float** type, and both store the capacity with uniform units - gigabytes, where 1TB is 1000GB.\n",
        "- If there is only one disk in the laptop, both **storage_2_capacity_gb** and **storage_2_type** are null.\n",
        "\n",
        "\n",
        "Your task is to create the four new columns as seen above, and remove the existing storage column. To remove a column, you can use the **DataFrame.drop()** method:\n",
        "\n",
        "```python\n",
        "laptops = laptops.drop('storage', axis=1)\n",
        "```\n",
        "\n",
        "If you create any temporary columns along the way in order to complete these challenge, **DataFrame.drop()** accepts a list of labels so you can remove them all in one line.\n",
        "\n",
        "**Exercise**\n",
        "\n",
        "<left><img width=\"100\" src=\"https://drive.google.com/uc?export=view&id=1E8tR7B9YYUXsU_rddJAyq0FrM0MSelxZ\"></left>\n",
        "\n",
        "1. Clean the **storage** column, creating four new columns:\n",
        "  - **storage_1_capacity_gb**, with **float** dtype.\n",
        "  - **storage_1_type**.\n",
        "  - **storage_2_capacity_gb**, with **float** dtype. If there is only one drive, this column should be null.\n",
        "  - **storage_2_type**. If there is only one drive, this column should be null.\n",
        "  - If needed, don't forget to strip the columns of any extra whitespace.\n",
        "2. Drop the **original storage** column and any temporary columns you made while completing the exercise.\n"
      ]
    },
    {
      "metadata": {
        "colab_type": "code",
        "id": "v5XzMJ0m2KxU",
        "colab": {}
      },
      "cell_type": "code",
      "source": [
        "# tip\n",
        "\n",
        "# replace 'TB' with 000 and rm 'GB'\n",
        "laptops[\"storage\"] = laptops[\"storage\"].str.replace('GB','').str.replace('TB','000')\n",
        "\n",
        "# split out into two columns for storage\n",
        "laptops[[\"storage_1\", \"storage_2\"]] = laptops[\"storage\"].str.split(\"+\", expand=True)\n",
        "\n",
        "# put your code here\n",
        "laptops[\"storage_1_capacity_gb\"] = laptops[\"storage_1\"].str.replace(r\"[a-zA-z\\s]\",\"\").astype(float)\n",
        "laptops[\"storage_2_capacity_gb\"] = laptops[\"storage_2\"].str.replace(r\"[a-zA-z\\s]\",\"\").astype(float)\n",
        "laptops[\"storage_1_type\"] = laptops[\"storage_1\"].str.replace(r\"[\\d]\", \"\")\n",
        "laptops[\"storage_2_type\"] = laptops[\"storage_2\"].str.replace(r\"[\\d]\", \"\")"
      ],
      "execution_count": 0,
      "outputs": []
    },
    {
      "metadata": {
        "id": "M2TfwK7-MOQe",
        "colab_type": "code",
        "colab": {
          "base_uri": "https://localhost:8080/",
          "height": 204
        },
        "outputId": "662e06e0-bed6-45e8-8481-bac9eb31d0c0"
      },
      "cell_type": "code",
      "source": [
        "laptops[[\"storage_1_capacity_gb\", \"storage_1_type\", \"storage_2_capacity_gb\", \"storage_2_type\"]].head()"
      ],
      "execution_count": 67,
      "outputs": [
        {
          "output_type": "execute_result",
          "data": {
            "text/html": [
              "<div>\n",
              "<style scoped>\n",
              "    .dataframe tbody tr th:only-of-type {\n",
              "        vertical-align: middle;\n",
              "    }\n",
              "\n",
              "    .dataframe tbody tr th {\n",
              "        vertical-align: top;\n",
              "    }\n",
              "\n",
              "    .dataframe thead th {\n",
              "        text-align: right;\n",
              "    }\n",
              "</style>\n",
              "<table border=\"1\" class=\"dataframe\">\n",
              "  <thead>\n",
              "    <tr style=\"text-align: right;\">\n",
              "      <th></th>\n",
              "      <th>storage_1_capacity_gb</th>\n",
              "      <th>storage_1_type</th>\n",
              "      <th>storage_2_capacity_gb</th>\n",
              "      <th>storage_2_type</th>\n",
              "    </tr>\n",
              "  </thead>\n",
              "  <tbody>\n",
              "    <tr>\n",
              "      <th>0</th>\n",
              "      <td>128.0</td>\n",
              "      <td>SSD</td>\n",
              "      <td>NaN</td>\n",
              "      <td>None</td>\n",
              "    </tr>\n",
              "    <tr>\n",
              "      <th>1</th>\n",
              "      <td>128.0</td>\n",
              "      <td>Flash Storage</td>\n",
              "      <td>NaN</td>\n",
              "      <td>None</td>\n",
              "    </tr>\n",
              "    <tr>\n",
              "      <th>2</th>\n",
              "      <td>256.0</td>\n",
              "      <td>SSD</td>\n",
              "      <td>NaN</td>\n",
              "      <td>None</td>\n",
              "    </tr>\n",
              "    <tr>\n",
              "      <th>3</th>\n",
              "      <td>512.0</td>\n",
              "      <td>SSD</td>\n",
              "      <td>NaN</td>\n",
              "      <td>None</td>\n",
              "    </tr>\n",
              "    <tr>\n",
              "      <th>4</th>\n",
              "      <td>256.0</td>\n",
              "      <td>SSD</td>\n",
              "      <td>NaN</td>\n",
              "      <td>None</td>\n",
              "    </tr>\n",
              "  </tbody>\n",
              "</table>\n",
              "</div>"
            ],
            "text/plain": [
              "   storage_1_capacity_gb  storage_1_type  storage_2_capacity_gb storage_2_type\n",
              "0                  128.0             SSD                    NaN           None\n",
              "1                  128.0   Flash Storage                    NaN           None\n",
              "2                  256.0             SSD                    NaN           None\n",
              "3                  512.0             SSD                    NaN           None\n",
              "4                  256.0             SSD                    NaN           None"
            ]
          },
          "metadata": {
            "tags": []
          },
          "execution_count": 67
        }
      ]
    },
    {
      "metadata": {
        "colab_type": "text",
        "id": "2JDbF43x4lGt"
      },
      "cell_type": "markdown",
      "source": [
        "## 11 Reordering Columns and Exporting Cleaned Data\n"
      ]
    },
    {
      "metadata": {
        "id": "AEGwXiBHCLrD",
        "colab_type": "text"
      },
      "cell_type": "markdown",
      "source": [
        "\n",
        "We have finished cleaning our data. Our last step is to reorder the columns, and then save out our cleaned data to a CSV file, so that we can re-read it again as a clean version.\n",
        "\n",
        "To reorder columns, we start by using the **DataFrame.columns** attribute to produce a list of the current columns:\n",
        "\n",
        "```python\n",
        "print(laptops.columns)\n",
        "\n",
        "['manufacturer', 'model_name', 'category', 'screen_size_inches',\n",
        " 'screen', 'cpu', 'ram_gb', 'gpu', 'os', 'os_version',\n",
        " 'weight_kg', 'price_euros', 'cpu_manufacturer',\n",
        " 'screen_resolution', 'cpu_speed', 'storage_1_capacity_gb',\n",
        " 'storage_1_type', 'storage_2_capacity_gb', 'storage_2_type']\n",
        "```\n",
        "\n",
        "All of our new columns have been added to the end of the axis– our aim is to group similar columns together. We can manually rearrange this list, and then assign the rearranged list back to laptops.column.\n",
        "\n",
        "To save out our CSV file, we use the **DataFrame.to_csv()** method. The syntax you'll use most of the time when saving out a CSV is:\n",
        "\n",
        "```python\n",
        "df.to_csv('filename.csv', index=False)\n",
        "```\n",
        "\n",
        "By default, pandas will save the index labels as a column in the CSV file. Our dataset has integer labels which don't contain any data, so we don't need to save the index out.\n",
        "\n",
        "Let's re-order the columns, save out the cleaned CSV, and then re-read it into a new dataframe to compare the dtypes before and after.\n",
        "\n",
        "**Exercise**\n",
        "\n",
        "<left><img width=\"100\" src=\"https://drive.google.com/uc?export=view&id=1E8tR7B9YYUXsU_rddJAyq0FrM0MSelxZ\"></left>\n",
        "\n",
        "- Using the **cols** list we have created for laptops, reorder the columns in the laptops dataframe.\n",
        "- Use the **DataFrame.to_csv()** method to save the laptops dataframe to a CSV file **laptops_cleaned.csv** without index labels.\n",
        "- Read **laptops_cleaned.csv** into a new dataframe, **laptops_cleaned**.\n",
        "- Use the **DataFrame.dtypes** attribute to assign the dtypes from **laptops_cleaned** to **laptops_cleaned_dtypes**.\n"
      ]
    },
    {
      "metadata": {
        "colab_type": "code",
        "id": "3M40-au57hgP",
        "colab": {}
      },
      "cell_type": "code",
      "source": [
        "laptops_dtypes = laptops.dtypes\n",
        "cols = ['manufacturer', 'model_name', 'category', 'screen_size_inches',\n",
        "        'screen', 'cpu', 'cpu_manufacturer',  'cpu_speed_ghz', 'ram_gb',\n",
        "        'storage_1_type', 'storage_1_capacity_gb', 'storage_2_type',\n",
        "        'storage_2_capacity_gb', 'gpu', 'gpu_manufacturer', 'os',\n",
        "        'os_version', 'weight_kg', 'price_euros']\n",
        "\n",
        "# put your code here\n",
        "laptops[cols].to_csv('laptops_cleaned.csv', index=False)\n"
      ],
      "execution_count": 0,
      "outputs": []
    },
    {
      "metadata": {
        "id": "9gqENhttOptP",
        "colab_type": "code",
        "colab": {}
      },
      "cell_type": "code",
      "source": [
        "laptops_cleaned = pd.read_csv('laptops_cleaned.csv')\n",
        "laptops_cleaned_dtypes = laptops_cleaned.dtypes"
      ],
      "execution_count": 0,
      "outputs": []
    },
    {
      "metadata": {
        "id": "ESctTJe0Tl9d",
        "colab_type": "code",
        "colab": {
          "base_uri": "https://localhost:8080/",
          "height": 462
        },
        "outputId": "ca4f9d2e-a180-4f83-f19c-06c8d1a750da"
      },
      "cell_type": "code",
      "source": [
        "laptops_cleaned.head()"
      ],
      "execution_count": 75,
      "outputs": [
        {
          "output_type": "execute_result",
          "data": {
            "text/html": [
              "<div>\n",
              "<style scoped>\n",
              "    .dataframe tbody tr th:only-of-type {\n",
              "        vertical-align: middle;\n",
              "    }\n",
              "\n",
              "    .dataframe tbody tr th {\n",
              "        vertical-align: top;\n",
              "    }\n",
              "\n",
              "    .dataframe thead th {\n",
              "        text-align: right;\n",
              "    }\n",
              "</style>\n",
              "<table border=\"1\" class=\"dataframe\">\n",
              "  <thead>\n",
              "    <tr style=\"text-align: right;\">\n",
              "      <th></th>\n",
              "      <th>manufacturer</th>\n",
              "      <th>model_name</th>\n",
              "      <th>category</th>\n",
              "      <th>screen_size_inches</th>\n",
              "      <th>screen</th>\n",
              "      <th>cpu</th>\n",
              "      <th>cpu_manufacturer</th>\n",
              "      <th>cpu_speed_ghz</th>\n",
              "      <th>ram_gb</th>\n",
              "      <th>storage_1_type</th>\n",
              "      <th>storage_1_capacity_gb</th>\n",
              "      <th>storage_2_type</th>\n",
              "      <th>storage_2_capacity_gb</th>\n",
              "      <th>gpu</th>\n",
              "      <th>gpu_manufacturer</th>\n",
              "      <th>os</th>\n",
              "      <th>os_version</th>\n",
              "      <th>weight_kg</th>\n",
              "      <th>price_euros</th>\n",
              "    </tr>\n",
              "  </thead>\n",
              "  <tbody>\n",
              "    <tr>\n",
              "      <th>0</th>\n",
              "      <td>Apple</td>\n",
              "      <td>MacBook Pro</td>\n",
              "      <td>Ultrabook</td>\n",
              "      <td>13.3</td>\n",
              "      <td>IPS Panel Retina Display 2560x1600</td>\n",
              "      <td>Intel Core i5 2.3GHz</td>\n",
              "      <td>Intel</td>\n",
              "      <td>2.3</td>\n",
              "      <td>8</td>\n",
              "      <td>SSD</td>\n",
              "      <td>128.0</td>\n",
              "      <td>NaN</td>\n",
              "      <td>NaN</td>\n",
              "      <td>Intel Iris Plus Graphics 640</td>\n",
              "      <td>Intel</td>\n",
              "      <td>macOS</td>\n",
              "      <td>X</td>\n",
              "      <td>1.37</td>\n",
              "      <td>1339.69</td>\n",
              "    </tr>\n",
              "    <tr>\n",
              "      <th>1</th>\n",
              "      <td>Apple</td>\n",
              "      <td>Macbook Air</td>\n",
              "      <td>Ultrabook</td>\n",
              "      <td>13.3</td>\n",
              "      <td>1440x900</td>\n",
              "      <td>Intel Core i5 1.8GHz</td>\n",
              "      <td>Intel</td>\n",
              "      <td>1.8</td>\n",
              "      <td>8</td>\n",
              "      <td>Flash Storage</td>\n",
              "      <td>128.0</td>\n",
              "      <td>NaN</td>\n",
              "      <td>NaN</td>\n",
              "      <td>Intel HD Graphics 6000</td>\n",
              "      <td>Intel</td>\n",
              "      <td>macOS</td>\n",
              "      <td>X</td>\n",
              "      <td>1.34</td>\n",
              "      <td>898.94</td>\n",
              "    </tr>\n",
              "    <tr>\n",
              "      <th>2</th>\n",
              "      <td>HP</td>\n",
              "      <td>250 G6</td>\n",
              "      <td>Notebook</td>\n",
              "      <td>15.6</td>\n",
              "      <td>Full HD 1920x1080</td>\n",
              "      <td>Intel Core i5 7200U 2.5GHz</td>\n",
              "      <td>Intel</td>\n",
              "      <td>2.5</td>\n",
              "      <td>8</td>\n",
              "      <td>SSD</td>\n",
              "      <td>256.0</td>\n",
              "      <td>NaN</td>\n",
              "      <td>NaN</td>\n",
              "      <td>Intel HD Graphics 620</td>\n",
              "      <td>Intel</td>\n",
              "      <td>No OS</td>\n",
              "      <td>NaN</td>\n",
              "      <td>1.86</td>\n",
              "      <td>575.00</td>\n",
              "    </tr>\n",
              "    <tr>\n",
              "      <th>3</th>\n",
              "      <td>Apple</td>\n",
              "      <td>MacBook Pro</td>\n",
              "      <td>Ultrabook</td>\n",
              "      <td>15.4</td>\n",
              "      <td>IPS Panel Retina Display 2880x1800</td>\n",
              "      <td>Intel Core i7 2.7GHz</td>\n",
              "      <td>Intel</td>\n",
              "      <td>2.7</td>\n",
              "      <td>16</td>\n",
              "      <td>SSD</td>\n",
              "      <td>512.0</td>\n",
              "      <td>NaN</td>\n",
              "      <td>NaN</td>\n",
              "      <td>AMD Radeon Pro 455</td>\n",
              "      <td>Intel</td>\n",
              "      <td>macOS</td>\n",
              "      <td>X</td>\n",
              "      <td>1.83</td>\n",
              "      <td>2537.45</td>\n",
              "    </tr>\n",
              "    <tr>\n",
              "      <th>4</th>\n",
              "      <td>Apple</td>\n",
              "      <td>MacBook Pro</td>\n",
              "      <td>Ultrabook</td>\n",
              "      <td>13.3</td>\n",
              "      <td>IPS Panel Retina Display 2560x1600</td>\n",
              "      <td>Intel Core i5 3.1GHz</td>\n",
              "      <td>Intel</td>\n",
              "      <td>3.1</td>\n",
              "      <td>8</td>\n",
              "      <td>SSD</td>\n",
              "      <td>256.0</td>\n",
              "      <td>NaN</td>\n",
              "      <td>NaN</td>\n",
              "      <td>Intel Iris Plus Graphics 650</td>\n",
              "      <td>Intel</td>\n",
              "      <td>macOS</td>\n",
              "      <td>X</td>\n",
              "      <td>1.37</td>\n",
              "      <td>1803.60</td>\n",
              "    </tr>\n",
              "  </tbody>\n",
              "</table>\n",
              "</div>"
            ],
            "text/plain": [
              "  manufacturer   model_name   category  screen_size_inches  \\\n",
              "0        Apple  MacBook Pro  Ultrabook                13.3   \n",
              "1        Apple  Macbook Air  Ultrabook                13.3   \n",
              "2           HP       250 G6   Notebook                15.6   \n",
              "3        Apple  MacBook Pro  Ultrabook                15.4   \n",
              "4        Apple  MacBook Pro  Ultrabook                13.3   \n",
              "\n",
              "                               screen                         cpu  \\\n",
              "0  IPS Panel Retina Display 2560x1600        Intel Core i5 2.3GHz   \n",
              "1                            1440x900        Intel Core i5 1.8GHz   \n",
              "2                   Full HD 1920x1080  Intel Core i5 7200U 2.5GHz   \n",
              "3  IPS Panel Retina Display 2880x1800        Intel Core i7 2.7GHz   \n",
              "4  IPS Panel Retina Display 2560x1600        Intel Core i5 3.1GHz   \n",
              "\n",
              "  cpu_manufacturer  cpu_speed_ghz  ram_gb  storage_1_type  \\\n",
              "0            Intel            2.3       8             SSD   \n",
              "1            Intel            1.8       8   Flash Storage   \n",
              "2            Intel            2.5       8             SSD   \n",
              "3            Intel            2.7      16             SSD   \n",
              "4            Intel            3.1       8             SSD   \n",
              "\n",
              "   storage_1_capacity_gb storage_2_type  storage_2_capacity_gb  \\\n",
              "0                  128.0            NaN                    NaN   \n",
              "1                  128.0            NaN                    NaN   \n",
              "2                  256.0            NaN                    NaN   \n",
              "3                  512.0            NaN                    NaN   \n",
              "4                  256.0            NaN                    NaN   \n",
              "\n",
              "                            gpu gpu_manufacturer     os os_version  weight_kg  \\\n",
              "0  Intel Iris Plus Graphics 640            Intel  macOS          X       1.37   \n",
              "1        Intel HD Graphics 6000            Intel  macOS          X       1.34   \n",
              "2         Intel HD Graphics 620            Intel  No OS        NaN       1.86   \n",
              "3            AMD Radeon Pro 455            Intel  macOS          X       1.83   \n",
              "4  Intel Iris Plus Graphics 650            Intel  macOS          X       1.37   \n",
              "\n",
              "   price_euros  \n",
              "0      1339.69  \n",
              "1       898.94  \n",
              "2       575.00  \n",
              "3      2537.45  \n",
              "4      1803.60  "
            ]
          },
          "metadata": {
            "tags": []
          },
          "execution_count": 75
        }
      ]
    },
    {
      "metadata": {
        "id": "0VyAMKdETwNM",
        "colab_type": "code",
        "colab": {
          "base_uri": "https://localhost:8080/",
          "height": 357
        },
        "outputId": "e45e72d6-df14-4367-b0ff-56e610802400"
      },
      "cell_type": "code",
      "source": [
        "laptops_cleaned_dtypes"
      ],
      "execution_count": 76,
      "outputs": [
        {
          "output_type": "execute_result",
          "data": {
            "text/plain": [
              "manufacturer              object\n",
              "model_name                object\n",
              "category                  object\n",
              "screen_size_inches       float64\n",
              "screen                    object\n",
              "cpu                       object\n",
              "cpu_manufacturer          object\n",
              "cpu_speed_ghz            float64\n",
              "ram_gb                     int64\n",
              "storage_1_type            object\n",
              "storage_1_capacity_gb    float64\n",
              "storage_2_type            object\n",
              "storage_2_capacity_gb    float64\n",
              "gpu                       object\n",
              "gpu_manufacturer          object\n",
              "os                        object\n",
              "os_version                object\n",
              "weight_kg                float64\n",
              "price_euros              float64\n",
              "dtype: object"
            ]
          },
          "metadata": {
            "tags": []
          },
          "execution_count": 76
        }
      ]
    },
    {
      "metadata": {
        "colab_type": "text",
        "id": "H1mzlgB49EZs"
      },
      "cell_type": "markdown",
      "source": [
        "## 12 Next steps\n",
        "\n",
        "When we re-read in our dataframe, we got identical dtypes! It's often a good idea to save out a CSV when you finish cleaning to save you time should you wish to do analysis later.\n",
        "\n",
        "Our dataset is now primed for analysis. Here are some questions you might like to answer in your own time by analyzing the cleaned data:\n",
        "\n",
        "- Are laptops made by Apple more expensive than those by other manufacturers?\n",
        "- What is the best value laptop with a screen size of 15\" or more?\n",
        "- Which laptop has the most storage space? "
      ]
    }
  ]
}