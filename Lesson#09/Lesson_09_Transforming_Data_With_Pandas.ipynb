{
 "cells": [
  {
   "cell_type": "markdown",
   "metadata": {
    "colab_type": "text",
    "id": "eucq01rbDZb8"
   },
   "source": [
    "## 1 Transforming Data With Pandas\n"
   ]
  },
  {
   "cell_type": "markdown",
   "metadata": {
    "colab_type": "text",
    "id": "VCOvV63-DpA1"
   },
   "source": [
    "### 1.1 Introduction"
   ]
  },
  {
   "cell_type": "markdown",
   "metadata": {
    "colab_type": "text",
    "id": "K67EEa0gXJTy"
   },
   "source": [
    "In this lesson, we'll continue working with the [World Happiness Report](https://www.kaggle.com/unsdsn/world-happiness) and explore another aspect of it that we haven't analyzed yet - the factors that contribute happiness. As a reminder, the World Happiness Report assigns each country a happiness score based on a poll question that asks respondents to rank their life on a scale of 0 - 10.\n",
    "\n",
    "You may recall from previous lessons that each of the columns below contains the estimated extent to which each factor contributes to the happiness score:\n",
    "\n",
    "- Economy (GDP per Capita)\n",
    "- Family\n",
    "- Health (Life Expectancy)\n",
    "- Freedom\n",
    "- Trust (Government Corruption)\n",
    "- Generosity\n",
    "\n",
    "Throughout this lesson, we'll refer to the columns above as the \"factor\" columns. We'll work to answer the following question in this lesson:\n",
    "\n",
    "- Which of the factors above contribute the most to the happiness score?\n",
    "\n",
    "However, in order to answer this question, we need to manipulate our data into a format that makes it easier to analyze. We'll explore the following functions and methods to perform this task:\n",
    "\n",
    "- Series.map()\n",
    "- Series.apply()\n",
    "- DataFrame.applymap()\n",
    "- DataFrame.apply()\n",
    "- pd.melt()\n",
    "\n",
    "For teaching purposes, we'll focus just on the 2015 report in this mission. As a reminder, below are the first five rows of the data set:\n",
    "\n",
    "\n",
    "| | Country | Region | Happiness Rank | Happiness Score | Standard Error | Economy | Family | Health| Freedom | Trust  | \n",
    "|---------|-------------|----------------|-----------------|----------------|--------------------------|---------|--------------------------|---------|-------------------------------|------------|\n",
    "| 0 | Switzerland | Western Europe | 1 | 7.587 | 0.03411 | 1.39651 | 1.34951 | 0.94143 | 0.66557 | 0.41978 |\n",
    "| 1 | Iceland | Western Europe | 2 | 7.561 | 0.04884 | 1.30232 | 1.40223 | 0.94784 | 0.62877 | 0.14145 |\n",
    "| 2 | Denmark | Western Europe | 3 | 7.527 | 0.03328 | 1.32548 | 1.36058 | 0.87464 | 0.64938 | 0.48357 |\n",
    "| 3 | Norway | Western Europe | 4 | 7.522 | 0.03880 | 1.45900 | 1.33095 | 0.88521 | 0.66973 | 0.36503 |\n",
    "| 4 | Canada | North America | 5 | 7.427 | 0.03553 | 1.32629 | 1.32261 | 0.90563 | 0.63297 | 0.32957 |\n",
    "\n",
    "\n",
    "Below are descriptions for some of the other columns we'll work with in this lesson:\n",
    "\n",
    "- **Country** - Name of the country\n",
    "- **Region** - Name of the region the country belongs to\n",
    "- **Happiness Rank** - The rank of the country, as determined by its happiness score\n",
    "- **Happiness Score** - A score assigned to each country based on the answers to a poll question that asks respondents to rate their happiness on a scale of 0-10\n",
    "- **Dystopia Residual** - Represents the extent to which the factors above over or under explain the happiness score. Don't worry too much about this column - you won't need in depth knowledge of it to complete this lesson.\n",
    "\n",
    "Let's start by renaming some of the columns in **happiness2015**.\n",
    "\n",
    "**Exercise**\n",
    "\n",
    "<left><img width=\"100\" src=\"https://drive.google.com/uc?export=view&id=1E8tR7B9YYUXsU_rddJAyq0FrM0MSelxZ\"></left>\n",
    "\n",
    "\n",
    "Recall that the 2015 World Happiness Report is saved to a variable named **happiness2015**. We also created a dictionary named **mapping** for renaming columns.\n",
    "\n",
    "- Use the DataFrame.rename() method to change the 'Economy (GDP per Capita)', 'Health (Life Expectancy)', and 'Trust (Government Corruption)' column names to the names specified in the **mapping** dictionary.\n",
    "- Pass the **mapping** dictionary into the df.rename() method and set the axis parameter to 1.\n",
    "- Assign the result back to **happiness2015**.\n",
    "\n"
   ]
  },
  {
   "cell_type": "code",
   "execution_count": 1,
   "metadata": {
    "colab": {},
    "colab_type": "code",
    "id": "bKLraXBHXfJs"
   },
   "outputs": [],
   "source": [
    "import pandas as pd\n",
    "\n",
    "happiness2015 = pd.read_csv(\"World_Happiness_2015.csv\")\n",
    "mapping = {'Economy (GDP per Capita)': 'Economy', \n",
    "           'Health (Life Expectancy)': 'Health', \n",
    "           'Trust (Government Corruption)': 'Trust' }\n",
    "\n",
    "# put your code here\n",
    "happiness2015 = happiness2015.rename(mapping, axis=1)"
   ]
  },
  {
   "cell_type": "code",
   "execution_count": 2,
   "metadata": {
    "colab": {
     "base_uri": "https://localhost:8080/",
     "height": 88
    },
    "colab_type": "code",
    "id": "x7ps2BrbhfDQ",
    "outputId": "76745b0e-b6b2-48d5-9473-d8771d83ff4c"
   },
   "outputs": [
    {
     "data": {
      "text/plain": [
       "Index(['Country', 'Region', 'Happiness Rank', 'Happiness Score',\n",
       "       'Standard Error', 'Economy', 'Family', 'Health', 'Freedom', 'Trust',\n",
       "       'Generosity', 'Dystopia Residual'],\n",
       "      dtype='object')"
      ]
     },
     "execution_count": 2,
     "metadata": {},
     "output_type": "execute_result"
    }
   ],
   "source": [
    "happiness2015.columns"
   ]
  },
  {
   "cell_type": "markdown",
   "metadata": {
    "colab_type": "text",
    "id": "tj3p8-DEZisU"
   },
   "source": [
    "### 1.2 Apply a Function Element-wise Using the Map and Apply Methods"
   ]
  },
  {
   "cell_type": "markdown",
   "metadata": {
    "colab_type": "text",
    "id": "jru03o4AZs7r"
   },
   "source": [
    "When we reviewed **happiness2015** in the last section, you may have noticed that each of the \"factor\" columns consists of numbers:\n",
    "\n",
    "| |Country | Region | Happiness Rank | Happiness Score | Standard Error | Economy  | Family | Health  | Freedom | Trust | Generosity | \n",
    "|---------|-------------|----------------|-----------------|----------------|----------|---------|---------|---------|---------|------------|-------------------|\n",
    "| 0 | Switzerland | Western Europe | 1 | 7.587 | 0.03411 | 1.39651 | 1.34951 | 0.94143 | 0.66557 | 0.41978 | 0.29678 |\n",
    "| 1 | Iceland | Western Europe | 2 | 7.561 | 0.04884 | 1.30232 | 1.40223 | 0.94784 | 0.62877 | 0.14145 | 0.43630 |\n",
    "| 2 | Denmark | Western Europe | 3 | 7.527 | 0.03328 | 1.32548 | 1.36058 | 0.87464 | 0.64938 | 0.48357 | 0.34139 |\n",
    "| 3 | Norway | Western Europe | 4 | 7.522 | 0.03880 | 1.45900 | 1.33095 | 0.88521 | 0.66973 | 0.36503 | 0.34699 |\n",
    "| 4 | Canada | North America | 5 | 7.427 | 0.03553 | 1.32629 | 1.32261 | 0.90563 | 0.63297 | 0.32957 | 0.45811 |\n",
    "\n",
    "Recall that each number represents the extent to which each factor contributes to the happiness score.\n",
    "\n",
    "However, not only is this definition a little hard to understand, but it can also be challenging to analyze all of these numbers across multiple columns. Instead, we can first convert these numbers to categories that indicate whether the factor has a high impact on the happiness score or a low impact using the following function:\n",
    "\n",
    "```python\n",
    "def label(element):\n",
    "    if element > 1:\n",
    "        return 'High'\n",
    "    else:\n",
    "        return 'Low'\n",
    "```\n",
    "\n",
    "Although pandas provides many built-in functions for common data cleaning tasks, in this case, the tranformation we need to perform is so specific to our data that one doesn't exist. Luckily, pandas has a couple methods that can be used to apply a custom function like the one above to our data, starting with the following two methods:\n",
    "\n",
    "- [Series.map() method](https://pandas.pydata.org/pandas-docs/stable/reference/api/pandas.Series.map.html)\n",
    "- [Series.apply() method](https://pandas.pydata.org/pandas-docs/stable/reference/api/pandas.Series.apply.html)\n",
    "\n",
    "Both methods above apply a function element-wise to a column. When we say element-wise, we mean that we pass the function one value in the series at a time and it performs some kind of transformation.\n",
    "\n",
    "<left><img width=\"800\" src=\"https://drive.google.com/uc?export=view&id=1K78dY-UpMZv2cCNjUl_I2i33EsAkNg9f\"></left>\n",
    "\n",
    "We use the following syntax for both methods:\n",
    "\n",
    "<left><img width=\"200\" src=\"https://drive.google.com/uc?export=view&id=1xSWKEAi2lfj4LvB8HpxWh73f3IDhdtzS\"></left>\n",
    "\n",
    "\n",
    "Note that these methods both take a function as a parameter. Because we're using the function as a parameter, we pass it into the function without the parentheses. For example, if we were working with a function called **transform**, we'd pass it into the **apply()** method as follows:\n",
    "\n",
    "```python\n",
    "def transform(val):\n",
    "    return val\n",
    "Series.apply(transform)\n",
    "```\n",
    "\n",
    "Let's compare the two methods in the next exercise.\n",
    "\n",
    "**Exercise**\n",
    "\n",
    "<left><img width=\"100\" src=\"https://drive.google.com/uc?export=view&id=1E8tR7B9YYUXsU_rddJAyq0FrM0MSelxZ\"></left>\n",
    "\n",
    "- Use the **Series.map()** method to apply the **label** function to the **Economy** column in **happiness2015**. Assign the result to **economy_impact_map**.\n",
    "- Use the **Series.apply()** method to apply the function to the **Economy** column. Assign the result to **economy_impact_apply**.\n",
    "- Use the following code to check if the methods produce the same result: **economy_impact_map.equals(economy_impact_apply)**. Assign the result to a variable named **equal**.\n",
    "\n"
   ]
  },
  {
   "cell_type": "code",
   "execution_count": 3,
   "metadata": {
    "colab": {},
    "colab_type": "code",
    "id": "oNdkvUWVZ3oh"
   },
   "outputs": [],
   "source": [
    "def label(element):\n",
    "    if element > 1:\n",
    "        return 'High'\n",
    "    else:\n",
    "        return 'Low'\n",
    "      \n",
    "# put your code here\n",
    "\n",
    "economy_impact_map = happiness2015['Economy'].map(label)\n",
    "economy_impact_apply = happiness2015['Economy'].apply(label)"
   ]
  },
  {
   "cell_type": "code",
   "execution_count": 4,
   "metadata": {
    "colab": {},
    "colab_type": "code",
    "id": "kg3OQ4FEhvuq"
   },
   "outputs": [],
   "source": [
    "equal = economy_impact_map.equals(economy_impact_apply)"
   ]
  },
  {
   "cell_type": "code",
   "execution_count": 5,
   "metadata": {
    "colab": {
     "base_uri": "https://localhost:8080/",
     "height": 35
    },
    "colab_type": "code",
    "id": "S7nnkeGAh1E3",
    "outputId": "459db3d5-c39a-4796-cdb0-71868b91e313"
   },
   "outputs": [
    {
     "data": {
      "text/plain": [
       "True"
      ]
     },
     "execution_count": 5,
     "metadata": {},
     "output_type": "execute_result"
    }
   ],
   "source": [
    "equal"
   ]
  },
  {
   "cell_type": "markdown",
   "metadata": {
    "colab_type": "text",
    "id": "WhtNE8KkcYce"
   },
   "source": [
    "### 1.3 Apply a Function Element-wise Using the Map and Apply Methods Continued"
   ]
  },
  {
   "cell_type": "markdown",
   "metadata": {
    "colab_type": "text",
    "id": "HiGL_w4Tcf0X"
   },
   "source": [
    "In the last exercise, we applied a function to the **Economy** column using the **Series.map()** and **Series.apply()** methods and confirmed that both methods produce the same results.\n",
    "\n",
    "Note that these methods don't modify the original series. If we want to work with the new series in the original dataframe, we must either assign the results back to the original column or create a new column. We recommend creating a new column, in case you need to reference the original values. Let's do that next:\n",
    "\n",
    "```python\n",
    "def label(element):\n",
    "    if element > 1:\n",
    "        return 'High'\n",
    "    else:\n",
    "        return 'Low'\n",
    "happiness2015['Economy Impact'] = happiness2015['Economy'].map(label)\n",
    "\n",
    "```\n",
    "\n",
    "Below are the first couple rows of the Economy and Economy Impact columns.\n",
    "\n",
    "| |Economy | Economy Impact |  |\n",
    "|---------|----------------|------|\n",
    "| 0 | 1.39651 | High |\n",
    "| 1 | 1.30232 | High |\n",
    "| 2 | 1.32548 | High |\n",
    "| 3 | 1.45900 | High |\n",
    "| 4 | 1.32629 | High |\n",
    "\n",
    "To create the **Economy Impact** column, **map()** and **apply()** iterate through the **Economy** column and pass each value into the **label** function. The function evaluates which range the value belongs to and assigns the corresponding value to the element in the new column.\n",
    "\n",
    "<left><img width=\"700\" src=\"https://drive.google.com/uc?export=view&id=1JQitp1YFVPI1ASTigEo529TcBlAtT5TK\"></left>\n",
    "\n",
    "Since both **map** and **apply** can apply functions element-wise to a series, you may be wondering about the difference between them. Let's start by looking at a function with arguments.\n",
    "\n",
    "In the **label** function, we arbitrarily split the values into 'High' and 'Low'. What if instead we allowed that number to be passed into the function as an argument?\n",
    "\n",
    "```python\n",
    "def label(element, x):\n",
    "    if element > x:\n",
    "        return 'High'\n",
    "    else:\n",
    "        return 'Low'\n",
    "economy_map = happiness2015['Economy'].map(label, x = .8)\n",
    "```\n",
    "\n",
    "When we try to apply the function to the **Economy** column with the map method, we get an **error**:\n",
    "\n",
    "```python\n",
    "TypeError: map() got an unexpected keyword argument 'x'\n",
    "```\n",
    "\n",
    "Let's confirm the behavior of the apply method next.\n",
    "\n",
    "**Exercise**\n",
    "\n",
    "<left><img width=\"100\" src=\"https://drive.google.com/uc?export=view&id=1E8tR7B9YYUXsU_rddJAyq0FrM0MSelxZ\"></left>\n",
    "\n",
    "\n",
    "- Update **label** to take in another argument named **x**. If the element is greater than **x**, return 'High'. Otherwise, return 'Low'.\n",
    "- Then, use the **apply** method to apply **label** to the **Economy** column and set the x argument to 0.8. Save the result back to **economy_impact_apply**.\n"
   ]
  },
  {
   "cell_type": "code",
   "execution_count": 6,
   "metadata": {
    "colab": {},
    "colab_type": "code",
    "id": "v80oRLI4hW3J"
   },
   "outputs": [],
   "source": [
    "def label(element):\n",
    "    if element > 1:\n",
    "        return 'High'\n",
    "    else:\n",
    "        return 'Low'\n",
    "economy_impact_apply = happiness2015['Economy'].apply(label)\n",
    "# put your code here\n",
    "\n",
    "def label(element, x):\n",
    "  if element > x:\n",
    "    return \"High\"\n",
    "  else:\n",
    "    return \"Low\"\n",
    "economy_impact_apply = happiness2015['Economy'].apply(label, x=0.8)"
   ]
  },
  {
   "cell_type": "code",
   "execution_count": 7,
   "metadata": {
    "colab": {
     "base_uri": "https://localhost:8080/",
     "height": 124
    },
    "colab_type": "code",
    "id": "RN2Du3B8iTYE",
    "outputId": "e84432bd-6e89-4f27-9022-51c5a2c095f7"
   },
   "outputs": [
    {
     "data": {
      "text/plain": [
       "0    High\n",
       "1    High\n",
       "2    High\n",
       "3    High\n",
       "4    High\n",
       "Name: Economy, dtype: object"
      ]
     },
     "execution_count": 7,
     "metadata": {},
     "output_type": "execute_result"
    }
   ],
   "source": [
    "economy_impact_apply.head()"
   ]
  },
  {
   "cell_type": "markdown",
   "metadata": {
    "colab_type": "text",
    "id": "3D2SnJMgh9cy"
   },
   "source": [
    "### 1.4 Apply a Function Element-wise to Multiple Columns Using Applymap Method"
   ]
  },
  {
   "cell_type": "markdown",
   "metadata": {
    "colab_type": "text",
    "id": "PJCy89mUiG7X"
   },
   "source": [
    "We learned in the last section that we can only use the **Series.apply()** method to apply a function with additional arguments element-wise - the **Series.map()** method will return an error.\n",
    "\n",
    "So far, we've transformed just one column at a time. If we wanted to transform more than one column, we could use the **Series.map()** or **Series.apply()** method to transform them as follows:\n",
    "\n",
    "```python\n",
    "def label(element):\n",
    "    if element > 1:\n",
    "        return 'High'\n",
    "    else:\n",
    "        return 'Low'\n",
    "happiness2015['Economy Impact'] = happiness2015['Economy'].apply(label)\n",
    "happiness2015['Health Impact'] = happiness2015['Health'].apply(label)\n",
    "happiness2015['Family Impact'] = happiness2015['Family'].apply(label)\n",
    "```\n",
    "\n",
    "However, it would be easier to just apply the same function to all of the factor columns (**Economy, Health, Family, Freedom, Generosity, Trust**) at once. Fortunately, however, pandas already has a method that can apply functions element-wise to multiple columns at once - the [DataFrame.applymap() method](https://pandas.pydata.org/pandas-docs/stable/generated/pandas.DataFrame.applymap.html).\n",
    "\n",
    "We'll use the following syntax to work with the **df.applymap()** method:\n",
    "\n",
    "<left><img width=\"300\" src=\"https://drive.google.com/uc?export=view&id=1Jskj9w-9ZyLQ3WFHPshehHUZkXPsEK0E\"></left>\n",
    "\n",
    "\n",
    "Just like with the **Series.map()** and **Series.apply()** methods, we need to pass the function name into the **df.applymap()** method without parentheses.\n",
    "\n",
    "Let's practice using the **df.applymap()** method next.\n",
    "\n",
    "\n",
    "**Exercise**\n",
    "\n",
    "<left><img width=\"100\" src=\"https://drive.google.com/uc?export=view&id=1E8tR7B9YYUXsU_rddJAyq0FrM0MSelxZ\"></left>\n",
    "\n",
    "We've already created a list named **factors** containing the column names for the six factors that contribute to the happiness score.\n",
    "\n",
    "- Use the **df.applymap()** method to apply the label function to the columns saved in factors in **happiness2015**. Assign the result to **factors_impact**."
   ]
  },
  {
   "cell_type": "code",
   "execution_count": 8,
   "metadata": {
    "colab": {},
    "colab_type": "code",
    "id": "zt4UzNrzii5B"
   },
   "outputs": [],
   "source": [
    "def label(element):\n",
    "    if element > 1:\n",
    "        return 'High'\n",
    "    else:\n",
    "        return 'Low'\n",
    "economy_apply = happiness2015['Economy'].apply(label)\n",
    "factors = ['Economy', 'Family', 'Health', 'Freedom', 'Trust', 'Generosity']\n",
    "\n",
    "# put your code here\n",
    "factors_impact = happiness2015[factors].applymap(label)"
   ]
  },
  {
   "cell_type": "code",
   "execution_count": 9,
   "metadata": {
    "colab": {
     "base_uri": "https://localhost:8080/",
     "height": 206
    },
    "colab_type": "code",
    "id": "Huig8OsQiona",
    "outputId": "0e119c22-1fd7-4464-8424-35f9b0494382"
   },
   "outputs": [
    {
     "data": {
      "text/html": [
       "<div>\n",
       "<style scoped>\n",
       "    .dataframe tbody tr th:only-of-type {\n",
       "        vertical-align: middle;\n",
       "    }\n",
       "\n",
       "    .dataframe tbody tr th {\n",
       "        vertical-align: top;\n",
       "    }\n",
       "\n",
       "    .dataframe thead th {\n",
       "        text-align: right;\n",
       "    }\n",
       "</style>\n",
       "<table border=\"1\" class=\"dataframe\">\n",
       "  <thead>\n",
       "    <tr style=\"text-align: right;\">\n",
       "      <th></th>\n",
       "      <th>Economy</th>\n",
       "      <th>Family</th>\n",
       "      <th>Health</th>\n",
       "      <th>Freedom</th>\n",
       "      <th>Trust</th>\n",
       "      <th>Generosity</th>\n",
       "    </tr>\n",
       "  </thead>\n",
       "  <tbody>\n",
       "    <tr>\n",
       "      <th>0</th>\n",
       "      <td>High</td>\n",
       "      <td>High</td>\n",
       "      <td>Low</td>\n",
       "      <td>Low</td>\n",
       "      <td>Low</td>\n",
       "      <td>Low</td>\n",
       "    </tr>\n",
       "    <tr>\n",
       "      <th>1</th>\n",
       "      <td>High</td>\n",
       "      <td>High</td>\n",
       "      <td>Low</td>\n",
       "      <td>Low</td>\n",
       "      <td>Low</td>\n",
       "      <td>Low</td>\n",
       "    </tr>\n",
       "    <tr>\n",
       "      <th>2</th>\n",
       "      <td>High</td>\n",
       "      <td>High</td>\n",
       "      <td>Low</td>\n",
       "      <td>Low</td>\n",
       "      <td>Low</td>\n",
       "      <td>Low</td>\n",
       "    </tr>\n",
       "    <tr>\n",
       "      <th>3</th>\n",
       "      <td>High</td>\n",
       "      <td>High</td>\n",
       "      <td>Low</td>\n",
       "      <td>Low</td>\n",
       "      <td>Low</td>\n",
       "      <td>Low</td>\n",
       "    </tr>\n",
       "    <tr>\n",
       "      <th>4</th>\n",
       "      <td>High</td>\n",
       "      <td>High</td>\n",
       "      <td>Low</td>\n",
       "      <td>Low</td>\n",
       "      <td>Low</td>\n",
       "      <td>Low</td>\n",
       "    </tr>\n",
       "  </tbody>\n",
       "</table>\n",
       "</div>"
      ],
      "text/plain": [
       "  Economy Family Health Freedom Trust Generosity\n",
       "0    High   High    Low     Low   Low        Low\n",
       "1    High   High    Low     Low   Low        Low\n",
       "2    High   High    Low     Low   Low        Low\n",
       "3    High   High    Low     Low   Low        Low\n",
       "4    High   High    Low     Low   Low        Low"
      ]
     },
     "execution_count": 9,
     "metadata": {},
     "output_type": "execute_result"
    }
   ],
   "source": [
    "factors_impact.head()"
   ]
  },
  {
   "cell_type": "markdown",
   "metadata": {
    "colab_type": "text",
    "id": "vCjqA8fojviz"
   },
   "source": [
    "### 1.5  Apply Functions along an Axis using the Apply Method\n"
   ]
  },
  {
   "cell_type": "markdown",
   "metadata": {
    "colab_type": "text",
    "id": "A8G3cG1Zj4FA"
   },
   "source": [
    "In the last exercise, we learned that we can apply a function element-wise to multiple columns using the **df.applymap()** method. Below are the first five rows of the results:\n",
    "\n",
    "| | Economy | Family | Health | Freedom | Trust | Generosity |  \n",
    "|---------|--------|--------|---------|-------|------------|-----|\n",
    "| 0 | High | High | Low | Low | Low | Low |\n",
    "| 1 | High | High | Low | Low | Low | Low |\n",
    "| 2 | High | High | Low | Low | Low | Low |\n",
    "| 3 | High | High | Low | Low | Low | Low |\n",
    "| 4 | High | High | Low | Low | Low | Low |\n",
    "\n",
    "We can see from the results that, according to our definition, the **Economy** and **Family** columns had a high impact on the happiness scores of the first five countries.\n",
    "\n",
    "Let's summarize what we learned so far:\n",
    "\n",
    "| Method | Series or Dataframe Method | Applies Functions Element-wise? |\n",
    "|----------|----------------------------|---------------------------------|\n",
    "| Map | Series | Yes |\n",
    "| Apply | Series | Yes |\n",
    "| Applymap | Dataframe | Yes |\n",
    "\n",
    "\n",
    "You can also use the **apply()** method on a dataframe, but the [DataFrame.apply()](https://pandas.pydata.org/pandas-docs/stable/reference/api/pandas.DataFrame.apply.html) method has different capabilities. Instead of applying functions element-wise, the **df.apply()** method applies functions along an **axis**, either **column-wise** or **row-wise**. When we create a function to use with **df.apply()**, we set it up to accept a series, most commonly a column.\n",
    "\n",
    "Let's use the **df.apply()** method to calculate the number of 'High' and 'Low' values in each column of the result from the last exercise, **factors_impact**. In order to do so, we'll apply the **pd.value_counts** function to all of the columns in the dataframe:\n"
   ]
  },
  {
   "cell_type": "code",
   "execution_count": 10,
   "metadata": {
    "colab": {
     "base_uri": "https://localhost:8080/",
     "height": 112
    },
    "colab_type": "code",
    "id": "DexanxYpkLwu",
    "outputId": "3baa2320-142a-4aca-c8f6-e3a40253bd37"
   },
   "outputs": [
    {
     "data": {
      "text/html": [
       "<div>\n",
       "<style scoped>\n",
       "    .dataframe tbody tr th:only-of-type {\n",
       "        vertical-align: middle;\n",
       "    }\n",
       "\n",
       "    .dataframe tbody tr th {\n",
       "        vertical-align: top;\n",
       "    }\n",
       "\n",
       "    .dataframe thead th {\n",
       "        text-align: right;\n",
       "    }\n",
       "</style>\n",
       "<table border=\"1\" class=\"dataframe\">\n",
       "  <thead>\n",
       "    <tr style=\"text-align: right;\">\n",
       "      <th></th>\n",
       "      <th>Economy</th>\n",
       "      <th>Family</th>\n",
       "      <th>Health</th>\n",
       "      <th>Freedom</th>\n",
       "      <th>Trust</th>\n",
       "      <th>Generosity</th>\n",
       "    </tr>\n",
       "  </thead>\n",
       "  <tbody>\n",
       "    <tr>\n",
       "      <th>High</th>\n",
       "      <td>66</td>\n",
       "      <td>89</td>\n",
       "      <td>2</td>\n",
       "      <td>NaN</td>\n",
       "      <td>NaN</td>\n",
       "      <td>NaN</td>\n",
       "    </tr>\n",
       "    <tr>\n",
       "      <th>Low</th>\n",
       "      <td>92</td>\n",
       "      <td>69</td>\n",
       "      <td>156</td>\n",
       "      <td>158.0</td>\n",
       "      <td>158.0</td>\n",
       "      <td>158.0</td>\n",
       "    </tr>\n",
       "  </tbody>\n",
       "</table>\n",
       "</div>"
      ],
      "text/plain": [
       "      Economy  Family  Health  Freedom  Trust  Generosity\n",
       "High       66      89       2      NaN    NaN         NaN\n",
       "Low        92      69     156    158.0  158.0       158.0"
      ]
     },
     "execution_count": 10,
     "metadata": {},
     "output_type": "execute_result"
    }
   ],
   "source": [
    "factors_impact.apply(pd.value_counts)"
   ]
  },
  {
   "cell_type": "markdown",
   "metadata": {
    "colab_type": "text",
    "id": "wSpJXnrhlz2I"
   },
   "source": [
    "Now, we can easily see that the **Family** and **Economy** columns contain the most 'High' values!\n",
    "\n",
    "When we applied the **pd.value_counts** function to **factors_impact**, it calculated the value counts for the first column, **Economy**, then the second column, **Family**, so on and so forth:\n",
    "\n",
    "<left><img width=\"700\" src=\"https://drive.google.com/uc?export=view&id=1QDGfEwzJGUvQALy3wtFZ-w-B_Of2RsIx\"></left>\n",
    "\n",
    "Notice that we used the **df.apply()** method to transform multiple columns. This is only possible because the **pd.value_counts** function operates on a series. If we tried to use the **df.apply()** method to apply a function that works element-wise to multiple columns, we'd get an error:\n",
    "\n",
    "\n",
    "```python\n",
    "def label(element):\n",
    "    if element > 1:\n",
    "        return 'High'\n",
    "    else:\n",
    "        return 'Low'\n",
    "happiness2015[factors].apply(label)\n",
    "\n",
    "ValueError: ('The truth value of a Series is ambiguous. Use a.empty, a.bool(), a.item(), a.any() or a.all().', u'occurred at index Economy')\n",
    "```\n",
    "\n",
    "Let's practice using the **df.apply()** method in the next exercise.\n",
    "\n",
    "\n",
    "**Exercise**\n",
    "\n",
    "<left><img width=\"100\" src=\"https://drive.google.com/uc?export=view&id=1E8tR7B9YYUXsU_rddJAyq0FrM0MSelxZ\"></left>\n",
    "\n",
    "\n",
    "- Create a function that calculates the percentage of 'High' and 'Low' values in each column.\n",
    "  - Create a function named **v_counts** that accepts one parameter called **col**.\n",
    "  - Use the **Series.value_counts()** method to calculate the value counts for **col**. Assign the result to **num**.\n",
    "  - Use the **Series.size** attribute to calculate the number of rows in the column. Assign the result to **den**.\n",
    "  - Divide **num** by **den** and return the result.\n",
    "- Use the **df.apply()** method to apply the **v_counts** function to all of the columns in **factors_impact**. Assign the result to **v_counts_pct**.\n"
   ]
  },
  {
   "cell_type": "code",
   "execution_count": 11,
   "metadata": {
    "colab": {},
    "colab_type": "code",
    "id": "_JM4h1vxm7_V"
   },
   "outputs": [],
   "source": [
    "# put your code here\n",
    "def v_counts(col):\n",
    "  num = col.value_counts()\n",
    "  den = col.size\n",
    "  return num/den\n",
    "\n",
    "v_counts_pct = factors_impact.apply(v_counts)"
   ]
  },
  {
   "cell_type": "code",
   "execution_count": 12,
   "metadata": {
    "colab": {
     "base_uri": "https://localhost:8080/",
     "height": 112
    },
    "colab_type": "code",
    "id": "7wvCEm96jWz-",
    "outputId": "b5780f81-506c-4222-d85b-63a72ff5cff2"
   },
   "outputs": [
    {
     "data": {
      "text/html": [
       "<div>\n",
       "<style scoped>\n",
       "    .dataframe tbody tr th:only-of-type {\n",
       "        vertical-align: middle;\n",
       "    }\n",
       "\n",
       "    .dataframe tbody tr th {\n",
       "        vertical-align: top;\n",
       "    }\n",
       "\n",
       "    .dataframe thead th {\n",
       "        text-align: right;\n",
       "    }\n",
       "</style>\n",
       "<table border=\"1\" class=\"dataframe\">\n",
       "  <thead>\n",
       "    <tr style=\"text-align: right;\">\n",
       "      <th></th>\n",
       "      <th>Economy</th>\n",
       "      <th>Family</th>\n",
       "      <th>Health</th>\n",
       "      <th>Freedom</th>\n",
       "      <th>Trust</th>\n",
       "      <th>Generosity</th>\n",
       "    </tr>\n",
       "  </thead>\n",
       "  <tbody>\n",
       "    <tr>\n",
       "      <th>High</th>\n",
       "      <td>0.417722</td>\n",
       "      <td>0.563291</td>\n",
       "      <td>0.012658</td>\n",
       "      <td>NaN</td>\n",
       "      <td>NaN</td>\n",
       "      <td>NaN</td>\n",
       "    </tr>\n",
       "    <tr>\n",
       "      <th>Low</th>\n",
       "      <td>0.582278</td>\n",
       "      <td>0.436709</td>\n",
       "      <td>0.987342</td>\n",
       "      <td>1.0</td>\n",
       "      <td>1.0</td>\n",
       "      <td>1.0</td>\n",
       "    </tr>\n",
       "  </tbody>\n",
       "</table>\n",
       "</div>"
      ],
      "text/plain": [
       "       Economy    Family    Health  Freedom  Trust  Generosity\n",
       "High  0.417722  0.563291  0.012658      NaN    NaN         NaN\n",
       "Low   0.582278  0.436709  0.987342      1.0    1.0         1.0"
      ]
     },
     "execution_count": 12,
     "metadata": {},
     "output_type": "execute_result"
    }
   ],
   "source": [
    "v_counts_pct.head()"
   ]
  },
  {
   "cell_type": "markdown",
   "metadata": {
    "colab_type": "text",
    "id": "xjmjdZzaopcW"
   },
   "source": [
    "### 1.6 Apply Functions along an Axis using the Apply Method Continued\n"
   ]
  },
  {
   "cell_type": "markdown",
   "metadata": {
    "colab_type": "text",
    "id": "KsM0dRtnorHv"
   },
   "source": [
    "In the last exercise, we created a function that calculates the percentage of 'High' and 'Low' values in each column and applied it to **factors_impact**. The result is a dataframe containing the percentage of 'High' and 'Low' values in each column:\n",
    "\n",
    "| | Economy | Family | Health | Freedom | Trust | Generosity |  \n",
    "|---------|----------|----------|----------|-------|------------|-----|\n",
    "| High | 0.417722 | 0.563291 | 0.012658 | NaN | NaN | NaN |\n",
    "| Low | 0.582278 | 0.436709 | 0.987342 | 1.0 | 1.0 | 1.0 |\n",
    "\n",
    "\n",
    "In general, we should only use the **apply()** method when a vectorized function does not exist. Recall that pandas uses vectorization, the process of applying operations to whole series at once, to optimize performance. When we use the **apply()** method, we're actually looping through rows, so a vectorized method can perform an equivalent task faster than the **apply()** method.\n",
    "\n",
    "Next, we'll compare two different ways of performing an analysis task. First, we'll use the **df.apply()** method to transform the data. Then, we'll look at an alternate way to perform the same task with vectorized methods.\n",
    "\n",
    "One thing you probably didn't notice about the factor columns is that the sum of the six factors and the **Dystopia Residual** column equals the happiness score:"
   ]
  },
  {
   "cell_type": "code",
   "execution_count": 13,
   "metadata": {
    "colab": {
     "base_uri": "https://localhost:8080/",
     "height": 206
    },
    "colab_type": "code",
    "id": "LXDN9mJVqlN8",
    "outputId": "5f5f1f5e-bb85-45e9-d5db-94844c9d73b6"
   },
   "outputs": [
    {
     "data": {
      "text/html": [
       "<div>\n",
       "<style scoped>\n",
       "    .dataframe tbody tr th:only-of-type {\n",
       "        vertical-align: middle;\n",
       "    }\n",
       "\n",
       "    .dataframe tbody tr th {\n",
       "        vertical-align: top;\n",
       "    }\n",
       "\n",
       "    .dataframe thead th {\n",
       "        text-align: right;\n",
       "    }\n",
       "</style>\n",
       "<table border=\"1\" class=\"dataframe\">\n",
       "  <thead>\n",
       "    <tr style=\"text-align: right;\">\n",
       "      <th></th>\n",
       "      <th>Happiness Score</th>\n",
       "      <th>Factors Sum</th>\n",
       "    </tr>\n",
       "  </thead>\n",
       "  <tbody>\n",
       "    <tr>\n",
       "      <th>0</th>\n",
       "      <td>7.587</td>\n",
       "      <td>7.58696</td>\n",
       "    </tr>\n",
       "    <tr>\n",
       "      <th>1</th>\n",
       "      <td>7.561</td>\n",
       "      <td>7.56092</td>\n",
       "    </tr>\n",
       "    <tr>\n",
       "      <th>2</th>\n",
       "      <td>7.527</td>\n",
       "      <td>7.52708</td>\n",
       "    </tr>\n",
       "    <tr>\n",
       "      <th>3</th>\n",
       "      <td>7.522</td>\n",
       "      <td>7.52222</td>\n",
       "    </tr>\n",
       "    <tr>\n",
       "      <th>4</th>\n",
       "      <td>7.427</td>\n",
       "      <td>7.42694</td>\n",
       "    </tr>\n",
       "  </tbody>\n",
       "</table>\n",
       "</div>"
      ],
      "text/plain": [
       "   Happiness Score  Factors Sum\n",
       "0            7.587      7.58696\n",
       "1            7.561      7.56092\n",
       "2            7.527      7.52708\n",
       "3            7.522      7.52222\n",
       "4            7.427      7.42694"
      ]
     },
     "execution_count": 13,
     "metadata": {},
     "output_type": "execute_result"
    }
   ],
   "source": [
    "#Calculate the sum of the factor columns in each row.\n",
    "happiness2015['Factors Sum'] = happiness2015[['Economy', 'Family',\n",
    "                                              'Health', 'Freedom', \n",
    "                                              'Trust', 'Generosity', \n",
    "                                              'Dystopia Residual']].sum(axis=1)\n",
    "\n",
    "#Display the first five rows of the result and the Happiness Score column.\n",
    "happiness2015[['Happiness Score', 'Factors Sum']].head()"
   ]
  },
  {
   "cell_type": "markdown",
   "metadata": {
    "colab_type": "text",
    "id": "i-YIqZV1rKnf"
   },
   "source": [
    "The values we calculated in the **Factors Sum** column are slightly different than the values in the **Happiness Score** column, but the differences are so minor that we can attribute them to rounding. Because the sum of the seven columns equal the happiness score, we can convert them to percentages and analyze them as proportions of the happiness score instead.\n",
    "\n",
    "Let's use the **df.apply()** method the convert each of the values in the six factor columns and the **Dystopia Residual** column to percentages.\n",
    "\n",
    "**Exercise**\n",
    "\n",
    "<left><img width=\"100\" src=\"https://drive.google.com/uc?export=view&id=1E8tR7B9YYUXsU_rddJAyq0FrM0MSelxZ\"></left>\n",
    "\n",
    "- Create a function that converts each of the six factor columns and the **Dystopia Residual** column to percentages.\n",
    "  - Create a function named **percentages** that accepts one parameter called **col**.\n",
    "  - Divide **col** by the **Happiness Score** column. Assign the result to **div**.\n",
    "  - Multiply **div** by 100 and return the result.\n",
    "- Use the **df.apply()** method to apply the **percentages** function to all of the columns in **factors**. Assign the result to **factor_percentages**."
   ]
  },
  {
   "cell_type": "code",
   "execution_count": 14,
   "metadata": {
    "colab": {},
    "colab_type": "code",
    "id": "Cz_Ts8rNrey4"
   },
   "outputs": [],
   "source": [
    "factors = ['Economy', 'Family', 'Health', 'Freedom', \n",
    "           'Trust', 'Generosity', 'Dystopia Residual']\n",
    "# put your code here\n",
    "def percentages(col):\n",
    "  div = col / happiness2015['Happiness Score']\n",
    "  return div/100\n",
    "\n",
    "\n",
    "factor_percentages = happiness2015[factors].apply(percentages)"
   ]
  },
  {
   "cell_type": "code",
   "execution_count": 15,
   "metadata": {
    "colab": {
     "base_uri": "https://localhost:8080/",
     "height": 206
    },
    "colab_type": "code",
    "id": "aImi2YPqkdVF",
    "outputId": "6097da65-8816-411d-a110-13b432b21a1b"
   },
   "outputs": [
    {
     "data": {
      "text/html": [
       "<div>\n",
       "<style scoped>\n",
       "    .dataframe tbody tr th:only-of-type {\n",
       "        vertical-align: middle;\n",
       "    }\n",
       "\n",
       "    .dataframe tbody tr th {\n",
       "        vertical-align: top;\n",
       "    }\n",
       "\n",
       "    .dataframe thead th {\n",
       "        text-align: right;\n",
       "    }\n",
       "</style>\n",
       "<table border=\"1\" class=\"dataframe\">\n",
       "  <thead>\n",
       "    <tr style=\"text-align: right;\">\n",
       "      <th></th>\n",
       "      <th>Economy</th>\n",
       "      <th>Family</th>\n",
       "      <th>Health</th>\n",
       "      <th>Freedom</th>\n",
       "      <th>Trust</th>\n",
       "      <th>Generosity</th>\n",
       "      <th>Dystopia Residual</th>\n",
       "    </tr>\n",
       "  </thead>\n",
       "  <tbody>\n",
       "    <tr>\n",
       "      <th>0</th>\n",
       "      <td>0.001841</td>\n",
       "      <td>0.001779</td>\n",
       "      <td>0.001241</td>\n",
       "      <td>0.000877</td>\n",
       "      <td>0.000553</td>\n",
       "      <td>0.000391</td>\n",
       "      <td>0.003318</td>\n",
       "    </tr>\n",
       "    <tr>\n",
       "      <th>1</th>\n",
       "      <td>0.001722</td>\n",
       "      <td>0.001855</td>\n",
       "      <td>0.001254</td>\n",
       "      <td>0.000832</td>\n",
       "      <td>0.000187</td>\n",
       "      <td>0.000577</td>\n",
       "      <td>0.003574</td>\n",
       "    </tr>\n",
       "    <tr>\n",
       "      <th>2</th>\n",
       "      <td>0.001761</td>\n",
       "      <td>0.001808</td>\n",
       "      <td>0.001162</td>\n",
       "      <td>0.000863</td>\n",
       "      <td>0.000642</td>\n",
       "      <td>0.000454</td>\n",
       "      <td>0.003311</td>\n",
       "    </tr>\n",
       "    <tr>\n",
       "      <th>3</th>\n",
       "      <td>0.001940</td>\n",
       "      <td>0.001769</td>\n",
       "      <td>0.001177</td>\n",
       "      <td>0.000890</td>\n",
       "      <td>0.000485</td>\n",
       "      <td>0.000461</td>\n",
       "      <td>0.003277</td>\n",
       "    </tr>\n",
       "    <tr>\n",
       "      <th>4</th>\n",
       "      <td>0.001786</td>\n",
       "      <td>0.001781</td>\n",
       "      <td>0.001219</td>\n",
       "      <td>0.000852</td>\n",
       "      <td>0.000444</td>\n",
       "      <td>0.000617</td>\n",
       "      <td>0.003301</td>\n",
       "    </tr>\n",
       "  </tbody>\n",
       "</table>\n",
       "</div>"
      ],
      "text/plain": [
       "    Economy    Family    Health   Freedom     Trust  Generosity  \\\n",
       "0  0.001841  0.001779  0.001241  0.000877  0.000553    0.000391   \n",
       "1  0.001722  0.001855  0.001254  0.000832  0.000187    0.000577   \n",
       "2  0.001761  0.001808  0.001162  0.000863  0.000642    0.000454   \n",
       "3  0.001940  0.001769  0.001177  0.000890  0.000485    0.000461   \n",
       "4  0.001786  0.001781  0.001219  0.000852  0.000444    0.000617   \n",
       "\n",
       "   Dystopia Residual  \n",
       "0           0.003318  \n",
       "1           0.003574  \n",
       "2           0.003311  \n",
       "3           0.003277  \n",
       "4           0.003301  "
      ]
     },
     "execution_count": 15,
     "metadata": {},
     "output_type": "execute_result"
    }
   ],
   "source": [
    "factor_percentages.head()"
   ]
  },
  {
   "cell_type": "markdown",
   "metadata": {
    "colab_type": "text",
    "id": "FQ2JNTk-s25g"
   },
   "source": [
    "### 1.7 Reshaping Data with the Melt Function"
   ]
  },
  {
   "cell_type": "markdown",
   "metadata": {
    "colab_type": "text",
    "id": "dyHbUeges4CK"
   },
   "source": [
    "In the last exercise, we used the **df.apply()** method to convert the six factor columns and the **Dystopia Residual** column to percentages. Below are the first five rows of the result:\n",
    "\n",
    "\n",
    "| | Economy | Family | Health | Freedom | Trust | Generosity | Dystopia Residual |  \n",
    "|---------|-----------|-----------|-----------|----------|------------|-------------------|-----------|\n",
    "| 0 | 18.406617 | 17.787136 | 12.408462 | 8.772506 | 5.532885 | 3.911691 | 33.180177 |\n",
    "| 1 | 17.224177 | 18.545563 | 12.535908 | 8.315963 | 1.870784 | 5.770401 | 35.736146 |\n",
    "| 2 | 17.609672 | 18.075993 | 11.620035 | 8.627342 | 6.424472 | 4.535539 | 33.108011 |\n",
    "| 3 | 19.396437 | 17.694097 | 11.768280 | 8.903616 | 4.852832 | 4.613002 | 32.774661 |\n",
    "| 4 | 17.857681 | 17.808132 | 12.193753 | 8.522553 | 4.437458 | 6.168170 | 33.011445 |\n",
    "\n",
    "However, it would be easier to convert these numbers into percentages, plot the results, and perform other data analysis tasks if we first reshaped the dataframe so that one column holds the values for all six factors and the **Dystopia Residual** column. We can accomplish this with the [pd.melt()](https://pandas.pydata.org/pandas-docs/version/0.22/generated/pandas.melt.html) function.\n",
    "\n",
    "To demonstrate this function, let's just work with a subset of **happiness2015** called **happy_two**.\n",
    "\n",
    "| | Country | Happiness Score | Economy | Family | Health |  \n",
    "|---------|-----------------|---------|---------|---------|---------|\n",
    "| 0 | Switzerland | 7.587 | 1.39651 | 1.34951 | 0.94143 |\n",
    "| 1 | Iceland | 7.561 | 1.30232 | 1.40223 | 0.94784 |\n",
    "\n",
    "\n",
    "Below, we use the **melt** function to reshape **happy_two** so that the values for **Economy**, **Family**, and **Health** reside in the same column:\n",
    "\n",
    "\n",
    "```python\n",
    "pd.melt(happy_two, id_vars=['Country'], value_vars=['Economy', 'Family', 'Health'])\n",
    "```\n",
    "\n",
    "Below are the results:\n",
    "\n",
    "| |Country | variable | value |  \n",
    "|---------|-------------|---------|---------|\n",
    "| 0 | Switzerland | Economy | 1.39651 |\n",
    "| 1 | Iceland | Economy | 1.30232 |\n",
    "| 2 | Switzerland | Family | 1.34951 |\n",
    "| 3 | Iceland | Family | 1.40223 |\n",
    "| 4 | Switzerland | Health | 0.94143 |\n",
    "| 5 | Iceland | Health | 0.94784 |\n",
    "\n",
    "Now, we can use vectorized operations to transform the value column at once!\n",
    "\n",
    "Below is a summary of the syntax we used to work with the **melt** function:\n",
    "\n",
    "\n",
    "<left><img width=\"700\" src=\"https://drive.google.com/uc?export=view&id=1FdFMEyC0k0VswQTJU1HU56m3P1gvgIxW\"></left>\n",
    "\n",
    "Let's reshape all of **happiness2015** with the **melt** function next.\n",
    "\n",
    "\n",
    "**Exercise**\n",
    "\n",
    "<left><img width=\"100\" src=\"https://drive.google.com/uc?export=view&id=1E8tR7B9YYUXsU_rddJAyq0FrM0MSelxZ\"></left>\n",
    "\n",
    "\n",
    "- Use the **melt** function to reshape **happiness2015**. The columns listed in **main_cols** should stay the same. The columns listed in **factors** should be transformed into rows. Assign the result to a variable called **melt**.\n",
    "- Convert the **value** column to a percentage.\n",
    "  - Divide the **value** column by the **Happiness Score** column and multiply the result by 100.\n",
    "  - Use the [round()](https://docs.python.org/3/library/functions.html#round) function to round the result to 2 decimal places.\n",
    "  - Assign the result to a new column called **Percentage**.\n"
   ]
  },
  {
   "cell_type": "code",
   "execution_count": 16,
   "metadata": {
    "colab": {},
    "colab_type": "code",
    "id": "eog9z6GTtFHs"
   },
   "outputs": [],
   "source": [
    "main_cols = ['Country', 'Region', 'Happiness Rank', 'Happiness Score']\n",
    "factors = ['Economy', 'Family', 'Health', 'Freedom', 'Trust', 'Generosity', 'Dystopia Residual']\n",
    "\n",
    "# put your code here\n",
    "melt = pd.melt(happiness2015, id_vars=main_cols, value_vars=factors)\n",
    "\n",
    "def percentage(col):\n",
    "  return col / happiness2015['Happiness Score'] * 100\n",
    "\n",
    "percentage = round(melt['value'] / happiness2015['Happiness Score'] * 100, 2)"
   ]
  },
  {
   "cell_type": "code",
   "execution_count": 17,
   "metadata": {
    "colab": {},
    "colab_type": "code",
    "id": "siHyTkQDmO94"
   },
   "outputs": [],
   "source": [
    "happiness2015['Percentage'] = percentage"
   ]
  },
  {
   "cell_type": "code",
   "execution_count": 18,
   "metadata": {
    "colab": {
     "base_uri": "https://localhost:8080/",
     "height": 124
    },
    "colab_type": "code",
    "id": "wd0mev21lbjx",
    "outputId": "da6b9773-b3c0-4403-9bfa-9933e884e6bb"
   },
   "outputs": [
    {
     "data": {
      "text/plain": [
       "0    18.41\n",
       "1    17.22\n",
       "2    17.61\n",
       "3    19.40\n",
       "4    17.86\n",
       "Name: Percentage, dtype: float64"
      ]
     },
     "execution_count": 18,
     "metadata": {},
     "output_type": "execute_result"
    }
   ],
   "source": [
    "happiness2015['Percentage'].head()"
   ]
  },
  {
   "cell_type": "markdown",
   "metadata": {
    "colab_type": "text",
    "id": "mUrbSzZm12bk"
   },
   "source": [
    "### 1.8 Challenge: Aggregate the Data and Create a Visualization"
   ]
  },
  {
   "cell_type": "markdown",
   "metadata": {
    "colab_type": "text",
    "id": "pS2kkXaA3xrV"
   },
   "source": [
    "In the last exercise, we used the **melt** function to reshape our data so that we could use vectorized operations to convert the value column into percentages.\n",
    "\n",
    "Below is the result:\n",
    "\n",
    "\n",
    "| | Country | Region | Happiness Rank | Happiness Score | variable | value | Percentage |  \n",
    "|---------|-------------|----------------|-----------------|----------|---------|------------|-----------|\n",
    "| 0 | Switzerland | Western Europe | 1 | 7.587 | Economy | 1.39651 | 18.406617 |\n",
    "| 1 | Iceland | Western Europe | 2 | 7.561 | Economy | 1.30232 | 17.224177 |\n",
    "| 2 | Denmark | Western Europe | 3 | 7.527 | Economy | 1.32548 | 17.609672 |\n",
    "| 3 | Norway | Western Europe | 4 | 7.522 | Economy | 1.45900 | 19.396437 |\n",
    "| 4 | Canada | North America | 5 | 7.427 | Economy | 1.32629 | 17.857681 |\n",
    "\n",
    "The **melt** function moved the values in the seven columns - **Economy, Health, Family, Freedom, Generosity, Trust,** and **Dystopia Residual** - to the same column, which meant we could transform them all at once.\n",
    "\n",
    "You may have also noticed that now the data is in a format that makes it easier to aggregate. We refer to data in this format as tidy data. If you're interested in learning more about the tidy format, you can read about it [here](https://www.jstatsoft.org/article/view/v059i10).\n",
    "\n",
    "Next, let's group the data by the variable column, find the mean value of each variable (or factor), and plot the results to see how much each factor contributes to the happiness score on average. In the last lesson, we combined the 2015, 2016, and 2017 reports, aggregated the data by the **Year** column using the **df.pivot_table()** method, and then plotted the results as follows:\n",
    "\n",
    "```python\n",
    "#Concatenate happiness2015, happiness2016, and happiness2017.\n",
    "combined = pd.concat([happiness2015, happiness2016, happiness2017])\n",
    "\n",
    "#Create a pivot table lising the mean happiness score for each year. Since the default aggregation function is the mean, we excluded the `aggfunc` argument.\n",
    "pivot_table_combined = combined.pivot_table(index = 'Year', values = 'Happiness Score')\n",
    "\n",
    "#Plot the pivot table.\n",
    "pivot_table_combined.plot(kind ='barh', title='Mean Happiness Scores by Year', xlim = (0,10))\n",
    "```\n",
    "\n",
    "<left><img width=\"400\" src=\"https://drive.google.com/uc?export=view&id=1bPSvOPmBzOLYLlbFIXgQrLEZtzDart_l\"></left>\n",
    "\n",
    "Let's repeat the same task, but this time, we'll group the data by the **variable** column instead of the Year column and plot the results using a pie chart.\n",
    "\n",
    "\n",
    "**Exercise**\n",
    "\n",
    "<left><img width=\"100\" src=\"https://drive.google.com/uc?export=view&id=1E8tR7B9YYUXsU_rddJAyq0FrM0MSelxZ\"></left>\n",
    "\n",
    "\n",
    "- Use the **df.pivot_table()** method to create a pivot table from the **melt** dataframe. Set the **variable** column as the index and the **value** column as the values. Assign the result to **pv_melt**.\n",
    "- Use the **df.plot()** method to create a pie chart of the results. Set the **kind** parameter to 'pie', the **y** parameter to 'value', and the **legend** parameter to **False**, so we can better see the results.\n",
    "- If we disregard **Dystopia Residual**, which two factors, on average, contribute the most to the happiness score?"
   ]
  },
  {
   "cell_type": "code",
   "execution_count": 20,
   "metadata": {
    "colab": {
     "base_uri": "https://localhost:8080/",
     "height": 243
    },
    "colab_type": "code",
    "id": "DAW5oKh54Bjj",
    "outputId": "49a37eae-8b14-492e-e050-723082f875c6"
   },
   "outputs": [
    {
     "ename": "NameError",
     "evalue": "name 'plt' is not defined",
     "output_type": "error",
     "traceback": [
      "\u001b[0;31m---------------------------------------------------------------------------\u001b[0m",
      "\u001b[0;31mNameError\u001b[0m                                 Traceback (most recent call last)",
      "\u001b[0;32m<ipython-input-20-4aad687a4e35>\u001b[0m in \u001b[0;36m<module>\u001b[0;34m\u001b[0m\n\u001b[1;32m     10\u001b[0m \u001b[0;34m\u001b[0m\u001b[0m\n\u001b[1;32m     11\u001b[0m \u001b[0mpv_melt\u001b[0m\u001b[0;34m.\u001b[0m\u001b[0mplot\u001b[0m\u001b[0;34m(\u001b[0m\u001b[0mkind\u001b[0m\u001b[0;34m=\u001b[0m\u001b[0;34m'pie'\u001b[0m\u001b[0;34m,\u001b[0m \u001b[0my\u001b[0m\u001b[0;34m=\u001b[0m\u001b[0;34m'value'\u001b[0m\u001b[0;34m,\u001b[0m\u001b[0mlegend\u001b[0m\u001b[0;34m=\u001b[0m\u001b[0;32mFalse\u001b[0m\u001b[0;34m)\u001b[0m\u001b[0;34m\u001b[0m\u001b[0;34m\u001b[0m\u001b[0m\n\u001b[0;32m---> 12\u001b[0;31m \u001b[0mplt\u001b[0m\u001b[0;34m.\u001b[0m\u001b[0mshow\u001b[0m\u001b[0;34m(\u001b[0m\u001b[0;34m)\u001b[0m\u001b[0;34m\u001b[0m\u001b[0;34m\u001b[0m\u001b[0m\n\u001b[0m",
      "\u001b[0;31mNameError\u001b[0m: name 'plt' is not defined"
     ]
    }
   ],
   "source": [
    "melt = pd.melt(happiness2015, id_vars = ['Country', 'Region', \n",
    "                                         'Happiness Rank', 'Happiness Score'],\n",
    "               value_vars= ['Economy', 'Family', 'Health',\n",
    "                            'Freedom', 'Trust', 'Generosity', 'Dystopia Residual'])\n",
    "melt['Percentage'] = melt['value']/melt['Happiness Score'] * 100\n",
    "\n",
    "# put your code here\n",
    "\n",
    "pv_melt = melt.pivot_table(index='variable', values='value', aggfunc='count')\n"
   ]
  },
  {
   "cell_type": "code",
   "execution_count": 24,
   "metadata": {},
   "outputs": [
    {
     "data": {
      "image/png": "[encoded data removed]",
      "text/plain": [
       "<Figure size 432x288 with 1 Axes>"
      ]
     },
     "metadata": {},
     "output_type": "display_data"
    }
   ],
   "source": [
    "import matplotlib.pyplot as plt\n",
    "%matplotlib inline\n",
    "\n",
    "pv_melt.plot(kind='pie', y='value',legend=False)\n",
    "plt.show()"
   ]
  },
  {
   "cell_type": "markdown",
   "metadata": {
    "colab_type": "text",
    "id": "yFAmqTtz5vL7"
   },
   "source": [
    "### 1.9 Next Steps"
   ]
  },
  {
   "cell_type": "markdown",
   "metadata": {
    "colab_type": "text",
    "id": "ykpLWSw96ilN"
   },
   "source": [
    "In this lesson, we learned how to transform data using the **Series.map()**, **Series.apply()**, **DataFrame.apply()**, and **DataFrame.applymap()** methods along with the **pd.melt()** function. Below is a summary chart of the differences between the **map()**, **apply()**, and **applymap()** methods:\n",
    "\n",
    "| Method  | Series or Dataframe Method | Applies Functions Element-wise? |\n",
    "|----------|----------------------------|-------------------------------------|\n",
    "| Map | Series | Yes |\n",
    "| Apply | Series | Yes |\n",
    "| Applymap | Dataframe | Yes |\n",
    "| Apply | Dataframe | No, applies functions along an axis |\n",
    "\n",
    "As you explore pandas, you'll also find that pandas has a method to **\"un-melt\"** the data, or **transform rows into columns**. This method is called the [df.pivot()](https://pandas.pydata.org/pandas-docs/stable/generated/pandas.DataFrame.pivot.html) method, not to be confused with the **df.pivot_table()** method used to aggregate data. Alhtough we couldn't cover the **df.pivot()** method explicitly in this lesson, we encourage you to explore it on your own.\n",
    "\n",
    "In the next lesson, we'll learn how to manipulate strings in pandas as we continue building on what we've learned so far.\n",
    "\n"
   ]
  }
 ],
 "metadata": {
  "colab": {
   "collapsed_sections": [],
   "name": "Lesson_09_Transforming_Data_With_Pandas.ipynb",
   "provenance": [],
   "toc_visible": true,
   "version": "0.3.2"
  },
  "kernelspec": {
   "display_name": "Python 3",
   "language": "python",
   "name": "python3"
  },
  "language_info": {
   "codemirror_mode": {
    "name": "ipython",
    "version": 3
   },
   "file_extension": ".py",
   "mimetype": "text/x-python",
   "name": "python",
   "nbconvert_exporter": "python",
   "pygments_lexer": "ipython3",
   "version": "3.6.7"
  }
 },
 "nbformat": 4,
 "nbformat_minor": 2
}
