{
  "nbformat": 4,
  "nbformat_minor": 0,
  "metadata": {
    "colab": {
      "name": "Lesson 16 - Network Analysis Visualization.ipynb",
      "version": "0.3.2",
      "provenance": [],
      "collapsed_sections": [
        "qsR4rZ9UP8hv",
        "O_QyOjYjVhay",
        "Tirw9HnrTuau"
      ],
      "toc_visible": true
    },
    "kernelspec": {
      "name": "python3",
      "display_name": "Python 3"
    }
  },
  "cells": [
    {
      "cell_type": "markdown",
      "metadata": {
        "id": "qsR4rZ9UP8hv",
        "colab_type": "text"
      },
      "source": [
        "# 1 Introducing Gephi"
      ]
    },
    {
      "cell_type": "markdown",
      "metadata": {
        "id": "tg4JozfZQFO9",
        "colab_type": "text"
      },
      "source": [
        "When you explore an unfamiliar complex network for the first time, it often\n",
        "helps to perform a quick visual check of its structure before engaging in\n",
        "expensive code writing. Sometimes, you can semi-automate even the network\n",
        "construction itself (we are talking about small networks, with fewer than a\n",
        "couple dozen nodes). You can perform many one-time construction, analysis, and conversion tasks with Gephi. Gephi is a free, Java-based, interactive CNA environment that runs\n",
        "on all mainstream operating systems. \n",
        "\n",
        "In this lesson, you will learn:\n",
        "- how to use Gephi and the data from network of nutrients and food types\n",
        "- add attributes to its nodes and edges\n",
        "- save the network as a presentation quality image\n",
        "- You will also learn how to interchange network files between Gephi and NetworkX."
      ]
    },
    {
      "cell_type": "markdown",
      "metadata": {
        "id": "HQ_i_D9RQoH_",
        "colab_type": "text"
      },
      "source": [
        "## 1.1 Worth 1,000 Words"
      ]
    },
    {
      "cell_type": "markdown",
      "metadata": {
        "id": "OEtpin9YRdrn",
        "colab_type": "text"
      },
      "source": [
        "Gephi is not a part of NetworkX, and you must install it separately. Luckily, the\n",
        "installation process is [straightforward](https://gephi.org/users/install/) Here’s a summary of Gephi’s capabilities:\n",
        "- Import existing networks in a variety of formats or create a new network.\n",
        "- Edit a new or existing network by adding or removing nodes or edges.\n",
        "- Change the size and color of node icons, the size and color of label font,\n",
        "and the color and thickness of edges based on node and edge attributes.\n",
        "- Calculate basic network measures: centralities, clustering coefficients,\n",
        "path length distributions, connectedness, and modularity.\n",
        "- Apply various layout engines to the network graph.\n",
        "- Execute additional plug-ins.\n",
        "- Export modified networks in a variety of formats.\n",
        "- Save network visualization as a PNG, PDF, or SVG file.\n",
        "\n",
        "Gephi is an excellent network construction and analysis tool, but it is interactive. The human user is its slowest component. Gephi cannot be programmed to\n",
        "execute batches of tedious analysis tasks, vary parameters automatically, or\n",
        "integrate with machine learning or predictive analytics software.\n",
        "\n"
      ]
    },
    {
      "cell_type": "markdown",
      "metadata": {
        "id": "4wNEdjxALbOQ",
        "colab_type": "text"
      },
      "source": [
        "## 1.2 Import and Modify a Simple Network with Gephi"
      ]
    },
    {
      "cell_type": "markdown",
      "metadata": {
        "id": "1YJhcusBLZtE",
        "colab_type": "text"
      },
      "source": [
        "The following figure shows the standard main window of Gephi without any\n",
        "loaded graphs.\n",
        "\n",
        "<img width=\"600\" src=\"https://drive.google.com/uc?export=view&id=12b2nJ1wzjURuhQqkGzQ0K6v5y4WI9yhy\">\n",
        "\n",
        "The main window contains three tabs: \n",
        "- **Overview** (for interactive network creation\n",
        "and exploration)\n",
        "- **Data Laboratory** (for text and numeric editing and research),\n",
        "- **Preview** (for presentation-quality visualization).\n",
        "\n",
        "\n",
        "We will start in the **Overview tab**, then briefly stop at the **Data Laboratory**, and finish in the **Preview**.\n",
        "\n",
        "\n",
        "The default **Overview tab** has four empty windows. \n",
        "\n",
        "- The upper-left window, **Appearance**, is in charge of rendering. You will use it to control node and edge presentation properties. \n",
        "- The lower-left window, **Layout**, is behind the graph layout. \n",
        "- The central window, **Graph**, shows the sketch of the network. \n",
        "- The window on the right, with the tabs **Statistics and Filters**, is for network analysis\n",
        "and filtering.\n",
        "\n",
        "**To import an existing network file** prepared by NetworkX or any other CNA\n",
        "software—in our case, **nutrients.csv** — open it with *File > Open (choose the Undirected graph type)*. \n",
        "\n",
        "Check if the number of detected edges and nodes makes sense. If the\n",
        "import is successful, you will see an ugly black-and-white sketch of your\n",
        "network in the Graph window. Don’t worry: we will make it look awesome by\n",
        "the end of this section.\n",
        "\n",
        "\n",
        "\n",
        "<img width=\"600\" src=\"https://drive.google.com/uc?export=view&id=1o4NoBcI8LzjBpsrqC76efy5ftja5v_m9\">\n",
        "\n",
        "\n",
        "By default, Gephi treats networks as mathematical graphs and does not display\n",
        "node labels. **Click the fat T button at the bottom of the Graph window**, and\n",
        "the labels will show up, making the ugly sketch even uglier.\n",
        "\n",
        "<img width=\"400\" src=\"https://drive.google.com/uc?export=view&id=1D4RK-K80PJ7beLdpDyvp-RkSnjjB0i7C\">\n",
        "\n",
        "\n",
        "The original black color of the nodes is depressing. Before we go any further,\n",
        "click the artist’s palette icon in the **Appearance window**, select the **Unique\n",
        "tab**, and choose a fun color—say, light blue—for all the nodes. (Don’t forget\n",
        "to click Apply!)\n",
        "\n",
        "<img width=\"600\" src=\"https://drive.google.com/uc?export=view&id=12wp9rN7xK0criSwVZRoIH7KoIlZl3uAP\">\n",
        "\n",
        "\n",
        "Suppose that at this point you realize that eggs are a valuable source of\n",
        "selenium (they are) and you would like to add a connection between the\n",
        "respective nodes. You remember that eggs are already on the network, but\n",
        "you’re not sure about selenium, so you add it to the network, just in case. (It\n",
        "is a mistake, but you will be able to correct it later.) Choose the **Node Pencil**\n",
        "tool in the **Graph window**, adjust the color and size of the new node, if desired,\n",
        "and click anywhere in the window. The position of the new node doesn’t\n",
        "matter; the node will be moved around by the layout procedure.\n",
        "\n",
        "<img width=\"600\" src=\"https://drive.google.com/uc?export=view&id=1hnekUYK0Eorv7_F-6ju7Qcr5IghPtQnV\">\n",
        "\n",
        "\n",
        "Now, choose the **Edge Pencil** tool in the same window. Click the “eggs” node\n",
        "and then the new nameless one. Congratulations, you added a new edge!\n",
        "\n",
        "\n",
        "<img width=\"600\" src=\"https://drive.google.com/uc?export=view&id=1WqIVCyjsk4AYAyr8sVk32WLJclvUfkBB\">\n",
        "\n",
        "Finally, take care of the anonymous node. It deserves a name, so you’re going\n",
        "to name it “Se” for “selenium.” Click the Edit tab of the Appearance window,\n",
        "then the node of interest. Edit the label name (the default value is “null\n",
        "value”)—and realize that now you have two selenium nodes!\n",
        "\n",
        "\n",
        "**Data Laboratory** (in addition to the **Edit tab**) is another place to look at the edges\n",
        "and nodes under a microscope and inspect and modify their properties. The operation that you’re looking for—detection of duplicate nodes—is hidden in\n",
        "the pull-down menu “More actions” at the top of the Data Table window. It is\n",
        "called “Detect and merge node duplicates.” When you invoke the operation, Gephi\n",
        "reports that it found one pair of duplicates, and offers to merge them into one\n",
        "node. This procedure preserves all edges incident to the nodes. In particular, if\n",
        "there is an edge connecting the duplicates, it becomes a self-loop edge.\n",
        "\n",
        "Unfortunately, Gephi does not tell you which nodes are duplicates. You can\n",
        "either trust the tool or manually find the duplicates in the table, select both\n",
        "nodes, open the pop-up menu, and select “Merge nodes…” in it.\n",
        "\n",
        "<img width=\"600\" src=\"https://drive.google.com/uc?export=view&id=1jIm9ZhJ8KuKlFDth4ZfHd3ING96TgEbh\">\n",
        "\n",
        "Either way, you can go back to the Overview window, and you’ll see that there is now only\n",
        "one Se node, and it is properly connected to the eggs. The network now looks\n",
        "like the following figure. Node positions and fonts may differ, but surely the\n",
        "new image is a vast improvement over the black-and-white sketch.\n",
        "\n",
        "<img width=\"600\" src=\"https://drive.google.com/uc?export=view&id=11QAUFxYPefL9Na313pxGEwJtm8dEhbil\">\n"
      ]
    },
    {
      "cell_type": "markdown",
      "metadata": {
        "id": "sR3ZmCxtRron",
        "colab_type": "text"
      },
      "source": [
        "## 1.3 Explore the Network"
      ]
    },
    {
      "cell_type": "markdown",
      "metadata": {
        "id": "SsQZvql6OPFX",
        "colab_type": "text"
      },
      "source": [
        "Network exploration in Gephi goes hand in hand with selecting visual properties.\n",
        "Let’s paint and resize the graph nodes based on some of their measures.\n",
        "\n",
        "| Measure             | Meaning                                                                                                                                                                                                                                         |\n",
        "|---------------------|-------------------------------------------------------------------------------------------------------------------------------------------------------------------------------------------------------------------------------------------------|\n",
        "| Degree              | The number of immediate neighbors—adjacent nodes. <br>The degree is a non-negative integer number.<br> The larger the degree of a food item is, the more nutrients it provides. <br>The larger the degree of a nutrient is, the more food items provide it. |\n",
        "| Community structure | Nodes form tightly knit groups called communities. <br>All foods and nutrients within a community serve some common purpose. <br>Each community has a unique integer identifier called modularity class.                                                |\n",
        "\n",
        "\n",
        "Node degree is the simplest possible node measure. There is no need to calculate\n",
        "it explicitly. To make node size proportional to the degree, click the\n",
        "icon with concentric circles in the Appearance window, then on the Ranking\n",
        "button. Select Degree from the “—Choose an attribute” pull-down menu.\n",
        "Select node sizes that correspond to the smallest and largest degrees (2 and\n",
        "60 are good choices). And don’t forget to click Apply. Can you see which nodes\n",
        "have the highest degrees?\n",
        "\n",
        "<img width=\"600\" src=\"https://drive.google.com/uc?export=view&id=1VlTBoeTOASt-5XFKFtbHDk3NQio5G0cD\">\n",
        "\n",
        "Playing with size is fun; playing with color is more fun. Let’s paint the nodes\n",
        "according to their modularity classes. To partition a network into communities, click the Run button next to the Modularity command in the Network Overview section of the Statistics window. Proceed by clicking OK and Close in the next two dialogs. In the end, you will\n",
        "see a floating-point number next to Modularity. The number is a measure of\n",
        "the quality of the decomposition from Outline Modularity-Based Communities. Return to the artist’s palette icon, then click the Partition button. Select Modularity Class from the “—Choose an attribute” pull-down menu. Don’t forget to click Apply.\n",
        "\n",
        "<img width=\"600\" src=\"https://drive.google.com/uc?export=view&id=1CgZ3YeAt-dJDB5lc_c4VVRwWvgnYM-OS\">\n"
      ]
    },
    {
      "cell_type": "markdown",
      "metadata": {
        "id": "ucYLXqzrPpQu",
        "colab_type": "text"
      },
      "source": [
        "## 1.4 Sketch the Network"
      ]
    },
    {
      "cell_type": "markdown",
      "metadata": {
        "id": "C5e25w7ASqym",
        "colab_type": "text"
      },
      "source": [
        "You’re done with rough rendering, but the layout is still awful. Let’s turn\n",
        "our attention to the lower-left corner of Gephi. Select your favorite layout from\n",
        "the “Choose a layout” pull-down menu. When a network is large (500 or more\n",
        "nodes), the Fruchterman-Reingold layout is usually the most efficient. For\n",
        "smaller networks, the ForceAtlas 2 layout, with some tweaking, works marvels.\n",
        "To make things easier, here’s a tip: set the scaling to 100.0 (to place\n",
        "nodes reasonably far apart) and check the Prevent Overlap box. Run the tool\n",
        "for a while. You’ll notice that after a couple of seconds, the nodes settle at\n",
        "their new positions, but the graph as a whole may continue drifting, rotating,\n",
        "or both.\n",
        "\n",
        "<img width=\"600\" src=\"https://drive.google.com/uc?export=view&id=1BazbvKbE-ygbtPeOz98SeerCIYoKxa29\">\n",
        "\n",
        "The last step is to adjust the labels, because surely some of them don’t mind\n",
        "their manners and sit on top of each other. Select Label Adjust from the\n",
        "“Choose a layout” pull-down menu and run the tool for a couple of seconds.\n",
        "This layout engine distorts the original Fruchterman-Reingold but makes\n",
        "sure that neither nodes nor labels overlap. Hopefully, your network layout\n",
        "resembles the following figure.\n",
        "\n",
        "<img width=\"600\" src=\"https://drive.google.com/uc?export=view&id=1cbA550qLPoQYyaRpAobpSN4MjVEyuTiQ\">\n",
        "\n",
        "\n",
        "The Graph window still shows a sketch, but this is a high-quality sketch\n",
        "that nicely displays the structure of the network of foods and nutrients. But it would look much better when rendered at high resolution and converted to a presentationquality\n",
        "image. (Save the project via File > Save As… into a .gephi file to avoid\n",
        "data loss if Gephi crashes!)"
      ]
    },
    {
      "cell_type": "markdown",
      "metadata": {
        "id": "w60QEY9fT8JR",
        "colab_type": "text"
      },
      "source": [
        "## 1.5 Prepare a Presentation-Quality Image"
      ]
    },
    {
      "cell_type": "markdown",
      "metadata": {
        "id": "WhLmHoYyVaAk",
        "colab_type": "text"
      },
      "source": [
        "The final painting of the network takes place in the Preview tab. The tab has\n",
        "two windows: Preview Settings (to control the fine-level rendering engine)\n",
        "and Preview (to see the rendering results). When you switch to this tab, the\n",
        "Preview window will be empty. Click the Refresh button. Your network will\n",
        "be drawn using the default settings, with curved edges and no node labels\n",
        "(see the following figure). Don’t worry—the labels have not been lost; they\n",
        "have been turned off.\n",
        "\n",
        "<img width=\"600\" src=\"https://drive.google.com/uc?export=view&id=1pTDvb2XDu_AkhYR7W9Dmq15ci62iF9Ee\">\n",
        "\n",
        "Gephi supports a variety of preset renderers. The default one is usually not\n",
        "the best one. I recommend using the **Text outline** preset configuration with\n",
        "some extra tweaking:\n",
        "- Unclick “Proportional size.”\n",
        "- Increase the Font size \n",
        "- Increase edge Thickness \n",
        "- Set edge Opacity at 75.0.\n",
        "- Optionally, unclick the Curved box.\n",
        "\n",
        "Click the Refresh button again.\n",
        "\n",
        "Once you like the rendering results, you can export the graph into a graphics\n",
        "file. Gephi provides exporters to SVG (editable vector format), PDF (editable\n",
        "vector format), and PNG (non-editable raster format).\n",
        "\n",
        "<img width=\"600\" src=\"https://drive.google.com/uc?export=view&id=1d5DutZD5ozrThHqoyDXoLa3XO3CdKFCJ\">"
      ]
    },
    {
      "cell_type": "markdown",
      "metadata": {
        "id": "O_QyOjYjVhay",
        "colab_type": "text"
      },
      "source": [
        "# 2 Combine Gephi and NetworkX"
      ]
    },
    {
      "cell_type": "markdown",
      "metadata": {
        "id": "_xHYgtsmYA4Y",
        "colab_type": "text"
      },
      "source": [
        "There is no implicit integration between Gephi and NetworkX. However, you can use\n",
        "Gephi graph file exporter (File > Export > Graph file…) to save your network into\n",
        "a file that could be imported by NetworkX. **GraphML** is the preferred interchange\n",
        "format because it preserves all calculated measures (such as centralities and\n",
        "modularity classes) as node attributes. This way you could use Gephi to perform\n",
        "a quick-and-dirty interactive analysis of a network and save it into a **.graphml** file\n",
        "for further processing. \n",
        "\n",
        "Export the previous network to the file **nutrients.graphml**.\n",
        "\n",
        "<img width=\"600\" src=\"https://drive.google.com/uc?export=view&id=1x_U2Kn1L0xE2MQWKTFIqsE4HCPhtzX5W\">\n",
        "\n",
        "\n",
        "You just learned one more way to build and analyze networks by hand, and you\n",
        "now understand that analyzing one not-so-large, pre-packaged complex network\n",
        "with Gephi is a pleasure. You also understand that constructing and analyzing\n",
        "many large networks by hand is hard, error-prone, and most of the time infeasible.\n",
        "You are now ready for the first full-Python case study."
      ]
    },
    {
      "cell_type": "markdown",
      "metadata": {
        "id": "fTzE_xPRYP-n",
        "colab_type": "text"
      },
      "source": [
        "**Exercise (reading)**\n",
        "\n",
        "<img width=\"100\" src=\"https://drive.google.com/uc?export=view&id=1E8tR7B9YYUXsU_rddJAyq0FrM0MSelxZ\">\n",
        "\n",
        "1. Use the function **nx.read_graphml()** to convert nutrient.graphml to a networkx object named **g**.\n",
        "2. Find the number of nodes and egdes in the graph and compare with the values found in Gephi.\n",
        "3. Verify the  attributes of nodes and edges."
      ]
    },
    {
      "cell_type": "code",
      "metadata": {
        "id": "Q7_U-7OyTTn2",
        "colab_type": "code",
        "colab": {}
      },
      "source": [
        "# put your code here\n",
        "import networkx as nx"
      ],
      "execution_count": 0,
      "outputs": []
    },
    {
      "cell_type": "code",
      "metadata": {
        "id": "aOO7gSu0H5iu",
        "colab_type": "code",
        "colab": {}
      },
      "source": [
        "from six.moves import urllib\n",
        "import gzip\n",
        "\n",
        "handle = urllib.request.urlopen('https://raw.githubusercontent.com/nymarya/data-science-one/master/Lesson%2316/nutrients.graphml.xml') #download\n",
        "\n",
        "\n",
        "g = nx.read_graphml(handle)"
      ],
      "execution_count": 0,
      "outputs": []
    },
    {
      "cell_type": "code",
      "metadata": {
        "id": "_eQi963oIDAS",
        "colab_type": "code",
        "outputId": "57bf37ba-9ee5-42d1-a951-736866aa35ce",
        "colab": {
          "base_uri": "https://localhost:8080/",
          "height": 34
        }
      },
      "source": [
        "len(g.nodes)"
      ],
      "execution_count": 0,
      "outputs": [
        {
          "output_type": "execute_result",
          "data": {
            "text/plain": [
              "41"
            ]
          },
          "metadata": {
            "tags": []
          },
          "execution_count": 11
        }
      ]
    },
    {
      "cell_type": "code",
      "metadata": {
        "id": "5MgbyXcaIElG",
        "colab_type": "code",
        "outputId": "1d9e9bff-ea68-4de0-ffed-a7b5b4913c18",
        "colab": {
          "base_uri": "https://localhost:8080/",
          "height": 34
        }
      },
      "source": [
        "len(g.edges)"
      ],
      "execution_count": 0,
      "outputs": [
        {
          "output_type": "execute_result",
          "data": {
            "text/plain": [
              "76"
            ]
          },
          "metadata": {
            "tags": []
          },
          "execution_count": 12
        }
      ]
    },
    {
      "cell_type": "code",
      "metadata": {
        "id": "OK7zQ_w0IF_W",
        "colab_type": "code",
        "outputId": "18d6b9ca-1b5e-4744-9ef4-522dbb500db7",
        "colab": {
          "base_uri": "https://localhost:8080/",
          "height": 74
        }
      },
      "source": [
        "g.nodes(data=True)"
      ],
      "execution_count": 0,
      "outputs": [
        {
          "output_type": "execute_result",
          "data": {
            "text/plain": [
              "NodeDataView({'A': {'label': 'A', 'Modularity Class': 2, 'size': 51.714287, 'r': 140, 'g': 185, 'b': 0, 'x': 93.43862, 'y': -237.95995}, 'carrots': {'label': 'carrots', 'Modularity Class': 2, 'size': 10.285715, 'r': 140, 'g': 185, 'b': 0, 'x': 45.213345, 'y': -420.2416}, 'eggs': {'label': 'eggs', 'Modularity Class': 0, 'size': 26.857143, 'r': 217, 'g': 125, 'b': 216, 'x': -14.69237, 'y': -88.377914}, 'fatty fish': {'label': 'fatty fish', 'Modularity Class': 4, 'size': 35.14286, 'r': 0, 'g': 199, 'b': 255, 'x': 201.20302, 'y': -51.786472}, 'green leafy vegs': {'label': 'green leafy vegs', 'Modularity Class': 2, 'size': 43.428574, 'r': 140, 'g': 185, 'b': 0, 'x': -204.5437, 'y': -295.21143}, 'liver': {'label': 'liver', 'Modularity Class': 0, 'size': 43.428574, 'r': 217, 'g': 125, 'b': 216, 'x': 131.57872, 'y': 138.97542}, 'milk': {'label': 'milk', 'Modularity Class': 3, 'size': 35.14286, 'r': 255, 'g': 112, 'b': 69, 'x': -20.05353, 'y': -302.26877}, 'tomatoes': {'label': 'tomatoes', 'Modularity Class': 2, 'size': 26.857143, 'r': 140, 'g': 185, 'b': 0, 'x': 117.61322, 'y': -478.84622}, 'B12': {'label': 'B12', 'Modularity Class': 0, 'size': 35.14286, 'r': 217, 'g': 125, 'b': 216, 'x': 92.88596, 'y': -65.37963}, 'B6': {'label': 'B6', 'Modularity Class': 0, 'size': 60.0, 'r': 217, 'g': 125, 'b': 216, 'x': 229.15332, 'y': 275.62778}, 'asparagus': {'label': 'asparagus', 'Modularity Class': 1, 'size': 10.285715, 'r': 35, 'g': 150, 'b': 111, 'x': 379.03122, 'y': 308.47192}, 'beans': {'label': 'beans', 'Modularity Class': 0, 'size': 18.57143, 'r': 217, 'g': 125, 'b': 216, 'x': 110.328064, 'y': 364.3573}, 'kidneys': {'label': 'kidneys', 'Modularity Class': 0, 'size': 26.857143, 'r': 217, 'g': 125, 'b': 216, 'x': 14.401797, 'y': 372.98807}, 'potatoes': {'label': 'potatoes', 'Modularity Class': 0, 'size': 18.57143, 'r': 217, 'g': 125, 'b': 216, 'x': 79.129036, 'y': 424.74585}, 'C': {'label': 'C', 'Modularity Class': 2, 'size': 35.14286, 'r': 140, 'g': 185, 'b': 0, 'x': -30.330679, 'y': -527.3477}, 'pumpkins': {'label': 'pumpkins', 'Modularity Class': 2, 'size': 2.0, 'r': 140, 'g': 185, 'b': 0, 'x': -14.180214, 'y': -625.08673}, 'Ca': {'label': 'Ca', 'Modularity Class': 2, 'size': 35.14286, 'r': 140, 'g': 185, 'b': 0, 'x': -202.19006, 'y': -496.48386}, 'broccoli': {'label': 'broccoli', 'Modularity Class': 2, 'size': 10.285715, 'r': 140, 'g': 185, 'b': 0, 'x': -129.2943, 'y': -584.74115}, 'cheese': {'label': 'cheese', 'Modularity Class': 2, 'size': 2.0, 'r': 140, 'g': 185, 'b': 0, 'x': -272.36166, 'y': -563.64}, 'Cu': {'label': 'Cu', 'Modularity Class': 0, 'size': 51.714287, 'r': 217, 'g': 125, 'b': 216, 'x': -113.40105, 'y': 350.97214}, 'nuts': {'label': 'nuts', 'Modularity Class': 4, 'size': 35.14286, 'r': 0, 'g': 199, 'b': 255, 'x': -228.38304, 'y': 134.67635}, 'whole grains': {'label': 'whole grains', 'Modularity Class': 4, 'size': 26.857143, 'r': 0, 'g': 199, 'b': 255, 'x': -313.90836, 'y': 218.69974}, 'D': {'label': 'D', 'Modularity Class': 3, 'size': 18.57143, 'r': 255, 'g': 112, 'b': 69, 'x': 232.08087, 'y': -242.02638}, 'mushrooms': {'label': 'mushrooms', 'Modularity Class': 3, 'size': 2.0, 'r': 255, 'g': 112, 'b': 69, 'x': 309.7865, 'y': -285.14435}, 'E': {'label': 'E', 'Modularity Class': 4, 'size': 26.857143, 'r': 0, 'g': 199, 'b': 255, 'x': -344.58493, 'y': -129.534}, 'seeds': {'label': 'seeds', 'Modularity Class': 4, 'size': 18.57143, 'r': 0, 'g': 199, 'b': 255, 'x': -283.08173, 'y': -33.041958}, 'Mn': {'label': 'Mn', 'Modularity Class': 4, 'size': 43.428574, 'r': 0, 'g': 199, 'b': 255, 'x': -375.88287, 'y': 13.458802}, 'legumes': {'label': 'legumes', 'Modularity Class': 3, 'size': 10.285715, 'r': 255, 'g': 112, 'b': 69, 'x': -260.9548, 'y': -103.10186}, 'wheat': {'label': 'wheat', 'Modularity Class': 4, 'size': 2.0, 'r': 0, 'g': 199, 'b': 255, 'x': -484.01413, 'y': 25.47916}, 'Zn': {'label': 'Zn', 'Modularity Class': 0, 'size': 51.714287, 'r': 217, 'g': 125, 'b': 216, 'x': 45.725594, 'y': 256.40625}, 'beef': {'label': 'beef', 'Modularity Class': 0, 'size': 35.14286, 'r': 217, 'g': 125, 'b': 216, 'x': 16.587307, 'y': 57.25119}, 'riboflavin': {'label': 'riboflavin', 'Modularity Class': 3, 'size': 35.14286, 'r': 255, 'g': 112, 'b': 69, 'x': -120.376816, 'y': -160.77834}, 'niacin': {'label': 'niacin', 'Modularity Class': 4, 'size': 35.14286, 'r': 0, 'g': 199, 'b': 255, 'x': -137.32669, 'y': 50.202965}, 'folates': {'label': 'folates', 'Modularity Class': 1, 'size': 18.57143, 'r': 35, 'g': 150, 'b': 111, 'x': 397.95422, 'y': 234.69092}, 'spinach': {'label': 'spinach', 'Modularity Class': 1, 'size': 2.0, 'r': 35, 'g': 150, 'b': 111, 'x': 483.7055, 'y': 257.4255}, 'poultry': {'label': 'poultry', 'Modularity Class': 0, 'size': 18.57143, 'r': 217, 'g': 125, 'b': 216, 'x': 231.47902, 'y': 127.21025}, 'shellfish': {'label': 'shellfish', 'Modularity Class': 0, 'size': 10.285715, 'r': 217, 'g': 125, 'b': 216, 'x': -125.952896, 'y': 247.19858}, 'thiamin': {'label': 'thiamin', 'Modularity Class': 4, 'size': 2.0, 'r': 0, 'g': 199, 'b': 255, 'x': -391.65253, 'y': 275.62595}, 'veg oils': {'label': 'veg oils', 'Modularity Class': 4, 'size': 2.0, 'r': 0, 'g': 199, 'b': 255, 'x': -433.5988, 'y': -167.09613}, 'yogurt': {'label': 'yogurt', 'Modularity Class': 2, 'size': 2.0, 'r': 140, 'g': 185, 'b': 0, 'x': -241.17404, 'y': -587.826}, '2': {'label': 'Se', 'Modularity Class': 0, 'size': 26.857143, 'r': 217, 'g': 125, 'b': 216, 'x': -43.400955, 'y': 166.72537}})"
            ]
          },
          "metadata": {
            "tags": []
          },
          "execution_count": 13
        }
      ]
    },
    {
      "cell_type": "markdown",
      "metadata": {
        "id": "hEJlvL65UMbr",
        "colab_type": "text"
      },
      "source": [
        "**Exercise (visualizing)**\n",
        "\n",
        "<img width=\"100\" src=\"https://drive.google.com/uc?export=view&id=1E8tR7B9YYUXsU_rddJAyq0FrM0MSelxZ\">\n",
        "\n",
        "1. Print the node A and see the template of output.\n",
        "```python\n",
        "g.nodes[\"A\"]\n",
        "```\n",
        "2. Use a dictionary comprehension to iterate over g and create a dictionary like that:\n",
        "```python\n",
        "{node: [g.nodes[node]['x'], g.nodes[node]['y']]}\n",
        "```\n",
        "  - Store the dictionary to the variable **pos**.\n",
        "3. Use a dictionary comprehension to iterate over g and create a dictionary like that:\n",
        "```python\n",
        "{node: g.nodes[node]['label']}\n",
        "```\n",
        "  - Store the dictionary to the variable **labels**.\n",
        "4. Use a list comprehension to iterate over g and create a list like that:\n",
        "```python\n",
        "[g.nodes[node][\"size\"]*10]\n",
        "```\n",
        "  - Store the list to the variable **node_size**\n",
        "5. Use a list comprehension to iterate over g and create a list like that:\n",
        "```python\n",
        "from matplotlib.colors import rgb2hex\n",
        "[rgb2hex((g.nodes[node]['r']/255,\n",
        "                  g.nodes[node]['g']/255,\n",
        "                  g.nodes[node]['b']/255)\n",
        "                )]\n",
        " ```\n",
        "  - Store the list to the variable **node_color**\n",
        "6. Plot the graph g using the function **nx.draw_networkx()** with the parameters: g, pos, labels, node_size, node_color and ax.\n",
        "```python\n",
        "fig, ax = plt.subplots(figsize=(10,10))\n",
        "```\n"
      ]
    },
    {
      "cell_type": "code",
      "metadata": {
        "id": "C9yOo1wX4zNe",
        "colab_type": "code",
        "outputId": "4beea29f-416d-4c68-b82c-c9a7cbbc02b6",
        "colab": {
          "base_uri": "https://localhost:8080/",
          "height": 153
        }
      },
      "source": [
        "# put your code here\n",
        "g.nodes[\"A\"]"
      ],
      "execution_count": 0,
      "outputs": [
        {
          "output_type": "execute_result",
          "data": {
            "text/plain": [
              "{'Modularity Class': 2,\n",
              " 'b': 0,\n",
              " 'g': 185,\n",
              " 'label': 'A',\n",
              " 'r': 140,\n",
              " 'size': 51.714287,\n",
              " 'x': 93.43862,\n",
              " 'y': -237.95995}"
            ]
          },
          "metadata": {
            "tags": []
          },
          "execution_count": 14
        }
      ]
    },
    {
      "cell_type": "code",
      "metadata": {
        "id": "IDy3iReXIWeS",
        "colab_type": "code",
        "colab": {}
      },
      "source": [
        "pos = {node: [g.nodes[node]['x'], g.nodes[node]['y']] for node in g.nodes()}"
      ],
      "execution_count": 0,
      "outputs": []
    },
    {
      "cell_type": "code",
      "metadata": {
        "id": "10yoDY-GI3r2",
        "colab_type": "code",
        "colab": {}
      },
      "source": [
        "# 3. Get labels\n",
        "labels = {node: g.nodes[node]['label'] for node in g.nodes} "
      ],
      "execution_count": 0,
      "outputs": []
    },
    {
      "cell_type": "code",
      "metadata": {
        "id": "NUUBVdHBJA3E",
        "colab_type": "code",
        "colab": {}
      },
      "source": [
        "# 4. Get sizes\n",
        "node_size = [g.nodes[node][\"size\"]*10 for node in g.nodes]"
      ],
      "execution_count": 0,
      "outputs": []
    },
    {
      "cell_type": "code",
      "metadata": {
        "id": "k2hF2mi0JJqG",
        "colab_type": "code",
        "colab": {}
      },
      "source": [
        "# 5. Get node colors\n",
        "from matplotlib.colors import rgb2hex\n",
        "node_color = [rgb2hex((g.nodes[node]['r']/255,\n",
        "               g.nodes[node]['g']/255,\n",
        "               g.nodes[node]['b']/255)\n",
        "             ) for node in g.nodes]"
      ],
      "execution_count": 0,
      "outputs": []
    },
    {
      "cell_type": "code",
      "metadata": {
        "id": "9zb9VfltJQ9k",
        "colab_type": "code",
        "outputId": "544cf1c5-2057-4612-c16c-873a1828f9dc",
        "colab": {
          "base_uri": "https://localhost:8080/",
          "height": 582
        }
      },
      "source": [
        "# 6. Plot graph\n",
        "import matplotlib.pyplot as plt\n",
        "\n",
        "fig, ax = plt.subplots(figsize=(10,10))\n",
        "nx.draw_networkx(g,ax=ax, pos=pos, labes=labels, node_size=node_size, \n",
        "                 node_color=node_color)"
      ],
      "execution_count": 0,
      "outputs": [
        {
          "output_type": "display_data",
          "data": {
            "image/png": "[encoded data removed]",
            "text/plain": [
              "<Figure size 720x720 with 1 Axes>"
            ]
          },
          "metadata": {
            "tags": []
          }
        }
      ]
    },
    {
      "cell_type": "markdown",
      "metadata": {
        "id": "Tirw9HnrTuau",
        "colab_type": "text"
      },
      "source": [
        "# 3 Case Study: constructing a network of wikipedia pages"
      ]
    },
    {
      "cell_type": "markdown",
      "metadata": {
        "id": "ryNuGuF5aK6t",
        "colab_type": "text"
      },
      "source": [
        "## 3.1 Introduction"
      ]
    },
    {
      "cell_type": "markdown",
      "metadata": {
        "id": "K4U4cYABYxsK",
        "colab_type": "text"
      },
      "source": [
        "So far we have learned two ways of constructing a complex network:\n",
        "- from a CSV file \n",
        "- and further in Gephi\n",
        "\n",
        "What is hard for small networks may be impossible for medium-to-large scale networks; it may be impossible even for small networks if you must repeat the analysis many\n",
        "times. The case study in this lesson shows you **how to construct a large\n",
        "network in an easy way**:  \n",
        "- automatically collecting node and edge data from the Internet.\n",
        "\n",
        "The other goal of this study (aside from mastering new network construction\n",
        "techniques) is quite pragmatic. \n",
        "- Wouldn’t you want to know where the **complex\n",
        "network analysis** fits in the context of other subjects and disciplines? \n",
        "\n",
        "An answer to this question is near at hand: [on Wikipedia](https://en.wikipedia.org/wiki/Complex_network).\n",
        "\n",
        "\n",
        "Let’s start with the Wikipedia page about complex networks—the seed page.\n",
        "(Unfortunately, there is no page on complex network analysis itself.) The page\n",
        "body has external links and links to other Wikipedia pages. Those other pages\n",
        "presumably are somewhat related to complex networks, or else why would\n",
        "the Wikipedia editors provide them?\n",
        "To build a network out of the seed page and other relevant pages, **let’s treat\n",
        "the pages (and the respective Wikipedia subjects) as the network nodes and\n",
        "the links between the pages as the network edges**. You will use snowball\n",
        "sampling (a breadth-first search or [BFS algorithm](https://en.wikipedia.org/wiki/Breadth-first_search)) to discover all the nodes and edges of interest.\n",
        "\n",
        "<img width=\"200\" src=\"https://drive.google.com/uc?export=view&id=1t9ZXB5Q-wRt_qWbf8eU_1RiTwVGaStHU\">\n",
        "\n",
        "As a result, you will have a network of all pages related to complex networks\n",
        "and hopefully, you will make some conclusions about it."
      ]
    },
    {
      "cell_type": "markdown",
      "metadata": {
        "id": "JnNVv00Aalcx",
        "colab_type": "text"
      },
      "source": [
        "## 3.2 Get the Data, Build the Network"
      ]
    },
    {
      "cell_type": "markdown",
      "metadata": {
        "id": "5DofZOgJa9Nf",
        "colab_type": "text"
      },
      "source": [
        "The first half of the project script consists of:\n",
        "\n",
        "1. the initialization prologue\n",
        "2. a heavy-duty loop that retrieves the Wikipedia pages and simultaneously builds the network of nodes and edges.\n",
        "\n",
        "Let’s first import all necessary modules. We will need:\n",
        "\n",
        "- the module **wikipedia** for fetching and exploring Wikipedia pages\n",
        "- the operator **itemgetter** for sorting a list of tuples\n",
        "- and, naturally, **networkx** itself.\n",
        "\n",
        "To target the **snowballing process**, define the constant **SEED, the name of the\n",
        "starting page**. \n",
        "\n",
        "> As a side note, by changing the name of the seed page, you can\n",
        "apply this analysis to any other subject on Wikipedia.\n",
        "\n",
        "\n",
        "Last but not least, when you start the snowballing, you will eventually (and\n",
        "quite soon) bump into the pages describing ISBN and ISSN numbers, the\n",
        "arXiv, PubMed, and the like. Almost all other Wikipedia pages refer to one or\n",
        "more of those pages. This hyper-connectedness transforms any network into\n",
        "a collection of almost perfect gigantic stars, making all Wikipedia-based networks\n",
        "look similar. **To avoid the stardom syndrome**, treat the known “star”\n",
        "pages as stop words in information retrieval—in other words, ignore any links\n",
        "to them. \n",
        "\n",
        "Constructing the **black list of stop words**, STOPS, is a matter of trial\n",
        "and error. We put thirteen subjects on it; you may want to add more when you\n",
        "come across other “stars.” We also excluded pages whose names begin with\n",
        "**\"List of\"**, because they are simply lists of other subjects."
      ]
    },
    {
      "cell_type": "code",
      "metadata": {
        "id": "sQcOSXayXX1W",
        "colab_type": "code",
        "outputId": "24ad5b5f-3cf1-4a5e-ca88-43edae0dfc5e",
        "colab": {
          "base_uri": "https://localhost:8080/",
          "height": 284
        }
      },
      "source": [
        "!pip install wikipedia"
      ],
      "execution_count": 0,
      "outputs": [
        {
          "output_type": "stream",
          "text": [
            "Collecting wikipedia\n",
            "  Downloading https://files.pythonhosted.org/packages/67/35/25e68fbc99e672127cc6fbb14b8ec1ba3dfef035bf1e4c90f78f24a80b7d/wikipedia-1.4.0.tar.gz\n",
            "Requirement already satisfied: beautifulsoup4 in /usr/local/lib/python3.6/dist-packages (from wikipedia) (4.6.3)\n",
            "Requirement already satisfied: requests<3.0.0,>=2.0.0 in /usr/local/lib/python3.6/dist-packages (from wikipedia) (2.21.0)\n",
            "Requirement already satisfied: idna<2.9,>=2.5 in /usr/local/lib/python3.6/dist-packages (from requests<3.0.0,>=2.0.0->wikipedia) (2.8)\n",
            "Requirement already satisfied: chardet<3.1.0,>=3.0.2 in /usr/local/lib/python3.6/dist-packages (from requests<3.0.0,>=2.0.0->wikipedia) (3.0.4)\n",
            "Requirement already satisfied: urllib3<1.25,>=1.21.1 in /usr/local/lib/python3.6/dist-packages (from requests<3.0.0,>=2.0.0->wikipedia) (1.24.3)\n",
            "Requirement already satisfied: certifi>=2017.4.17 in /usr/local/lib/python3.6/dist-packages (from requests<3.0.0,>=2.0.0->wikipedia) (2019.3.9)\n",
            "Building wheels for collected packages: wikipedia\n",
            "  Building wheel for wikipedia (setup.py) ... \u001b[?25l\u001b[?25hdone\n",
            "  Stored in directory: /root/.cache/pip/wheels/87/2a/18/4e471fd96d12114d16fe4a446d00c3b38fb9efcb744bd31f4a\n",
            "Successfully built wikipedia\n",
            "Installing collected packages: wikipedia\n",
            "Successfully installed wikipedia-1.4.0\n"
          ],
          "name": "stdout"
        }
      ]
    },
    {
      "cell_type": "code",
      "metadata": {
        "id": "MINWDN4gTzAC",
        "colab_type": "code",
        "colab": {}
      },
      "source": [
        "from operator import itemgetter\n",
        "import networkx as nx\n",
        "import wikipedia"
      ],
      "execution_count": 0,
      "outputs": []
    },
    {
      "cell_type": "code",
      "metadata": {
        "id": "YPTw8l5iT7z9",
        "colab_type": "code",
        "colab": {}
      },
      "source": [
        "SEED = \"Complex network\".title()\n",
        "STOPS = (\"International Standard Serial Number\",\n",
        "         \"International Standard Book Number\",\n",
        "         \"National Diet Library\",\n",
        "         \"International Standard Name Identifier\",\n",
        "         \"International Standard Book Number (Identifier)\",\n",
        "         \"Pubmed Identifier\", \n",
        "         \"Pubmed Central\",\n",
        "         \"Digital Object Identifier\", \n",
        "         \"Arxiv\",\n",
        "         \"Proc Natl Acad Sci Usa\", \n",
        "         \"Bibcode\",\n",
        "         \"Library Of Congress Control Number\", \n",
        "         \"Jstor\")"
      ],
      "execution_count": 0,
      "outputs": []
    },
    {
      "cell_type": "markdown",
      "metadata": {
        "id": "ChlfDfm7YQNY",
        "colab_type": "text"
      },
      "source": [
        "The next code fragment deals with setting up the **snowballing process**. A\n",
        "breadth-first search, or BFS (sometimes known to computer programmers\n",
        "as a snowballing algorithm), must remember which **pages have been already\n",
        "processed** and which have been **discovered but not yet processed**. \n",
        "- the former are stored in the set **done_set**; \n",
        "- the latter, in the list **todo_lst** and **todo_set**. \n",
        "\n",
        "You need two data structures for the unprocessed pages because you want to\n",
        "know whether a page has been already recorded (an unordered lookup, *todo_set*) and\n",
        "which page is the next to be processed (an ordered lookup, *todo_lst*). \n",
        "\n",
        "\n",
        "Snowballing an extensive network—and Wikipedia with 5,845,876 articles in\n",
        "the English segment alone can produce a huge network!—takes considerable\n",
        "time.\n",
        "\n",
        "<img width=\"300\" src=\"https://drive.google.com/uc?export=view&id=1tX6HB0R0Pieal5AQROZ7dyaZzzN7wgwZ\">\n",
        "\n",
        "Suppose you start with one seed node, and let’s say it has $N\\approx 100$ neighbors.\n",
        "Each of them has $N$ neighbors, too, to the total of $\\approx N+N×N$ nodes. The\n",
        "third round of discovery adds $\\approx N×N×N$ more nodes. The time to shave each\n",
        "next layer of nodes grows exponentially. For this exercise, let’s process only\n",
        "the seed node itself and its immediate neighbors (layers 0 and 1). Processing\n",
        "layer 2 is still feasible, but layer 3 requires $N×N×N×N\\approx 10^8$ page downloads. To keep track of the distance from the currently processed node to the seed, store both the layer to which a node belongs and the node name together as a tuple on the **todo_lst** list."
      ]
    },
    {
      "cell_type": "code",
      "metadata": {
        "id": "sy1gJQxwYdNi",
        "colab_type": "code",
        "colab": {}
      },
      "source": [
        "todo_lst = [(0, SEED)] # The SEED is in the layer 0\n",
        "todo_set = set(SEED) # The SEED itself\n",
        "done_set = set() # Nothing is done yet"
      ],
      "execution_count": 0,
      "outputs": []
    },
    {
      "cell_type": "markdown",
      "metadata": {
        "id": "FlcRZ49jYjSr",
        "colab_type": "text"
      },
      "source": [
        "**The output of the exercise is a NetworkX graph**. The next fragment will create\n",
        "an empty directed graph that will later absorb discovered nodes and edges.\n",
        "\n",
        "> We choose a **directed graph** because the edges that represent HTML links\n",
        "are naturally directed: a link from page A to page B does not imply a reciprocal\n",
        "link. \n",
        "\n",
        "The same fragment primes the algorithm by extracting the first “to-do” item\n",
        "(both its layer and page name) from the namesake list.\n",
        "\n"
      ]
    },
    {
      "cell_type": "code",
      "metadata": {
        "id": "z04Y-it9g5OR",
        "colab_type": "code",
        "colab": {}
      },
      "source": [
        "g = nx.DiGraph()\n",
        "layer, page = todo_lst[0]"
      ],
      "execution_count": 0,
      "outputs": []
    },
    {
      "cell_type": "markdown",
      "metadata": {
        "id": "cCe-Cq_4hGPH",
        "colab_type": "text"
      },
      "source": [
        "It may take a fraction of a second to execute the first five lines of the script.\n",
        "It may take the whole next year or longer to finish the next twenty lines\n",
        "because they contain the main collection/construction loop of the project."
      ]
    },
    {
      "cell_type": "code",
      "metadata": {
        "id": "ucGHcQ4-hP4V",
        "colab_type": "code",
        "outputId": "a5d81563-0983-4856-a0b5-59981cc7b786",
        "colab": {
          "base_uri": "https://localhost:8080/",
          "height": 2244
        }
      },
      "source": [
        "%%time\n",
        "while layer < 2:\n",
        "  # Remove the name page of the current page from the todo_lst, \n",
        "  # and add it to the set of processed pages. \n",
        "  # If the script encounters this page again, it will skip over it.\n",
        "  del todo_lst[0]\n",
        "  done_set.add(page)\n",
        "  \n",
        "  # Show progress\n",
        "  print(layer, page) \n",
        "  \n",
        "  # Attempt to download the selected page.\n",
        "  try:\n",
        "    wiki = wikipedia.page(page)\n",
        "  except:\n",
        "    layer, page = todo_lst[0]\n",
        "    print(\"Could not load\", page)\n",
        "    continue\n",
        "  \n",
        "  for link in wiki.links:\n",
        "    link = link.title()\n",
        "    if link not in STOPS and not link.startswith(\"List Of\"):\n",
        "      if link not in todo_set and link not in done_set:\n",
        "        todo_lst.append((layer + 1, link))\n",
        "        todo_set.add(link)\n",
        "      g.add_edge(page, link)\n",
        "  layer, page = todo_lst[0]"
      ],
      "execution_count": 0,
      "outputs": [
        {
          "output_type": "stream",
          "text": [
            "0 Complex Network\n",
            "1 Adjacency List\n",
            "1 Adjacency Matrix\n",
            "1 Agent-Based Model\n",
            "1 Albert-László Barabási\n",
            "1 Artificial Neural Network\n",
            "1 Assortativity\n",
            "1 Autonomous System (Internet)\n",
            "1 Balance Theory\n",
            "1 Barabási–Albert Model\n",
            "1 Betweenness Centrality\n",
            "1 Biological Network\n",
            "1 Biology\n",
            "1 Bipartite Graph\n",
            "1 Boolean Network\n",
            "1 Branching Process\n",
            "1 Centrality\n",
            "1 Climate\n",
            "1 Clique (Graph Theory)\n",
            "1 Closeness (Graph Theory)\n",
            "1 Clustering Coefficient\n",
            "1 Combinatorial Optimization\n",
            "1 Community Structure\n",
            "1 Complete Graph\n",
            "1 Complex Adaptive System\n",
            "1 Complex Contagion\n",
            "1 Complex Systems\n",
            "1 Computer Network\n",
            "1 Computer Science\n",
            "1 Connected Component (Graph Theory)\n",
            "1 Cut (Graph Theory)\n",
            "1 Cycle (Graph Theory)\n",
            "1 Degree (Graph Theory)\n",
            "1 Degree Distribution\n",
            "1 Dependency Network\n",
            "1 Directed Graph\n",
            "1 Distance (Graph Theory)\n",
            "1 Dual-Phase Evolution\n",
            "1 Duncan J. Watts\n",
            "1 Dynamic Network Analysis\n",
            "1 Edge (Graph Theory)\n",
            "1 Efficiency (Network Science)\n",
            "1 Entropy (Information Theory)\n",
            "1 Epidemic Model\n",
            "1 Epidemiology\n",
            "1 Erdős–Rényi Model\n",
            "1 Evolving Networks\n",
            "1 Exponential Random Graph Models\n",
            "1 Fitness Model (Network Theory)\n",
            "1 Flow Network\n",
            "1 Frigyes Karinthy\n",
            "1 Graph (Abstract Data Type)\n",
            "1 Graph (Discrete Mathematics)\n",
            "1 Graph Drawing\n",
            "1 Herbert A. Simon\n",
            "1 Hierarchical Network Model\n",
            "1 Hierarchy\n",
            "1 Homophily\n",
            "1 Hyperbolic Geometric Graph\n",
            "1 Hypercube\n",
            "1 Hypergraph\n",
            "1 Incidence List\n",
            "1 Incidence Matrix\n",
            "1 Interdependent Networks\n",
            "1 Lancichinetti–Fortunato–Radicchi Benchmark\n",
            "1 Lattice Graph\n",
            "1 Link Analysis\n",
            "1 Loop (Graph Theory)\n",
            "1 Mathematics\n",
            "1 Matthew Effect (Sociology)\n",
            "1 Maximum-Entropy Random Graph Model\n",
            "1 Metrics (Networking)\n",
            "1 Modularity (Networks)\n",
            "1 Multigraph\n",
            "1 Neighbourhood (Graph Theory)\n",
            "1 Network Controllability\n",
            "1 Network Effect\n",
            "1 Network Motif\n",
            "1 Network On A Chip\n",
            "1 Network Science\n",
            "1 Network Theory\n",
            "1 Neural Network\n",
            "1 Pagerank\n",
            "1 Path (Graph Theory)\n",
            "1 Percolation\n",
            "1 Percolation Theory\n",
            "1 Physics\n",
            "1 Poisson Distribution\n",
            "1 Power-Law\n",
            "1 Power Law\n",
            "1 Preferential Attachment\n",
            "1 Random Geometric Graph\n",
            "1 Random Graph\n",
            "1 Random Regular Graphs\n",
            "1 Reciprocity (Network Science)\n",
            "1 Reciprocity In Network\n",
            "1 Regular Lattices\n",
            "Could not load Sir Model\n",
            "1 Sir Model\n",
            "1 Scale-Free Network\n",
            "1 Scale-Free Networks\n",
            "1 Scientific Collaboration Network\n",
            "1 Semantic Network\n",
            "1 Six Degrees Of Separation\n",
            "1 Small-World Network\n",
            "1 Small-World Networks\n",
            "1 Small-World Phenomenon\n",
            "1 Small World Networks\n",
            "1 Social Capital\n",
            "1 Social Influence\n",
            "1 Social Network\n",
            "1 Social Network Analysis Software\n",
            "1 Sociology\n",
            "1 Soft Configuration Model\n",
            "1 Spatial Network\n",
            "1 Stanley Milgram\n",
            "1 Steven Strogatz\n",
            "1 Stochastic Block Model\n",
            "1 Telecommunications Network\n",
            "1 Topological\n",
            "1 Transitive Relation\n",
            "1 Transport Network\n",
            "1 Triadic Closure\n",
            "1 Trophic Coherence\n",
            "1 Vertex (Graph Theory)\n",
            "1 Watts And Strogatz Model\n",
            "1 Weighted Network\n",
            "1 World Wide Web\n",
            "1 Yule-Simon Distribution\n",
            "CPU times: user 7.27 s, sys: 628 ms, total: 7.9 s\n",
            "Wall time: 3min 16s\n"
          ],
          "name": "stdout"
        }
      ]
    },
    {
      "cell_type": "code",
      "metadata": {
        "id": "JrtewM_hPqJa",
        "colab_type": "code",
        "outputId": "36ebc43f-8c41-41be-bf21-8ae36c880aae",
        "colab": {
          "base_uri": "https://localhost:8080/",
          "height": 34
        }
      },
      "source": [
        "print(\"{} nodes, {} edges\".format(len(g), nx.number_of_edges(g)))"
      ],
      "execution_count": 0,
      "outputs": [
        {
          "output_type": "stream",
          "text": [
            "11789 nodes, 23184 edges\n"
          ],
          "name": "stdout"
        }
      ]
    },
    {
      "cell_type": "markdown",
      "metadata": {
        "id": "LMX9A1-Nh-8B",
        "colab_type": "text"
      },
      "source": [
        "The network of interest is now in the variable g. But it is “dirty”: inaccurate, incomplete, and erroneous."
      ]
    },
    {
      "cell_type": "markdown",
      "metadata": {
        "id": "qS911QoZMzb7",
        "colab_type": "text"
      },
      "source": [
        "## 3.3 Eliminate Duplicates"
      ]
    },
    {
      "cell_type": "markdown",
      "metadata": {
        "id": "UJ_c2SOHNa7O",
        "colab_type": "text"
      },
      "source": [
        "Many Wikipedia pages exist under two or more names. For example, there\n",
        "are pages about **Complex Network** and **Complex Networks**. The latter redirects\n",
        "to the former, but NetworkX does not know about the redirection.\n",
        "\n",
        "Accurately merging all duplicate nodes involves **natural language processing\n",
        "(NLP) tools that are outside of the scope of this course**. It may suffice to join\n",
        "only those nodes that differ by the presence/absence of the letter s at the end\n",
        "or a hyphen in the middle.\n",
        "\n",
        "Start removing self-loops (pages referring to themselves). The loops don’t change\n",
        "the network properties but affect the correctness of duplicate node elimination.\n",
        "Now, you need a list of at least some duplicate nodes. You can build it by\n",
        "looking at each node in g and checking if a node with the same name, but\n",
        "with an s at the end, is also in g. \n",
        "\n",
        "Pass each pair of duplicated node names to the function **nx.contracted_nodes(g,u,v)** that merges node v into node u in the graph g. The function reassigns all edges previously incident to v, to u. If you don’t pass the option **self_loops=False**, the function converts an edge from v to u (if any) to a self-loop."
      ]
    },
    {
      "cell_type": "code",
      "metadata": {
        "id": "UFrNIuluN1__",
        "colab_type": "code",
        "colab": {}
      },
      "source": [
        "# remove self loops\n",
        "g.remove_edges_from(g.selfloop_edges())\n",
        "\n",
        "# identify duplicates like that: 'network' and 'networks'\n",
        "duplicates = [(node, node + \"s\") \n",
        "              for node in g if node + \"s\" in g\n",
        "             ]\n",
        "\n",
        "for dup in duplicates:\n",
        "  # *dup is a technique named 'unpacking'\n",
        "  g = nx.contracted_nodes(g, *dup, self_loops=False)\n",
        "\n",
        "duplicates = [(x, y) for x, y in \n",
        "              [(node, node.replace(\"-\", \" \")) for node in g]\n",
        "                if x != y and y in g]\n",
        "\n",
        "for dup in duplicates:\n",
        "  g = nx.contracted_nodes(g, *dup, self_loops=False)\n",
        "\n",
        "# nx.contracted creates a new node attribute called contraction\n",
        "# the value of the attribute is a dictionary, but GraphML\n",
        "# does not support dictionary attributes\n",
        "nx.set_node_attributes(g, 0,\"contraction\")"
      ],
      "execution_count": 0,
      "outputs": []
    },
    {
      "cell_type": "code",
      "metadata": {
        "id": "Bqe2ruDmPcNH",
        "colab_type": "code",
        "outputId": "e40c8699-e74b-418d-ed92-9a9049ad05e8",
        "colab": {
          "base_uri": "https://localhost:8080/",
          "height": 34
        }
      },
      "source": [
        "print(\"{} nodes, {} edges\".format(len(g), nx.number_of_edges(g)))"
      ],
      "execution_count": 0,
      "outputs": [
        {
          "output_type": "stream",
          "text": [
            "11659 nodes, 22037 edges\n"
          ],
          "name": "stdout"
        }
      ]
    },
    {
      "cell_type": "markdown",
      "metadata": {
        "id": "TulPj3ZQQAS8",
        "colab_type": "text"
      },
      "source": [
        "## 3.4 Truncate the network"
      ]
    },
    {
      "cell_type": "markdown",
      "metadata": {
        "id": "cGjVZK35URcH",
        "colab_type": "text"
      },
      "source": [
        "Why did you go through all those Wikipedia troubles? First, to construct a\n",
        "network of subjects related to complex networks—and here it is. Second, to\n",
        "find other significant topics related to complex networks. **But what is the\n",
        "measure of significance?**\n",
        "\n",
        "\n",
        "You will discover a variety of network measures latter in this course. For now, let’s concentrate on a **node indegree**—the number of edges directed into the node. (In the same spirit, the number of edges directed out of the node is called **outdegree**.) The indegree of a node equals the number of HTML links pointing to the respective page. **If a page has a lot of links to it, the topic of the page must be significant.**\n",
        "\n",
        "\n",
        "The choice of indegree as a yardstick of significance incidentally makes it\n",
        "possible to shrink the graph size by almost 75 percent. The extracted graph\n",
        "has 11,613 nodes and 21,574 edges—an average of 1.8 edges per node. **Most\n",
        "of the nodes have only one connection**. (Interestingly, there are no isolated\n",
        "nodes with no connection in the graph. Even if they exist, you will not find\n",
        "them because of the way snowballing works.) **You can remove all nodes with\n",
        "only one incident edge to make the network more compact and less hairy\n",
        "without hurting the final results**."
      ]
    },
    {
      "cell_type": "code",
      "metadata": {
        "id": "Br8-5IGIUbVT",
        "colab_type": "code",
        "outputId": "520ed06e-2247-4f7c-d9dd-bd4e080cf37a",
        "colab": {
          "base_uri": "https://localhost:8080/",
          "height": 34
        }
      },
      "source": [
        "# filter nodes with degree greater than or equal to 2\n",
        "core = [node for node, deg in dict(g.degree()).items() if deg >= 2]\n",
        "\n",
        "# select a subgraph with 'core' nodes\n",
        "gsub = nx.subgraph(g, core)\n",
        "\n",
        "print(\"{} nodes, {} edges\".format(len(gsub), nx.number_of_edges(gsub)))\n",
        "\n",
        "nx.write_graphml(gsub, \"cna.graphml\")"
      ],
      "execution_count": 0,
      "outputs": [
        {
          "output_type": "stream",
          "text": [
            "3270 nodes, 13648 edges\n"
          ],
          "name": "stdout"
        }
      ]
    },
    {
      "cell_type": "markdown",
      "metadata": {
        "id": "YSELbSFCX__7",
        "colab_type": "text"
      },
      "source": [
        "As you can see, the following code fragment safely removes 72 percent of the\n",
        "nodes and 39 percent of the edges, raising the average number of edges per\n",
        "node to 4.11."
      ]
    },
    {
      "cell_type": "markdown",
      "metadata": {
        "id": "5zRjfGLtZ2qB",
        "colab_type": "text"
      },
      "source": [
        "## 3.5 Explore the network"
      ]
    },
    {
      "cell_type": "markdown",
      "metadata": {
        "id": "RUMyWlK7jqkX",
        "colab_type": "text"
      },
      "source": [
        "The following figure is a Gephi rendering of **gsub**. Node\n",
        "and label font sizes represent the indegrees (a filter was added in gephi just to show only node with indegree greater than 50). The most in-connected, most significant\n",
        "nodes are in the upper-left corner of the network. What are they?\n",
        "\n",
        "<img width=\"600\" src=\"https://drive.google.com/uc?export=view&id=1Cemnpe6yBttyZ8Vw2i9ifMiWx9psIV7C\">\n",
        "\n",
        "\n",
        "The last code fragment of the exercise efficiently calculates the answer by\n",
        "calling the method **gsub.in_degree()**. The method (and its sister method **gsub.out_degree()**)\n",
        "are very similar to **gsub.degree()** except that they report different edge counts in the form of objects InDegreeView and OutDegreeView, respectively."
      ]
    },
    {
      "cell_type": "markdown",
      "metadata": {
        "id": "1pThdEk5ta0w",
        "colab_type": "text"
      },
      "source": [
        "```python\n",
        "top_indegree = sorted(dict(gsub.in_degree()).items(),\n",
        "                      reverse=True, key=itemgetter(1))[:100]\n",
        "print(\"\\n\".join(map(lambda t: \"{} {}\".format(*reversed(t)), top_indegree)))\n",
        "```"
      ]
    },
    {
      "cell_type": "code",
      "metadata": {
        "id": "gwlRxZ2kmDL-",
        "colab_type": "code",
        "outputId": "01e72c23-c0cd-4639-f96b-b18f57e7a922",
        "colab": {
          "base_uri": "https://localhost:8080/",
          "height": 1717
        }
      },
      "source": [
        "top_indegree = sorted(dict(gsub.in_degree()).items(),\n",
        "                      reverse=True, key=itemgetter(1))[:100]\n",
        "print(\"\\n\".join(map(lambda t: \"{} {}\".format(*reversed(t)), top_indegree)))"
      ],
      "execution_count": 0,
      "outputs": [
        {
          "output_type": "stream",
          "text": [
            "67 Graph (Discrete Mathematics)\n",
            "64 Vertex (Graph Theory)\n",
            "58 Directed Graph\n",
            "55 Social Network\n",
            "51 Degree (Graph Theory)\n",
            "51 Network Theory\n",
            "48 Graph Drawing\n",
            "48 Edge (Graph Theory)\n",
            "47 Adjacency Matrix\n",
            "47 Complete Graph\n",
            "47 Bipartite Graph\n",
            "46 Graph (Abstract Data Type)\n",
            "46 Graph Theory\n",
            "45 Network Science\n",
            "45 Cycle (Graph Theory)\n",
            "45 Incidence Matrix\n",
            "44 Social Capital\n",
            "44 Loop (Graph Theory)\n",
            "44 Social Network Analysis Software\n",
            "44 Complex Network\n",
            "44 Path (Graph Theory)\n",
            "43 Scale-Free Network\n",
            "43 Centrality\n",
            "43 Complex Contagion\n",
            "43 Small-World Network\n",
            "43 Preferential Attachment\n",
            "42 Hypergraph\n",
            "42 Multigraph\n",
            "42 Adjacency List\n",
            "41 Distance (Graph Theory)\n",
            "41 Clustering Coefficient\n",
            "40 Random Graph\n",
            "40 Connected Component (Graph Theory)\n",
            "40 Citeseerx\n",
            "40 Flow Network\n",
            "40 Betweenness Centrality\n",
            "40 Clique (Graph Theory)\n",
            "39 Computer Network\n",
            "39 Semantic Network\n",
            "39 Percolation Theory\n",
            "39 Watts And Strogatz Model\n",
            "38 Telecommunications Network\n",
            "38 Degree Distribution\n",
            "38 Barabási–Albert Model\n",
            "38 Cut (Graph Theory)\n",
            "38 Artificial Neural Network\n",
            "38 Combinatorial Optimization\n",
            "38 Agent-Based Model\n",
            "38 Neighbourhood (Graph Theory)\n",
            "38 Transitive Relation\n",
            "38 Weighted Network\n",
            "37 Epidemic Model\n",
            "37 Closeness (Graph Theory)\n",
            "37 Erdős–Rényi Model\n",
            "37 Homophily\n",
            "37 Fitness Model (Network Theory)\n",
            "37 Incidence List\n",
            "37 Link Analysis\n",
            "37 Triadic Closure\n",
            "37 Network Motif\n",
            "37 Pagerank\n",
            "36 Community Structure\n",
            "36 Metrics (Networking)\n",
            "36 Network Effect\n",
            "36 Assortativity\n",
            "36 Network On A Chip\n",
            "36 Biological Network\n",
            "36 Boolean Network\n",
            "36 Evolving Networks\n",
            "36 Network Controllability\n",
            "36 Dependency Network\n",
            "36 Stochastic Block Model\n",
            "36 Balance Theory\n",
            "36 Social Influence\n",
            "36 Interdependent Networks\n",
            "36 Sir Model\n",
            "36 Transport Network\n",
            "35 Modularity (Networks)\n",
            "35 Hyperbolic Geometric Graph\n",
            "35 Soft Configuration Model\n",
            "35 Lancichinetti–Fortunato–Radicchi Benchmark\n",
            "35 Efficiency (Network Science)\n",
            "35 Hierarchical Network Model\n",
            "35 Exponential Random Graph Model\n",
            "35 Random Geometric Graph\n",
            "35 Maximum-Entropy Random Graph Model\n",
            "35 Scientific Collaboration Network\n",
            "35 Spatial Network\n",
            "34 Reciprocity (Network Science)\n",
            "31 Mathematics\n",
            "25 Computer Science\n",
            "24 Social Network Analysis\n",
            "23 Integrated Authority File\n",
            "22 Statistic\n",
            "20 Wayback Machine\n",
            "19 Oclc\n",
            "15 Machine Learning\n",
            "15 World Wide Web\n",
            "15 Glossary Of Graph Theory\n",
            "14 Algorithm\n"
          ],
          "name": "stdout"
        }
      ]
    },
    {
      "cell_type": "markdown",
      "metadata": {
        "id": "6PQT-sl0mulb",
        "colab_type": "text"
      },
      "source": [
        "**Exercise**\n",
        "\n",
        "<img width=\"100\" src=\"https://drive.google.com/uc?export=view&id=1E8tR7B9YYUXsU_rddJAyq0FrM0MSelxZ\">\n",
        "\n",
        "\n",
        "- This section presented a complete complex network construction case study,\n",
        "starting from the raw data in the form of HTML pages, all the way to an analyzable\n",
        "annotated network graph and a simple exploratory exercise. This is\n",
        "a good foundation for more systematic complex network studies. Now is your turn, choice a topic of your interest and reproduce yourself a complet complex network case study. "
      ]
    },
    {
      "cell_type": "code",
      "metadata": {
        "id": "MzoPkyYOnrud",
        "colab_type": "code",
        "colab": {}
      },
      "source": [
        "# put your results here\n",
        "SEED = \"Ada Lovelace\".title()\n",
        "STOPS = (\"International Standard Serial Number\",\n",
        "         \"International Standard Book Number\",\n",
        "         \"National Diet Library\",\n",
        "         \"International Standard Name Identifier\",\n",
        "         \"International Standard Book Number (Identifier)\",\n",
        "         \"Pubmed Identifier\", \n",
        "         \"Pubmed Central\",\n",
        "         \"Digital Object Identifier\", \n",
        "         \"Arxiv\",\n",
        "         \"Proc Natl Acad Sci Usa\", \n",
        "         \"Bibcode\",\n",
        "         \"Library Of Congress Control Number\", \n",
        "         \"Jstor\")"
      ],
      "execution_count": 0,
      "outputs": []
    },
    {
      "cell_type": "code",
      "metadata": {
        "id": "RcMYDwaurl_x",
        "colab_type": "code",
        "colab": {}
      },
      "source": [
        "todo_lst = [(0, SEED)] # The SEED is in the layer 0\n",
        "todo_set = set(SEED) # The SEED itself\n",
        "done_set = set() # Nothing is done yet"
      ],
      "execution_count": 0,
      "outputs": []
    },
    {
      "cell_type": "code",
      "metadata": {
        "id": "LCCYPtmD1Ur2",
        "colab_type": "code",
        "colab": {}
      },
      "source": [
        "g = nx.DiGraph()\n",
        "layer, page = todo_lst[0]"
      ],
      "execution_count": 0,
      "outputs": []
    },
    {
      "cell_type": "code",
      "metadata": {
        "id": "zWBMu4_11ZIx",
        "colab_type": "code",
        "outputId": "2f60c7dd-e6ef-4af8-e7f1-41d94da96059",
        "colab": {
          "base_uri": "https://localhost:8080/",
          "height": 5851
        }
      },
      "source": [
        "%%time\n",
        "while layer < 2:\n",
        "  # Remove the name page of the current page from the todo_lst, \n",
        "  # and add it to the set of processed pages. \n",
        "  # If the script encounters this page again, it will skip over it.\n",
        "  del todo_lst[0]\n",
        "  done_set.add(page)\n",
        "  \n",
        "  # Show progress\n",
        "  print(layer, page) \n",
        "  \n",
        "  # Attempt to download the selected page.\n",
        "  try:\n",
        "    wiki = wikipedia.page(page)\n",
        "  except:\n",
        "    layer, page = todo_lst[0]\n",
        "    print(\"Could not load\", page)\n",
        "    continue\n",
        "  \n",
        "  for link in wiki.links:\n",
        "    link = link.title()\n",
        "    if link not in STOPS and not link.startswith(\"List Of\"):\n",
        "      if link not in todo_set and link not in done_set:\n",
        "        todo_lst.append((layer + 1, link))\n",
        "        todo_set.add(link)\n",
        "      g.add_edge(page, link)\n",
        "  layer, page = todo_lst[0]"
      ],
      "execution_count": 0,
      "outputs": [
        {
          "output_type": "stream",
          "text": [
            "0 Ada Lovelace\n",
            "1 A. E. Chalon\n",
            "1 Ada (Programming Language)\n",
            "1 Ada College\n",
            "1 Ada Initiative\n",
            "1 Ada Lovelace Award\n",
            "1 Ada And The Memory Engine\n",
            "Could not load Adele Goldstine\n",
            "1 Adele Goldstine\n",
            "1 Adrian Rice\n",
            "1 Agnes Scott College\n",
            "1 Alan Turing\n",
            "1 Alfred Edward Chalon\n",
            "1 Alfred D'Orsay\n",
            "1 Algorithm\n",
            "1 Allan Bromley (Historian)\n",
            "1 Allan G. Bromley\n",
            "1 Allegra Byron\n",
            "1 Alvin Klein\n",
            "1 Analytical Engine\n",
            "1 Anatomy Of Birds\n",
            "1 Andrew Crosse\n",
            "1 Andrew Koenig (Programmer)\n",
            "1 Anne Blunt, 15Th Baroness Wentworth\n",
            "1 Anne Isabella Byron, Baroness Byron\n",
            "1 Anniversary\n",
            "1 Antoine Claudet\n",
            "1 Arcadia (Play)\n",
            "1 Artificial Intelligence\n",
            "1 Association For Women In Computing\n",
            "1 Augusta Leigh\n",
            "1 Augustus De Morgan\n",
            "1 B.V. Bowden\n",
            "1 Bbc Radio 4\n",
            "1 Bcswomen\n",
            "1 Baron Byron\n",
            "1 Baron Lovelace\n",
            "1 Benjamin Woolley\n",
            "1 Beppo (Poem)\n",
            "1 Bernoulli Number\n",
            "1 Bernoulli Numbers\n",
            "1 Betty Holberton\n",
            "1 Biblioteca Nacional De España\n",
            "1 Bibliothèque Nationale De France\n",
            "1 Bibliothèque Universelle De Genève\n",
            "1 Bibsys\n",
            "1 Bjarne Stroustrup\n",
            "1 Bloodletting\n",
            "1 Blue Plaque\n",
            "1 Bob Kahn\n",
            "1 Bodleian Libraries\n",
            "1 Bodleian Library\n",
            "1 Brian Kernighan\n",
            "1 Bride Of Frankenstein\n",
            "1 British Computer Society\n",
            "1 Bruce Sterling\n",
            "1 Byron'S Memoirs\n",
            "1 Byron'S Letters\n",
            "1 Byron (Play)\n",
            "1 Byron King-Noel, Viscount Ockham\n",
            "1 Byronic Hero\n",
            "1 Cain (Play)\n",
            "1 Chaos Theory\n",
            "1 Charles Babbage\n",
            "1 Charles Barry\n",
            "1 Charles Dickens\n",
            "1 Charles Wheatstone\n",
            "1 Childe Byron\n",
            "1 Childe Harold'S Pilgrimage\n",
            "1 Christopher Hollings\n",
            "Could not load Church Of St. Mary Magdalene, Hucknall\n",
            "1 Church Of St. Mary Magdalene, Hucknall\n",
            "1 Claire Clairmont\n",
            "1 Code: Debugging The Gender Gap\n",
            "1 Computability\n",
            "1 Computing\n",
            "1 Computing Machinery And Intelligence\n",
            "1 Computing Machine\n",
            "1 Conceiving Ada\n",
            "1 Daguerreotype\n",
            "1 Darkness (Poem)\n",
            "1 David A. Huffman\n",
            "1 David Brewster\n",
            "1 Debutante\n",
            "1 Deed Of Separation\n",
            "1 Dennis Ritchie\n",
            "1 Difference Engine\n",
            "1 Differential Calculus\n",
            "1 Don Juan (Poem)\n",
            "1 Donald Knuth\n",
            "1 Doron Swade\n",
            "1 Douglas Kinnaird\n",
            "1 Douglas Mcilroy\n",
            "1 Earl Of Lovelace\n",
            "1 Early Life Of Lord Byron\n",
            "1 Earth Observation\n",
            "1 East Horsley\n",
            "1 Edinburgh International Science Festival\n",
            "1 Edit-A-Thons\n",
            "1 Edmund F. Robertson\n",
            "1 Edward John Trelawny\n",
            "1 El País\n",
            "1 Elizabeth Medora Leigh\n",
            "1 Emerald Fennell\n",
            "1 English Bards And Scotch Reviewers\n",
            "1 Epitaph To A Dog\n",
            "1 Fare Thee Well (Poem)\n",
            "1 Federico Luigi Menabrea\n",
            "1 Fortune (Magazine)\n",
            "1 Fragment Of A Novel\n",
            "1 Frances Spence\n",
            "1 Free Culture Movement\n",
            "1 French Language\n",
            "1 Gender Bias On Wikipedia\n",
            "1 George Boole\n",
            "1 Google Doodle\n",
            "1 Gothic (Film)\n",
            "1 Grace Hopper\n",
            "1 Great Lives\n",
            "1 Greek War Of Independence\n",
            "1 Guido Van Rossum\n",
            "1 Harvard University\n",
            "1 Haunted Summer\n",
            "1 Heaven And Earth (Drama)\n"
          ],
          "name": "stdout"
        },
        {
          "output_type": "stream",
          "text": [
            "/usr/local/lib/python3.6/dist-packages/wikipedia/wikipedia.py:389: UserWarning: No parser was explicitly specified, so I'm using the best available HTML parser for this system (\"lxml\"). This usually isn't a problem, but if you run this code on another system, or in a different virtual environment, it may use a different parser and behave differently.\n",
            "\n",
            "The code that caused this warning is on line 389 of the file /usr/local/lib/python3.6/dist-packages/wikipedia/wikipedia.py. To get rid of this warning, pass the additional argument 'features=\"lxml\"' to the BeautifulSoup constructor.\n",
            "\n",
            "  lis = BeautifulSoup(html).find_all('li')\n"
          ],
          "name": "stderr"
        },
        {
          "output_type": "stream",
          "text": [
            "Could not load Hebrew Melodies\n",
            "1 Hebrew Melodies\n",
            "1 Henry Wyndham Phillips\n",
            "1 History Of Computers\n",
            "1 History Of Computing\n",
            "1 Hours Of Idleness\n",
            "1 Initialism\n",
            "1 Insanity\n",
            "1 Integrated Authority File\n",
            "1 International Women'S Day\n",
            "1 Isaac Nathan\n",
            "1 Israel Institute For Advanced Studies\n",
            "1 J. Presper Eckert\n",
            "1 Jane Harley, Countess Of Oxford And Countess Mortimer\n",
            "1 Jean Bartik\n",
            "1 Jenny Uglow\n",
            "1 John \"Mad Jack\" Byron\n",
            "1 John Backus\n",
            "1 John Cocke\n",
            "1 John Crowley (Author)\n",
            "1 John Graham-Cumming\n",
            "1 John Hobhouse, 1St Baron Broughton\n",
            "1 John J. O'Connor (Mathematician)\n",
            "1 John William Polidori\n",
            "1 John Von Neumann\n",
            "1 Jordan Stratford\n",
            "1 Joseph Kruskal\n",
            "1 Kqed\n",
            "1 Karl Von Reichenbach\n",
            "1 Kathleen Antonelli\n",
            "1 Ken Thompson\n",
            "1 Kirkby-In-Ashfield\n",
            "1 Kirkby Mallory\n",
            "1 Klara Dan Von Neumann\n",
            "1 Libris\n",
            "1 Lachin Y Gair\n",
            "1 Lady Anne Blunt\n",
            "1 Lady Byron\n",
            "1 Lady Caroline Lamb\n",
            "1 Lady Caroline Lamb (Film)\n",
            "1 Lara, A Tale\n",
            "1 Larry Wall\n",
            "1 Lauren Gunderson\n",
            "1 Lines Addressed To A Young Lady\n",
            "1 Linus Torvalds\n",
            "1 Linux Timeline\n",
            "1 Lois Haibt\n",
            "1 Lord Byron\n",
            "1 Lord Byron (Opera)\n",
            "1 Los Angeles Times\n",
            "1 Love'S Last Adieu\n",
            "1 Lovelace Medal\n",
            "1 Luigi Menabrea\n",
            "1 Mactutor History Of Mathematics Archive\n",
            "1 Maid Of Athens, Ere We Part\n",
            "1 Manfred\n",
            "1 Margaret Hamilton (Scientist)\n",
            "1 Margaret Sarah Carpenter\n",
            "1 Marino Faliero, Doge Of Venice\n",
            "1 Marlyn Meltzer\n",
            "1 Mary Shelley\n",
            "1 Mary Shelley (Film)\n",
            "1 Mary Somerville\n",
            "1 Marylebone\n",
            "1 Massachusetts\n",
            "1 Mathematician\n",
            "1 Mathematics\n",
            "1 Mazeppa (Poem)\n",
            "1 Measles\n",
            "1 Mesmerism\n",
            "1 Metaphysics\n",
            "1 Michael Faraday\n",
            "1 Miranda Seymour\n",
            "1 My Soul Is Dark\n",
            "1 Nancy Leveson\n",
            "1 National Library Of The Czech Republic\n",
            "1 New Scientist\n",
            "1 Newstead Abbey\n",
            "1 Nicolo Giraud\n",
            "1 Née\n",
            "Could not load Oclc\n",
            "1 Oclc\n",
            "1 Ockham Park\n",
            "1 Open-Source Software Movement\n",
            "1 Open Library\n",
            "1 Oxford\n",
            "1 Parisina\n",
            "1 Pattern\n",
            "1 Paul Vixie\n",
            "1 Percy Bysshe Shelley\n",
            "1 Peter Straub\n",
            "1 Phrenology\n",
            "1 Porlock\n",
            "1 Porlock Weir\n",
            "1 Prime Minister Of Italy\n",
            "1 Programmer\n",
            "1 Prometheus (Poem)\n",
            "1 Punched Cards\n",
            "1 Ralph King-Milbanke, 2Nd Earl Of Lovelace\n",
            "1 Richard Taylor (Editor)\n",
            "1 Romulus Linney (Playwright)\n",
            "1 Ron Wyden\n",
            "1 Ross-Shire\n",
            "1 Rowing With The Wind\n",
            "1 Ruth Teitelbaum\n",
            "1 Snac\n",
            "1 Sardanapalus (Play)\n",
            "1 Satellogic\n",
            "1 Science Museum, London\n",
            "1 Scientific Memoirs\n",
            "1 Second Law Of Thermodynamics\n",
            "1 She Walks In Beauty\n",
            "1 Small Satellite\n",
            "1 So, We'Ll Go No More A Roving\n",
            "1 Somerville College, Oxford\n",
            "1 St. James'S Square\n",
            "1 Steampunk\n",
            "1 Stephen Cook\n",
            "1 Stephen Holden\n",
            "1 Stephen Wolfram\n",
            "1 Steve Wozniak\n",
            "1 Switzerland\n",
            "1 Sydney Padua\n",
            "1 Système Universitaire De Documentation\n",
            "1 Teresa, Contessa Guiccioli\n",
            "1 The Age Of Bronze (Poem)\n",
            "1 The Bride Of Abydos\n",
            "1 The Cornelian\n",
            "Could not load The Corsair\n",
            "1 The Corsair\n",
            "1 The Deformed Transformed\n",
            "Could not load The Destruction Of Sennacherib\n",
            "1 The Destruction Of Sennacherib\n",
            "1 The Difference Engine\n",
            "1 The Dream (Byron Poem)\n",
            "1 The Frankenstein Chronicles\n",
            "1 The Giaour\n",
            "1 The Guardian\n",
            "1 The Information: A History, A Theory, A Flood\n",
            "1 The Island (Poem)\n",
            "1 The Lament Of Tasso\n",
            "Could not load The New York Review Of Books\n",
            "1 The New York Review Of Books\n",
            "1 The New York Times\n",
            "1 The New Yorker\n",
            "1 The Prisoner Of Chillon\n",
            "1 The Prophecy Of Dante\n",
            "1 The Right Honourable\n",
            "1 The Siege Of Corinth (Poem)\n",
            "1 The Thrilling Adventures Of Lovelace And Babbage\n",
            "1 The Two Foscari (Byron)\n",
            "1 The Vision Of Judgment\n",
            "1 Thomas Moore\n",
            "1 Thomas Phillips\n",
            "1 Thoughts Suggested By A College Examination\n",
            "1 Timeline Of Dos Operating Systems\n",
            "1 Timeline Of Internet Conflicts\n",
            "1 Timeline Of Lord Byron\n",
            "1 Timeline Of Microsoft Windows\n",
            "1 Timeline Of Artificial Intelligence\n",
            "1 Timeline Of Computer Viruses And Worms\n",
            "1 Timeline Of Computing\n",
            "1 Timeline Of Computing 1950–79\n",
            "1 Timeline Of Computing 1980–89\n",
            "1 Timeline Of Computing 1990–99\n",
            "1 Timeline Of Computing 2000–09\n",
            "1 Timeline Of Computing 2010–19\n",
            "1 Timeline Of Computing Hardware Before 1950\n",
            "1 Timeline Of Hypertext Technology\n",
            "1 Timeline Of Open-Source Software\n",
            "1 Timeline Of Operating Systems\n",
            "1 Timeline Of Programming Languages\n",
            "1 Timeline Of Quantum Computing\n",
            "1 Timeline Of Virtualization Development\n",
            "1 Timeline Of Web Browsers\n",
            "1 Timeline Of Women In Science\n",
            "1 To A Beautiful Quaker\n",
            "1 Tom Stoppard\n",
            "1 Torridon\n",
            "1 Tottenham Hale\n",
            "1 United States Department Of Defense\n",
            "1 United States Military Standard\n",
            "1 United States Senate\n",
            "1 University Of Oxford\n",
            "1 University Of St Andrews\n",
            "1 University Of Turin\n",
            "1 Ursula Martin\n",
            "1 Uterine Cancer\n",
            "1 Victoria (Uk Tv Series)\n",
            "1 Victorian Gothic\n",
            "1 Vint Cerf\n",
            "1 Virtual International Authority File\n",
            "1 Walter Isaacson\n",
            "1 Walter Scott\n",
            "1 Werner (Play)\n",
            "Could not load Weston Library\n",
            "1 Weston Library\n",
            "1 When We Two Parted (Poem)\n",
            "Could not load William Benjamin Carpenter\n",
            "1 William Benjamin Carpenter\n",
            "1 William Frend (Social Reformer)\n",
            "1 William Gibson\n",
            "1 William King, 1St Earl Of Lovelace\n",
            "1 William King-Noel, 1St Earl Of Lovelace\n",
            "1 William King (Physician)\n",
            "1 Women'S Studies International Forum\n",
            "1 Women In Stem Fields\n",
            "1 Women In Computing\n",
            "1 Worldcat Identities\n",
            "1 Zaragoza University\n",
            "1 Ñusat\n",
            "CPU times: user 19.1 s, sys: 1.68 s, total: 20.7 s\n",
            "Wall time: 8min 38s\n"
          ],
          "name": "stdout"
        }
      ]
    },
    {
      "cell_type": "code",
      "metadata": {
        "id": "6jJQRisl2z6m",
        "colab_type": "code",
        "outputId": "0292b74b-4e96-46c0-a2f0-00f4715fa6c8",
        "colab": {
          "base_uri": "https://localhost:8080/",
          "height": 34
        }
      },
      "source": [
        "# remove self loops\n",
        "g.remove_edges_from(g.selfloop_edges())\n",
        "\n",
        "# identify duplicates like that: 'network' and 'networks'\n",
        "duplicates = [(node, node + \"s\") \n",
        "              for node in g if node + \"s\" in g\n",
        "             ]\n",
        "\n",
        "for dup in duplicates:\n",
        "  # *dup is a technique named 'unpacking'\n",
        "  g = nx.contracted_nodes(g, *dup, self_loops=False)\n",
        "\n",
        "duplicates = [(x, y) for x, y in \n",
        "              [(node, node.replace(\"-\", \" \")) for node in g]\n",
        "                if x != y and y in g]\n",
        "\n",
        "for dup in duplicates:\n",
        "  g = nx.contracted_nodes(g, *dup, self_loops=False)\n",
        "\n",
        "# nx.contracted creates a new node attribute called contraction\n",
        "# the value of the attribute is a dictionary, but GraphML\n",
        "# does not support dictionary attributes\n",
        "nx.set_node_attributes(g, 0, \"contraction\")\n",
        "\n",
        "# filter nodes with degree greater than or equal to 2\n",
        "core = [node for node, deg in dict(g.degree()).items() if deg >= 2]\n",
        "\n",
        "# select a subgraph with 'core' nodes\n",
        "gsub = nx.subgraph(g, core)\n",
        "\n",
        "print(\"{} nodes, {} edges\".format(len(gsub), nx.number_of_edges(gsub)))\n",
        "\n",
        "nx.write_graphml(gsub, \"ada.graphml\")\n"
      ],
      "execution_count": 0,
      "outputs": [
        {
          "output_type": "stream",
          "text": [
            "11553 nodes, 42770 edges\n"
          ],
          "name": "stdout"
        }
      ]
    },
    {
      "cell_type": "code",
      "metadata": {
        "id": "QwjnAGbW37pa",
        "colab_type": "code",
        "outputId": "3f508707-4d04-42a3-ceb7-2a6f06c29b7b",
        "colab": {
          "base_uri": "https://localhost:8080/",
          "height": 1717
        }
      },
      "source": [
        "top_indegree = sorted(dict(gsub.in_degree()).items(),\n",
        "                      reverse=True, key=itemgetter(1))[:100]\n",
        "print(\"\\n\".join(map(lambda t: \"{} {}\".format(*reversed(t)), top_indegree)))"
      ],
      "execution_count": 0,
      "outputs": [
        {
          "output_type": "stream",
          "text": [
            "138 Integrated Authority File\n",
            "135 Virtual International Authority File\n",
            "134 Worldcat Identities\n",
            "129 Ada Lovelace\n",
            "93 Système Universitaire De Documentation\n",
            "88 Bibliothèque Nationale De France\n",
            "76 Lord Byron\n",
            "76 Wayback Machine\n",
            "74 Snac\n",
            "68 Mary Shelley\n",
            "64 Walter Scott\n",
            "64 National Library Of The Czech Republic\n",
            "64 Percy Bysshe Shelley\n",
            "63 Charles Babbage\n",
            "58 Anne Isabella Byron, Baroness Byron\n",
            "58 John William Polidori\n",
            "57 Bride Of Frankenstein\n",
            "57 Byron'S Letters\n",
            "57 Newstead Abbey\n",
            "56 Claire Clairmont\n",
            "56 Gothic (Film)\n",
            "56 Edward John Trelawny\n",
            "55 The Giaour\n",
            "55 Mary Shelley (Film)\n",
            "55 Baron Byron\n",
            "55 Hebrew Melodies\n",
            "55 Manfred\n",
            "55 Thomas Moore\n",
            "55 Don Juan (Poem)\n",
            "55 Haunted Summer\n",
            "55 Rowing With The Wind\n",
            "55 Augusta Leigh\n",
            "55 John Hobhouse, 1St Baron Broughton\n",
            "55 Allegra Byron\n",
            "55 The Corsair\n",
            "54 My Soul Is Dark\n",
            "54 Sardanapalus (Play)\n",
            "54 Byronic Hero\n",
            "54 Darkness (Poem)\n",
            "54 Prometheus (Poem)\n",
            "54 Elizabeth Medora Leigh\n",
            "54 Timeline Of Lord Byron\n",
            "54 The Age Of Bronze (Poem)\n",
            "54 Early Life Of Lord Byron\n",
            "54 When We Two Parted (Poem)\n",
            "54 The Cornelian\n",
            "54 Cain (Play)\n",
            "54 The Island (Poem)\n",
            "54 John \"Mad Jack\" Byron\n",
            "54 Fare Thee Well (Poem)\n",
            "54 Epitaph To A Dog\n",
            "54 Douglas Kinnaird\n",
            "54 Maid Of Athens, Ere We Part\n",
            "54 The Siege Of Corinth (Poem)\n",
            "54 Lachin Y Gair\n",
            "54 Byron'S Memoirs\n",
            "54 Childe Harold'S Pilgrimage\n",
            "54 The Destruction Of Sennacherib\n",
            "54 The Deformed Transformed\n",
            "54 Isaac Nathan\n",
            "54 Werner (Play)\n",
            "54 The Lament Of Tasso\n",
            "54 Heaven And Earth (Drama)\n",
            "54 Childe Byron\n",
            "53 The Bride Of Abydos\n",
            "53 Marino Faliero, Doge Of Venice\n",
            "53 The Prisoner Of Chillon\n",
            "53 Lara, A Tale\n",
            "53 Beppo (Poem)\n",
            "53 She Walks In Beauty\n",
            "53 Thoughts Suggested By A College Examination\n",
            "53 Teresa, Contessa Guiccioli\n",
            "53 English Bards And Scotch Reviewers\n",
            "53 Fragment Of A Novel\n",
            "53 Byron (Play)\n",
            "53 So, We'Ll Go No More A Roving\n",
            "53 The Prophecy Of Dante\n",
            "53 To A Beautiful Quaker\n",
            "53 Hours Of Idleness\n",
            "53 The Two Foscari (Byron)\n",
            "53 The Dream (Byron Poem)\n",
            "53 Jane Harley, Countess Of Oxford And Countess Mortimer\n",
            "53 Lines Addressed To A Young Lady\n",
            "53 Love'S Last Adieu\n",
            "53 Parisina\n",
            "53 The Vision Of Judgment\n",
            "53 Nicolo Giraud\n",
            "53 Lady Caroline Lamb (Film)\n",
            "53 Lord Byron (Opera)\n",
            "53 Mazeppa (Poem)\n",
            "51 Lady Caroline Lamb\n",
            "49 Computer Science\n",
            "48 National Library Of Australia\n",
            "46 Wikisource\n",
            "45 Oclc\n",
            "42 Libris\n",
            "40 Alan Turing\n",
            "37 Biblioteca Nacional De España\n",
            "37 The New York Times\n",
            "35 Donald Knuth\n"
          ],
          "name": "stdout"
        }
      ]
    },
    {
      "cell_type": "markdown",
      "metadata": {
        "id": "OeyHN0tJAMcq",
        "colab_type": "text"
      },
      "source": [
        "![alt text](https://raw.githubusercontent.com/nymarya/data-science-one/master/Lesson%2316/ada.png)"
      ]
    }
  ]
}